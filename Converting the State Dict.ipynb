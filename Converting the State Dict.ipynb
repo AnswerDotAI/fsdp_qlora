{
 "cells": [
  {
   "cell_type": "markdown",
   "id": "b657476e-1865-4687-898d-276c69eda4bc",
   "metadata": {},
   "source": [
    "# Converting the State Dict\n",
    "\n",
    "The training script (`train.py`) doesn't support any fancy saving/checkpointing methods, but it does optionally save the model right at the end of training into a safetensors file. In this notebook we'll show how to load in these saved weights for downstream evaluation and usage. This should hopefully become unneeded as frameworks integrate the changes needed to make FSDP+QLoRA work natively."
   ]
  },
  {
   "cell_type": "markdown",
   "id": "a2a3fa90-3d40-45db-9e91-3489fc207a14",
   "metadata": {},
   "source": [
    "As an example, let's look at a model trained with the following command (using default settings for LoRA rank etc):\n",
    "\n",
    "`python train.py --save_model True --train_type qlora --output_dir qlora_output`\n",
    "\n",
    "We'll load the saved state_dict, and then copy the relevant weights into a PEFT model to save via their TODO method.\n",
    "\n",
    "Let's start by loading the state dict. If you uncomment the print statement, you'll see that for every linear layer that had a LoRA adapter, we have something like this:\n",
    "```\n",
    "base_model.model.model.layers.0.mlp.down_proj.base_layer.weight torch.bfloat16 torch.Size([11272192, 1])\n",
    "base_model.model.model.layers.0.mlp.down_proj.lora_A.default.weight torch.bfloat16 torch.Size([8, 11008])\n",
    "base_model.model.model.layers.0.mlp.down_proj.lora_B.default.weight torch.bfloat16 torch.Size([4096, 8])\n",
    "```\n",
    "\n",
    "The base weights are flattened and quantized 4-bit values, which we won't need (we'll load the original base model later), and the lora_A and lora_B adapters are the ones we're interested in."
   ]
  },
  {
   "cell_type": "code",
   "execution_count": 1,
   "id": "fb4bb4b5-a250-489c-be56-5db542ac882e",
   "metadata": {
    "scrolled": true
   },
   "outputs": [],
   "source": [
    "from safetensors import safe_open\n",
    "\n",
    "tensors = {}\n",
    "with safe_open(\"qlora_output/model_state_dict.safetensors\", framework=\"pt\", device=0) as f:\n",
    "    for k in f.keys():\n",
    "        tensors[k] = f.get_tensor(k) # loads the full tensor given a key\n",
    "        # print(k, tensors[k].dtype, tensors[k].shape) # Uncomment to view"
   ]
  },
  {
   "cell_type": "markdown",
   "id": "f96a4876-c355-4b00-be1e-853de6be9ce1",
   "metadata": {},
   "source": [
    "To save memory, we can delete everything but the LoRA layers:"
   ]
  },
  {
   "cell_type": "code",
   "execution_count": 2,
   "id": "7a63af21-1cbf-4c70-9841-63b1338ee757",
   "metadata": {},
   "outputs": [],
   "source": [
    "for k in tensors:\n",
    "    if 'lora' not in k: tensors[k] = None"
   ]
  },
  {
   "cell_type": "markdown",
   "id": "5aaa3483-cf79-44bf-9533-3937bd089f6e",
   "metadata": {},
   "source": [
    "Next, we load the base model and add a random adapter:"
   ]
  },
  {
   "cell_type": "code",
   "execution_count": 3,
   "id": "879e24cd-eb72-4d23-8583-12cd91ed117f",
   "metadata": {},
   "outputs": [
    {
     "data": {
      "application/vnd.jupyter.widget-view+json": {
       "model_id": "5aeb53e875144f57ad6683becddb7ed0",
       "version_major": 2,
       "version_minor": 0
      },
      "text/plain": [
       "Loading checkpoint shards:   0%|          | 0/2 [00:00<?, ?it/s]"
      ]
     },
     "metadata": {},
     "output_type": "display_data"
    },
    {
     "data": {
      "text/plain": [
       "['base_model.model.model.embed_tokens.weight',\n",
       " 'base_model.model.model.layers.0.self_attn.q_proj.base_layer.weight',\n",
       " 'base_model.model.model.layers.0.self_attn.q_proj.base_layer.weight.absmax',\n",
       " 'base_model.model.model.layers.0.self_attn.q_proj.base_layer.weight.quant_map',\n",
       " 'base_model.model.model.layers.0.self_attn.q_proj.base_layer.weight.quant_state.bitsandbytes__nf4',\n",
       " 'base_model.model.model.layers.0.self_attn.q_proj.lora_A.default.weight',\n",
       " 'base_model.model.model.layers.0.self_attn.q_proj.lora_B.default.weight',\n",
       " 'base_model.model.model.layers.0.self_attn.k_proj.base_layer.weight',\n",
       " 'base_model.model.model.layers.0.self_attn.k_proj.base_layer.weight.absmax',\n",
       " 'base_model.model.model.layers.0.self_attn.k_proj.base_layer.weight.quant_map']"
      ]
     },
     "execution_count": 3,
     "metadata": {},
     "output_type": "execute_result"
    }
   ],
   "source": [
    "import torch\n",
    "from transformers import LlamaForCausalLM, BitsAndBytesConfig\n",
    "from peft import get_peft_config, get_peft_model, LoraConfig, TaskType\n",
    "\n",
    "# Make sure the compute type, target modules, rank, alpha etc match!\n",
    "bnb_config = BitsAndBytesConfig(\n",
    "    load_in_4bit=True,\n",
    "    bnb_4bit_quant_type=\"nf4\",\n",
    "    bnb_4bit_use_double_quant=False,\n",
    "    bnb_4bit_compute_dtype=torch.bfloat16\n",
    ")\n",
    "model = LlamaForCausalLM.from_pretrained(\n",
    "    \"meta-llama/Llama-2-7b-hf\",\n",
    "    use_cache=False,\n",
    "    quantization_config=bnb_config\n",
    ")\n",
    "\n",
    "# Freeze\n",
    "for param in model.parameters():\n",
    "    param.requires_grad = False\n",
    "\n",
    "# Add LoRA (make sure your rank (r) and alpha (lora_alpha) values match those used in training!)\n",
    "peft_config = LoraConfig(\n",
    "    task_type=TaskType.CAUSAL_LM, inference_mode=False, r=64, lora_alpha=16, lora_dropout=0.1,\n",
    "    target_modules=[\"k_proj\", \"q_proj\", \"v_proj\", \"up_proj\", \"down_proj\", \"gate_proj\"]\n",
    ")\n",
    "model = get_peft_model(model, peft_config)\n",
    "\n",
    "# Check out the first few keys in the state dict:\n",
    "list(model.state_dict().keys())[:10]"
   ]
  },
  {
   "cell_type": "markdown",
   "id": "322501e6-9170-4cb6-bd14-ed070045f028",
   "metadata": {},
   "source": [
    "Now, if all goes well, we can replace the randomly initialized LoRA layers with our trained ones:"
   ]
  },
  {
   "cell_type": "code",
   "execution_count": 4,
   "id": "028a26eb-18d3-4e0e-b593-1bacd4987005",
   "metadata": {},
   "outputs": [
    {
     "data": {
      "text/plain": [
       "<All keys matched successfully>"
      ]
     },
     "execution_count": 4,
     "metadata": {},
     "output_type": "execute_result"
    }
   ],
   "source": [
    "new_sd = model.state_dict()\n",
    "for k in new_sd:\n",
    "    if 'lora' in k:\n",
    "        new_sd[k] = tensors[k]\n",
    "\n",
    "model.load_state_dict(new_sd)"
   ]
  },
  {
   "cell_type": "markdown",
   "id": "dd59ea0b-68e4-457e-9c0f-1804b327794c",
   "metadata": {},
   "source": [
    "And now, since we have a regular PEFT model, we can save using the built-in methods:"
   ]
  },
  {
   "cell_type": "code",
   "execution_count": 5,
   "id": "21096cf2-9270-478a-b7f8-9de70827c46c",
   "metadata": {},
   "outputs": [],
   "source": [
    "model.save_pretrained(\"lora_adapters\")"
   ]
  },
  {
   "cell_type": "code",
   "execution_count": 6,
   "id": "f24feebb-4928-4d1b-aa0a-b8f86e623336",
   "metadata": {},
   "outputs": [
    {
     "name": "stdout",
     "output_type": "stream",
     "text": [
      "README.md  adapter_config.json\tadapter_model.safetensors\n"
     ]
    }
   ],
   "source": [
    "!ls lora_adapters"
   ]
  },
  {
   "cell_type": "code",
   "execution_count": 7,
   "id": "ad1300e9-4beb-47e3-ba87-3616e8cd819d",
   "metadata": {},
   "outputs": [],
   "source": [
    "# model.push_to_hub('your_repo_id') # If you want to share your model..."
   ]
  }
 ],
 "metadata": {
  "kernelspec": {
   "display_name": "Python 3 (ipykernel)",
   "language": "python",
   "name": "python3"
  },
  "language_info": {
   "codemirror_mode": {
    "name": "ipython",
    "version": 3
   },
   "file_extension": ".py",
   "mimetype": "text/x-python",
   "name": "python",
   "nbconvert_exporter": "python",
   "pygments_lexer": "ipython3",
   "version": "3.12.1"
  }
 },
 "nbformat": 4,
 "nbformat_minor": 5
}
