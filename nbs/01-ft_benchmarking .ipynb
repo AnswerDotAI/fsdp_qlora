{
 "cells": [
  {
   "cell_type": "code",
   "execution_count": null,
   "id": "c78ebc14",
   "metadata": {},
   "outputs": [],
   "source": [
    "import itertools\n",
    "import pandas as pd\n",
    "import numpy as np\n",
    "from transformers import AutoConfig\n",
    "import gspread\n",
    "from gspread_dataframe import get_as_dataframe, set_with_dataframe"
   ]
  },
  {
   "cell_type": "code",
   "execution_count": null,
   "id": "80c3dba7",
   "metadata": {},
   "outputs": [],
   "source": [
    "models = [\n",
    "    {\"model_name\":\"meta-llama/Llama-2-7b-hf\", \"model_size\":7}, \n",
    "    {\"model_name\":\"meta-llama/Llama-2-13b-hf\", \"model_size\":13},\n",
    "    {\"model_name\":\"codellama/CodeLlama-34b-hf\", \"model_size\":34},\n",
    "    {\"model_name\":\"meta-llama/Llama-2-70b-hf\", \"model_size\":70}\n",
    "]"
   ]
  },
  {
   "cell_type": "code",
   "execution_count": null,
   "id": "b1f3d16c",
   "metadata": {},
   "outputs": [],
   "source": [
    "# for m in models:\n",
    "#     cfg = AutoConfig.from_pretrained(m['model_name'])\n",
    "#     m['config'] = cfg"
   ]
  },
  {
   "cell_type": "code",
   "execution_count": null,
   "id": "6eeb8969",
   "metadata": {},
   "outputs": [],
   "source": [
    "seqlen = [{\"seqlen\":256}]"
   ]
  },
  {
   "cell_type": "code",
   "execution_count": null,
   "id": "9e2f8d2a",
   "metadata": {},
   "outputs": [],
   "source": [
    "max_bs = [{\"max_bs\":None}]"
   ]
  },
  {
   "cell_type": "code",
   "execution_count": null,
   "id": "21d25c63",
   "metadata": {},
   "outputs": [],
   "source": [
    "bs = [{\"bs\":None}]"
   ]
  },
  {
   "cell_type": "code",
   "execution_count": null,
   "id": "6defaf4c",
   "metadata": {},
   "outputs": [],
   "source": [
    "cpu_offloading = [{\"cpu_offloading\":False}, {\"cpu_offloading\":True}]"
   ]
  },
  {
   "cell_type": "code",
   "execution_count": null,
   "id": "564866c0",
   "metadata": {},
   "outputs": [],
   "source": [
    "distrib_type = [{\"distrib_type\":\"FSDP\"}, {\"distrib_type\":\"DDP\"}]"
   ]
  },
  {
   "cell_type": "code",
   "execution_count": null,
   "id": "a03572dd",
   "metadata": {},
   "outputs": [],
   "source": [
    "ft_type = [{\"ft_type\":\"LoRA\"}, {\"ft_type\":\"QLoRA\"}]"
   ]
  },
  {
   "cell_type": "code",
   "execution_count": null,
   "id": "1fdd62fa",
   "metadata": {},
   "outputs": [],
   "source": [
    "# RTX 3090 is not available in cloud providers A5000 also has 24GB memory\n",
    "gpus = [{\"gpu_model\":\"A5000\", \"num_gpus\":2, \"gpu_mem\":24, \"nvlink\":\"False\"},\n",
    "        {\"gpu_model\":\"A100-40\", \"num_gpus\":8, \"gpu_mem\":40, \"nvlink\":\"True\"}]"
   ]
  },
  {
   "cell_type": "code",
   "execution_count": null,
   "id": "f3f1386d",
   "metadata": {},
   "outputs": [],
   "source": [
    "wandb_link = [{\"wandb_link\":None}]"
   ]
  },
  {
   "cell_type": "code",
   "execution_count": null,
   "id": "8d394429",
   "metadata": {},
   "outputs": [],
   "source": [
    "iters = [models, seqlen, max_bs, bs, cpu_offloading, distrib_type, ft_type, gpus,wandb_link]"
   ]
  },
  {
   "cell_type": "code",
   "execution_count": null,
   "id": "5fab4270",
   "metadata": {},
   "outputs": [],
   "source": [
    "experiments = list(itertools.product(*iters))"
   ]
  },
  {
   "cell_type": "code",
   "execution_count": null,
   "id": "5d5f2f01",
   "metadata": {},
   "outputs": [],
   "source": [
    "len(experiments)"
   ]
  },
  {
   "cell_type": "code",
   "execution_count": null,
   "id": "d0cad6c0",
   "metadata": {},
   "outputs": [],
   "source": [
    "def flatten_list_of_dicts(l):\n",
    "    final_d = {}\n",
    "    for d in l: \n",
    "        for k,v in d.items():\n",
    "            if k in final_d:\n",
    "                raise ValueError(f\"Key {k} exists.\")\n",
    "            final_d[k] = v\n",
    "    return final_d"
   ]
  },
  {
   "cell_type": "code",
   "execution_count": null,
   "id": "a910744b",
   "metadata": {},
   "outputs": [],
   "source": [
    "experiments_flat = [flatten_list_of_dicts(exp) for exp in experiments]"
   ]
  },
  {
   "cell_type": "code",
   "execution_count": null,
   "id": "606c605e",
   "metadata": {},
   "outputs": [],
   "source": [
    "df = pd.DataFrame(experiments_flat)"
   ]
  },
  {
   "cell_type": "code",
   "execution_count": null,
   "id": "f4b6c3ca",
   "metadata": {},
   "outputs": [],
   "source": [
    "# exclude lora ddp\n",
    "df = df[~((df['ft_type'] == 'LoRA') & (df['distrib_type'] == 'DDP'))].reset_index(drop=True)"
   ]
  },
  {
   "cell_type": "code",
   "execution_count": null,
   "id": "fd687cd0",
   "metadata": {},
   "outputs": [],
   "source": [
    "df.shape"
   ]
  },
  {
   "cell_type": "code",
   "execution_count": null,
   "id": "9d625f04",
   "metadata": {},
   "outputs": [],
   "source": [
    "# !pip install gspread\n",
    "# !pip install gspread-dataframe"
   ]
  },
  {
   "cell_type": "code",
   "execution_count": null,
   "id": "8d56abfd",
   "metadata": {},
   "outputs": [],
   "source": [
    "gc = gspread.oauth()"
   ]
  },
  {
   "cell_type": "code",
   "execution_count": null,
   "id": "c0a00615",
   "metadata": {},
   "outputs": [],
   "source": [
    "url = \"https://docs.google.com/spreadsheets/d/1JSQbnkwtqPgc-_wqI3LTCJI6jWCaWafubK0ontWR2_Y\"\n",
    "sheet = gc.open_by_url(url)"
   ]
  },
  {
   "cell_type": "code",
   "execution_count": null,
   "id": "ad54f86b",
   "metadata": {},
   "outputs": [],
   "source": [
    "worksheet = sheet.get_worksheet_by_id(0)\n",
    "set_with_dataframe(worksheet, df)"
   ]
  },
  {
   "cell_type": "code",
   "execution_count": null,
   "id": "72b7b240",
   "metadata": {},
   "outputs": [],
   "source": []
  },
  {
   "cell_type": "code",
   "execution_count": null,
   "id": "d7b665fe",
   "metadata": {},
   "outputs": [],
   "source": []
  },
  {
   "cell_type": "code",
   "execution_count": null,
   "id": "7a51de3c",
   "metadata": {},
   "outputs": [],
   "source": []
  }
 ],
 "metadata": {
  "kernelspec": {
   "display_name": "python3",
   "language": "python",
   "name": "python3"
  }
 },
 "nbformat": 4,
 "nbformat_minor": 5
}
