{
 "cells": [
  {
   "cell_type": "code",
   "execution_count": 1,
   "metadata": {},
   "outputs": [
    {
     "name": "stderr",
     "output_type": "stream",
     "text": [
      "/workspace/py_venvs/qdora/lib/python3.10/site-packages/tqdm/auto.py:21: TqdmWarning: IProgress not found. Please update jupyter and ipywidgets. See https://ipywidgets.readthedocs.io/en/stable/user_install.html\n",
      "  from .autonotebook import tqdm as notebook_tqdm\n"
     ]
    }
   ],
   "source": [
    "import os\n",
    "import copy\n",
    "import json\n",
    "from transformers import AutoModelForCausalLM, AutoConfig\n",
    "from safetensors.torch import save_file"
   ]
  },
  {
   "cell_type": "code",
   "execution_count": 2,
   "metadata": {},
   "outputs": [],
   "source": [
    "llama_8b_config = AutoConfig.from_pretrained(\"meta-llama/Meta-Llama-3-8B-Instruct\")\n",
    "llama_70b_config = AutoConfig.from_pretrained(\"meta-llama/Meta-Llama-3-70B-Instruct\")\n",
    "\n",
    "# nemotron_config = AutoConfig.from_pretrained(\"nvidia/Nemotron-4-340B-Instruct\")"
   ]
  },
  {
   "cell_type": "code",
   "execution_count": 3,
   "metadata": {},
   "outputs": [
    {
     "data": {
      "text/plain": [
       "LlamaConfig {\n",
       "  \"_name_or_path\": \"meta-llama/Meta-Llama-3-8B-Instruct\",\n",
       "  \"architectures\": [\n",
       "    \"LlamaForCausalLM\"\n",
       "  ],\n",
       "  \"attention_bias\": false,\n",
       "  \"attention_dropout\": 0.0,\n",
       "  \"bos_token_id\": 128000,\n",
       "  \"eos_token_id\": 128009,\n",
       "  \"hidden_act\": \"silu\",\n",
       "  \"hidden_size\": 4096,\n",
       "  \"initializer_range\": 0.02,\n",
       "  \"intermediate_size\": 14336,\n",
       "  \"max_position_embeddings\": 8192,\n",
       "  \"mlp_bias\": false,\n",
       "  \"model_type\": \"llama\",\n",
       "  \"num_attention_heads\": 32,\n",
       "  \"num_hidden_layers\": 32,\n",
       "  \"num_key_value_heads\": 8,\n",
       "  \"pretraining_tp\": 1,\n",
       "  \"rms_norm_eps\": 1e-05,\n",
       "  \"rope_scaling\": {\n",
       "    \"factor\": 2.0,\n",
       "    \"type\": \"dynamic\"\n",
       "  },\n",
       "  \"rope_theta\": 500000.0,\n",
       "  \"tie_word_embeddings\": false,\n",
       "  \"torch_dtype\": \"bfloat16\",\n",
       "  \"transformers_version\": \"4.42.4\",\n",
       "  \"use_cache\": true,\n",
       "  \"vocab_size\": 128256\n",
       "}"
      ]
     },
     "execution_count": 3,
     "metadata": {},
     "output_type": "execute_result"
    }
   ],
   "source": [
    "llama_8b_config"
   ]
  },
  {
   "cell_type": "code",
   "execution_count": 4,
   "metadata": {},
   "outputs": [],
   "source": [
    "# nemotron 340B\n",
    "hidden_size = 18432\n",
    "ffn_hidden_size = 73728\n",
    "num_layers = 96\n",
    "num_attention_heads = 96"
   ]
  },
  {
   "cell_type": "code",
   "execution_count": 5,
   "metadata": {},
   "outputs": [],
   "source": [
    "def estimate_param(dim70b, dim8b, nearest_multiple=None, mult_factor=1, model_size=420):\n",
    "\tx = dim70b * (model_size / 70) * (dim70b / dim8b) * (8 / 70)\n",
    "\tx *= mult_factor\n",
    "\tif nearest_multiple is not None:\n",
    "\t\treturn nearest_multiple * round(x / nearest_multiple)"
   ]
  },
  {
   "cell_type": "markdown",
   "metadata": {},
   "source": [
    "### Config A\n",
    "\n",
    "- deep\n",
    "\n",
    "1 LAYER TRAINING: ~16GB"
   ]
  },
  {
   "cell_type": "code",
   "execution_count": 7,
   "metadata": {},
   "outputs": [
    {
     "data": {
      "text/plain": [
       "(11264, 39296, 88, 8)"
      ]
     },
     "execution_count": 7,
     "metadata": {},
     "output_type": "execute_result"
    }
   ],
   "source": [
    "llama_400b_config = copy.deepcopy(llama_70b_config)\n",
    "llama_400b_config.hidden_size = estimate_param(llama_70b_config.hidden_size, llama_8b_config.hidden_size, 128)\n",
    "llama_400b_config.intermediate_size = estimate_param(llama_70b_config.intermediate_size, llama_8b_config.intermediate_size, 128)\n",
    "llama_400b_config.num_attention_heads = estimate_param(llama_70b_config.num_attention_heads, llama_8b_config.num_attention_heads, 8)\n",
    "llama_400b_config.num_key_value_heads = estimate_param(llama_70b_config.num_key_value_heads, llama_8b_config.num_key_value_heads, 8)\n",
    "llama_400b_config.hidden_size, llama_400b_config.intermediate_size, llama_400b_config.num_attention_heads, llama_400b_config.num_key_value_heads"
   ]
  },
  {
   "cell_type": "code",
   "execution_count": 8,
   "metadata": {},
   "outputs": [
    {
     "data": {
      "text/plain": [
       "11264"
      ]
     },
     "execution_count": 8,
     "metadata": {},
     "output_type": "execute_result"
    }
   ],
   "source": [
    "llama_400b_config.hidden_size"
   ]
  },
  {
   "cell_type": "code",
   "execution_count": 12,
   "metadata": {},
   "outputs": [
    {
     "data": {
      "text/plain": [
       "(11264, 39296, 88, 8)"
      ]
     },
     "execution_count": 12,
     "metadata": {},
     "output_type": "execute_result"
    }
   ],
   "source": [
    "# hidden_size = 11264\n",
    "# intermediate_size = 39296\n",
    "# num_attention_heads = 88\n",
    "# num_key_value_heads = 8\n",
    "\n",
    "llama_400b_config.hidden_size, llama_400b_config.intermediate_size, llama_400b_config.num_attention_heads, llama_400b_config.num_key_value_heads"
   ]
  },
  {
   "cell_type": "code",
   "execution_count": 13,
   "metadata": {},
   "outputs": [],
   "source": [
    "# find num layers\n",
    "llama_400b_config.num_hidden_layers = 1"
   ]
  },
  {
   "cell_type": "code",
   "execution_count": 16,
   "metadata": {},
   "outputs": [],
   "source": [
    "model = AutoModelForCausalLM.from_config(llama_400b_config)"
   ]
  },
  {
   "cell_type": "code",
   "execution_count": 17,
   "metadata": {},
   "outputs": [],
   "source": [
    "weights = model.state_dict()"
   ]
  },
  {
   "cell_type": "code",
   "execution_count": 18,
   "metadata": {},
   "outputs": [],
   "source": [
    "output_dir = \"/workspace/models/meta-llama/Meta-Llama-3-400B-Instruct-A\"\n",
    "os.makedirs(output_dir, exist_ok=True)"
   ]
  },
  {
   "cell_type": "code",
   "execution_count": 19,
   "metadata": {},
   "outputs": [],
   "source": [
    "save_file(weights, os.path.join(output_dir, \"model_state_dict.safetensors\"))"
   ]
  },
  {
   "cell_type": "code",
   "execution_count": 24,
   "metadata": {},
   "outputs": [],
   "source": [
    "# save config\n",
    "with open(os.path.join(output_dir, \"config.json\"), \"w\") as f:\n",
    "\tjson.dump(llama_400b_config.to_dict(), f)"
   ]
  },
  {
   "cell_type": "code",
   "execution_count": 56,
   "metadata": {},
   "outputs": [
    {
     "name": "stdout",
     "output_type": "stream",
     "text": [
      "3.209474048\n"
     ]
    },
    {
     "data": {
      "text/plain": [
       "261"
      ]
     },
     "execution_count": 56,
     "metadata": {},
     "output_type": "execute_result"
    }
   ],
   "source": [
    "# model.model.layers[0]\n",
    "# count total params\n",
    "total_params = sum(p.numel() for p in model.model.layers[0].parameters())\n",
    "print(2 * total_params / 1e9)\n",
    "num_estimated_hidden_layers = int(420 / (total_params / 1e9))\n",
    "num_estimated_hidden_layers"
   ]
  },
  {
   "cell_type": "code",
   "execution_count": 58,
   "metadata": {},
   "outputs": [
    {
     "name": "stdout",
     "output_type": "stream",
     "text": [
      "self_attn.q_proj.weight 0.063438848 0.001982464\n",
      "self_attn.k_proj.weight 0.005767168 0.000180224\n",
      "self_attn.v_proj.weight 0.005767168 0.000180224\n",
      "self_attn.o_proj.weight 0.063438848 0.001982464\n",
      "mlp.gate_proj.weight 0.221315072 0.006916096\n",
      "mlp.up_proj.weight 0.221315072 0.006916096\n",
      "mlp.down_proj.weight 0.221315072 0.006916096\n",
      "input_layernorm.weight 2.2528e-05\n",
      "post_attention_layernorm.weight 2.2528e-05\n"
     ]
    }
   ],
   "source": [
    "tot_mem = 0\n",
    "for n,p in model.model.layers[0].named_parameters():\n",
    "    if \"proj\" in n:\t\n",
    "        quant_mem = 2 * p.numel() / 4 / 1e9\n",
    "        quant_stat_mem = 2 * p.numel() / 128 / 1e9\n",
    "        print(n, quant_mem, quant_stat_mem)\n",
    "        tot_mem += quant_mem + quant_stat_mem\n",
    "        \n",
    "        # TODO: add loraA, loraB, magnitude params\n",
    "        \n",
    "    else:\n",
    "        layer_mem = 2 * p.numel() / 1e9\n",
    "        print(n, layer_mem)\n",
    "        tot_mem += layer_mem"
   ]
  },
  {
   "cell_type": "markdown",
   "metadata": {},
   "source": [
    "### Config B\n",
    "\n",
    "- mid\n",
    "\n",
    "1 LAYER TRAINING: ~25GB"
   ]
  },
  {
   "cell_type": "code",
   "execution_count": 6,
   "metadata": {},
   "outputs": [
    {
     "data": {
      "text/plain": [
       "(16896, 59008, 128, 8)"
      ]
     },
     "execution_count": 6,
     "metadata": {},
     "output_type": "execute_result"
    }
   ],
   "source": [
    "llama_400b_config = copy.deepcopy(llama_70b_config)\n",
    "llama_400b_config.hidden_size = estimate_param(llama_70b_config.hidden_size, llama_8b_config.hidden_size, mult_factor=1.5, nearest_multiple=128)\n",
    "llama_400b_config.intermediate_size = estimate_param(llama_70b_config.intermediate_size, llama_8b_config.intermediate_size, mult_factor=1.5, nearest_multiple=128)\n",
    "llama_400b_config.num_attention_heads = estimate_param(llama_70b_config.num_attention_heads, llama_8b_config.num_attention_heads, mult_factor=1.5, nearest_multiple=8)\n",
    "llama_400b_config.num_key_value_heads = estimate_param(llama_70b_config.num_key_value_heads, llama_8b_config.num_key_value_heads, mult_factor=1.5, nearest_multiple=8)\n",
    "llama_400b_config.hidden_size, llama_400b_config.intermediate_size, llama_400b_config.num_attention_heads, llama_400b_config.num_key_value_heads"
   ]
  },
  {
   "cell_type": "code",
   "execution_count": 7,
   "metadata": {},
   "outputs": [
    {
     "data": {
      "text/plain": [
       "(16896, 59008, 128, 8)"
      ]
     },
     "execution_count": 7,
     "metadata": {},
     "output_type": "execute_result"
    }
   ],
   "source": [
    "# hidden_size = 16896\n",
    "# intermediate_size = 59008\n",
    "# num_attention_heads = 128\n",
    "# num_key_value_heads = 8\n",
    "\n",
    "llama_400b_config.hidden_size, llama_400b_config.intermediate_size, llama_400b_config.num_attention_heads, llama_400b_config.num_key_value_heads"
   ]
  },
  {
   "cell_type": "code",
   "execution_count": 8,
   "metadata": {},
   "outputs": [],
   "source": [
    "# find num layers\n",
    "llama_400b_config.num_hidden_layers = 1"
   ]
  },
  {
   "cell_type": "code",
   "execution_count": 9,
   "metadata": {},
   "outputs": [],
   "source": [
    "model = AutoModelForCausalLM.from_config(llama_400b_config).to(\"cuda:0\")"
   ]
  },
  {
   "cell_type": "code",
   "execution_count": 11,
   "metadata": {},
   "outputs": [],
   "source": [
    "weights = model.state_dict()"
   ]
  },
  {
   "cell_type": "code",
   "execution_count": 13,
   "metadata": {},
   "outputs": [],
   "source": [
    "output_dir = \"/workspace/models/meta-llama/Meta-Llama-3-400B-Instruct-B\"\n",
    "os.makedirs(output_dir, exist_ok=True)"
   ]
  },
  {
   "cell_type": "code",
   "execution_count": 14,
   "metadata": {},
   "outputs": [],
   "source": [
    "save_file(weights, os.path.join(output_dir, \"model_state_dict.safetensors\"))"
   ]
  },
  {
   "cell_type": "code",
   "execution_count": 15,
   "metadata": {},
   "outputs": [],
   "source": [
    "# save config\n",
    "with open(os.path.join(output_dir, \"config.json\"), \"w\") as f:\n",
    "\tjson.dump(llama_400b_config.to_dict(), f)"
   ]
  },
  {
   "cell_type": "code",
   "execution_count": 16,
   "metadata": {},
   "outputs": [
    {
     "name": "stdout",
     "output_type": "stream",
     "text": [
      "7.19533056\n"
     ]
    },
    {
     "data": {
      "text/plain": [
       "116"
      ]
     },
     "execution_count": 16,
     "metadata": {},
     "output_type": "execute_result"
    }
   ],
   "source": [
    "# model.model.layers[0]\n",
    "# count total params\n",
    "total_params = sum(p.numel() for p in model.model.layers[0].parameters())\n",
    "print(2 * total_params / 1e9)\n",
    "num_estimated_hidden_layers = int(420 / (total_params / 1e9))\n",
    "num_estimated_hidden_layers"
   ]
  },
  {
   "cell_type": "code",
   "execution_count": 17,
   "metadata": {},
   "outputs": [
    {
     "name": "stdout",
     "output_type": "stream",
     "text": [
      "self_attn.q_proj.weight 0.142737408 0.004460544\n",
      "self_attn.k_proj.weight 0.008921088 0.000278784\n",
      "self_attn.v_proj.weight 0.008921088 0.000278784\n",
      "self_attn.o_proj.weight 0.142737408 0.004460544\n",
      "mlp.gate_proj.weight 0.498499584 0.015578112\n",
      "mlp.up_proj.weight 0.498499584 0.015578112\n",
      "mlp.down_proj.weight 0.498499584 0.015578112\n",
      "input_layernorm.weight 3.3792e-05\n",
      "post_attention_layernorm.weight 3.3792e-05\n"
     ]
    }
   ],
   "source": [
    "tot_mem = 0\n",
    "for n,p in model.model.layers[0].named_parameters():\n",
    "    if \"proj\" in n:\t\n",
    "        quant_mem = 2 * p.numel() / 4 / 1e9\n",
    "        quant_stat_mem = 2 * p.numel() / 128 / 1e9\n",
    "        print(n, quant_mem, quant_stat_mem)\n",
    "        tot_mem += quant_mem + quant_stat_mem\n",
    "        \n",
    "        # TODO: add loraA, loraB, magnitude params\n",
    "        \n",
    "    else:\n",
    "        layer_mem = 2 * p.numel() / 1e9\n",
    "        print(n, layer_mem)\n",
    "        tot_mem += layer_mem"
   ]
  },
  {
   "cell_type": "code",
   "execution_count": 18,
   "metadata": {},
   "outputs": [
    {
     "data": {
      "text/plain": [
       "1.85509632"
      ]
     },
     "execution_count": 18,
     "metadata": {},
     "output_type": "execute_result"
    }
   ],
   "source": [
    "tot_mem"
   ]
  },
  {
   "cell_type": "markdown",
   "metadata": {},
   "source": [
    "### Config C\n",
    "\n",
    "- wide"
   ]
  },
  {
   "cell_type": "code",
   "execution_count": 6,
   "metadata": {},
   "outputs": [
    {
     "data": {
      "text/plain": [
       "(22528, 78592, 176, 8)"
      ]
     },
     "execution_count": 6,
     "metadata": {},
     "output_type": "execute_result"
    }
   ],
   "source": [
    "llama_400b_config = copy.deepcopy(llama_70b_config)\n",
    "llama_400b_config.hidden_size = estimate_param(llama_70b_config.hidden_size, llama_8b_config.hidden_size, mult_factor=2, nearest_multiple=128)\n",
    "llama_400b_config.intermediate_size = estimate_param(llama_70b_config.intermediate_size, llama_8b_config.intermediate_size, mult_factor=2, nearest_multiple=128)\n",
    "llama_400b_config.num_attention_heads = estimate_param(llama_70b_config.num_attention_heads, llama_8b_config.num_attention_heads, mult_factor=2, nearest_multiple=8)\n",
    "llama_400b_config.num_key_value_heads = estimate_param(llama_70b_config.num_key_value_heads, llama_8b_config.num_key_value_heads, mult_factor=2, nearest_multiple=8)\n",
    "llama_400b_config.hidden_size, llama_400b_config.intermediate_size, llama_400b_config.num_attention_heads, llama_400b_config.num_key_value_heads"
   ]
  },
  {
   "cell_type": "code",
   "execution_count": 8,
   "metadata": {},
   "outputs": [
    {
     "data": {
      "text/plain": [
       "(22528, 78592, 176, 8)"
      ]
     },
     "execution_count": 8,
     "metadata": {},
     "output_type": "execute_result"
    }
   ],
   "source": [
    "# hidden_size = 22528\n",
    "# intermediate_size = 78592\n",
    "# num_attention_heads = 176\n",
    "# num_key_value_heads = 8\n",
    "\n",
    "llama_400b_config.hidden_size, llama_400b_config.intermediate_size, llama_400b_config.num_attention_heads, llama_400b_config.num_key_value_heads"
   ]
  },
  {
   "cell_type": "code",
   "execution_count": 9,
   "metadata": {},
   "outputs": [],
   "source": [
    "# find num layers\n",
    "llama_400b_config.num_hidden_layers = 1"
   ]
  },
  {
   "cell_type": "code",
   "execution_count": 10,
   "metadata": {},
   "outputs": [
    {
     "ename": "",
     "evalue": "",
     "output_type": "error",
     "traceback": [
      "\u001b[1;31mThe Kernel crashed while executing code in the current cell or a previous cell. \n",
      "\u001b[1;31mPlease review the code in the cell(s) to identify a possible cause of the failure. \n",
      "\u001b[1;31mClick <a href='https://aka.ms/vscodeJupyterKernelCrash'>here</a> for more info. \n",
      "\u001b[1;31mView Jupyter <a href='command:jupyter.viewOutput'>log</a> for further details."
     ]
    }
   ],
   "source": [
    "model = AutoModelForCausalLM.from_config(llama_400b_config).to(\"cuda:0\")"
   ]
  },
  {
   "cell_type": "code",
   "execution_count": null,
   "metadata": {},
   "outputs": [],
   "source": [
    "weights = model.state_dict()"
   ]
  },
  {
   "cell_type": "code",
   "execution_count": null,
   "metadata": {},
   "outputs": [],
   "source": [
    "output_dir = \"/workspace/models/meta-llama/Meta-Llama-3-400B-Instruct-C\"\n",
    "os.makedirs(output_dir, exist_ok=True)"
   ]
  },
  {
   "cell_type": "code",
   "execution_count": null,
   "metadata": {},
   "outputs": [],
   "source": [
    "save_file(weights, os.path.join(output_dir, \"model_state_dict.safetensors\"))"
   ]
  },
  {
   "cell_type": "code",
   "execution_count": null,
   "metadata": {},
   "outputs": [],
   "source": [
    "# save config\n",
    "with open(os.path.join(output_dir, \"config.json\"), \"w\") as f:\n",
    "\tjson.dump(llama_400b_config.to_dict(), f)"
   ]
  },
  {
   "cell_type": "code",
   "execution_count": null,
   "metadata": {},
   "outputs": [
    {
     "name": "stdout",
     "output_type": "stream",
     "text": [
      "7.19533056\n"
     ]
    },
    {
     "data": {
      "text/plain": [
       "116"
      ]
     },
     "metadata": {},
     "output_type": "display_data"
    }
   ],
   "source": [
    "# model.model.layers[0]\n",
    "# count total params\n",
    "total_params = sum(p.numel() for p in model.model.layers[0].parameters())\n",
    "print(2 * total_params / 1e9)\n",
    "num_estimated_hidden_layers = int(420 / (total_params / 1e9))\n",
    "num_estimated_hidden_layers"
   ]
  },
  {
   "cell_type": "code",
   "execution_count": null,
   "metadata": {},
   "outputs": [
    {
     "name": "stdout",
     "output_type": "stream",
     "text": [
      "self_attn.q_proj.weight 0.142737408 0.004460544\n",
      "self_attn.k_proj.weight 0.008921088 0.000278784\n",
      "self_attn.v_proj.weight 0.008921088 0.000278784\n",
      "self_attn.o_proj.weight 0.142737408 0.004460544\n",
      "mlp.gate_proj.weight 0.498499584 0.015578112\n",
      "mlp.up_proj.weight 0.498499584 0.015578112\n",
      "mlp.down_proj.weight 0.498499584 0.015578112\n",
      "input_layernorm.weight 3.3792e-05\n",
      "post_attention_layernorm.weight 3.3792e-05\n"
     ]
    }
   ],
   "source": [
    "tot_mem = 0\n",
    "for n,p in model.model.layers[0].named_parameters():\n",
    "    if \"proj\" in n:\t\n",
    "        quant_mem = 2 * p.numel() / 4 / 1e9\n",
    "        quant_stat_mem = 2 * p.numel() / 128 / 1e9\n",
    "        print(n, quant_mem, quant_stat_mem)\n",
    "        tot_mem += quant_mem + quant_stat_mem\n",
    "        \n",
    "        # TODO: add loraA, loraB, magnitude params\n",
    "        \n",
    "    else:\n",
    "        layer_mem = 2 * p.numel() / 1e9\n",
    "        print(n, layer_mem)\n",
    "        tot_mem += layer_mem"
   ]
  },
  {
   "cell_type": "code",
   "execution_count": null,
   "metadata": {},
   "outputs": [
    {
     "data": {
      "text/plain": [
       "1.85509632"
      ]
     },
     "metadata": {},
     "output_type": "display_data"
    }
   ],
   "source": [
    "tot_mem"
   ]
  },
  {
   "cell_type": "code",
   "execution_count": null,
   "metadata": {},
   "outputs": [],
   "source": []
  },
  {
   "cell_type": "code",
   "execution_count": null,
   "metadata": {},
   "outputs": [],
   "source": []
  },
  {
   "cell_type": "code",
   "execution_count": null,
   "metadata": {},
   "outputs": [],
   "source": []
  }
 ],
 "metadata": {
  "kernelspec": {
   "display_name": "qdora",
   "language": "python",
   "name": "python3"
  },
  "language_info": {
   "codemirror_mode": {
    "name": "ipython",
    "version": 3
   },
   "file_extension": ".py",
   "mimetype": "text/x-python",
   "name": "python",
   "nbconvert_exporter": "python",
   "pygments_lexer": "ipython3",
   "version": "3.10.12"
  }
 },
 "nbformat": 4,
 "nbformat_minor": 2
}
