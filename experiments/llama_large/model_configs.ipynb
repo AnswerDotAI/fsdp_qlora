{
 "cells": [
  {
   "cell_type": "code",
   "execution_count": null,
   "metadata": {},
   "outputs": [
    {
     "name": "stderr",
     "output_type": "stream",
     "text": [
      "/workspace/py_venvs/qdora/lib/python3.10/site-packages/tqdm/auto.py:21: TqdmWarning: IProgress not found. Please update jupyter and ipywidgets. See https://ipywidgets.readthedocs.io/en/stable/user_install.html\n",
      "  from .autonotebook import tqdm as notebook_tqdm\n"
     ]
    }
   ],
   "source": [
    "import os\n",
    "import copy\n",
    "import json\n",
    "import torch\n",
    "from transformers import AutoModelForCausalLM, AutoConfig\n",
    "from safetensors.torch import save_file\n",
    "from accelerate import init_empty_weights"
   ]
  },
  {
   "cell_type": "code",
   "execution_count": null,
   "metadata": {},
   "outputs": [],
   "source": [
    "llama_8b_config = AutoConfig.from_pretrained(\"meta-llama/Meta-Llama-3-8B-Instruct\")\n",
    "llama_70b_config = AutoConfig.from_pretrained(\"meta-llama/Meta-Llama-3-70B-Instruct\")\n",
    "\n",
    "# nemotron_config = AutoConfig.from_pretrained(\"nvidia/Nemotron-4-340B-Instruct\")"
   ]
  },
  {
   "cell_type": "code",
   "execution_count": null,
   "metadata": {},
   "outputs": [
    {
     "data": {
      "text/plain": [
       "LlamaConfig {\n",
       "  \"_name_or_path\": \"meta-llama/Meta-Llama-3-8B-Instruct\",\n",
       "  \"architectures\": [\n",
       "    \"LlamaForCausalLM\"\n",
       "  ],\n",
       "  \"attention_bias\": false,\n",
       "  \"attention_dropout\": 0.0,\n",
       "  \"bos_token_id\": 128000,\n",
       "  \"eos_token_id\": 128009,\n",
       "  \"hidden_act\": \"silu\",\n",
       "  \"hidden_size\": 4096,\n",
       "  \"initializer_range\": 0.02,\n",
       "  \"intermediate_size\": 14336,\n",
       "  \"max_position_embeddings\": 8192,\n",
       "  \"mlp_bias\": false,\n",
       "  \"model_type\": \"llama\",\n",
       "  \"num_attention_heads\": 32,\n",
       "  \"num_hidden_layers\": 32,\n",
       "  \"num_key_value_heads\": 8,\n",
       "  \"pretraining_tp\": 1,\n",
       "  \"rms_norm_eps\": 1e-05,\n",
       "  \"rope_scaling\": null,\n",
       "  \"rope_theta\": 500000.0,\n",
       "  \"tie_word_embeddings\": false,\n",
       "  \"torch_dtype\": \"bfloat16\",\n",
       "  \"transformers_version\": \"4.42.4\",\n",
       "  \"use_cache\": true,\n",
       "  \"vocab_size\": 128256\n",
       "}"
      ]
     },
     "execution_count": null,
     "metadata": {},
     "output_type": "execute_result"
    }
   ],
   "source": [
    "llama_8b_config"
   ]
  },
  {
   "cell_type": "code",
   "execution_count": null,
   "metadata": {},
   "outputs": [],
   "source": [
    "# nemotron 340B\n",
    "hidden_size = 18432\n",
    "ffn_hidden_size = 73728\n",
    "num_layers = 96\n",
    "num_attention_heads = 96"
   ]
  },
  {
   "cell_type": "code",
   "execution_count": null,
   "metadata": {},
   "outputs": [],
   "source": [
    "def estimate_param(dim70b, dim8b, nearest_multiple=None, mult_factor=1, model_size=420):\n",
    "\tx = dim70b * (model_size / 70) * (dim70b / dim8b) * (8 / 70)\n",
    "\tx *= mult_factor\n",
    "\tif nearest_multiple is not None:\n",
    "\t\treturn nearest_multiple * round(x / nearest_multiple)"
   ]
  },
  {
   "cell_type": "code",
   "execution_count": null,
   "metadata": {},
   "outputs": [],
   "source": [
    "def esimate_num_hidden_layers(model):\n",
    "\t# count total params in a single decoder layer and estimate number of layers\n",
    "\tdecoder_total_params = sum(p.numel() for p in model.model.layers[0].parameters())\n",
    "\tembed_lm_head_total_params = model.model.embed_tokens.weight.numel() + model.lm_head.weight.numel()\n",
    "\tnum_estimated_hidden_layers = int((TARGET_MODEL_SIZE - embed_lm_head_total_params / 1e9)  / (decoder_total_params / 1e9))\n",
    "\t# nearest multiple of 8\n",
    "\tnum_estimated_hidden_layers = 8 * round(num_estimated_hidden_layers / 8)\n",
    "\treturn num_estimated_hidden_layers"
   ]
  },
  {
   "cell_type": "code",
   "execution_count": null,
   "metadata": {},
   "outputs": [],
   "source": [
    "def estimate_4bit_qdora_layer_mem(model):\n",
    "    # Estimate QDoRA decoder layer size\n",
    "    GROUP_SIZE = 128\n",
    "    LORA_RANK = 64\n",
    "\n",
    "    tot_mem_in_gb = 0\n",
    "    for n,p in model.model.layers[0].named_parameters():\n",
    "        if \"proj\" in n:\t\n",
    "            quant_mem = (p.numel() / 4) * 2 / 1e9\n",
    "            quant_zero_scale_mem = 2 * (p.numel() / GROUP_SIZE) * 2 / 1e9    \n",
    "            lora_ab_mem = (p.size(0) * LORA_RANK + p.size(1) * LORA_RANK) * 2 / 1e9\n",
    "            layer_mem = quant_mem + quant_zero_scale_mem + lora_ab_mem\n",
    "        else:\n",
    "            layer_mem = p.numel() * 2 / 1e9\n",
    "        tot_mem_in_gb += layer_mem\n",
    "    return tot_mem_in_gb\n",
    "\n",
    "def estimate_mixed_bit_qdora_layer_mem(model):\n",
    "    # Estimate QDoRA decoder layer size\n",
    "    LORA_RANK = 64\n",
    "\n",
    "    tot_mem_in_gb = 0\n",
    "    for n,p in model.model.layers[0].named_parameters():\n",
    "        if \"proj\" in n:\t\n",
    "            # 4bit attn\n",
    "            if any(attn_n in n for attn_n in ['q_proj', 'k_proj', 'v_proj', 'o_proj']):\n",
    "                quant_mem = (p.numel() / 4) * 2 / 1e9\n",
    "                GROUP_SIZE = 128\n",
    "            # 2bit mlp\n",
    "            else:\n",
    "                quant_mem = (p.numel() / 8) * 2 / 1e9\n",
    "                GROUP_SIZE = 64\n",
    "\n",
    "            quant_zero_scale_mem = 2 * (p.numel() / GROUP_SIZE) * 2 / 1e9    \n",
    "            lora_ab_mem = (p.size(0) * LORA_RANK + p.size(1) * LORA_RANK) * 2 / 1e9\n",
    "            layer_mem = quant_mem + quant_zero_scale_mem + lora_ab_mem\n",
    "        else:\n",
    "            layer_mem = p.numel() * 2 / 1e9\n",
    "        tot_mem_in_gb += layer_mem\n",
    "    return tot_mem_in_gb"
   ]
  },
  {
   "cell_type": "code",
   "execution_count": null,
   "metadata": {},
   "outputs": [],
   "source": [
    "TARGET_MODEL_SIZE = 420\n",
    "NUM_GPUS = 8"
   ]
  },
  {
   "cell_type": "markdown",
   "metadata": {},
   "source": [
    "### Config A\n",
    "\n",
    "- deep\n",
    "\n",
    "1 LAYER TRAINING: ~16GB"
   ]
  },
  {
   "cell_type": "code",
   "execution_count": null,
   "metadata": {},
   "outputs": [
    {
     "data": {
      "text/plain": [
       "(11264, 39296, 88, 8)"
      ]
     },
     "execution_count": null,
     "metadata": {},
     "output_type": "execute_result"
    }
   ],
   "source": [
    "llama_400b_config = copy.deepcopy(llama_70b_config)\n",
    "llama_400b_config.hidden_size = estimate_param(llama_70b_config.hidden_size, llama_8b_config.hidden_size, 128)\n",
    "llama_400b_config.intermediate_size = estimate_param(llama_70b_config.intermediate_size, llama_8b_config.intermediate_size, 128)\n",
    "llama_400b_config.num_attention_heads = estimate_param(llama_70b_config.num_attention_heads, llama_8b_config.num_attention_heads, 8)\n",
    "llama_400b_config.num_key_value_heads = estimate_param(llama_70b_config.num_key_value_heads, llama_8b_config.num_key_value_heads, 8)\n",
    "llama_400b_config.hidden_size, llama_400b_config.intermediate_size, llama_400b_config.num_attention_heads, llama_400b_config.num_key_value_heads"
   ]
  },
  {
   "cell_type": "code",
   "execution_count": null,
   "metadata": {},
   "outputs": [
    {
     "data": {
      "text/plain": [
       "11264"
      ]
     },
     "execution_count": null,
     "metadata": {},
     "output_type": "execute_result"
    }
   ],
   "source": [
    "llama_400b_config.hidden_size"
   ]
  },
  {
   "cell_type": "code",
   "execution_count": null,
   "metadata": {},
   "outputs": [
    {
     "data": {
      "text/plain": [
       "(11264, 39296, 88, 8)"
      ]
     },
     "execution_count": null,
     "metadata": {},
     "output_type": "execute_result"
    }
   ],
   "source": [
    "# hidden_size = 11264\n",
    "# intermediate_size = 39296\n",
    "# num_attention_heads = 88\n",
    "# num_key_value_heads = 8\n",
    "\n",
    "llama_400b_config.hidden_size, llama_400b_config.intermediate_size, llama_400b_config.num_attention_heads, llama_400b_config.num_key_value_heads"
   ]
  },
  {
   "cell_type": "code",
   "execution_count": null,
   "metadata": {},
   "outputs": [],
   "source": [
    "# find num layers\n",
    "llama_400b_config.num_hidden_layers = 1"
   ]
  },
  {
   "cell_type": "code",
   "execution_count": null,
   "metadata": {},
   "outputs": [],
   "source": [
    "with init_empty_weights():\n",
    "\tmodel = AutoModelForCausalLM.from_config(llama_400b_config)"
   ]
  },
  {
   "cell_type": "code",
   "execution_count": null,
   "metadata": {},
   "outputs": [
    {
     "data": {
      "text/plain": [
       "256"
      ]
     },
     "execution_count": null,
     "metadata": {},
     "output_type": "execute_result"
    }
   ],
   "source": [
    "num_estimated_hidden_layers = esimate_num_hidden_layers(model); num_estimated_hidden_layers"
   ]
  },
  {
   "cell_type": "code",
   "execution_count": null,
   "metadata": {},
   "outputs": [],
   "source": [
    "embed_lm_head_total_params = model.model.embed_tokens.weight.numel() + model.lm_head.weight.numel()"
   ]
  },
  {
   "cell_type": "code",
   "execution_count": null,
   "metadata": {},
   "outputs": [
    {
     "data": {
      "text/plain": [
       "231.28335974400002"
      ]
     },
     "execution_count": null,
     "metadata": {},
     "output_type": "execute_result"
    }
   ],
   "source": [
    "total_mem_in_gb_4bit = (estimate_4bit_qdora_layer_mem(model) * num_estimated_hidden_layers) + (embed_lm_head_total_params * 2 / 1e9); total_mem_in_gb_4bit"
   ]
  },
  {
   "cell_type": "code",
   "execution_count": null,
   "metadata": {},
   "outputs": [
    {
     "data": {
      "text/plain": [
       "156.921495552"
      ]
     },
     "execution_count": null,
     "metadata": {},
     "output_type": "execute_result"
    }
   ],
   "source": [
    "total_mem_in_gb_mixed_bit = (estimate_mixed_bit_qdora_layer_mem(model) * num_estimated_hidden_layers) + (embed_lm_head_total_params * 2 / 1e9); total_mem_in_gb_mixed_bit"
   ]
  },
  {
   "cell_type": "code",
   "execution_count": null,
   "metadata": {},
   "outputs": [
    {
     "data": {
      "text/plain": [
       "(28.910419968000003, 19.615186944)"
      ]
     },
     "execution_count": null,
     "metadata": {},
     "output_type": "execute_result"
    }
   ],
   "source": [
    "total_mem_in_gb_4bit / NUM_GPUS, total_mem_in_gb_mixed_bit / NUM_GPUS"
   ]
  },
  {
   "cell_type": "code",
   "execution_count": null,
   "metadata": {},
   "outputs": [
    {
     "name": "stderr",
     "output_type": "stream",
     "text": [
      "/tmp/ipykernel_54409/3343428886.py:2: UserWarning: nn.init.xavier_uniform is now deprecated in favor of nn.init.xavier_uniform_.\n",
      "  state_dict = {k:v.fill_(0.01) if len(v.size()) < 2 else torch.nn.init.xavier_uniform(v) for k,v in state_dict.items()}\n"
     ]
    }
   ],
   "source": [
    "state_dict = {k:torch.empty_like(v, device=\"cuda\") for k,v in model.state_dict().items()}\n",
    "state_dict = {k:v.fill_(0.01) if len(v.size()) < 2 else torch.nn.init.xavier_uniform(v) for k,v in state_dict.items()}"
   ]
  },
  {
   "cell_type": "code",
   "execution_count": null,
   "metadata": {},
   "outputs": [],
   "source": [
    "output_dir = \"/workspace/models/meta-llama/Meta-Llama-3-400B-Instruct-A\"\n",
    "os.makedirs(output_dir, exist_ok=True)"
   ]
  },
  {
   "cell_type": "code",
   "execution_count": null,
   "metadata": {},
   "outputs": [],
   "source": [
    "save_file(state_dict, os.path.join(output_dir, \"model_state_dict.safetensors\"))"
   ]
  },
  {
   "cell_type": "code",
   "execution_count": null,
   "metadata": {},
   "outputs": [],
   "source": [
    "# save config\n",
    "with open(os.path.join(output_dir, \"config.json\"), \"w\") as f:\n",
    "\tjson.dump(llama_400b_config.to_dict(), f)"
   ]
  },
  {
   "cell_type": "markdown",
   "metadata": {},
   "source": [
    "### Config B\n",
    "\n",
    "- mid\n",
    "\n",
    "1 LAYER TRAINING: ~25GB"
   ]
  },
  {
   "cell_type": "code",
   "execution_count": null,
   "metadata": {},
   "outputs": [
    {
     "data": {
      "text/plain": [
       "(16896, 59008, 128, 8)"
      ]
     },
     "execution_count": null,
     "metadata": {},
     "output_type": "execute_result"
    }
   ],
   "source": [
    "llama_400b_config = copy.deepcopy(llama_70b_config)\n",
    "llama_400b_config.hidden_size = estimate_param(llama_70b_config.hidden_size, llama_8b_config.hidden_size, mult_factor=1.5, nearest_multiple=128)\n",
    "llama_400b_config.intermediate_size = estimate_param(llama_70b_config.intermediate_size, llama_8b_config.intermediate_size, mult_factor=1.5, nearest_multiple=128)\n",
    "llama_400b_config.num_attention_heads = estimate_param(llama_70b_config.num_attention_heads, llama_8b_config.num_attention_heads, mult_factor=1.5, nearest_multiple=8)\n",
    "llama_400b_config.num_key_value_heads = estimate_param(llama_70b_config.num_key_value_heads, llama_8b_config.num_key_value_heads, mult_factor=1.5, nearest_multiple=8)\n",
    "llama_400b_config.hidden_size, llama_400b_config.intermediate_size, llama_400b_config.num_attention_heads, llama_400b_config.num_key_value_heads"
   ]
  },
  {
   "cell_type": "code",
   "execution_count": null,
   "metadata": {},
   "outputs": [
    {
     "data": {
      "text/plain": [
       "(16896, 59008, 128, 8)"
      ]
     },
     "execution_count": null,
     "metadata": {},
     "output_type": "execute_result"
    }
   ],
   "source": [
    "# hidden_size = 16896\n",
    "# intermediate_size = 59008\n",
    "# num_attention_heads = 128\n",
    "# num_key_value_heads = 8\n",
    "\n",
    "llama_400b_config.hidden_size, llama_400b_config.intermediate_size, llama_400b_config.num_attention_heads, llama_400b_config.num_key_value_heads"
   ]
  },
  {
   "cell_type": "code",
   "execution_count": null,
   "metadata": {},
   "outputs": [],
   "source": [
    "# find num layers\n",
    "llama_400b_config.num_hidden_layers = 1"
   ]
  },
  {
   "cell_type": "code",
   "execution_count": null,
   "metadata": {},
   "outputs": [],
   "source": [
    "with init_empty_weights():\n",
    "\tmodel = AutoModelForCausalLM.from_config(llama_400b_config)"
   ]
  },
  {
   "cell_type": "code",
   "execution_count": null,
   "metadata": {},
   "outputs": [
    {
     "data": {
      "text/plain": [
       "112"
      ]
     },
     "execution_count": null,
     "metadata": {},
     "output_type": "execute_result"
    }
   ],
   "source": [
    "num_estimated_hidden_layers = esimate_num_hidden_layers(model); num_estimated_hidden_layers"
   ]
  },
  {
   "cell_type": "code",
   "execution_count": null,
   "metadata": {},
   "outputs": [],
   "source": [
    "embed_lm_head_total_params = model.model.embed_tokens.weight.numel() + model.lm_head.weight.numel()"
   ]
  },
  {
   "cell_type": "code",
   "execution_count": null,
   "metadata": {},
   "outputs": [
    {
     "data": {
      "text/plain": [
       "227.48277964799996"
      ]
     },
     "execution_count": null,
     "metadata": {},
     "output_type": "execute_result"
    }
   ],
   "source": [
    "total_mem_in_gb_4bit = (estimate_4bit_qdora_layer_mem(model) * num_estimated_hidden_layers) + (embed_lm_head_total_params * 2 / 1e9); total_mem_in_gb_4bit"
   ]
  },
  {
   "cell_type": "code",
   "execution_count": null,
   "metadata": {},
   "outputs": [
    {
     "data": {
      "text/plain": [
       "154.20334079999998"
      ]
     },
     "execution_count": null,
     "metadata": {},
     "output_type": "execute_result"
    }
   ],
   "source": [
    "total_mem_in_gb_mixed_bit = (estimate_mixed_bit_qdora_layer_mem(model) * num_estimated_hidden_layers) + (embed_lm_head_total_params * 2 / 1e9); total_mem_in_gb_mixed_bit"
   ]
  },
  {
   "cell_type": "code",
   "execution_count": null,
   "metadata": {},
   "outputs": [
    {
     "data": {
      "text/plain": [
       "(28.435347455999995, 19.275417599999997)"
      ]
     },
     "execution_count": null,
     "metadata": {},
     "output_type": "execute_result"
    }
   ],
   "source": [
    "total_mem_in_gb_4bit / NUM_GPUS, total_mem_in_gb_mixed_bit / NUM_GPUS"
   ]
  },
  {
   "cell_type": "code",
   "execution_count": null,
   "metadata": {},
   "outputs": [
    {
     "name": "stderr",
     "output_type": "stream",
     "text": [
      "/tmp/ipykernel_57636/3343428886.py:2: UserWarning: nn.init.xavier_uniform is now deprecated in favor of nn.init.xavier_uniform_.\n",
      "  state_dict = {k:v.fill_(0.01) if len(v.size()) < 2 else torch.nn.init.xavier_uniform(v) for k,v in state_dict.items()}\n"
     ]
    }
   ],
   "source": [
    "state_dict = {k:torch.empty_like(v, device=\"cuda\") for k,v in model.state_dict().items()}\n",
    "state_dict = {k:v.fill_(0.01) if len(v.size()) < 2 else torch.nn.init.xavier_uniform(v) for k,v in state_dict.items()}"
   ]
  },
  {
   "cell_type": "code",
   "execution_count": null,
   "metadata": {},
   "outputs": [],
   "source": [
    "output_dir = \"/workspace/models/meta-llama/Meta-Llama-3-400B-Instruct-B\"\n",
    "os.makedirs(output_dir, exist_ok=True)"
   ]
  },
  {
   "cell_type": "code",
   "execution_count": null,
   "metadata": {},
   "outputs": [],
   "source": [
    "save_file(state_dict, os.path.join(output_dir, \"model_state_dict.safetensors\"))"
   ]
  },
  {
   "cell_type": "code",
   "execution_count": null,
   "metadata": {},
   "outputs": [],
   "source": [
    "# save config\n",
    "with open(os.path.join(output_dir, \"config.json\"), \"w\") as f:\n",
    "\tjson.dump(llama_400b_config.to_dict(), f)"
   ]
  },
  {
   "cell_type": "markdown",
   "metadata": {},
   "source": [
    "### Config C\n",
    "\n",
    "- wide\n",
    "\n",
    "1 LAYER TRAINING: ~40GB"
   ]
  },
  {
   "cell_type": "code",
   "execution_count": null,
   "metadata": {},
   "outputs": [
    {
     "data": {
      "text/plain": [
       "(22528, 78592, 176, 8)"
      ]
     },
     "execution_count": null,
     "metadata": {},
     "output_type": "execute_result"
    }
   ],
   "source": [
    "llama_400b_config = copy.deepcopy(llama_70b_config)\n",
    "llama_400b_config.hidden_size = estimate_param(llama_70b_config.hidden_size, llama_8b_config.hidden_size, mult_factor=2, nearest_multiple=128)\n",
    "llama_400b_config.intermediate_size = estimate_param(llama_70b_config.intermediate_size, llama_8b_config.intermediate_size, mult_factor=2, nearest_multiple=128)\n",
    "llama_400b_config.num_attention_heads = estimate_param(llama_70b_config.num_attention_heads, llama_8b_config.num_attention_heads, mult_factor=2, nearest_multiple=8)\n",
    "llama_400b_config.num_key_value_heads = estimate_param(llama_70b_config.num_key_value_heads, llama_8b_config.num_key_value_heads, mult_factor=2, nearest_multiple=8)\n",
    "llama_400b_config.hidden_size, llama_400b_config.intermediate_size, llama_400b_config.num_attention_heads, llama_400b_config.num_key_value_heads"
   ]
  },
  {
   "cell_type": "code",
   "execution_count": null,
   "metadata": {},
   "outputs": [
    {
     "data": {
      "text/plain": [
       "(22528, 78592, 176, 8)"
      ]
     },
     "execution_count": null,
     "metadata": {},
     "output_type": "execute_result"
    }
   ],
   "source": [
    "# hidden_size = 22528\n",
    "# intermediate_size = 78592\n",
    "# num_attention_heads = 176\n",
    "# num_key_value_heads = 8\n",
    "\n",
    "llama_400b_config.hidden_size, llama_400b_config.intermediate_size, llama_400b_config.num_attention_heads, llama_400b_config.num_key_value_heads"
   ]
  },
  {
   "cell_type": "code",
   "execution_count": null,
   "metadata": {},
   "outputs": [],
   "source": [
    "# find num layers\n",
    "llama_400b_config.num_hidden_layers = 1"
   ]
  },
  {
   "cell_type": "code",
   "execution_count": null,
   "metadata": {},
   "outputs": [
    {
     "data": {
      "text/plain": [
       "LlamaConfig {\n",
       "  \"_name_or_path\": \"meta-llama/Meta-Llama-3-70B-Instruct\",\n",
       "  \"architectures\": [\n",
       "    \"LlamaForCausalLM\"\n",
       "  ],\n",
       "  \"attention_bias\": false,\n",
       "  \"attention_dropout\": 0.0,\n",
       "  \"bos_token_id\": 128000,\n",
       "  \"eos_token_id\": 128009,\n",
       "  \"hidden_act\": \"silu\",\n",
       "  \"hidden_size\": 22528,\n",
       "  \"initializer_range\": 0.02,\n",
       "  \"intermediate_size\": 78592,\n",
       "  \"max_position_embeddings\": 8192,\n",
       "  \"mlp_bias\": false,\n",
       "  \"model_type\": \"llama\",\n",
       "  \"num_attention_heads\": 176,\n",
       "  \"num_hidden_layers\": 1,\n",
       "  \"num_key_value_heads\": 8,\n",
       "  \"pretraining_tp\": 1,\n",
       "  \"rms_norm_eps\": 1e-05,\n",
       "  \"rope_scaling\": null,\n",
       "  \"rope_theta\": 500000.0,\n",
       "  \"tie_word_embeddings\": false,\n",
       "  \"torch_dtype\": \"bfloat16\",\n",
       "  \"transformers_version\": \"4.42.4\",\n",
       "  \"use_cache\": true,\n",
       "  \"vocab_size\": 128256\n",
       "}"
      ]
     },
     "execution_count": null,
     "metadata": {},
     "output_type": "execute_result"
    }
   ],
   "source": [
    "llama_400b_config"
   ]
  },
  {
   "cell_type": "code",
   "execution_count": null,
   "metadata": {},
   "outputs": [],
   "source": [
    "with init_empty_weights():\n",
    "\tmodel = AutoModelForCausalLM.from_config(llama_400b_config)"
   ]
  },
  {
   "cell_type": "code",
   "execution_count": null,
   "metadata": {},
   "outputs": [
    {
     "data": {
      "text/plain": [
       "64"
      ]
     },
     "execution_count": null,
     "metadata": {},
     "output_type": "execute_result"
    }
   ],
   "source": [
    "num_estimated_hidden_layers = esimate_num_hidden_layers(model); num_estimated_hidden_layers"
   ]
  },
  {
   "cell_type": "code",
   "execution_count": null,
   "metadata": {},
   "outputs": [],
   "source": [
    "embed_lm_head_total_params = model.model.embed_tokens.weight.numel() + model.lm_head.weight.numel()"
   ]
  },
  {
   "cell_type": "code",
   "execution_count": null,
   "metadata": {},
   "outputs": [
    {
     "data": {
      "text/plain": [
       "231.84487219199994"
      ]
     },
     "execution_count": null,
     "metadata": {},
     "output_type": "execute_result"
    }
   ],
   "source": [
    "total_mem_in_gb_4bit = (estimate_4bit_qdora_layer_mem(model) * num_estimated_hidden_layers) + (embed_lm_head_total_params * 2 / 1e9); total_mem_in_gb_4bit"
   ]
  },
  {
   "cell_type": "code",
   "execution_count": null,
   "metadata": {},
   "outputs": [
    {
     "data": {
      "text/plain": [
       "157.48300799999996"
      ]
     },
     "execution_count": null,
     "metadata": {},
     "output_type": "execute_result"
    }
   ],
   "source": [
    "total_mem_in_gb_mixed_bit = (estimate_mixed_bit_qdora_layer_mem(model) * num_estimated_hidden_layers) + (embed_lm_head_total_params * 2 / 1e9); total_mem_in_gb_mixed_bit"
   ]
  },
  {
   "cell_type": "code",
   "execution_count": null,
   "metadata": {},
   "outputs": [
    {
     "data": {
      "text/plain": [
       "(28.980609023999993, 19.685375999999994)"
      ]
     },
     "execution_count": null,
     "metadata": {},
     "output_type": "execute_result"
    }
   ],
   "source": [
    "total_mem_in_gb_4bit / NUM_GPUS, total_mem_in_gb_mixed_bit / NUM_GPUS"
   ]
  },
  {
   "cell_type": "code",
   "execution_count": null,
   "metadata": {},
   "outputs": [
    {
     "name": "stderr",
     "output_type": "stream",
     "text": [
      "/tmp/ipykernel_59526/3343428886.py:2: UserWarning: nn.init.xavier_uniform is now deprecated in favor of nn.init.xavier_uniform_.\n",
      "  state_dict = {k:v.fill_(0.01) if len(v.size()) < 2 else torch.nn.init.xavier_uniform(v) for k,v in state_dict.items()}\n"
     ]
    }
   ],
   "source": [
    "state_dict = {k:torch.empty_like(v, device=\"cuda\") for k,v in model.state_dict().items()}\n",
    "state_dict = {k:v.fill_(0.01) if len(v.size()) < 2 else torch.nn.init.xavier_uniform(v) for k,v in state_dict.items()}"
   ]
  },
  {
   "cell_type": "code",
   "execution_count": null,
   "metadata": {},
   "outputs": [],
   "source": [
    "output_dir = \"/workspace/models/meta-llama/Meta-Llama-3-400B-Instruct-C\"\n",
    "os.makedirs(output_dir, exist_ok=True)"
   ]
  },
  {
   "cell_type": "code",
   "execution_count": null,
   "metadata": {},
   "outputs": [],
   "source": [
    "save_file(state_dict, os.path.join(output_dir, \"model_state_dict.safetensors\"))"
   ]
  },
  {
   "cell_type": "code",
   "execution_count": null,
   "metadata": {},
   "outputs": [],
   "source": [
    "# save config\n",
    "with open(os.path.join(output_dir, \"config.json\"), \"w\") as f:\n",
    "\tjson.dump(llama_400b_config.to_dict(), f)"
   ]
  },
  {
   "cell_type": "code",
   "execution_count": null,
   "metadata": {},
   "outputs": [],
   "source": []
  },
  {
   "cell_type": "code",
   "execution_count": null,
   "metadata": {},
   "outputs": [],
   "source": []
  }
 ],
 "metadata": {
  "kernelspec": {
   "display_name": "python3",
   "language": "python",
   "name": "python3"
  }
 },
 "nbformat": 4,
 "nbformat_minor": 2
}
