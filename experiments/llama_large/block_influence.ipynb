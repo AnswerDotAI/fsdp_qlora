{
 "cells": [
  {
   "cell_type": "code",
   "execution_count": null,
   "metadata": {},
   "outputs": [],
   "source": [
    "from fastcore.all import *"
   ]
  },
  {
   "cell_type": "code",
   "execution_count": null,
   "metadata": {},
   "outputs": [
    {
     "name": "stderr",
     "output_type": "stream",
     "text": [
      "/home/k/miniconda3/envs/llm_quant/lib/python3.10/site-packages/tqdm/auto.py:21: TqdmWarning: IProgress not found. Please update jupyter and ipywidgets. See https://ipywidgets.readthedocs.io/en/stable/user_install.html\n",
      "  from .autonotebook import tqdm as notebook_tqdm\n"
     ]
    }
   ],
   "source": [
    "import torch\n",
    "from torch import nn\n",
    "from transformers import AutoModelForCausalLM, AutoTokenizer\n",
    "import matplotlib.pyplot as plt\n",
    "from datasets import load_from_disk\n",
    "from tqdm import tqdm\n",
    "import gc"
   ]
  },
  {
   "cell_type": "markdown",
   "metadata": {},
   "source": [
    "### Compute Scores"
   ]
  },
  {
   "cell_type": "code",
   "execution_count": null,
   "metadata": {},
   "outputs": [],
   "source": [
    "# Load pre-trained model and tokenizer\n",
    "# model_name = \"meta-llama/Meta-Llama-3.1-70B-Instruct\"\n",
    "model_name = \"Qwen/Qwen2.5-32B-Instruct\"\n",
    "tokenizer = AutoTokenizer.from_pretrained(model_name)"
   ]
  },
  {
   "cell_type": "code",
   "execution_count": null,
   "metadata": {},
   "outputs": [
    {
     "name": "stderr",
     "output_type": "stream",
     "text": [
      "Loading checkpoint shards: 100%|█████████████████████████████████████████████████████████████████████| 17/17 [00:17<00:00,  1.03s/it]\n"
     ]
    }
   ],
   "source": [
    "model = AutoModelForCausalLM.from_pretrained(model_name, torch_dtype=torch.bfloat16, device_map=\"auto\")"
   ]
  },
  {
   "cell_type": "code",
   "execution_count": null,
   "metadata": {},
   "outputs": [],
   "source": [
    "ds = load_from_disk(\"/home/k/data/qwen_large_mix_dataset_v0_dedup_1536\").shuffle(42)"
   ]
  },
  {
   "cell_type": "code",
   "execution_count": null,
   "metadata": {},
   "outputs": [],
   "source": [
    "def calculate_bi_score(model: AutoModelForCausalLM, batch: Dict[str, torch.Tensor]) -> Tuple[List[float], int]:\n",
    "    \"Compute the Block Influence (BI) score components for a single batch.\"\n",
    "\n",
    "    # Get all hidden states\n",
    "    input_shape = batch['input_ids'].shape\n",
    "    with torch.no_grad(): outputs = model(**batch, output_hidden_states=True)\n",
    "    hs = [h.to(\"cpu\") for h in outputs.hidden_states]\n",
    "    del outputs; gc.collect(); torch.cuda.empty_cache()\n",
    "    \n",
    "    try:\n",
    "        sim_total = [0 for _ in range(len(hs)-1)]\n",
    "        tokens_count = sum(batch['attention_mask'].view(-1)).item()\n",
    "        for i in range(len(hs) - 1):\n",
    "            sim = nn.functional.cosine_similarity(hs[i].to(\"cuda\"), hs[i+1].to(\"cuda\"), dim=-1)\n",
    "            for s,m in zip(sim, batch['attention_mask']):\n",
    "                sim_total[i] += s[m!=0].sum().cpu().item()\n",
    "\n",
    "        del sim; gc.collect(); torch.cuda.empty_cache()\n",
    "        return sim_total, tokens_count\n",
    "\n",
    "    except Exception as e:\n",
    "        print(f\"ERROR with shape: {input_shape}\")\n",
    "        print(str(e))\n",
    "        return None"
   ]
  },
  {
   "cell_type": "code",
   "execution_count": null,
   "metadata": {},
   "outputs": [],
   "source": [
    "# test\n",
    "input_ids = torch.arange(4, device=\"cuda\", dtype=torch.long).view(2,-1)\n",
    "attn_mask = torch.ones(4, device=\"cuda\", dtype=torch.long).view(2,-1)\n",
    "b = {\"input_ids\":input_ids, \"attention_mask\":attn_mask}\n",
    "sim_total, tokens_count = calculate_bi_score(model, b)"
   ]
  },
  {
   "cell_type": "code",
   "execution_count": null,
   "metadata": {},
   "outputs": [
    {
     "data": {
      "text/plain": [
       "tensor([0.8901, 0.1309, 0.0469, 0.0781, 0.2754, 0.0586, 0.0508, 0.0469, 0.0312,\n",
       "        0.0234, 0.0137, 0.0195, 0.0156, 0.0215, 0.0156, 0.0137, 0.0117, 0.0117,\n",
       "        0.0078, 0.0098, 0.0078, 0.0078, 0.0059, 0.0078, 0.0078, 0.0078, 0.0078,\n",
       "        0.0078, 0.0117, 0.0117, 0.0137, 0.0078, 0.0137, 0.0098, 0.0078, 0.0078,\n",
       "        0.0078, 0.0059, 0.0059, 0.0078, 0.0039, 0.0020, 0.0000, 0.0078, 0.0117,\n",
       "        0.0078, 0.0117, 0.0078, 0.0098, 0.0117, 0.0176, 0.0156, 0.0117, 0.0117,\n",
       "        0.0117, 0.0117, 0.0098, 0.0059, 0.0078, 0.0117, 0.0117, 0.0117, 0.0430,\n",
       "        0.7710])"
      ]
     },
     "execution_count": null,
     "metadata": {},
     "output_type": "execute_result"
    }
   ],
   "source": [
    "bi_scores = 1 - (torch.tensor(sim_total) / tokens_count); bi_scores"
   ]
  },
  {
   "cell_type": "code",
   "execution_count": null,
   "metadata": {},
   "outputs": [
    {
     "name": "stderr",
     "output_type": "stream",
     "text": [
      "  0%|▎                                                                                              | 3/1000 [00:06<37:16,  2.24s/it]\n"
     ]
    }
   ],
   "source": [
    "all_sim_total, all_tokens_count = [], 0\n",
    "batch_texts, batch_seqlen = [], 0\n",
    "for i in tqdm(range(1000)):\n",
    "    text, token_len = ds[i]['input_text'], ds[i]['token_length']\n",
    "    if token_len > 1000: print(\"skip\"); continue\n",
    "    \n",
    "    batch_texts.append(text)\n",
    "    batch_seqlen += token_len\n",
    "    if batch_seqlen > 1000:\n",
    "        batch = tokenizer(batch_texts, return_tensors=\"pt\", padding=True)\n",
    "        sim_total, tokens_count = calculate_bi_score(model, batch)\n",
    "        batch_texts, batch_seqlen = [], 0        \n",
    "        \n",
    "        all_sim_total.append(sim_total)\n",
    "        all_tokens_count += tokens_count\n",
    "    \n",
    "        break"
   ]
  },
  {
   "cell_type": "code",
   "execution_count": null,
   "metadata": {},
   "outputs": [
    {
     "data": {
      "text/plain": [
       "[(0, 0.88756794),\n",
       " (63, 0.48652172),\n",
       " (62, 0.08956522),\n",
       " (61, 0.061956525),\n",
       " (49, 0.053043485),\n",
       " (50, 0.05239129),\n",
       " (46, 0.052173913),\n",
       " (3, 0.051739156),\n",
       " (60, 0.049565196),\n",
       " (51, 0.049347818)]"
      ]
     },
     "execution_count": null,
     "metadata": {},
     "output_type": "execute_result"
    }
   ],
   "source": [
    "bi_scores = 1 - (torch.tensor(all_sim_total).sum(0) / all_tokens_count)\n",
    "scores = list(enumerate(list(bi_scores.numpy())))\n",
    "sorted_scores = sorted(scores, key=lambda x: x[1], reverse=True); sorted_scores[:10]"
   ]
  },
  {
   "cell_type": "markdown",
   "metadata": {},
   "source": [
    "### Select Layers"
   ]
  },
  {
   "cell_type": "code",
   "execution_count": null,
   "metadata": {},
   "outputs": [],
   "source": [
    "qwen_2_5_32b_scores = sorted_scores = [(0, 0.88851666),\n",
    " (63, 0.50742525),\n",
    " (62, 0.080078125),\n",
    " (4, 0.074041955),\n",
    " (3, 0.06959692),\n",
    " (5, 0.059793405),\n",
    " (8, 0.05809705),\n",
    " (61, 0.052911166),\n",
    " (7, 0.049501617),\n",
    " (2, 0.04781368),\n",
    " (9, 0.044181034),\n",
    " (32, 0.043701172),\n",
    " (6, 0.043621194),\n",
    " (49, 0.04266568),\n",
    " (50, 0.041205045),\n",
    " (51, 0.040691506),\n",
    " (60, 0.040262155),\n",
    " (34, 0.039601292),\n",
    " (46, 0.03936978),\n",
    " (31, 0.039272968),\n",
    " (47, 0.03905408),\n",
    " (48, 0.038902547),\n",
    " (33, 0.038708918),\n",
    " (1, 0.03854896),\n",
    " (52, 0.03843952),\n",
    " (30, 0.03831745),\n",
    " (44, 0.03763554),\n",
    " (35, 0.036355905),\n",
    " (53, 0.03627593),\n",
    " (10, 0.036065463),\n",
    " (45, 0.03559402),\n",
    " (36, 0.034987878),\n",
    " (28, 0.0344575),\n",
    " (15, 0.03378401),\n",
    " (14, 0.033687197),\n",
    " (43, 0.033514615),\n",
    " (29, 0.033485148),\n",
    " (12, 0.033177868),\n",
    " (59, 0.033022124),\n",
    " (54, 0.032580145),\n",
    " (27, 0.032466494),\n",
    " (13, 0.032403354),\n",
    " (16, 0.0319277),\n",
    " (11, 0.031784583),\n",
    " (55, 0.031603582),\n",
    " (37, 0.03145205),\n",
    " (56, 0.030955348),\n",
    " (26, 0.030677533),\n",
    " (17, 0.030265018),\n",
    " (18, 0.030084018),\n",
    " (22, 0.03000825),\n",
    " (20, 0.029982995),\n",
    " (19, 0.029856715),\n",
    " (38, 0.029852506),\n",
    " (39, 0.029587317),\n",
    " (42, 0.029435782),\n",
    " (21, 0.029183224),\n",
    " (57, 0.028922245),\n",
    " (23, 0.02888857),\n",
    " (58, 0.028349778),\n",
    " (40, 0.027419519),\n",
    " (41, 0.026804958),\n",
    " (25, 0.026316676),\n",
    " (24, 0.026093582)]"
   ]
  },
  {
   "cell_type": "code",
   "execution_count": null,
   "metadata": {},
   "outputs": [],
   "source": [
    "%ai reset"
   ]
  },
  {
   "cell_type": "code",
   "execution_count": null,
   "metadata": {},
   "outputs": [
    {
     "name": "stdout",
     "output_type": "stream",
     "text": [
      "Selected 21 of 64\n",
      "0,2,3,4,5,6,7,8,9,31,32,34,46,47,49,50,51,60,61,62,63\n"
     ]
    }
   ],
   "source": [
    "budget = 0.33\n",
    "skip_adj = False\n",
    "top_k = int(len(sorted_scores) * budget)\n",
    "selected_layers = []\n",
    "for l_idx, score in sorted_scores:\n",
    "    if skip_adj and (l_idx-1 in selected_layers or l_idx+1 in selected_layers):\n",
    "        continue\n",
    "    if len(selected_layers) < top_k:\n",
    "        selected_layers.append(l_idx)\n",
    "\n",
    "print(f\"Selected {len(selected_layers)} of {len(sorted_scores)}\")\n",
    "print(\",\".join(map(str, sorted(selected_layers))))  "
   ]
  },
  {
   "cell_type": "code",
   "execution_count": null,
   "metadata": {},
   "outputs": [],
   "source": [
    "%%aip 0\n",
    "Make the above a function."
   ]
  },
  {
   "cell_type": "code",
   "execution_count": null,
   "metadata": {},
   "outputs": [
    {
     "name": "stdout",
     "output_type": "stream",
     "text": [
      "Selected 32 of 64\n",
      "0,1,2,3,4,5,6,7,8,9,10,30,31,32,33,34,35,36,44,45,46,47,48,49,50,51,52,53,60,61,62,63\n",
      "Selected 31 of 64\n",
      "0,2,4,6,8,10,12,15,17,20,22,24,26,28,30,32,34,36,38,40,42,44,46,49,51,53,55,57,59,61,63\n",
      "Selected 21 of 64\n",
      "0,2,3,4,5,6,7,8,9,31,32,34,46,47,49,50,51,60,61,62,63\n",
      "Selected 21 of 64\n",
      "0,2,4,6,8,10,12,15,28,30,32,34,36,44,46,49,51,53,59,61,63\n"
     ]
    }
   ],
   "source": [
    "def select_layers(sorted_scores, budget=0.33, skip_adj=False):\n",
    "    top_k = int(len(sorted_scores) * budget)\n",
    "    selected_layers = []\n",
    "    for l_idx, score in sorted_scores:\n",
    "        if skip_adj and (l_idx-1 in selected_layers or l_idx+1 in selected_layers):\n",
    "            continue\n",
    "        if len(selected_layers) < top_k:\n",
    "            selected_layers.append(l_idx)\n",
    "    \n",
    "    print(f\"Selected {len(selected_layers)} of {len(sorted_scores)}\")\n",
    "    print(\",\".join(map(str, sorted(selected_layers))))\n",
    "    \n",
    "    return selected_layers\n",
    "\n",
    "# Example usage:\n",
    "cla2_adj = select_layers(sorted_scores, 0.5)\n",
    "cla2_no_adj = select_layers(sorted_scores, 0.5, skip_adj=True)\n",
    "cla3_adj = select_layers(sorted_scores, 0.34)\n",
    "cla3_no_adj = select_layers(sorted_scores, 0.34, skip_adj=True)"
   ]
  },
  {
   "cell_type": "code",
   "execution_count": null,
   "metadata": {},
   "outputs": [],
   "source": [
    "%%aip 0\n",
    "Modify the function so that if `skip_adj=True`, then it will also use a new parameter called `min_ratio` which doesn't skip adjacent layer if the ratio of score of that layer and the minimum score is > `min_ratio`."
   ]
  },
  {
   "cell_type": "code",
   "execution_count": null,
   "metadata": {},
   "outputs": [
    {
     "name": "stdout",
     "output_type": "stream",
     "text": [
      "Selected 32 of 64\n",
      "0,1,2,3,4,5,6,7,8,9,10,30,31,32,33,34,35,36,44,45,46,47,48,49,50,51,52,53,60,61,62,63\n",
      "Selected 32 of 64\n",
      "0,2,3,4,5,7,8,10,12,15,17,20,22,26,28,30,32,34,36,38,42,44,46,49,51,53,55,57,59,61,62,63\n",
      "Selected 21 of 64\n",
      "0,2,3,4,5,6,7,8,9,31,32,34,46,47,49,50,51,60,61,62,63\n",
      "Selected 21 of 64\n",
      "0,2,3,4,5,7,8,10,28,30,32,34,36,44,46,49,51,53,61,62,63\n"
     ]
    }
   ],
   "source": [
    "def select_layers(sorted_scores, budget=0.33, skip_adj=False, min_ratio=1.5):\n",
    "    top_k = int(len(sorted_scores) * budget)\n",
    "    selected_layers = []\n",
    "    min_score = sorted_scores[-1][1]\n",
    "    for l_idx, score in sorted_scores:\n",
    "        if skip_adj:\n",
    "            if l_idx-1 in selected_layers or l_idx+1 in selected_layers:\n",
    "                if score / min_score <= min_ratio:\n",
    "                    continue\n",
    "        if len(selected_layers) < top_k:\n",
    "            selected_layers.append(l_idx)\n",
    "    \n",
    "    print(f\"Selected {len(selected_layers)} of {len(sorted_scores)}\")\n",
    "    print(\",\".join(map(str, sorted(selected_layers))))\n",
    "    \n",
    "    return selected_layers\n",
    "\n",
    "# Test with different min_ratio values\n",
    "cla2_adj = select_layers(sorted_scores, 0.5)\n",
    "cla2_no_adj = select_layers(sorted_scores, 0.5, skip_adj=True, min_ratio=1.8)\n",
    "cla3_adj = select_layers(sorted_scores, 0.34)\n",
    "cla3_no_adj = select_layers(sorted_scores, 0.34, skip_adj=True, min_ratio=1.8)"
   ]
  },
  {
   "cell_type": "code",
   "execution_count": null,
   "metadata": {},
   "outputs": [],
   "source": [
    "# Qwen2.5 32b\n",
    "cla2_adj = \"0,1,2,3,4,5,6,7,8,9,10,30,31,32,33,34,35,36,44,45,46,47,48,49,50,51,52,53,60,61,62,63\"\n",
    "cla2_no_adj = \"0,2,3,4,5,7,8,10,12,15,17,20,22,26,28,30,32,34,36,38,42,44,46,49,51,53,55,57,59,61,62,63\"\n",
    "cla3_adj = \"0,2,3,4,5,6,7,8,9,31,32,34,46,47,49,50,51,60,61,62,63\"\n",
    "cla3_no_adj = \"0,2,3,4,5,7,8,10,28,30,32,34,36,44,46,49,51,53,61,62,63\""
   ]
  },
  {
   "cell_type": "markdown",
   "metadata": {},
   "source": [
    "### Plot"
   ]
  },
  {
   "cell_type": "code",
   "execution_count": null,
   "metadata": {},
   "outputs": [],
   "source": [
    "def convert_to_chat_input(question):\n",
    "    messages = [\n",
    "        {\"role\": \"system\", \"content\": \"You are a helpful AI assistant.\"},\n",
    "        {\"role\": \"user\", \"content\": question},\n",
    "    ]\n",
    "    return tokenizer.apply_chat_template(messages, tokenize=False, add_generation_prompt=True)"
   ]
  },
  {
   "cell_type": "code",
   "execution_count": null,
   "metadata": {},
   "outputs": [],
   "source": [
    "# Prepare input\n",
    "text = \"\"\"Here is python code to compute the BI score.\n",
    "\n",
    "```python\n",
    "def calculate_bi_score(model, input_ids, attention_mask):\n",
    "    # Get all hidden states\n",
    "    with torch.no_grad():\n",
    "        outputs = model(input_ids=input_ids, attention_mask=attention_mask, output_hidden_states=True)\n",
    "    \n",
    "    hidden_states = outputs.hidden_states\n",
    "\n",
    "    bi_scores = []\n",
    "    for i in range(len(hidden_states) - 1):\n",
    "        x_i = hidden_states[i]\n",
    "        x_i_plus_1 = hidden_states[i + 1]\n",
    "        \n",
    "        # Calculate cosine similarity\n",
    "        similarity = nn.functional.cosine_similarity(x_i.unsqueeze(2), x_i_plus_1.unsqueeze(1), dim=-1)\n",
    "        \n",
    "        # Calculate BI score\n",
    "        bi_score = 1 - similarity.mean().item()\n",
    "        bi_scores.append(bi_score)\n",
    "    \n",
    "    return bi_scores\n",
    "```\n",
    "\"\"\"\n",
    "\n",
    "batch = tokenizer(convert_to_chat_input(text), return_tensors=\"pt\")\n",
    "sim_total, tokens_count = calculate_bi_score(model, batch)"
   ]
  },
  {
   "cell_type": "code",
   "execution_count": null,
   "metadata": {},
   "outputs": [],
   "source": [
    "scores_total = [1-s/tokens_count for s in sim_total]"
   ]
  },
  {
   "cell_type": "code",
   "execution_count": null,
   "metadata": {},
   "outputs": [
    {
     "data": {
      "image/png": "[encoded data removed]",
      "text/plain": [
       "<Figure size 1000x600 with 1 Axes>"
      ]
     },
     "metadata": {},
     "output_type": "display_data"
    }
   ],
   "source": [
    "# Plot results\n",
    "plt.figure(figsize=(10, 6))\n",
    "plt.plot(range(1, len(scores_total) + 1), scores_total, marker='o')\n",
    "plt.title(\"Block Influence Scores for Each Layer\")\n",
    "plt.xlabel(\"Layer\")\n",
    "plt.ylabel(\"BI Score\")\n",
    "plt.grid(True)\n",
    "plt.yticks(list(np.arange(0,1,0.1)))\n",
    "plt.show()"
   ]
  },
  {
   "cell_type": "markdown",
   "metadata": {},
   "source": [
    "### Results"
   ]
  },
  {
   "cell_type": "code",
   "execution_count": null,
   "metadata": {},
   "outputs": [],
   "source": [
    "# llama_3_1_8b_scores =[(0, 0.9580825),\n",
    "#  (31, 0.92623705),\n",
    "#  (1, 0.8153315),\n",
    "#  (2, 0.80458987),\n",
    "#  (11, 0.80011815),\n",
    "#  (7, 0.79400295),\n",
    "#  (8, 0.79155374),\n",
    "#  (9, 0.7888252),\n",
    "#  (10, 0.787708),\n",
    "#  (12, 0.78395313),\n",
    "#  (6, 0.7835098),\n",
    "#  (3, 0.7756592),\n",
    "#  (4, 0.7750059),\n",
    "#  (5, 0.77466995),\n",
    "#  (30, 0.7636904),\n",
    "#  (14, 0.7552764),\n",
    "#  (13, 0.75454295),\n",
    "#  (15, 0.751751),\n",
    "#  (22, 0.7497519),\n",
    "#  (23, 0.74807227),\n",
    "#  (21, 0.74428517),\n",
    "#  (24, 0.741667),\n",
    "#  (25, 0.73850685),\n",
    "#  (29, 0.73773825),\n",
    "#  (16, 0.7371719),\n",
    "#  (17, 0.73509866),\n",
    "#  (26, 0.7345957),\n",
    "#  (20, 0.73239255),\n",
    "#  (18, 0.732166),\n",
    "#  (27, 0.72729003),\n",
    "#  (19, 0.72527736),\n",
    "#  (28, 0.7247871)]\n",
    "\n",
    "# llama_3_1_70b_scores = [(0, 0.978506),\n",
    "#  (79, 0.91416454),\n",
    "#  (19, 0.8285857),\n",
    "#  (20, 0.8226407),\n",
    "#  (18, 0.8223146),\n",
    "#  (17, 0.81696045),\n",
    "#  (21, 0.81509286),\n",
    "#  (22, 0.8083229),\n",
    "#  (23, 0.80442375),\n",
    "#  (16, 0.8007189),\n",
    "#  (24, 0.7973383),\n",
    "#  (26, 0.7971922),\n",
    "#  (29, 0.7965952),\n",
    "#  (78, 0.7950787),\n",
    "#  (25, 0.7948524),\n",
    "#  (30, 0.79155916),\n",
    "#  (27, 0.79107267),\n",
    "#  (15, 0.7897967),\n",
    "#  (28, 0.7891356),\n",
    "#  (31, 0.7869454),\n",
    "#  (14, 0.7855198),\n",
    "#  (32, 0.78331006),\n",
    "#  (56, 0.7714719),\n",
    "#  (55, 0.7707395),\n",
    "#  (68, 0.77016747),\n",
    "#  (33, 0.7700908),\n",
    "#  (57, 0.7693299),\n",
    "#  (67, 0.7690697),\n",
    "#  (13, 0.7684531),\n",
    "#  (71, 0.7676334),\n",
    "#  (59, 0.7674676),\n",
    "#  (72, 0.76705956),\n",
    "#  (54, 0.76704353),\n",
    "#  (58, 0.7669811),\n",
    "#  (47, 0.76684034),\n",
    "#  (53, 0.7666853),\n",
    "#  (70, 0.7666158),\n",
    "#  (52, 0.76642513),\n",
    "#  (48, 0.7659957),\n",
    "#  (40, 0.76586026),\n",
    "#  (60, 0.76554656),\n",
    "#  (36, 0.7654147),\n",
    "#  (63, 0.76476604),\n",
    "#  (51, 0.7642671),\n",
    "#  (44, 0.76409954),\n",
    "#  (50, 0.7630339),\n",
    "#  (64, 0.7627203),\n",
    "#  (41, 0.7626258),\n",
    "#  (49, 0.7623532),\n",
    "#  (69, 0.7623104),\n",
    "#  (66, 0.7621464),\n",
    "#  (43, 0.7616671),\n",
    "#  (45, 0.76109684),\n",
    "#  (73, 0.7605747),\n",
    "#  (46, 0.7604856),\n",
    "#  (42, 0.7604214),\n",
    "#  (39, 0.7596355),\n",
    "#  (61, 0.7583471),\n",
    "#  (62, 0.75832576),\n",
    "#  (37, 0.7581974),\n",
    "#  (34, 0.7577875),\n",
    "#  (35, 0.7577662),\n",
    "#  (74, 0.7573278),\n",
    "#  (65, 0.757285),\n",
    "#  (75, 0.75446403),\n",
    "#  (77, 0.7530562),\n",
    "#  (38, 0.7529564),\n",
    "#  (76, 0.752322),\n",
    "#  (12, 0.7487615),\n",
    "#  (10, 0.7456197),\n",
    "#  (11, 0.7439856),\n",
    "#  (9, 0.7293532),\n",
    "#  (7, 0.71686816),\n",
    "#  (6, 0.7095315),\n",
    "#  (8, 0.6997427),\n",
    "#  (5, 0.6873806),\n",
    "#  (3, 0.67287296),\n",
    "#  (4, 0.6410384),\n",
    "#  (2, 0.62671435),\n",
    "#  (1, 0.6213183)]"
   ]
  },
  {
   "cell_type": "code",
   "execution_count": null,
   "metadata": {},
   "outputs": [],
   "source": [
    "qwen_2_5_32b_scores = [(0, 0.88851666),\n",
    " (63, 0.50742525),\n",
    " (62, 0.080078125),\n",
    " (4, 0.074041955),\n",
    " (3, 0.06959692),\n",
    " (5, 0.059793405),\n",
    " (8, 0.05809705),\n",
    " (61, 0.052911166),\n",
    " (7, 0.049501617),\n",
    " (2, 0.04781368),\n",
    " (9, 0.044181034),\n",
    " (32, 0.043701172),\n",
    " (6, 0.043621194),\n",
    " (49, 0.04266568),\n",
    " (50, 0.041205045),\n",
    " (51, 0.040691506),\n",
    " (60, 0.040262155),\n",
    " (34, 0.039601292),\n",
    " (46, 0.03936978),\n",
    " (31, 0.039272968),\n",
    " (47, 0.03905408),\n",
    " (48, 0.038902547),\n",
    " (33, 0.038708918),\n",
    " (1, 0.03854896),\n",
    " (52, 0.03843952),\n",
    " (30, 0.03831745),\n",
    " (44, 0.03763554),\n",
    " (35, 0.036355905),\n",
    " (53, 0.03627593),\n",
    " (10, 0.036065463),\n",
    " (45, 0.03559402),\n",
    " (36, 0.034987878),\n",
    " (28, 0.0344575),\n",
    " (15, 0.03378401),\n",
    " (14, 0.033687197),\n",
    " (43, 0.033514615),\n",
    " (29, 0.033485148),\n",
    " (12, 0.033177868),\n",
    " (59, 0.033022124),\n",
    " (54, 0.032580145),\n",
    " (27, 0.032466494),\n",
    " (13, 0.032403354),\n",
    " (16, 0.0319277),\n",
    " (11, 0.031784583),\n",
    " (55, 0.031603582),\n",
    " (37, 0.03145205),\n",
    " (56, 0.030955348),\n",
    " (26, 0.030677533),\n",
    " (17, 0.030265018),\n",
    " (18, 0.030084018),\n",
    " (22, 0.03000825),\n",
    " (20, 0.029982995),\n",
    " (19, 0.029856715),\n",
    " (38, 0.029852506),\n",
    " (39, 0.029587317),\n",
    " (42, 0.029435782),\n",
    " (21, 0.029183224),\n",
    " (57, 0.028922245),\n",
    " (23, 0.02888857),\n",
    " (58, 0.028349778),\n",
    " (40, 0.027419519),\n",
    " (41, 0.026804958),\n",
    " (25, 0.026316676),\n",
    " (24, 0.026093582)]"
   ]
  },
  {
   "cell_type": "code",
   "execution_count": null,
   "metadata": {},
   "outputs": [
    {
     "data": {
      "text/plain": [
       "array([ 0,  1,  2,  3,  4,  5,  6,  7,  8,  9, 10, 30, 31, 32, 33, 34, 35,\n",
       "       36, 44, 45, 46, 47, 48, 49, 50, 51, 52, 53, 60, 61, 62, 63])"
      ]
     },
     "execution_count": null,
     "metadata": {},
     "output_type": "execute_result"
    }
   ],
   "source": [
    "np.array(sorted([i[0] for i in qwen_2_5_32b_scores[:64//2]]))"
   ]
  },
  {
   "cell_type": "code",
   "execution_count": null,
   "metadata": {},
   "outputs": [
    {
     "data": {
      "text/plain": [
       "array([ 0,  2,  3,  4,  5,  6,  7,  8,  9, 31, 32, 34, 46, 47, 49, 50, 51,\n",
       "       60, 61, 62, 63])"
      ]
     },
     "execution_count": null,
     "metadata": {},
     "output_type": "execute_result"
    }
   ],
   "source": [
    "np.array(sorted([i[0] for i in qwen_2_5_32b_scores[:64//3]]))"
   ]
  },
  {
   "cell_type": "code",
   "execution_count": null,
   "metadata": {},
   "outputs": [],
   "source": []
  },
  {
   "cell_type": "code",
   "execution_count": null,
   "metadata": {},
   "outputs": [],
   "source": []
  }
 ],
 "metadata": {
  "kernelspec": {
   "display_name": "python3",
   "language": "python",
   "name": "python3"
  }
 },
 "nbformat": 4,
 "nbformat_minor": 2
}
