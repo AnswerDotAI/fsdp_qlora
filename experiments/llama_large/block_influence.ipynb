{
 "cells": [
  {
   "cell_type": "code",
   "execution_count": 1,
   "metadata": {},
   "outputs": [
    {
     "name": "stderr",
     "output_type": "stream",
     "text": [
      "/workspace/py_venvs/qdora/lib/python3.10/site-packages/tqdm/auto.py:21: TqdmWarning: IProgress not found. Please update jupyter and ipywidgets. See https://ipywidgets.readthedocs.io/en/stable/user_install.html\n",
      "  from .autonotebook import tqdm as notebook_tqdm\n"
     ]
    }
   ],
   "source": [
    "import torch\n",
    "from torch import nn\n",
    "from transformers import AutoModelForCausalLM, AutoTokenizer\n",
    "import matplotlib.pyplot as plt\n",
    "from datasets import load_from_disk\n",
    "from tqdm import tqdm\n",
    "import gc"
   ]
  },
  {
   "cell_type": "code",
   "execution_count": 2,
   "metadata": {},
   "outputs": [],
   "source": [
    "# llama_3_1_8b_scores =[(0, 0.9580825),\n",
    "#  (31, 0.92623705),\n",
    "#  (1, 0.8153315),\n",
    "#  (2, 0.80458987),\n",
    "#  (11, 0.80011815),\n",
    "#  (7, 0.79400295),\n",
    "#  (8, 0.79155374),\n",
    "#  (9, 0.7888252),\n",
    "#  (10, 0.787708),\n",
    "#  (12, 0.78395313),\n",
    "#  (6, 0.7835098),\n",
    "#  (3, 0.7756592),\n",
    "#  (4, 0.7750059),\n",
    "#  (5, 0.77466995),\n",
    "#  (30, 0.7636904),\n",
    "#  (14, 0.7552764),\n",
    "#  (13, 0.75454295),\n",
    "#  (15, 0.751751),\n",
    "#  (22, 0.7497519),\n",
    "#  (23, 0.74807227),\n",
    "#  (21, 0.74428517),\n",
    "#  (24, 0.741667),\n",
    "#  (25, 0.73850685),\n",
    "#  (29, 0.73773825),\n",
    "#  (16, 0.7371719),\n",
    "#  (17, 0.73509866),\n",
    "#  (26, 0.7345957),\n",
    "#  (20, 0.73239255),\n",
    "#  (18, 0.732166),\n",
    "#  (27, 0.72729003),\n",
    "#  (19, 0.72527736),\n",
    "#  (28, 0.7247871)]\n",
    "\n",
    "# llama_3_1_70b_scores = [(0, 0.978506),\n",
    "#  (79, 0.91416454),\n",
    "#  (19, 0.8285857),\n",
    "#  (20, 0.8226407),\n",
    "#  (18, 0.8223146),\n",
    "#  (17, 0.81696045),\n",
    "#  (21, 0.81509286),\n",
    "#  (22, 0.8083229),\n",
    "#  (23, 0.80442375),\n",
    "#  (16, 0.8007189),\n",
    "#  (24, 0.7973383),\n",
    "#  (26, 0.7971922),\n",
    "#  (29, 0.7965952),\n",
    "#  (78, 0.7950787),\n",
    "#  (25, 0.7948524),\n",
    "#  (30, 0.79155916),\n",
    "#  (27, 0.79107267),\n",
    "#  (15, 0.7897967),\n",
    "#  (28, 0.7891356),\n",
    "#  (31, 0.7869454),\n",
    "#  (14, 0.7855198),\n",
    "#  (32, 0.78331006),\n",
    "#  (56, 0.7714719),\n",
    "#  (55, 0.7707395),\n",
    "#  (68, 0.77016747),\n",
    "#  (33, 0.7700908),\n",
    "#  (57, 0.7693299),\n",
    "#  (67, 0.7690697),\n",
    "#  (13, 0.7684531),\n",
    "#  (71, 0.7676334),\n",
    "#  (59, 0.7674676),\n",
    "#  (72, 0.76705956),\n",
    "#  (54, 0.76704353),\n",
    "#  (58, 0.7669811),\n",
    "#  (47, 0.76684034),\n",
    "#  (53, 0.7666853),\n",
    "#  (70, 0.7666158),\n",
    "#  (52, 0.76642513),\n",
    "#  (48, 0.7659957),\n",
    "#  (40, 0.76586026),\n",
    "#  (60, 0.76554656),\n",
    "#  (36, 0.7654147),\n",
    "#  (63, 0.76476604),\n",
    "#  (51, 0.7642671),\n",
    "#  (44, 0.76409954),\n",
    "#  (50, 0.7630339),\n",
    "#  (64, 0.7627203),\n",
    "#  (41, 0.7626258),\n",
    "#  (49, 0.7623532),\n",
    "#  (69, 0.7623104),\n",
    "#  (66, 0.7621464),\n",
    "#  (43, 0.7616671),\n",
    "#  (45, 0.76109684),\n",
    "#  (73, 0.7605747),\n",
    "#  (46, 0.7604856),\n",
    "#  (42, 0.7604214),\n",
    "#  (39, 0.7596355),\n",
    "#  (61, 0.7583471),\n",
    "#  (62, 0.75832576),\n",
    "#  (37, 0.7581974),\n",
    "#  (34, 0.7577875),\n",
    "#  (35, 0.7577662),\n",
    "#  (74, 0.7573278),\n",
    "#  (65, 0.757285),\n",
    "#  (75, 0.75446403),\n",
    "#  (77, 0.7530562),\n",
    "#  (38, 0.7529564),\n",
    "#  (76, 0.752322),\n",
    "#  (12, 0.7487615),\n",
    "#  (10, 0.7456197),\n",
    "#  (11, 0.7439856),\n",
    "#  (9, 0.7293532),\n",
    "#  (7, 0.71686816),\n",
    "#  (6, 0.7095315),\n",
    "#  (8, 0.6997427),\n",
    "#  (5, 0.6873806),\n",
    "#  (3, 0.67287296),\n",
    "#  (4, 0.6410384),\n",
    "#  (2, 0.62671435),\n",
    "#  (1, 0.6213183)]"
   ]
  },
  {
   "cell_type": "code",
   "execution_count": 3,
   "metadata": {},
   "outputs": [],
   "source": [
    "def calculate_bi_score(model, input_ids):\n",
    "    \"\"\"\n",
    "    Calculate the Block Influence (BI) score for a given model and input IDs.\n",
    "\n",
    "    This function computes the BI score by evaluating the cosine similarity \n",
    "    between the hidden states of the model for consecutive layers. The BI score \n",
    "    is defined as 1 minus the mean cosine similarity, providing a measure of \n",
    "    how much influence one block (layer) has on the next.\n",
    "\n",
    "    Args:\n",
    "        model (nn.Module): The pre-trained model used for inference.\n",
    "        input_ids (torch.Tensor): The input tensor containing token IDs.\n",
    "\n",
    "    Returns:\n",
    "        list: A list of BI scores for each pair of consecutive hidden states, \n",
    "               or None if an error occurs during computation.\n",
    "    \"\"\"\n",
    "    # Get all hidden states\n",
    "    input_shape = input_ids.shape\n",
    "    with torch.no_grad():\n",
    "        outputs = model(input_ids=input_ids, attention_mask=None, output_hidden_states=True)\n",
    "    \n",
    "    hidden_states = [h.to(\"cpu\") for h in outputs.hidden_states]\n",
    "    del outputs, input_ids\n",
    "    gc.collect()\n",
    "    torch.cuda.empty_cache()\n",
    "    \n",
    "    try:\n",
    "        bi_scores = []\n",
    "        for i in range(len(hidden_states) - 1):\n",
    "            # Calculate cosine similarity\n",
    "            similarity = nn.functional.cosine_similarity(hidden_states[i].to(\"cuda\").unsqueeze(2), \n",
    "                                                         hidden_states[i+1].to(\"cuda\").unsqueeze(1), dim=-1).to(\"cpu\")\n",
    "            # Calculate BI score\n",
    "            bi_score = 1 - similarity.mean().item()\n",
    "            bi_scores.append(bi_score)\n",
    "        \n",
    "        del hidden_states, similarity\n",
    "        gc.collect()\n",
    "        torch.cuda.empty_cache()\n",
    "        return bi_scores\n",
    "    except Exception as e:\n",
    "        print(input_shape)\n",
    "        return None"
   ]
  },
  {
   "cell_type": "code",
   "execution_count": 8,
   "metadata": {},
   "outputs": [],
   "source": [
    "# Load pre-trained model and tokenizer\n",
    "model_name = \"meta-llama/Meta-Llama-3.1-70B-Instruct\"\n",
    "tokenizer = AutoTokenizer.from_pretrained(model_name)"
   ]
  },
  {
   "cell_type": "code",
   "execution_count": null,
   "metadata": {},
   "outputs": [],
   "source": [
    "model = AutoModelForCausalLM.from_pretrained(model_name, torch_dtype=torch.bfloat16, device_map=\"auto\")"
   ]
  },
  {
   "cell_type": "code",
   "execution_count": 9,
   "metadata": {},
   "outputs": [],
   "source": [
    "def convert_to_chat_input(question):\n",
    "    messages = [\n",
    "        {\"role\": \"system\", \"content\": \"You are a helpful AI assistant.\"},\n",
    "        {\"role\": \"user\", \"content\": question},\n",
    "    ]\n",
    "    return tokenizer.apply_chat_template(messages, tokenize=False, add_generation_prompt=True)"
   ]
  },
  {
   "cell_type": "code",
   "execution_count": 2,
   "metadata": {},
   "outputs": [],
   "source": [
    "ds = load_from_disk(\"/workspace/data/llama_large_mix_dataset_v1_1536\").shuffle(42)"
   ]
  },
  {
   "cell_type": "code",
   "execution_count": null,
   "metadata": {},
   "outputs": [],
   "source": [
    "bi_scores = []\n",
    "\n",
    "for i in tqdm(range(1000)):\n",
    "\ttext = ds[i]['input_text']\n",
    "\tinputs = tokenizer(convert_to_chat_input(text), return_tensors=\"pt\")\n",
    "\tif inputs['input_ids'].shape[1] < 1000:\n",
    "\t\tbi_scores.append(calculate_bi_score(model, inputs[\"input_ids\"].cuda()))"
   ]
  },
  {
   "cell_type": "code",
   "execution_count": 8,
   "metadata": {},
   "outputs": [
    {
     "data": {
      "text/plain": [
       "torch.Size([1, 97])"
      ]
     },
     "execution_count": 8,
     "metadata": {},
     "output_type": "execute_result"
    }
   ],
   "source": [
    "inputs['input_ids'].shape"
   ]
  },
  {
   "cell_type": "code",
   "execution_count": 9,
   "metadata": {},
   "outputs": [],
   "source": [
    "scores = list(enumerate(list(torch.tensor(bi_scores).mean(0).numpy())))"
   ]
  },
  {
   "cell_type": "code",
   "execution_count": null,
   "metadata": {},
   "outputs": [],
   "source": [
    "sorted_scores = sorted(scores, key=lambda x: x[1], reverse=True); sorted_scores"
   ]
  },
  {
   "cell_type": "code",
   "execution_count": 12,
   "metadata": {},
   "outputs": [
    {
     "data": {
      "text/plain": [
       "548"
      ]
     },
     "execution_count": 12,
     "metadata": {},
     "output_type": "execute_result"
    }
   ],
   "source": [
    "len(bi_scores)"
   ]
  },
  {
   "cell_type": "code",
   "execution_count": 11,
   "metadata": {},
   "outputs": [
    {
     "name": "stdout",
     "output_type": "stream",
     "text": [
      "0,13,15,17,19,21,23,26,29,31,33,56,59,68,71,79\n"
     ]
    }
   ],
   "source": [
    "budget = 0.2\n",
    "skip_adj = True\n",
    "top_k = int(len(sorted_scores) * budget); top_k\n",
    "selected_layers = []\n",
    "for layer_idx, score in sorted_scores:\n",
    "    # don't pick adjacent layers\n",
    "\tif skip_adj and (layer_idx-1 in selected_layers or layer_idx+1 in selected_layers):\n",
    "\t\t# print(f\"Skipping layer {layer_idx}\")\n",
    "\t\tcontinue\n",
    "\tif len(selected_layers) < top_k:\n",
    "\t\tselected_layers.append(layer_idx)\n",
    "\t\n",
    "print(\",\".join(map(str, sorted(selected_layers))))\n",
    "  "
   ]
  },
  {
   "cell_type": "code",
   "execution_count": 14,
   "metadata": {},
   "outputs": [
    {
     "data": {
      "image/png": "[encoded data removed]",
      "text/plain": [
       "<Figure size 1000x600 with 1 Axes>"
      ]
     },
     "metadata": {},
     "output_type": "display_data"
    }
   ],
   "source": [
    "# Prepare input\n",
    "text = \"\"\"Here is python code to compute the BI score.\n",
    "\n",
    "```python\n",
    "def calculate_bi_score(model, input_ids, attention_mask):\n",
    "    # Get all hidden states\n",
    "    with torch.no_grad():\n",
    "        outputs = model(input_ids=input_ids, attention_mask=attention_mask, output_hidden_states=True)\n",
    "    \n",
    "    hidden_states = outputs.hidden_states\n",
    "\n",
    "    bi_scores = []\n",
    "    for i in range(len(hidden_states) - 1):\n",
    "        x_i = hidden_states[i]\n",
    "        x_i_plus_1 = hidden_states[i + 1]\n",
    "        \n",
    "        # Calculate cosine similarity\n",
    "        similarity = nn.functional.cosine_similarity(x_i.unsqueeze(2), x_i_plus_1.unsqueeze(1), dim=-1)\n",
    "        \n",
    "        # Calculate BI score\n",
    "        bi_score = 1 - similarity.mean().item()\n",
    "        bi_scores.append(bi_score)\n",
    "    \n",
    "    return bi_scores\n",
    "```\n",
    "\"\"\"\n",
    "inputs = tokenizer(convert_to_chat_input(text), return_tensors=\"pt\")\n",
    "\n",
    "\n",
    "# Calculate BI scores\n",
    "bi_scores = calculate_bi_score(model, inputs[\"input_ids\"].cuda(), inputs[\"attention_mask\"].cuda())\n",
    "\n",
    "# Plot results\n",
    "plt.figure(figsize=(10, 6))\n",
    "plt.plot(range(1, len(bi_scores) + 1), bi_scores, marker='o')\n",
    "plt.title(\"Block Influence Scores for Each Layer\")\n",
    "plt.xlabel(\"Layer\")\n",
    "plt.ylabel(\"BI Score\")\n",
    "plt.grid(True)\n",
    "plt.show()\n",
    "\n",
    "# # Print results\n",
    "# for i, score in enumerate(bi_scores, 1):\n",
    "# \tprint(f\"Layer {i}: BI Score = {score:.4f}\")"
   ]
  },
  {
   "cell_type": "code",
   "execution_count": null,
   "metadata": {},
   "outputs": [],
   "source": []
  }
 ],
 "metadata": {
  "kernelspec": {
   "display_name": "vllm",
   "language": "python",
   "name": "python3"
  },
  "language_info": {
   "codemirror_mode": {
    "name": "ipython",
    "version": 3
   },
   "file_extension": ".py",
   "mimetype": "text/x-python",
   "name": "python",
   "nbconvert_exporter": "python",
   "pygments_lexer": "ipython3",
   "version": "3.10.12"
  }
 },
 "nbformat": 4,
 "nbformat_minor": 2
}
