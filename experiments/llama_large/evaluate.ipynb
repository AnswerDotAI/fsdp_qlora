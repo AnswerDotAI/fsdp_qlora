{
 "cells": [
  {
   "cell_type": "markdown",
   "id": "a3299605-c781-4901-bf93-eedaa75e2634",
   "metadata": {},
   "source": [
    "Evaluations with zero-shot, 5-shot, full fine-tune, merged LoRA, merged DoRA."
   ]
  },
  {
   "cell_type": "code",
   "execution_count": 1,
   "id": "b79535af-bfff-48d6-a79d-3ae911876451",
   "metadata": {
    "scrolled": true
   },
   "outputs": [],
   "source": [
    "import torch\n",
    "from pathlib import Path\n",
    "import os, json\n",
    "from safetensors.torch import save_file\n",
    "import copy\n",
    "from tqdm import tqdm\n",
    "import safetensors\n",
    "import safetensors.torch\n",
    "from glob import glob\n",
    "from transformers import AutoConfig, AutoTokenizer\n",
    "from transformers.utils import hub, SAFE_WEIGHTS_NAME, SAFE_WEIGHTS_INDEX_NAME\n",
    "from hqq.core.quantize import HQQLinear, HQQBackend, BaseQuantizeConfig, Quantizer\n",
    "\n",
    "from hqq.core.quantize import HQQLinear, BaseQuantizeConfig, Quantizer\n",
    "from hqq.backends.torchao import patch_hqq_to_aoint4\n",
    "from fastcore.script import *\n"
   ]
  },
  {
   "cell_type": "markdown",
   "id": "9a9ee869-34b9-4240-866f-fccdc15e1bb5",
   "metadata": {},
   "source": [
    "### Evaluate"
   ]
  },
  {
   "cell_type": "code",
   "execution_count": 2,
   "id": "ef736afa-7e62-46ac-8e92-3e854b2810fc",
   "metadata": {},
   "outputs": [],
   "source": [
    "import re\n",
    "from datasets import load_dataset\n",
    "from fastcore.parallel import parallel\n",
    "from vllm import LLM, SamplingParams"
   ]
  },
  {
   "cell_type": "code",
   "execution_count": 3,
   "id": "36eecac2-2842-4b94-b40a-622ca9c1b56f",
   "metadata": {},
   "outputs": [],
   "source": [
    "def extract_last_number_or_ratio(s):\n",
    "    # Find all sequences of digits, possibly with leading currency symbols, decimal points, and ratios\n",
    "    patterns = re.findall(r'[\\$€£]?\\d+(?:\\.\\d+)?(?:\\:\\d+(?:\\.\\d+)?)?', s)\n",
    "    \n",
    "    # Return the last pattern found, or None if there are no matches\n",
    "    if patterns:\n",
    "        return patterns[-1]\n",
    "    else:\n",
    "        return None"
   ]
  },
  {
   "cell_type": "code",
   "execution_count": 4,
   "id": "69bb6844-0eb0-46e5-979a-098a8622c6d7",
   "metadata": {},
   "outputs": [],
   "source": [
    "def exact_match_score(preds, labels):\n",
    "    return sum(p==g for p,g in zip(preds, labels))/len(preds)"
   ]
  },
  {
   "cell_type": "code",
   "execution_count": 5,
   "id": "437681e0-1da3-427a-998c-a204728b6b38",
   "metadata": {},
   "outputs": [],
   "source": [
    "dataset = load_dataset(\"microsoft/orca-math-word-problems-200k\")['train'].shuffle(seed=42)\n",
    "dataset = dataset.select(range(len(dataset)-5000,len(dataset)))\n",
    "short_answers_gt = parallel(extract_last_number_or_ratio, dataset['answer'], progress=True)"
   ]
  },
  {
   "cell_type": "code",
   "execution_count": 6,
   "id": "921271da-4b66-429c-9e7a-5616a791aacf",
   "metadata": {},
   "outputs": [],
   "source": [
    "valid_dataset = dataset.select(range(500))"
   ]
  },
  {
   "cell_type": "code",
   "execution_count": 7,
   "id": "4eeb9fc8-715b-4929-bb59-7c1d21a25476",
   "metadata": {},
   "outputs": [],
   "source": [
    "inputs = [f\"###Question:\\n{question}\\n###Answer:\\n\" for question in valid_dataset['question']]"
   ]
  },
  {
   "cell_type": "code",
   "execution_count": 8,
   "id": "2df75559-19fb-4255-af25-27720773d5c7",
   "metadata": {},
   "outputs": [],
   "source": [
    "labels = short_answers_gt[:500]"
   ]
  },
  {
   "cell_type": "code",
   "execution_count": 9,
   "id": "ccd93133-3d75-47de-bbf5-4e15c6eb604a",
   "metadata": {},
   "outputs": [
    {
     "data": {
      "text/plain": [
       "(500, 500)"
      ]
     },
     "execution_count": 9,
     "metadata": {},
     "output_type": "execute_result"
    }
   ],
   "source": [
    "len(inputs), len(labels)"
   ]
  },
  {
   "cell_type": "code",
   "execution_count": 10,
   "id": "3ce90fce-28d4-4037-967e-539c5db97ed6",
   "metadata": {},
   "outputs": [
    {
     "data": {
      "text/plain": [
       "1"
      ]
     },
     "execution_count": 10,
     "metadata": {},
     "output_type": "execute_result"
    }
   ],
   "source": [
    "NUM_GPUS = torch.cuda.device_count(); NUM_GPUS"
   ]
  },
  {
   "cell_type": "code",
   "execution_count": 11,
   "id": "c7f5540f-731f-4b3c-817a-8c49d36f67fa",
   "metadata": {},
   "outputs": [],
   "source": [
    "TOKENIZER = \"meta-llama/Meta-Llama-3.1-8B-Instruct\""
   ]
  },
  {
   "cell_type": "code",
   "execution_count": 12,
   "id": "1f3a0eaf-684c-4732-8884-466d5ba9422a",
   "metadata": {},
   "outputs": [],
   "source": [
    "tokenizer = AutoTokenizer.from_pretrained(TOKENIZER)"
   ]
  },
  {
   "cell_type": "code",
   "execution_count": 13,
   "id": "a14a685c-d47d-47a1-a62f-fe00202c545d",
   "metadata": {},
   "outputs": [],
   "source": [
    "def convert_to_chat_input(question):\n",
    "    messages = [\n",
    "        {\"role\": \"system\", \"content\": \"You are an AI assistant that excels in solving math problems.\"},\n",
    "        {\"role\": \"user\", \"content\": question},\n",
    "    ]\n",
    "    return tokenizer.apply_chat_template(messages, tokenize=False, add_generation_prompt=True)"
   ]
  },
  {
   "cell_type": "code",
   "execution_count": 14,
   "id": "b84c6bb7-0fa7-45ff-b589-06d45fb7ad17",
   "metadata": {},
   "outputs": [],
   "source": [
    "chat_inputs = [convert_to_chat_input(question) for question in valid_dataset['question']]"
   ]
  },
  {
   "cell_type": "code",
   "execution_count": 15,
   "id": "ca6a781c-9ed9-4a2b-bc2c-1a753954d547",
   "metadata": {},
   "outputs": [
    {
     "data": {
      "text/plain": [
       "500"
      ]
     },
     "execution_count": 15,
     "metadata": {},
     "output_type": "execute_result"
    }
   ],
   "source": [
    "len(chat_inputs)"
   ]
  },
  {
   "cell_type": "markdown",
   "id": "0db22768-f3a4-41c3-9db4-efa7bf4a5045",
   "metadata": {},
   "source": [
    "#### FINETUNED "
   ]
  },
  {
   "cell_type": "code",
   "execution_count": 16,
   "id": "30396b6b-c97b-41ca-98b8-4a8404fabdd9",
   "metadata": {},
   "outputs": [],
   "source": [
    "model_dir = \"/workspace/models/\""
   ]
  },
  {
   "cell_type": "code",
   "execution_count": 17,
   "id": "488ea606",
   "metadata": {},
   "outputs": [],
   "source": [
    "# TODO: Don't cast to float16 for bitblas"
   ]
  },
  {
   "cell_type": "code",
   "execution_count": 18,
   "id": "d52df5f9-1026-4591-a935-c5ec502e551f",
   "metadata": {},
   "outputs": [],
   "source": [
    "# 4bit HQQ+DORA\n",
    "# MODEL_NAME = \"llama-3-1-8b-instruct-hqq-dora-4bit/step_250/vllm_tinygemm\" # 0.593\n",
    "# MODEL_NAME = \"llama-3-1-8b-instruct-hqq-dora-4bit/step_1000/vllm_tinygemm\" # 0.610\n",
    "\n",
    "# 4/2bit HQQ+DORA\n",
    "# MODEL_NAME = \"llama-3-1-8b-instruct-hqq-dora-4-2bit/step_250/vllm_bitblas\" # 0.290\n",
    "# MODEL_NAME = \"llama-3-1-8b-instruct-hqq-dora-4-2bit/step_1000/vllm_bitblas\" # 0.380\n",
    "\n",
    "# 4/2bit HQQ+DORA (merged)\n",
    "# MODEL_NAME = \"llama-3-1-8b-instruct-hqq-dora-4-2bit/step_250/merged\" # 0.242\n",
    "# MODEL_NAME = \"llama-3-1-8b-instruct-hqq-dora-4-2bit/step_1000/merged\" # 0.350\n",
    "\n",
    "# 4bit HQQ+DORA+LN\n",
    "# MODEL_NAME = \"llama-3-1-8b-instruct-hqq-dora-4bit-ln/step_250/vllm_tinygemm\" # 0.562\n",
    "# MODEL_NAME = \"llama-3-1-8b-instruct-hqq-dora-4bit-ln/step_1000/vllm_tinygemm\" # 0.585\n",
    "\n",
    "# 4bit HQQ+LN\n",
    "# MODEL_NAME = \"llama-3-1-8b-instruct-hqq-4bit-ln/step_250/vllm_tinygemm\" # 0.605\n",
    "# MODEL_NAME = \"llama-3-1-8b-instruct-hqq-4bit-ln/step_1000/vllm_tinygemm\" # 0.55\n",
    "\n",
    "# 4/2bit HQQ+DORA+LN\n",
    "# MODEL_NAME = \"llama-3-1-8b-instruct-hqq-dora-4-2bit-ln/step_250/vllm_bitblas\" # 0.270\n",
    "# MODEL_NAME = \"llama-3-1-8b-instruct-hqq-dora-4-2bit-ln/step_1000/vllm_bitblas\" # 0.42\n",
    "\n",
    "# 4/2bit HQQ+DORA+LN (merged)\n",
    "# MODEL_NAME = \"llama-3-1-8b-instruct-hqq-dora-4-2bit-ln/step_250/merged\" # 0.270\n",
    "MODEL_NAME = \"llama-3-1-8b-instruct-hqq-dora-4-2bit-ln/step_1000/merged\" # 0.343\n",
    "\n",
    "# 4(HQQ)bit 2(HQQ+DORA)bit\n",
    "# MODEL_NAME = \"llama-3-1-8b-instruct-hqq-4-dora-2bit/step_250/vllm_bitblas\" # 0.257\n",
    "# MODEL_NAME = \"llama-3-1-8b-instruct-hqq-4-dora-2bit/step_1000/vllm_bitblas\" # 0.330\n",
    "\n",
    "# 4(HQQ)bit 2(HQQ+DORA)bit+LN\n",
    "# MODEL_NAME = \"llama-3-1-8b-instruct-hqq-4-dora-2bit-ln/step_250/vllm_bitblas\" # 0.265\n",
    "# MODEL_NAME = \"llama-3-1-8b-instruct-hqq-4-dora-2bit-ln/step_1000/vllm_bitblas\" # 0.375\n",
    "\n",
    "# 4(HQQ)bit 2(HQQ)bit+LN\n",
    "# MODEL_NAME = \"llama-3-1-8b-instruct-hqq-4-hqq-2bit-ln/step_250/vllm_bitblas\" # 0.02\n",
    "# MODEL_NAME = \"llama-3-1-8b-instruct-hqq-4-hqq-2bit-ln/step_1000/vllm_bitblas\" # 0.03\n"
   ]
  },
  {
   "cell_type": "code",
   "execution_count": 19,
   "id": "987b5708-0704-4b2a-b81b-725abcc7df1a",
   "metadata": {
    "scrolled": true
   },
   "outputs": [
    {
     "name": "stdout",
     "output_type": "stream",
     "text": [
      "INFO 08-20 14:46:49 llm_engine.py:176] Initializing an LLM engine (v0.5.3.post1) with config: model='/workspace/models/llama-3-1-8b-instruct-hqq-dora-4-2bit-ln/step_1000/merged', speculative_config=None, tokenizer='meta-llama/Meta-Llama-3.1-8B-Instruct', skip_tokenizer_init=False, tokenizer_mode=auto, revision=None, rope_scaling=None, rope_theta=None, tokenizer_revision=None, trust_remote_code=False, dtype=torch.bfloat16, max_seq_len=8192, download_dir=None, load_format=LoadFormat.AUTO, tensor_parallel_size=1, pipeline_parallel_size=1, disable_custom_all_reduce=False, quantization=None, enforce_eager=False, kv_cache_dtype=auto, quantization_param_path=None, device_config=cuda, decoding_config=DecodingConfig(guided_decoding_backend='outlines'), observability_config=ObservabilityConfig(otlp_traces_endpoint=None), seed=0, served_model_name=/workspace/models/llama-3-1-8b-instruct-hqq-dora-4-2bit-ln/step_1000/merged, use_v2_block_manager=False, enable_prefix_caching=False)\n",
      "INFO 08-20 14:46:50 model_runner.py:720] Starting to load model /workspace/models/llama-3-1-8b-instruct-hqq-dora-4-2bit-ln/step_1000/merged...\n"
     ]
    },
    {
     "data": {
      "application/vnd.jupyter.widget-view+json": {
       "model_id": "2625dd02b6184760b1a9cb52c4cccc9a",
       "version_major": 2,
       "version_minor": 0
      },
      "text/plain": [
       "Loading safetensors checkpoint shards:   0% Completed | 0/4 [00:00<?, ?it/s]\n"
      ]
     },
     "metadata": {},
     "output_type": "display_data"
    },
    {
     "name": "stdout",
     "output_type": "stream",
     "text": [
      "INFO 08-20 14:46:53 model_runner.py:732] Loading model weights took 14.9888 GB\n",
      "INFO 08-20 14:46:54 gpu_executor.py:102] # GPU blocks: 27947, # CPU blocks: 2048\n",
      "INFO 08-20 14:46:56 model_runner.py:1019] Capturing the model for CUDA graphs. This may lead to unexpected consequences if the model is not static. To run the model in eager mode, set 'enforce_eager=True' or use '--enforce-eager' in the CLI.\n",
      "INFO 08-20 14:46:56 model_runner.py:1023] CUDA graphs can take additional 1~3 GiB memory per GPU. If you are running out of memory, consider decreasing `gpu_memory_utilization` or enforcing eager mode. You can also reduce the `max_num_seqs` as needed to decrease memory usage.\n",
      "INFO 08-20 14:47:07 model_runner.py:1220] Graph capturing finished in 11 secs.\n"
     ]
    }
   ],
   "source": [
    "llm = LLM(model=os.path.join(model_dir,MODEL_NAME), \n",
    "          tokenizer=TOKENIZER, \n",
    "          tensor_parallel_size=NUM_GPUS, \n",
    "          max_model_len=8192,\n",
    "        #   quantization=\"bitblas\",\n",
    "          dtype=\"bfloat16\"\n",
    "          )"
   ]
  },
  {
   "cell_type": "code",
   "execution_count": 20,
   "id": "ed93c58d-a5e5-4b4b-9f29-8c50276bdfcc",
   "metadata": {},
   "outputs": [],
   "source": [
    "# base model\n",
    "# outputs = llm.generate(inputs, SamplingParams(temperature=0.0, max_tokens=1024))"
   ]
  },
  {
   "cell_type": "code",
   "execution_count": 21,
   "id": "90462dd1-aa47-4e26-b402-e75580c0f397",
   "metadata": {},
   "outputs": [
    {
     "name": "stderr",
     "output_type": "stream",
     "text": [
      "Processed prompts:   0%|          | 0/128 [00:00<?, ?it/s, est. speed input: 0.00 toks/s, output: 0.00 toks/s]"
     ]
    },
    {
     "name": "stderr",
     "output_type": "stream",
     "text": [
      "Processed prompts: 100%|██████████| 128/128 [00:20<00:00,  6.32it/s, est. speed input: 684.14 toks/s, output: 1828.81 toks/s] \n"
     ]
    }
   ],
   "source": [
    "# chat model\n",
    "outputs = llm.generate(chat_inputs[:128], SamplingParams(temperature=0.0, max_tokens=1024, stop=[\"<|eot_id|>\"]))"
   ]
  },
  {
   "cell_type": "code",
   "execution_count": 22,
   "id": "704e3218-7a1f-449c-a5f0-cc235c1543bd",
   "metadata": {},
   "outputs": [],
   "source": [
    "short_answers_pred = [extract_last_number_or_ratio(o.outputs[0].text) for o in outputs]"
   ]
  },
  {
   "cell_type": "code",
   "execution_count": 23,
   "id": "62d14af3-9dce-4f85-b49d-862f60ea860b",
   "metadata": {},
   "outputs": [
    {
     "data": {
      "text/plain": [
       "0.34375"
      ]
     },
     "execution_count": 23,
     "metadata": {},
     "output_type": "execute_result"
    }
   ],
   "source": [
    "exact_match_score(short_answers_pred, labels)"
   ]
  },
  {
   "cell_type": "markdown",
   "id": "3c113080-4f09-49ca-b787-2c592cf4da1c",
   "metadata": {},
   "source": [
    "#### N-SHOT"
   ]
  },
  {
   "cell_type": "code",
   "execution_count": null,
   "id": "8f774674-116d-4f6e-b36e-06d47add2ad7",
   "metadata": {
    "scrolled": true
   },
   "outputs": [],
   "source": [
    "MODEL_NAME = \"meta-llama/Meta-Llama-3-8B-Instruct\"\n",
    "llm = LLM(model=MODEL_NAME, tensor_parallel_size=NUM_GPUS, dtype=\"bfloat16\")"
   ]
  },
  {
   "cell_type": "code",
   "execution_count": 17,
   "id": "fe71037b-5068-4437-af5d-65be722780c9",
   "metadata": {},
   "outputs": [
    {
     "name": "stderr",
     "output_type": "stream",
     "text": [
      "Processed prompts: 100%|██████████| 500/500 [01:20<00:00,  6.18it/s]\n"
     ]
    },
    {
     "data": {
      "text/plain": [
       "0.228"
      ]
     },
     "execution_count": 17,
     "metadata": {},
     "output_type": "execute_result"
    }
   ],
   "source": [
    "# zero-shot\n",
    "inputs = [f\"###Question:\\n{question}\\n###Answer:\\n\" for question in valid_dataset['question']]\n",
    "outputs = llm.generate(inputs, SamplingParams(temperature=0.0, max_tokens=1024))\n",
    "short_answers_pred = [extract_last_number_or_ratio(o.outputs[0].text) for o in outputs]\n",
    "exact_match_score(short_answers_pred, labels)"
   ]
  },
  {
   "cell_type": "code",
   "execution_count": 17,
   "id": "18685b24-2927-4a71-9cfb-832b1a644caa",
   "metadata": {},
   "outputs": [
    {
     "name": "stderr",
     "output_type": "stream",
     "text": [
      "Processed prompts: 100%|██████████| 500/500 [01:07<00:00,  7.41it/s]\n"
     ]
    },
    {
     "data": {
      "text/plain": [
       "0.454"
      ]
     },
     "execution_count": 17,
     "metadata": {},
     "output_type": "execute_result"
    }
   ],
   "source": [
    "# zero-shot (instruct)\n",
    "outputs = llm.generate(chat_inputs, SamplingParams(temperature=0.0, max_tokens=1024))\n",
    "short_answers_pred = [extract_last_number_or_ratio(o.outputs[0].text) for o in outputs]\n",
    "exact_match_score(short_answers_pred, labels)"
   ]
  },
  {
   "cell_type": "code",
   "execution_count": null,
   "id": "8ac82c9c-7663-4e22-b483-6b75964b18a3",
   "metadata": {},
   "outputs": [
    {
     "name": "stderr",
     "output_type": "stream",
     "text": [
      "Processed prompts:   9%|▉         | 47/500 [01:06<02:45,  2.73it/s] "
     ]
    }
   ],
   "source": [
    "# 5-shot\n",
    "few_shot_examples = [f\"###Question:\\n{ex['question']}\\n###Answer:\\n{ex['answer']}<stop>\" for ex in \n",
    "                     dataset.select(range(len(dataset)-5,len(dataset)))]\n",
    "few_shot_prompt = \"\\n\\n\".join(few_shot_examples)\n",
    "inputs = [few_shot_prompt + \"\\n\\n\" + f\"###Question:\\n{question}\\n###Answer:\\n\" for question in valid_dataset['question']]\n",
    "outputs = llm.generate(inputs, SamplingParams(temperature=0.0, \n",
    "                                              stop_token_ids=[tokenizer.eos_token_id], \n",
    "                                              stop=[\"<stop>\"], \n",
    "                                              max_tokens=1024))\n",
    "short_answers_pred = [extract_last_number_or_ratio(o.outputs[0].text) for o in outputs]\n",
    "exact_match_score(short_answers_pred, labels)"
   ]
  },
  {
   "cell_type": "code",
   "execution_count": 30,
   "id": "58216665-dfdb-4780-9fae-0f181e7be1b4",
   "metadata": {},
   "outputs": [],
   "source": [
    "few_shot_examples = [f\"###Question:\\n{ex['question']}\\n###Answer:\\n{ex['answer']}<stop>\" for ex in \n",
    "                     dataset.select(range(len(dataset)-5,len(dataset)))]"
   ]
  },
  {
   "cell_type": "code",
   "execution_count": 32,
   "id": "1272bc05-5f41-4ef1-a365-b5ddea678884",
   "metadata": {
    "scrolled": true
   },
   "outputs": [],
   "source": [
    "few_shot_prompt = \"\\n\\n\".join(few_shot_examples)"
   ]
  },
  {
   "cell_type": "code",
   "execution_count": 37,
   "id": "94ddfc91-ba02-4372-a766-c9cf2f7bde06",
   "metadata": {},
   "outputs": [],
   "source": [
    "def fewshot_chat_input(question, answer=None):\n",
    "    messages = [\n",
    "        {\"role\": \"system\", \"content\": f\"You are an AI assistant that excels in solving math problems. Here are few examples of math problems:\\n\\n{few_shot_prompt}\"},\n",
    "        {\"role\": \"user\", \"content\": question},\n",
    "    ]\n",
    "    return tokenizer.apply_chat_template(messages, tokenize=False, add_generation_prompt=True)"
   ]
  },
  {
   "cell_type": "code",
   "execution_count": 38,
   "id": "cc117e15-125f-4aac-ab2e-19890a41615d",
   "metadata": {},
   "outputs": [],
   "source": [
    "fewshot_chat_inputs = [fewshot_chat_input(question)  for question in valid_dataset['question']]"
   ]
  },
  {
   "cell_type": "code",
   "execution_count": 40,
   "id": "c6c9be61-f512-4963-95b0-8a23a40b39ea",
   "metadata": {},
   "outputs": [
    {
     "name": "stderr",
     "output_type": "stream",
     "text": [
      "Processed prompts: 100%|██████████| 500/500 [02:32<00:00,  3.27it/s]\n"
     ]
    },
    {
     "data": {
      "text/plain": [
       "0.452"
      ]
     },
     "execution_count": 40,
     "metadata": {},
     "output_type": "execute_result"
    }
   ],
   "source": [
    "outputs = llm.generate(fewshot_chat_inputs, SamplingParams(temperature=0.0, \n",
    "                                              stop_token_ids=[tokenizer.eos_token_id], \n",
    "                                              stop=[\"<|eot_id|>\"],\n",
    "                                              max_tokens=1024))\n",
    "short_answers_pred = [extract_last_number_or_ratio(o.outputs[0].text) for o in outputs]\n",
    "exact_match_score(short_answers_pred, labels)"
   ]
  },
  {
   "cell_type": "code",
   "execution_count": null,
   "id": "c9b936f5-8a6e-4ebc-ac1a-989ff41f128e",
   "metadata": {},
   "outputs": [],
   "source": []
  },
  {
   "cell_type": "code",
   "execution_count": null,
   "id": "8c1979a2-ad54-4f46-9247-28a9d0de18bc",
   "metadata": {},
   "outputs": [],
   "source": []
  },
  {
   "cell_type": "code",
   "execution_count": null,
   "id": "63b467a1-9f3a-4d09-b0f9-2de46c979762",
   "metadata": {},
   "outputs": [],
   "source": []
  },
  {
   "cell_type": "code",
   "execution_count": null,
   "id": "a0b02810-3d5d-4d8a-8ca7-e43d59722311",
   "metadata": {},
   "outputs": [],
   "source": []
  }
 ],
 "metadata": {
  "kernelspec": {
   "display_name": "Python 3 (ipykernel)",
   "language": "python",
   "name": "python3"
  },
  "language_info": {
   "codemirror_mode": {
    "name": "ipython",
    "version": 3
   },
   "file_extension": ".py",
   "mimetype": "text/x-python",
   "name": "python",
   "nbconvert_exporter": "python",
   "pygments_lexer": "ipython3",
   "version": "3.10.12"
  }
 },
 "nbformat": 4,
 "nbformat_minor": 5
}
