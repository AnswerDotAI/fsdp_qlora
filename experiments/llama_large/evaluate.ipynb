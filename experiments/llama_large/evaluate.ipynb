{
 "cells": [
  {
   "cell_type": "markdown",
   "id": "a3299605-c781-4901-bf93-eedaa75e2634",
   "metadata": {},
   "source": [
    "Evaluations with zero-shot, 5-shot, full fine-tune, merged LoRA, merged DoRA."
   ]
  },
  {
   "cell_type": "markdown",
   "id": "e205250c",
   "metadata": {},
   "source": [
    "### Imports"
   ]
  },
  {
   "cell_type": "code",
   "execution_count": 1,
   "id": "b79535af-bfff-48d6-a79d-3ae911876451",
   "metadata": {
    "scrolled": true
   },
   "outputs": [],
   "source": [
    "import torch\n",
    "from pathlib import Path\n",
    "import os, json\n",
    "from safetensors.torch import save_file\n",
    "import copy\n",
    "from tqdm import tqdm\n",
    "import safetensors\n",
    "import safetensors.torch\n",
    "from glob import glob\n",
    "from transformers import AutoConfig, AutoTokenizer, AutoModelForCausalLM\n",
    "from transformers.utils import hub, SAFE_WEIGHTS_NAME, SAFE_WEIGHTS_INDEX_NAME\n",
    "from hqq.core.quantize import HQQLinear, HQQBackend, BaseQuantizeConfig, Quantizer\n",
    "\n",
    "from hqq.core.quantize import HQQLinear, BaseQuantizeConfig, Quantizer\n",
    "from hqq.backends.torchao import patch_hqq_to_aoint4\n",
    "from fastcore.script import *\n",
    "\n",
    "from accelerate import init_empty_weights\n",
    "import numpy as np\n"
   ]
  },
  {
   "cell_type": "code",
   "execution_count": 2,
   "id": "31834f47",
   "metadata": {},
   "outputs": [],
   "source": [
    "from datasets import load_from_disk"
   ]
  },
  {
   "cell_type": "code",
   "execution_count": 3,
   "id": "7b1771df",
   "metadata": {},
   "outputs": [],
   "source": [
    "os.environ['CUDA_DEVICE_ORDER']=\"PCI_BUS_ID\""
   ]
  },
  {
   "cell_type": "markdown",
   "id": "9a9ee869-34b9-4240-866f-fccdc15e1bb5",
   "metadata": {},
   "source": [
    "### Evaluate"
   ]
  },
  {
   "cell_type": "code",
   "execution_count": 3,
   "id": "ef736afa-7e62-46ac-8e92-3e854b2810fc",
   "metadata": {},
   "outputs": [],
   "source": [
    "import re\n",
    "from datasets import load_dataset\n",
    "from fastcore.parallel import parallel\n",
    "from vllm import LLM, SamplingParams"
   ]
  },
  {
   "cell_type": "code",
   "execution_count": 4,
   "id": "36eecac2-2842-4b94-b40a-622ca9c1b56f",
   "metadata": {},
   "outputs": [],
   "source": [
    "def extract_last_number_or_ratio(s):\n",
    "    # Find all sequences of digits, possibly with leading currency symbols, decimal points, and ratios\n",
    "    patterns = re.findall(r'[\\$€£]?\\d+(?:\\.\\d+)?(?:\\:\\d+(?:\\.\\d+)?)?', s)\n",
    "    \n",
    "    # Return the last pattern found, or None if there are no matches\n",
    "    if patterns:\n",
    "        return patterns[-1]\n",
    "    else:\n",
    "        return None"
   ]
  },
  {
   "cell_type": "code",
   "execution_count": 5,
   "id": "69bb6844-0eb0-46e5-979a-098a8622c6d7",
   "metadata": {},
   "outputs": [],
   "source": [
    "def exact_match_score(preds, labels):\n",
    "    return sum(p==g for p,g in zip(preds, labels))/len(preds)"
   ]
  },
  {
   "cell_type": "code",
   "execution_count": 6,
   "id": "437681e0-1da3-427a-998c-a204728b6b38",
   "metadata": {},
   "outputs": [],
   "source": [
    "dataset = load_dataset(\"microsoft/orca-math-word-problems-200k\")['train'].shuffle(seed=42)\n",
    "dataset = dataset.select(range(len(dataset)-5000,len(dataset)))\n",
    "short_answers_gt = parallel(extract_last_number_or_ratio, dataset['answer'], progress=True)"
   ]
  },
  {
   "cell_type": "code",
   "execution_count": 7,
   "id": "921271da-4b66-429c-9e7a-5616a791aacf",
   "metadata": {},
   "outputs": [],
   "source": [
    "valid_dataset = dataset.select(range(500))"
   ]
  },
  {
   "cell_type": "code",
   "execution_count": 8,
   "id": "4eeb9fc8-715b-4929-bb59-7c1d21a25476",
   "metadata": {},
   "outputs": [],
   "source": [
    "inputs = [f\"###Question:\\n{question}\\n###Answer:\\n\" for question in valid_dataset['question']]"
   ]
  },
  {
   "cell_type": "code",
   "execution_count": 9,
   "id": "2df75559-19fb-4255-af25-27720773d5c7",
   "metadata": {},
   "outputs": [],
   "source": [
    "labels = short_answers_gt[:500]"
   ]
  },
  {
   "cell_type": "code",
   "execution_count": 10,
   "id": "ccd93133-3d75-47de-bbf5-4e15c6eb604a",
   "metadata": {},
   "outputs": [
    {
     "data": {
      "text/plain": [
       "(500, 500)"
      ]
     },
     "execution_count": 10,
     "metadata": {},
     "output_type": "execute_result"
    }
   ],
   "source": [
    "len(inputs), len(labels)"
   ]
  },
  {
   "cell_type": "code",
   "execution_count": 11,
   "id": "3ce90fce-28d4-4037-967e-539c5db97ed6",
   "metadata": {},
   "outputs": [
    {
     "data": {
      "text/plain": [
       "1"
      ]
     },
     "execution_count": 11,
     "metadata": {},
     "output_type": "execute_result"
    }
   ],
   "source": [
    "NUM_GPUS = torch.cuda.device_count(); NUM_GPUS"
   ]
  },
  {
   "cell_type": "code",
   "execution_count": 12,
   "id": "c7f5540f-731f-4b3c-817a-8c49d36f67fa",
   "metadata": {},
   "outputs": [],
   "source": [
    "TOKENIZER = \"meta-llama/Meta-Llama-3.1-8B-Instruct\""
   ]
  },
  {
   "cell_type": "code",
   "execution_count": 13,
   "id": "1f3a0eaf-684c-4732-8884-466d5ba9422a",
   "metadata": {},
   "outputs": [],
   "source": [
    "tokenizer = AutoTokenizer.from_pretrained(TOKENIZER)"
   ]
  },
  {
   "cell_type": "code",
   "execution_count": 14,
   "id": "a14a685c-d47d-47a1-a62f-fe00202c545d",
   "metadata": {},
   "outputs": [],
   "source": [
    "def convert_to_chat_input(question):\n",
    "    messages = [\n",
    "        {\"role\": \"system\", \"content\": \"You are an AI assistant that excels in solving math problems.\"},\n",
    "        {\"role\": \"user\", \"content\": question},\n",
    "    ]\n",
    "    return tokenizer.apply_chat_template(messages, tokenize=False, add_generation_prompt=True)"
   ]
  },
  {
   "cell_type": "code",
   "execution_count": 15,
   "id": "b84c6bb7-0fa7-45ff-b589-06d45fb7ad17",
   "metadata": {},
   "outputs": [],
   "source": [
    "chat_inputs = [convert_to_chat_input(question) for question in valid_dataset['question']]"
   ]
  },
  {
   "cell_type": "code",
   "execution_count": 16,
   "id": "ca6a781c-9ed9-4a2b-bc2c-1a753954d547",
   "metadata": {},
   "outputs": [
    {
     "data": {
      "text/plain": [
       "500"
      ]
     },
     "execution_count": 16,
     "metadata": {},
     "output_type": "execute_result"
    }
   ],
   "source": [
    "len(chat_inputs)"
   ]
  },
  {
   "cell_type": "markdown",
   "id": "0db22768-f3a4-41c3-9db4-efa7bf4a5045",
   "metadata": {},
   "source": [
    "#### FINETUNED "
   ]
  },
  {
   "cell_type": "code",
   "execution_count": 17,
   "id": "30396b6b-c97b-41ca-98b8-4a8404fabdd9",
   "metadata": {},
   "outputs": [],
   "source": [
    "model_dir = \"/workspace/models/\""
   ]
  },
  {
   "cell_type": "code",
   "execution_count": 18,
   "id": "488ea606",
   "metadata": {},
   "outputs": [],
   "source": [
    "# TODO: Don't cast to float16 for bitblas"
   ]
  },
  {
   "cell_type": "code",
   "execution_count": 19,
   "id": "d52df5f9-1026-4591-a935-c5ec502e551f",
   "metadata": {},
   "outputs": [],
   "source": [
    "# NOTE: 4/2 bit models become very repetitive\n",
    "\n",
    "\n",
    "# bf16 model # 0.60\n",
    "\n",
    "# 4bit HQQ (skip_dora_all)\n",
    "# MODEL_NAME = \"llama-3-1-8b-instruct-hqq-dora-4bit/step_250/vllm_tinygemm\" # 0.578\n",
    "\n",
    "# 4bit HQQ+DORA\n",
    "# MODEL_NAME = \"llama-3-1-8b-instruct-hqq-dora-4bit/step_250/vllm_tinygemm\" # 0.593\n",
    "# MODEL_NAME = \"llama-3-1-8b-instruct-hqq-dora-4bit/step_1000/vllm_tinygemm\" # 0.610\n",
    "\n",
    "# 4/2bit HQQ+DORA\n",
    "# MODEL_NAME = \"llama-3-1-8b-instruct-hqq-dora-4-2bit/step_250/vllm_bitblas\" # 0.290\n",
    "# MODEL_NAME = \"llama-3-1-8b-instruct-hqq-dora-4-2bit/step_1000/vllm_bitblas\" # 0.380\n",
    "\n",
    "# 4/2bit HQQ+DORA (merged)\n",
    "# MODEL_NAME = \"llama-3-1-8b-instruct-hqq-dora-4-2bit/step_250/merged\" # 0.242\n",
    "# MODEL_NAME = \"llama-3-1-8b-instruct-hqq-dora-4-2bit/step_1000/merged\" # 0.350\n",
    "\n",
    "# 4bit HQQ+DORA+LN\n",
    "# MODEL_NAME = \"llama-3-1-8b-instruct-hqq-dora-4bit-ln/step_250/vllm_tinygemm\" # 0.562\n",
    "# MODEL_NAME = \"llama-3-1-8b-instruct-hqq-dora-4bit-ln/step_1000/vllm_tinygemm\" # 0.585\n",
    "\n",
    "# 4bit HQQ+LN\n",
    "# MODEL_NAME = \"llama-3-1-8b-instruct-hqq-4bit-ln/step_250/vllm_tinygemm\" # 0.605\n",
    "# MODEL_NAME = \"llama-3-1-8b-instruct-hqq-4bit-ln/step_1000/vllm_tinygemm\" # 0.55\n",
    "\n",
    "# 4/2bit HQQ+DORA+LN\n",
    "# MODEL_NAME = \"llama-3-1-8b-instruct-hqq-dora-4-2bit-ln/step_250/vllm_bitblas\" # 0.270\n",
    "# MODEL_NAME = \"llama-3-1-8b-instruct-hqq-dora-4-2bit-ln/step_1000/vllm_bitblas\" # 0.42\n",
    "\n",
    "# 4/2bit HQQ+DORA+LN (merged)\n",
    "# MODEL_NAME = \"llama-3-1-8b-instruct-hqq-dora-4-2bit-ln/step_250/merged\" # 0.270\n",
    "# MODEL_NAME = \"llama-3-1-8b-instruct-hqq-dora-4-2bit-ln/step_1000/merged\" # 0.343\n",
    "\n",
    "# 4(HQQ)bit 2(HQQ+DORA)bit\n",
    "# MODEL_NAME = \"llama-3-1-8b-instruct-hqq-4-dora-2bit/step_250/vllm_bitblas\" # 0.257\n",
    "# MODEL_NAME = \"llama-3-1-8b-instruct-hqq-4-dora-2bit/step_1000/vllm_bitblas\" # 0.330\n",
    "\n",
    "# 4(HQQ)bit 2(HQQ+DORA)bit+LN\n",
    "# MODEL_NAME = \"llama-3-1-8b-instruct-hqq-4-dora-2bit-ln/step_250/vllm_bitblas\" # 0.265\n",
    "# MODEL_NAME = \"llama-3-1-8b-instruct-hqq-4-dora-2bit-ln/step_1000/vllm_bitblas\" # 0.375\n",
    "\n",
    "# 4(HQQ)bit 2(HQQ)bit+LN\n",
    "# MODEL_NAME = \"llama-3-1-8b-instruct-hqq-4-hqq-2bit-ln/step_250/vllm_bitblas\" # 0.02\n",
    "# MODEL_NAME = \"llama-3-1-8b-instruct-hqq-4-hqq-2bit-ln/step_1000/vllm_bitblas\" # 0.03\n",
    "\n",
    "\n",
    "# Model generations become more repetitive with more training steps at temp=0.0.\n",
    "# Frequency penalty helps with this, but needs more investigation.\n",
    "\n",
    "# MODEL_NAME = \"llama-3-1-8b-instruct-dora-4-2bit-lora_rank-64-base_lr-1e-4-lr_div_factor-10-train_layernorms-true/step_125/vllm_bitblas\" # 0.22\n",
    "# MODEL_NAME = \"llama-3-1-8b-instruct-dora-4-2bit-lora_rank-64-base_lr-1e-4-lr_div_factor-10-train_layernorms-true/step_250/vllm_bitblas\" # 0.26\n",
    "\n",
    "# MODEL_NAME = \"llama-3-1-8b-instruct-dora-4-2bit-lora_rank-64-base_lr-1e-4-lr_div_factor-3-train_layernorms-true/step_125/vllm_bitblas\" # 0.24\n",
    "# MODEL_NAME = \"llama-3-1-8b-instruct-dora-4-2bit-lora_rank-64-base_lr-1e-4-lr_div_factor-3-train_layernorms-true/step_250/vllm_bitblas\" # 0.31\n",
    "\n",
    "# MODEL_NAME = \"llama-3-1-8b-instruct-dora-4-2bit-lora_rank-64-base_lr-1e-4-lr_div_factor-1-train_layernorms-true/step_125/vllm_bitblas\" # 0.22\n",
    "# MODEL_NAME = \"llama-3-1-8b-instruct-dora-4-2bit-lora_rank-64-base_lr-1e-4-lr_div_factor-1-train_layernorms-true/step_250/vllm_bitblas\" # 0.29\n",
    "\n",
    "# MODEL_NAME = \"llama-3-1-8b-instruct-dora-4-2bit-lora_rank-64-base_lr-5e-5-lr_div_factor-10-train_layernorms-true/step_125/vllm_bitblas\" # 0.30\n",
    "# MODEL_NAME = \"llama-3-1-8b-instruct-dora-4-2bit-lora_rank-64-base_lr-5e-5-lr_div_factor-10-train_layernorms-true/step_250/vllm_bitblas\" # 0.35\n",
    "\n",
    "# MODEL_NAME = \"llama-3-1-8b-instruct-dora-4-2bit-lora_rank-64-base_lr-5e-5-lr_div_factor-3-train_layernorms-true/step_125/vllm_bitblas\" # 0.26\n",
    "# MODEL_NAME = \"llama-3-1-8b-instruct-dora-4-2bit-lora_rank-64-base_lr-5e-5-lr_div_factor-3-train_layernorms-true/step_250/vllm_bitblas\" # 0.35\n",
    "\n",
    "# MODEL_NAME = \"llama-3-1-8b-instruct-dora-4-2bit-lora_rank-64-base_lr-5e-5-lr_div_factor-1-train_layernorms-true/step_125/vllm_bitblas\" # 0.27\n",
    "# MODEL_NAME = \"llama-3-1-8b-instruct-dora-4-2bit-lora_rank-64-base_lr-5e-5-lr_div_factor-1-train_layernorms-true/step_250/vllm_bitblas\" # 0.36\n",
    "\n",
    "# MODEL_NAME = \"llama-3-1-8b-instruct-dora-4-2bit-lora_rank-64-base_lr-2e-5-lr_div_factor-10-train_layernorms-true/step_125/vllm_bitblas\" # 0.20\n",
    "# MODEL_NAME = \"llama-3-1-8b-instruct-dora-4-2bit-lora_rank-64-base_lr-2e-5-lr_div_factor-10-train_layernorms-true/step_250/vllm_bitblas\" # 0.32\n",
    "\n",
    "# MODEL_NAME = \"llama-3-1-8b-instruct-dora-4-2bit-lora_rank-64-base_lr-2e-5-lr_div_factor-3-train_layernorms-true/step_125/vllm_bitblas\" # 0.27\n",
    "# MODEL_NAME = \"llama-3-1-8b-instruct-dora-4-2bit-lora_rank-64-base_lr-2e-5-lr_div_factor-3-train_layernorms-true/step_250/vllm_bitblas\" # 0.30\n",
    "\n",
    "# MODEL_NAME = \"llama-3-1-8b-instruct-dora-4-2bit-lora_rank-64-base_lr-2e-5-lr_div_factor-1-train_layernorms-true/step_125/vllm_bitblas\" # 0.23\n",
    "# MODEL_NAME = \"llama-3-1-8b-instruct-dora-4-2bit-lora_rank-64-base_lr-2e-5-lr_div_factor-1-train_layernorms-true/step_250/vllm_bitblas\" # 0.34\n",
    "\n",
    "\n",
    "\n",
    "# MODEL_NAME = \"llama-3-1-8b-instruct-dora-4-2bit-lora_rank-256-base_lr-1e-4-lr_div_factor-10-train_layernorms-true/step_125/vllm_bitblas\" # 0.25\n",
    "# MODEL_NAME = \"llama-3-1-8b-instruct-dora-4-2bit-lora_rank-256-base_lr-1e-4-lr_div_factor-10-train_layernorms-true/step_250/vllm_bitblas\" # 0.29\n",
    "\n",
    "# MODEL_NAME = \"llama-3-1-8b-instruct-dora-4-2bit-lora_rank-256-base_lr-1e-4-lr_div_factor-3-train_layernorms-true/step_125/vllm_bitblas\" # -\n",
    "# MODEL_NAME = \"llama-3-1-8b-instruct-dora-4-2bit-lora_rank-256-base_lr-1e-4-lr_div_factor-3-train_layernorms-true/step_250/vllm_bitblas\" # 0.27\n",
    "\n",
    "# MODEL_NAME = \"llama-3-1-8b-instruct-dora-4-2bit-lora_rank-256-base_lr-1e-4-lr_div_factor-1-train_layernorms-true/step_125/vllm_bitblas\" # 0.0\n",
    "# MODEL_NAME = \"llama-3-1-8b-instruct-dora-4-2bit-lora_rank-256-base_lr-1e-4-lr_div_factor-1-train_layernorms-true/step_250/vllm_bitblas\" # 0.0\n",
    "\n",
    "# MODEL_NAME = \"llama-3-1-8b-instruct-dora-4-2bit-lora_rank-256-base_lr-5e-5-lr_div_factor-10-train_layernorms-true/step_125/vllm_bitblas\" # 0.29\n",
    "# MODEL_NAME = \"llama-3-1-8b-instruct-dora-4-2bit-lora_rank-256-base_lr-5e-5-lr_div_factor-10-train_layernorms-true/step_250/vllm_bitblas\" # 0.45\n",
    "\n",
    "# MODEL_NAME = \"llama-3-1-8b-instruct-dora-4-2bit-lora_rank-256-base_lr-5e-5-lr_div_factor-3-train_layernorms-true/step_125/vllm_bitblas\" # 0.27\n",
    "# MODEL_NAME = \"llama-3-1-8b-instruct-dora-4-2bit-lora_rank-256-base_lr-5e-5-lr_div_factor-3-train_layernorms-true/step_250/vllm_bitblas\" # 0.37\n",
    "\n",
    "# MODEL_NAME = \"llama-3-1-8b-instruct-dora-4-2bit-lora_rank-256-base_lr-5e-5-lr_div_factor-1-train_layernorms-true/step_125/vllm_bitblas\" # 0.26\n",
    "# MODEL_NAME = \"llama-3-1-8b-instruct-dora-4-2bit-lora_rank-256-base_lr-5e-5-lr_div_factor-1-train_layernorms-true/step_250/vllm_bitblas\" # 0.27\n",
    "\n",
    "# MODEL_NAME = \"llama-3-1-8b-instruct-dora-4-2bit-lora_rank-256-base_lr-2e-5-lr_div_factor-10-train_layernorms-true/step_125/vllm_bitblas\" # 0.28\n",
    "# MODEL_NAME = \"llama-3-1-8b-instruct-dora-4-2bit-lora_rank-64-base_lr-2e-5-lr_div_factor-10-train_layernorms-true/step_250/vllm_bitblas\" # 0.32\n",
    "\n",
    "# MODEL_NAME = \"llama-3-1-8b-instruct-dora-4-2bit-lora_rank-256-base_lr-2e-5-lr_div_factor-3-train_layernorms-true/step_125/vllm_bitblas\" # 0.27\n",
    "# MODEL_NAME = \"llama-3-1-8b-instruct-dora-4-2bit-lora_rank-64-base_lr-2e-5-lr_div_factor-3-train_layernorms-true/step_250/vllm_bitblas\" # 0.30\n",
    "\n",
    "# MODEL_NAME = \"llama-3-1-8b-instruct-dora-4-2bit-lora_rank-256-base_lr-2e-5-lr_div_factor-1-train_layernorms-true/step_125/vllm_bitblas\" # 0.25\n",
    "# MODEL_NAME = \"llama-3-1-8b-instruct-dora-4-2bit-lora_rank-256-base_lr-2e-5-lr_div_factor-1-train_layernorms-true/step_250/vllm_bitblas\" # 0.30\n",
    "\n",
    "\n",
    "\n",
    "# MODEL_NAME = \"llama-3-1-8b-instruct-dora-4-2bit-lora_rank-512-base_lr-1e-4-lr_div_factor-10-train_layernorms-true/step_125/vllm_bitblas\" # 0.22\n",
    "# MODEL_NAME = \"llama-3-1-8b-instruct-dora-4-2bit-lora_rank-512-base_lr-1e-4-lr_div_factor-10-train_layernorms-true/step_250/vllm_bitblas\" # 0.26\n",
    "\n",
    "# MODEL_NAME = \"llama-3-1-8b-instruct-dora-4-2bit-lora_rank-512-base_lr-1e-4-lr_div_factor-3-train_layernorms-true/step_125/vllm_bitblas\" # 0.19\n",
    "# MODEL_NAME = \"llama-3-1-8b-instruct-dora-4-2bit-lora_rank-512-base_lr-1e-4-lr_div_factor-3-train_layernorms-true/step_250/vllm_bitblas\" # 0.07\n",
    "\n",
    "# MODEL_NAME = \"llama-3-1-8b-instruct-dora-4-2bit-lora_rank-512-base_lr-1e-4-lr_div_factor-1-train_layernorms-true/step_125/vllm_bitblas\" # 0.02\n",
    "# MODEL_NAME = \"llama-3-1-8b-instruct-dora-4-2bit-lora_rank-512-base_lr-1e-4-lr_div_factor-1-train_layernorms-true/step_250/vllm_bitblas\" # 0.07\n",
    "\n",
    "# MODEL_NAME = \"llama-3-1-8b-instruct-dora-4-2bit-lora_rank-512-base_lr-5e-5-lr_div_factor-10-train_layernorms-true/step_125/vllm_bitblas\" # 0.28\n",
    "# MODEL_NAME = \"llama-3-1-8b-instruct-dora-4-2bit-lora_rank-512-base_lr-5e-5-lr_div_factor-10-train_layernorms-true/step_250/vllm_bitblas\" # 0.32\n",
    "\n",
    "# MODEL_NAME = \"llama-3-1-8b-instruct-dora-4-2bit-lora_rank-512-base_lr-5e-5-lr_div_factor-3-train_layernorms-true/step_125/vllm_bitblas\" # 0.25\n",
    "# MODEL_NAME = \"llama-3-1-8b-instruct-dora-4-2bit-lora_rank-512-base_lr-5e-5-lr_div_factor-3-train_layernorms-true/step_250/vllm_bitblas\" # 0.41\n",
    "\n",
    "# MODEL_NAME = \"llama-3-1-8b-instruct-dora-4-2bit-lora_rank-512-base_lr-5e-5-lr_div_factor-1-train_layernorms-true/step_125/vllm_bitblas\" # 0.21\n",
    "# MODEL_NAME = \"llama-3-1-8b-instruct-dora-4-2bit-lora_rank-512-base_lr-5e-5-lr_div_factor-1-train_layernorms-true/step_250/vllm_bitblas\" # 0.20\n",
    "\n",
    "# MODEL_NAME = \"llama-3-1-8b-instruct-dora-4-2bit-lora_rank-512-base_lr-2e-5-lr_div_factor-10-train_layernorms-true/step_125/vllm_bitblas\" # 0.25\n",
    "# MODEL_NAME = \"llama-3-1-8b-instruct-dora-4-2bit-lora_rank-512-base_lr-2e-5-lr_div_factor-10-train_layernorms-true/step_250/vllm_bitblas\" # 0.31\n",
    "\n",
    "# MODEL_NAME = \"llama-3-1-8b-instruct-dora-4-2bit-lora_rank-512-base_lr-2e-5-lr_div_factor-3-train_layernorms-true/step_125/vllm_bitblas\" # 0.23\n",
    "# MODEL_NAME = \"llama-3-1-8b-instruct-dora-4-2bit-lora_rank-512-base_lr-2e-5-lr_div_factor-3-train_layernorms-true/step_250/vllm_bitblas\" # 0.36\n",
    "\n",
    "# MODEL_NAME = \"llama-3-1-8b-instruct-dora-4-2bit-lora_rank-512-base_lr-2e-5-lr_div_factor-1-train_layernorms-true/step_125/vllm_bitblas\" # 0.26\n",
    "# MODEL_NAME = \"llama-3-1-8b-instruct-dora-4-2bit-lora_rank-512-base_lr-2e-5-lr_div_factor-1-train_layernorms-true/step_250/vllm_bitblas\" # 0.31\n",
    "\n",
    "\n",
    "\n",
    "# MODEL_NAME = \"llama-3-1-8b-instruct-dora-4-2bit-lora_rank-256-base_lr-5e-5-lr_div_factor-10-train_layernorms-true-block-influence/step_125/vllm_bitblas\" # 0.\n",
    "# MODEL_NAME = \"llama-3-1-8b-instruct-dora-4-2bit-lora_rank-256-base_lr-5e-5-lr_div_factor-10-train_layernorms-true-block-influence/step_250/vllm_bitblas\" # 0.\n",
    "# MODEL_NAME = \"llama-3-1-8b-instruct-dora-4-2bit-lora_rank-256-base_lr-5e-5-lr_div_factor-10-train_layernorms-true-block-influence/step_375/vllm_bitblas\" # 0.\n",
    "# MODEL_NAME = \"llama-3-1-8b-instruct-dora-4-2bit-lora_rank-256-base_lr-5e-5-lr_div_factor-10-train_layernorms-true-block-influence/step_500/vllm_bitblas\" # 0.\n",
    "# MODEL_NAME = \"llama-3-1-8b-instruct-dora-4-2bit-lora_rank-256-base_lr-5e-5-lr_div_factor-10-train_layernorms-true-block-influence/step_125/merged\" # 0.34\n",
    "# MODEL_NAME = \"llama-3-1-8b-instruct-dora-4-2bit-lora_rank-256-base_lr-5e-5-lr_div_factor-10-train_layernorms-true-block-influence/step_250/merged\" # 0.48\n",
    "# MODEL_NAME = \"llama-3-1-8b-instruct-dora-4-2bit-lora_rank-256-base_lr-5e-5-lr_div_factor-10-train_layernorms-true-block-influence/step_375/merged\" # 0.\n",
    "MODEL_NAME = \"llama-3-1-8b-instruct-dora-4-2bit-lora_rank-256-base_lr-5e-5-lr_div_factor-10-train_layernorms-true-block-influence/step_500/merged\" # 0.\n",
    "\n",
    "\n",
    "\n",
    "# MODEL_NAME = \"llama-3-1-8b-instruct-dora-4-2bit-lora_rank-256-base_lr-5e-5-lr_div_factor-10-train_layernorms-true-loftq/step_125/vllm_bitblas\" # 0.22\n",
    "# MODEL_NAME = \"llama-3-1-8b-instruct-dora-4-2bit-lora_rank-256-base_lr-5e-5-lr_div_factor-10-train_layernorms-true-loftq/step_250/vllm_bitblas\" # 0.32\n",
    "# MODEL_NAME = \"llama-3-1-8b-instruct-dora-4-2bit-lora_rank-256-base_lr-5e-5-lr_div_factor-10-train_layernorms-true-loftq/step_375/vllm_bitblas\" # 0.32\n",
    "# MODEL_NAME = \"llama-3-1-8b-instruct-dora-4-2bit-lora_rank-256-base_lr-5e-5-lr_div_factor-10-train_layernorms-true-loftq/step_500/vllm_bitblas\" # 0.33\n",
    "\n",
    "\n",
    "# MODEL_NAME = \"llama-3-1-8b-instruct-dora-4-2bit-lora_rank-256-base_lr-5e-5-lr_div_factor-10-train_layernorms-true-loftq-block-influence/step_125/vllm_bitblas\" # 0.28\n",
    "# MODEL_NAME = \"llama-3-1-8b-instruct-dora-4-2bit-lora_rank-256-base_lr-5e-5-lr_div_factor-10-train_layernorms-true-loftq-block-influence/step_250/vllm_bitblas\" # 0.39\n",
    "# MODEL_NAME = \"llama-3-1-8b-instruct-dora-4-2bit-lora_rank-256-base_lr-5e-5-lr_div_factor-10-train_layernorms-true-loftq-block-influence/step_375/vllm_bitblas\" # 0.41\n",
    "# MODEL_NAME = \"llama-3-1-8b-instruct-dora-4-2bit-lora_rank-256-base_lr-5e-5-lr_div_factor-10-train_layernorms-true-loftq-block-influence/step_500/vllm_bitblas\" # 0.414\n",
    "\n",
    "\n",
    "# 4 (128) bit 2 (32) bit not adj 20%\n",
    "# MODEL_NAME = \"llama-3-1-8b-instruct-dora-4-2bit-lora_rank-256-base_lr-5e-5-lr_div_factor-10-train_layernorms-true-block-influence-no-adj-20pct/step_125/vllm_bitblas\" # 0.\n",
    "# MODEL_NAME = \"llama-3-1-8b-instruct-dora-4-2bit-lora_rank-256-base_lr-5e-5-lr_div_factor-10-train_layernorms-true-block-influence-no-adj-20pct/step_125/merged\" # 0.39\n",
    "# MODEL_NAME = \"llama-3-1-8b-instruct-dora-4-2bit-lora_rank-256-base_lr-5e-5-lr_div_factor-10-train_layernorms-true-block-influence-no-adj-20pct/step_250/vllm_bitblas\" # 0.\n",
    "# MODEL_NAME = \"llama-3-1-8b-instruct-dora-4-2bit-lora_rank-256-base_lr-5e-5-lr_div_factor-10-train_layernorms-true-block-influence-no-adj-20pct/step_250/merged\" # 0.45\n",
    "# MODEL_NAME = \"llama-3-1-8b-instruct-dora-4-2bit-lora_rank-256-base_lr-5e-5-lr_div_factor-10-train_layernorms-true-block-influence-no-adj-20pct/step_375/vllm_bitblas\" # 0.\n",
    "# MODEL_NAME = \"llama-3-1-8b-instruct-dora-4-2bit-lora_rank-256-base_lr-5e-5-lr_div_factor-10-train_layernorms-true-block-influence-no-adj-20pct/step_375/merged\" # 0.41\n",
    "# MODEL_NAME = \"llama-3-1-8b-instruct-dora-4-2bit-lora_rank-256-base_lr-5e-5-lr_div_factor-10-train_layernorms-true-block-influence-no-adj-20pct/step_500/vllm_bitblas\" # 0.\n",
    "# MODEL_NAME = \"llama-3-1-8b-instruct-dora-4-2bit-lora_rank-256-base_lr-5e-5-lr_div_factor-10-train_layernorms-true-block-influence-no-adj-20pct/step_500/merged\" # 0.51\n",
    "# MODEL_NAME = \"llama-3-1-8b-instruct-dora-4-2bit-lora_rank-256-base_lr-5e-5-lr_div_factor-10-train_layernorms-true-block-influence-no-adj-20pct/step_625/vllm_bitblas\" # 0.\n",
    "# MODEL_NAME = \"llama-3-1-8b-instruct-dora-4-2bit-lora_rank-256-base_lr-5e-5-lr_div_factor-10-train_layernorms-true-block-influence-no-adj-20pct/step_625/merged\" # 0.49\n",
    "# MODEL_NAME = \"llama-3-1-8b-instruct-dora-4-2bit-lora_rank-256-base_lr-5e-5-lr_div_factor-10-train_layernorms-true-block-influence-no-adj-20pct/step_750/vllm_bitblas\" # 0.\n",
    "# MODEL_NAME = \"llama-3-1-8b-instruct-dora-4-2bit-lora_rank-256-base_lr-5e-5-lr_div_factor-10-train_layernorms-true-block-influence-no-adj-20pct/step_750/merged\" # 0.57\n",
    "# MODEL_NAME = \"llama-3-1-8b-instruct-dora-4-2bit-gs-32-lora_rank-256-base_lr-5e-5-lr_div_factor-10-train_layernorms-true-block-influence-no-adj-20pct/step_875/vllm_bitblas\" # 0.\n",
    "# MODEL_NAME = \"llama-3-1-8b-instruct-dora-4-2bit-gs-32-lora_rank-256-base_lr-5e-5-lr_div_factor-10-train_layernorms-true-block-influence-no-adj-20pct/step_875/merged\" # 0.5\n",
    "# MODEL_NAME = \"llama-3-1-8b-instruct-dora-4-2bit-gs-32-lora_rank-256-base_lr-5e-5-lr_div_factor-10-train_layernorms-true-block-influence-no-adj-20pct/step_1000/vllm_bitblas\" # 0.\n",
    "# MODEL_NAME = \"llama-3-1-8b-instruct-dora-4-2bit-gs-32-lora_rank-256-base_lr-5e-5-lr_div_factor-10-train_layernorms-true-block-influence-no-adj-20pct/step_1000/merged\" # 0.53\n",
    "\n",
    "# # 4 (128) bit 2 (32) bit adj 20%\n",
    "# MODEL_NAME = \"llama-3-1-8b-instruct-dora-4-2bit-lora_rank-256-base_lr-5e-5-lr_div_factor-10-train_layernorms-true-block-influence-adj-20pct/step_125/vllm_bitblas\" # 0.\n",
    "# MODEL_NAME = \"llama-3-1-8b-instruct-dora-4-2bit-lora_rank-256-base_lr-5e-5-lr_div_factor-10-train_layernorms-true-block-influence-adj-20pct/step_125/merged\" # 0.44\n",
    "# MODEL_NAME = \"llama-3-1-8b-instruct-dora-4-2bit-lora_rank-256-base_lr-5e-5-lr_div_factor-10-train_layernorms-true-block-influence-adj-20pct/step_250/vllm_bitblas\" # 0.\n",
    "# MODEL_NAME = \"llama-3-1-8b-instruct-dora-4-2bit-lora_rank-256-base_lr-5e-5-lr_div_factor-10-train_layernorms-true-block-influence-adj-20pct/step_250/merged\" # 0.36\n",
    "# MODEL_NAME = \"llama-3-1-8b-instruct-dora-4-2bit-lora_rank-256-base_lr-5e-5-lr_div_factor-10-train_layernorms-true-block-influence-adj-20pct/step_375/vllm_bitblas\" # 0.\n",
    "# MODEL_NAME = \"llama-3-1-8b-instruct-dora-4-2bit-lora_rank-256-base_lr-5e-5-lr_div_factor-10-train_layernorms-true-block-influence-adj-20pct/step_375/merged\" # 0.43\n",
    "# MODEL_NAME = \"llama-3-1-8b-instruct-dora-4-2bit-lora_rank-256-base_lr-5e-5-lr_div_factor-10-train_layernorms-true-block-influence-adj-20pct/step_500/vllm_bitblas\" # 0.\n",
    "# MODEL_NAME = \"llama-3-1-8b-instruct-dora-4-2bit-lora_rank-256-base_lr-5e-5-lr_div_factor-10-train_layernorms-true-block-influence-adj-20pct/step_500/merged\" # 0.45\n",
    "\n",
    "# # 4 (128) bit 2 (32) bit not adj 30%\n",
    "# MODEL_NAME = \"llama-3-1-8b-instruct-dora-4-2bit-lora_rank-256-base_lr-5e-5-lr_div_factor-10-train_layernorms-true-block-influence-no-adj-30pct/step_125/vllm_bitblas\" # 0.\n",
    "# MODEL_NAME = \"llama-3-1-8b-instruct-dora-4-2bit-lora_rank-256-base_lr-5e-5-lr_div_factor-10-train_layernorms-true-block-influence-no-adj-30pct/step_125/merged\" # 0.41\n",
    "# MODEL_NAME = \"llama-3-1-8b-instruct-dora-4-2bit-lora_rank-256-base_lr-5e-5-lr_div_factor-10-train_layernorms-true-block-influence-no-adj-30pct/step_250/vllm_bitblas\" # 0.\n",
    "# MODEL_NAME = \"llama-3-1-8b-instruct-dora-4-2bit-lora_rank-256-base_lr-5e-5-lr_div_factor-10-train_layernorms-true-block-influence-no-adj-30pct/step_250/merged\" # 0.48\n",
    "\n",
    "# # 4 (128) bit 2 (32) bit adj 30%\n",
    "# MODEL_NAME = \"llama-3-1-8b-instruct-dora-4-2bit-lora_rank-256-base_lr-5e-5-lr_div_factor-10-train_layernorms-true-block-influence-adj-30pct/step_125/vllm_bitblas\" # 0.\n",
    "# MODEL_NAME = \"llama-3-1-8b-instruct-dora-4-2bit-lora_rank-256-base_lr-5e-5-lr_div_factor-10-train_layernorms-true-block-influence-adj-30pct/step_125/merged\" # 0.\n",
    "\n",
    "\n",
    "# MODEL_NAME = \"llama-3-1-8b-dora-ablations/no_adj_20_pct_step_750/merged\" # 0.54\n",
    "# MODEL_NAME = \"llama-3-1-8b-dora-ablations/no_adj_20_pct_step_750/vllm_bitblas\" # 0.53 worked\n",
    "\n",
    "# MODEL_NAME = \"llama-3-1-8b-dora-ablations/adj_20_pct_step500/merged\" # 0.46\n",
    "# MODEL_NAME = \"llama-3-1-8b-dora-ablations/adj_20_pct_step500/vllm_bitblas\" # 0.46 worked\n",
    "\n",
    "\n",
    "MODEL_NAME = \"llama-3-1-8b-instruct-dora-4-2bit-gs-32-lora_rank-64-base_lr-5e-5-lr_div_factor-10-train_layernorms-true-block-influence-no-adj-20pct/step_875/merged\"\n",
    "\n",
    "MODEL_NAME = os.path.join(model_dir,MODEL_NAME)\n",
    "\n",
    "\n",
    "# MODEL_NAME = \"meta-llama/Meta-Llama-3.1-8B-Instruct\""
   ]
  },
  {
   "cell_type": "code",
   "execution_count": 20,
   "id": "0de019d2",
   "metadata": {},
   "outputs": [],
   "source": [
    "NUM_GPUS = 1"
   ]
  },
  {
   "cell_type": "code",
   "execution_count": 21,
   "id": "987b5708-0704-4b2a-b81b-725abcc7df1a",
   "metadata": {
    "scrolled": true
   },
   "outputs": [
    {
     "name": "stdout",
     "output_type": "stream",
     "text": [
      "INFO 08-30 15:00:16 llm_engine.py:176] Initializing an LLM engine (v0.5.3.post1) with config: model='/workspace/models/llama-3-1-8b-instruct-dora-4-2bit-gs-32-lora_rank-64-base_lr-5e-5-lr_div_factor-10-train_layernorms-true-block-influence-no-adj-20pct/step_875/merged', speculative_config=None, tokenizer='meta-llama/Meta-Llama-3.1-8B-Instruct', skip_tokenizer_init=False, tokenizer_mode=auto, revision=None, rope_scaling=None, rope_theta=None, tokenizer_revision=None, trust_remote_code=False, dtype=torch.bfloat16, max_seq_len=8192, download_dir=None, load_format=LoadFormat.AUTO, tensor_parallel_size=1, pipeline_parallel_size=1, disable_custom_all_reduce=False, quantization=None, enforce_eager=False, kv_cache_dtype=auto, quantization_param_path=None, device_config=cuda, decoding_config=DecodingConfig(guided_decoding_backend='outlines'), observability_config=ObservabilityConfig(otlp_traces_endpoint=None), seed=0, served_model_name=/workspace/models/llama-3-1-8b-instruct-dora-4-2bit-gs-32-lora_rank-64-base_lr-5e-5-lr_div_factor-10-train_layernorms-true-block-influence-no-adj-20pct/step_875/merged, use_v2_block_manager=False, enable_prefix_caching=False)\n"
     ]
    },
    {
     "name": "stdout",
     "output_type": "stream",
     "text": [
      "INFO 08-30 15:00:16 model_runner.py:720] Starting to load model /workspace/models/llama-3-1-8b-instruct-dora-4-2bit-gs-32-lora_rank-64-base_lr-5e-5-lr_div_factor-10-train_layernorms-true-block-influence-no-adj-20pct/step_875/merged...\n"
     ]
    },
    {
     "data": {
      "application/vnd.jupyter.widget-view+json": {
       "model_id": "430e850b2f294ea29963d95f3ce4d5b1",
       "version_major": 2,
       "version_minor": 0
      },
      "text/plain": [
       "Loading safetensors checkpoint shards:   0% Completed | 0/4 [00:00<?, ?it/s]\n"
      ]
     },
     "metadata": {},
     "output_type": "display_data"
    },
    {
     "name": "stdout",
     "output_type": "stream",
     "text": [
      "Loading model.embed_tokens.weight\n",
      "Loaded model.embed_tokens.weight\n",
      "Loading model.layers.0.input_layernorm.weight\n",
      "Loaded model.layers.0.input_layernorm.weight\n",
      "Loading model.layers.0.mlp.down_proj.weight\n",
      "Loaded model.layers.0.mlp.down_proj.weight\n",
      "Loading model.layers.0.mlp.gate_proj.weight\n",
      "Loaded model.layers.0.mlp.gate_up_proj.weight\n",
      "Loading model.layers.0.mlp.up_proj.weight\n",
      "Loaded model.layers.0.mlp.gate_up_proj.weight\n",
      "Loading model.layers.0.post_attention_layernorm.weight\n",
      "Loaded model.layers.0.post_attention_layernorm.weight\n",
      "Loading model.layers.0.self_attn.k_proj.weight\n",
      "Loaded model.layers.0.self_attn.qkv_proj.weight\n",
      "Loading model.layers.0.self_attn.o_proj.weight\n",
      "Loaded model.layers.0.self_attn.o_proj.weight\n",
      "Loading model.layers.0.self_attn.q_proj.weight\n",
      "Loaded model.layers.0.self_attn.qkv_proj.weight\n",
      "Loading model.layers.0.self_attn.v_proj.weight\n",
      "Loaded model.layers.0.self_attn.qkv_proj.weight\n",
      "Loading model.layers.1.input_layernorm.weight\n",
      "Loaded model.layers.1.input_layernorm.weight\n",
      "Loading model.layers.1.mlp.down_proj.weight\n",
      "Loaded model.layers.1.mlp.down_proj.weight\n",
      "Loading model.layers.1.mlp.gate_proj.weight\n",
      "Loaded model.layers.1.mlp.gate_up_proj.weight\n",
      "Loading model.layers.1.mlp.up_proj.weight\n",
      "Loaded model.layers.1.mlp.gate_up_proj.weight\n",
      "Loading model.layers.1.post_attention_layernorm.weight\n",
      "Loaded model.layers.1.post_attention_layernorm.weight\n",
      "Loading model.layers.1.self_attn.k_proj.weight\n",
      "Loaded model.layers.1.self_attn.qkv_proj.weight\n",
      "Loading model.layers.1.self_attn.o_proj.weight\n",
      "Loaded model.layers.1.self_attn.o_proj.weight\n",
      "Loading model.layers.1.self_attn.q_proj.weight\n",
      "Loaded model.layers.1.self_attn.qkv_proj.weight\n",
      "Loading model.layers.1.self_attn.v_proj.weight\n",
      "Loaded model.layers.1.self_attn.qkv_proj.weight\n",
      "Loading model.layers.2.input_layernorm.weight\n",
      "Loaded model.layers.2.input_layernorm.weight\n",
      "Loading model.layers.2.mlp.down_proj.weight\n",
      "Loaded model.layers.2.mlp.down_proj.weight\n",
      "Loading model.layers.2.mlp.gate_proj.weight\n",
      "Loaded model.layers.2.mlp.gate_up_proj.weight\n",
      "Loading model.layers.2.mlp.up_proj.weight\n",
      "Loaded model.layers.2.mlp.gate_up_proj.weight\n",
      "Loading model.layers.2.post_attention_layernorm.weight\n",
      "Loaded model.layers.2.post_attention_layernorm.weight\n",
      "Loading model.layers.2.self_attn.k_proj.weight\n",
      "Loaded model.layers.2.self_attn.qkv_proj.weight\n",
      "Loading model.layers.2.self_attn.o_proj.weight\n",
      "Loaded model.layers.2.self_attn.o_proj.weight\n",
      "Loading model.layers.2.self_attn.q_proj.weight\n",
      "Loaded model.layers.2.self_attn.qkv_proj.weight\n",
      "Loading model.layers.2.self_attn.v_proj.weight\n",
      "Loaded model.layers.2.self_attn.qkv_proj.weight\n",
      "Loading model.layers.3.input_layernorm.weight\n",
      "Loaded model.layers.3.input_layernorm.weight\n",
      "Loading model.layers.3.mlp.down_proj.weight\n",
      "Loaded model.layers.3.mlp.down_proj.weight\n",
      "Loading model.layers.3.mlp.gate_proj.weight\n",
      "Loaded model.layers.3.mlp.gate_up_proj.weight\n",
      "Loading model.layers.3.mlp.up_proj.weight\n",
      "Loaded model.layers.3.mlp.gate_up_proj.weight\n",
      "Loading model.layers.3.post_attention_layernorm.weight\n",
      "Loaded model.layers.3.post_attention_layernorm.weight\n",
      "Loading model.layers.3.self_attn.k_proj.weight\n",
      "Loaded model.layers.3.self_attn.qkv_proj.weight\n",
      "Loading model.layers.3.self_attn.o_proj.weight\n",
      "Loaded model.layers.3.self_attn.o_proj.weight\n",
      "Loading model.layers.3.self_attn.q_proj.weight\n",
      "Loaded model.layers.3.self_attn.qkv_proj.weight\n",
      "Loading model.layers.3.self_attn.v_proj.weight\n",
      "Loaded model.layers.3.self_attn.qkv_proj.weight\n",
      "Loading model.layers.4.input_layernorm.weight\n",
      "Loaded model.layers.4.input_layernorm.weight\n",
      "Loading model.layers.4.mlp.down_proj.weight\n",
      "Loaded model.layers.4.mlp.down_proj.weight\n",
      "Loading model.layers.4.mlp.gate_proj.weight\n",
      "Loaded model.layers.4.mlp.gate_up_proj.weight\n",
      "Loading model.layers.4.mlp.up_proj.weight\n",
      "Loaded model.layers.4.mlp.gate_up_proj.weight\n",
      "Loading model.layers.4.post_attention_layernorm.weight\n",
      "Loaded model.layers.4.post_attention_layernorm.weight\n",
      "Loading model.layers.4.self_attn.k_proj.weight\n",
      "Loaded model.layers.4.self_attn.qkv_proj.weight\n",
      "Loading model.layers.4.self_attn.o_proj.weight\n",
      "Loaded model.layers.4.self_attn.o_proj.weight\n",
      "Loading model.layers.4.self_attn.q_proj.weight\n",
      "Loaded model.layers.4.self_attn.qkv_proj.weight\n",
      "Loading model.layers.4.self_attn.v_proj.weight\n",
      "Loaded model.layers.4.self_attn.qkv_proj.weight\n",
      "Loading model.layers.5.input_layernorm.weight\n",
      "Loaded model.layers.5.input_layernorm.weight\n",
      "Loading model.layers.5.mlp.down_proj.weight\n",
      "Loaded model.layers.5.mlp.down_proj.weight\n",
      "Loading model.layers.5.mlp.gate_proj.weight\n",
      "Loaded model.layers.5.mlp.gate_up_proj.weight\n",
      "Loading model.layers.5.mlp.up_proj.weight\n",
      "Loaded model.layers.5.mlp.gate_up_proj.weight\n",
      "Loading model.layers.5.post_attention_layernorm.weight\n",
      "Loaded model.layers.5.post_attention_layernorm.weight\n",
      "Loading model.layers.5.self_attn.k_proj.weight\n",
      "Loaded model.layers.5.self_attn.qkv_proj.weight\n",
      "Loading model.layers.5.self_attn.o_proj.weight\n",
      "Loaded model.layers.5.self_attn.o_proj.weight\n",
      "Loading model.layers.5.self_attn.q_proj.weight\n",
      "Loaded model.layers.5.self_attn.qkv_proj.weight\n",
      "Loading model.layers.5.self_attn.v_proj.weight\n",
      "Loaded model.layers.5.self_attn.qkv_proj.weight\n",
      "Loading model.layers.6.input_layernorm.weight\n",
      "Loaded model.layers.6.input_layernorm.weight\n",
      "Loading model.layers.6.mlp.down_proj.weight\n",
      "Loaded model.layers.6.mlp.down_proj.weight\n",
      "Loading model.layers.6.mlp.gate_proj.weight\n",
      "Loaded model.layers.6.mlp.gate_up_proj.weight\n",
      "Loading model.layers.6.mlp.up_proj.weight\n",
      "Loaded model.layers.6.mlp.gate_up_proj.weight\n",
      "Loading model.layers.6.post_attention_layernorm.weight\n",
      "Loaded model.layers.6.post_attention_layernorm.weight\n",
      "Loading model.layers.6.self_attn.k_proj.weight\n",
      "Loaded model.layers.6.self_attn.qkv_proj.weight\n",
      "Loading model.layers.6.self_attn.o_proj.weight\n",
      "Loaded model.layers.6.self_attn.o_proj.weight\n",
      "Loading model.layers.6.self_attn.q_proj.weight\n",
      "Loaded model.layers.6.self_attn.qkv_proj.weight\n",
      "Loading model.layers.6.self_attn.v_proj.weight\n",
      "Loaded model.layers.6.self_attn.qkv_proj.weight\n",
      "Loading model.layers.7.input_layernorm.weight\n",
      "Loaded model.layers.7.input_layernorm.weight\n",
      "Loading model.layers.7.mlp.down_proj.weight\n",
      "Loaded model.layers.7.mlp.down_proj.weight\n",
      "Loading model.layers.7.mlp.gate_proj.weight\n",
      "Loaded model.layers.7.mlp.gate_up_proj.weight\n",
      "Loading model.layers.7.mlp.up_proj.weight\n",
      "Loaded model.layers.7.mlp.gate_up_proj.weight\n",
      "Loading model.layers.7.post_attention_layernorm.weight\n",
      "Loaded model.layers.7.post_attention_layernorm.weight\n",
      "Loading model.layers.7.self_attn.k_proj.weight\n",
      "Loaded model.layers.7.self_attn.qkv_proj.weight\n",
      "Loading model.layers.7.self_attn.o_proj.weight\n",
      "Loaded model.layers.7.self_attn.o_proj.weight\n",
      "Loading model.layers.7.self_attn.q_proj.weight\n",
      "Loaded model.layers.7.self_attn.qkv_proj.weight\n",
      "Loading model.layers.7.self_attn.v_proj.weight\n",
      "Loaded model.layers.7.self_attn.qkv_proj.weight\n",
      "Loading model.layers.8.input_layernorm.weight\n",
      "Loaded model.layers.8.input_layernorm.weight\n",
      "Loading model.layers.8.mlp.down_proj.weight\n",
      "Loaded model.layers.8.mlp.down_proj.weight\n",
      "Loading model.layers.8.mlp.gate_proj.weight\n",
      "Loaded model.layers.8.mlp.gate_up_proj.weight\n",
      "Loading model.layers.8.mlp.up_proj.weight\n",
      "Loaded model.layers.8.mlp.gate_up_proj.weight\n",
      "Loading model.layers.8.post_attention_layernorm.weight\n",
      "Loaded model.layers.8.post_attention_layernorm.weight\n",
      "Loading model.layers.8.self_attn.k_proj.weight\n",
      "Loaded model.layers.8.self_attn.qkv_proj.weight\n",
      "Loading model.layers.8.self_attn.o_proj.weight\n",
      "Loaded model.layers.8.self_attn.o_proj.weight\n",
      "Loading model.layers.8.self_attn.q_proj.weight\n",
      "Loaded model.layers.8.self_attn.qkv_proj.weight\n",
      "Loading model.layers.8.self_attn.v_proj.weight\n",
      "Loaded model.layers.8.self_attn.qkv_proj.weight\n",
      "Loading model.layers.10.input_layernorm.weight\n",
      "Loaded model.layers.10.input_layernorm.weight\n",
      "Loading model.layers.10.mlp.down_proj.weight\n",
      "Loaded model.layers.10.mlp.down_proj.weight\n",
      "Loading model.layers.10.mlp.gate_proj.weight\n",
      "Loaded model.layers.10.mlp.gate_up_proj.weight\n",
      "Loading model.layers.10.mlp.up_proj.weight\n",
      "Loaded model.layers.10.mlp.gate_up_proj.weight\n",
      "Loading model.layers.10.post_attention_layernorm.weight\n",
      "Loaded model.layers.10.post_attention_layernorm.weight\n",
      "Loading model.layers.10.self_attn.k_proj.weight\n",
      "Loaded model.layers.10.self_attn.qkv_proj.weight\n",
      "Loading model.layers.10.self_attn.o_proj.weight\n",
      "Loaded model.layers.10.self_attn.o_proj.weight\n",
      "Loading model.layers.10.self_attn.q_proj.weight\n",
      "Loaded model.layers.10.self_attn.qkv_proj.weight\n",
      "Loading model.layers.10.self_attn.v_proj.weight\n",
      "Loaded model.layers.10.self_attn.qkv_proj.weight\n",
      "Loading model.layers.11.input_layernorm.weight\n",
      "Loaded model.layers.11.input_layernorm.weight\n",
      "Loading model.layers.11.mlp.down_proj.weight\n",
      "Loaded model.layers.11.mlp.down_proj.weight\n",
      "Loading model.layers.11.mlp.gate_proj.weight\n",
      "Loaded model.layers.11.mlp.gate_up_proj.weight\n",
      "Loading model.layers.11.mlp.up_proj.weight\n",
      "Loaded model.layers.11.mlp.gate_up_proj.weight\n",
      "Loading model.layers.11.post_attention_layernorm.weight\n",
      "Loaded model.layers.11.post_attention_layernorm.weight\n",
      "Loading model.layers.11.self_attn.k_proj.weight\n",
      "Loaded model.layers.11.self_attn.qkv_proj.weight\n",
      "Loading model.layers.11.self_attn.o_proj.weight\n",
      "Loaded model.layers.11.self_attn.o_proj.weight\n",
      "Loading model.layers.11.self_attn.q_proj.weight\n",
      "Loaded model.layers.11.self_attn.qkv_proj.weight\n",
      "Loading model.layers.11.self_attn.v_proj.weight\n",
      "Loaded model.layers.11.self_attn.qkv_proj.weight\n",
      "Loading model.layers.12.input_layernorm.weight\n",
      "Loaded model.layers.12.input_layernorm.weight\n",
      "Loading model.layers.12.mlp.down_proj.weight\n",
      "Loaded model.layers.12.mlp.down_proj.weight\n",
      "Loading model.layers.12.mlp.gate_proj.weight\n",
      "Loaded model.layers.12.mlp.gate_up_proj.weight\n",
      "Loading model.layers.12.mlp.up_proj.weight\n",
      "Loaded model.layers.12.mlp.gate_up_proj.weight\n",
      "Loading model.layers.12.post_attention_layernorm.weight\n",
      "Loaded model.layers.12.post_attention_layernorm.weight\n",
      "Loading model.layers.12.self_attn.k_proj.weight\n",
      "Loaded model.layers.12.self_attn.qkv_proj.weight\n",
      "Loading model.layers.12.self_attn.o_proj.weight\n",
      "Loaded model.layers.12.self_attn.o_proj.weight\n",
      "Loading model.layers.12.self_attn.q_proj.weight\n",
      "Loaded model.layers.12.self_attn.qkv_proj.weight\n",
      "Loading model.layers.12.self_attn.v_proj.weight\n",
      "Loaded model.layers.12.self_attn.qkv_proj.weight\n",
      "Loading model.layers.13.input_layernorm.weight\n",
      "Loaded model.layers.13.input_layernorm.weight\n",
      "Loading model.layers.13.mlp.down_proj.weight\n",
      "Loaded model.layers.13.mlp.down_proj.weight\n",
      "Loading model.layers.13.mlp.gate_proj.weight\n",
      "Loaded model.layers.13.mlp.gate_up_proj.weight\n",
      "Loading model.layers.13.mlp.up_proj.weight\n",
      "Loaded model.layers.13.mlp.gate_up_proj.weight\n",
      "Loading model.layers.13.post_attention_layernorm.weight\n",
      "Loaded model.layers.13.post_attention_layernorm.weight\n",
      "Loading model.layers.13.self_attn.k_proj.weight\n",
      "Loaded model.layers.13.self_attn.qkv_proj.weight\n",
      "Loading model.layers.13.self_attn.o_proj.weight\n",
      "Loaded model.layers.13.self_attn.o_proj.weight\n",
      "Loading model.layers.13.self_attn.q_proj.weight\n",
      "Loaded model.layers.13.self_attn.qkv_proj.weight\n",
      "Loading model.layers.13.self_attn.v_proj.weight\n",
      "Loaded model.layers.13.self_attn.qkv_proj.weight\n",
      "Loading model.layers.14.input_layernorm.weight\n",
      "Loaded model.layers.14.input_layernorm.weight\n",
      "Loading model.layers.14.mlp.down_proj.weight\n",
      "Loaded model.layers.14.mlp.down_proj.weight\n",
      "Loading model.layers.14.mlp.gate_proj.weight\n",
      "Loaded model.layers.14.mlp.gate_up_proj.weight\n",
      "Loading model.layers.14.mlp.up_proj.weight\n",
      "Loaded model.layers.14.mlp.gate_up_proj.weight\n",
      "Loading model.layers.14.post_attention_layernorm.weight\n",
      "Loaded model.layers.14.post_attention_layernorm.weight\n",
      "Loading model.layers.14.self_attn.k_proj.weight\n",
      "Loaded model.layers.14.self_attn.qkv_proj.weight\n",
      "Loading model.layers.14.self_attn.o_proj.weight\n",
      "Loaded model.layers.14.self_attn.o_proj.weight\n",
      "Loading model.layers.14.self_attn.q_proj.weight\n",
      "Loaded model.layers.14.self_attn.qkv_proj.weight\n",
      "Loading model.layers.14.self_attn.v_proj.weight\n",
      "Loaded model.layers.14.self_attn.qkv_proj.weight\n",
      "Loading model.layers.15.input_layernorm.weight\n",
      "Loaded model.layers.15.input_layernorm.weight\n",
      "Loading model.layers.15.mlp.down_proj.weight\n",
      "Loaded model.layers.15.mlp.down_proj.weight\n",
      "Loading model.layers.15.mlp.gate_proj.weight\n",
      "Loaded model.layers.15.mlp.gate_up_proj.weight\n",
      "Loading model.layers.15.mlp.up_proj.weight\n",
      "Loaded model.layers.15.mlp.gate_up_proj.weight\n",
      "Loading model.layers.15.post_attention_layernorm.weight\n",
      "Loaded model.layers.15.post_attention_layernorm.weight\n",
      "Loading model.layers.15.self_attn.k_proj.weight\n",
      "Loaded model.layers.15.self_attn.qkv_proj.weight\n",
      "Loading model.layers.15.self_attn.o_proj.weight\n",
      "Loaded model.layers.15.self_attn.o_proj.weight\n",
      "Loading model.layers.15.self_attn.q_proj.weight\n",
      "Loaded model.layers.15.self_attn.qkv_proj.weight\n",
      "Loading model.layers.15.self_attn.v_proj.weight\n",
      "Loaded model.layers.15.self_attn.qkv_proj.weight\n",
      "Loading model.layers.16.input_layernorm.weight\n",
      "Loaded model.layers.16.input_layernorm.weight\n",
      "Loading model.layers.16.mlp.down_proj.weight\n",
      "Loaded model.layers.16.mlp.down_proj.weight\n",
      "Loading model.layers.16.mlp.gate_proj.weight\n",
      "Loaded model.layers.16.mlp.gate_up_proj.weight\n",
      "Loading model.layers.16.mlp.up_proj.weight\n",
      "Loaded model.layers.16.mlp.gate_up_proj.weight\n",
      "Loading model.layers.16.post_attention_layernorm.weight\n",
      "Loaded model.layers.16.post_attention_layernorm.weight\n",
      "Loading model.layers.16.self_attn.k_proj.weight\n",
      "Loaded model.layers.16.self_attn.qkv_proj.weight\n",
      "Loading model.layers.16.self_attn.o_proj.weight\n",
      "Loaded model.layers.16.self_attn.o_proj.weight\n",
      "Loading model.layers.16.self_attn.q_proj.weight\n",
      "Loaded model.layers.16.self_attn.qkv_proj.weight\n",
      "Loading model.layers.16.self_attn.v_proj.weight\n",
      "Loaded model.layers.16.self_attn.qkv_proj.weight\n",
      "Loading model.layers.17.input_layernorm.weight\n",
      "Loaded model.layers.17.input_layernorm.weight\n",
      "Loading model.layers.17.mlp.down_proj.weight\n",
      "Loaded model.layers.17.mlp.down_proj.weight\n",
      "Loading model.layers.17.mlp.gate_proj.weight\n",
      "Loaded model.layers.17.mlp.gate_up_proj.weight\n",
      "Loading model.layers.17.mlp.up_proj.weight\n",
      "Loaded model.layers.17.mlp.gate_up_proj.weight\n",
      "Loading model.layers.17.post_attention_layernorm.weight\n",
      "Loaded model.layers.17.post_attention_layernorm.weight\n",
      "Loading model.layers.17.self_attn.k_proj.weight\n",
      "Loaded model.layers.17.self_attn.qkv_proj.weight\n",
      "Loading model.layers.17.self_attn.o_proj.weight\n",
      "Loaded model.layers.17.self_attn.o_proj.weight\n",
      "Loading model.layers.17.self_attn.q_proj.weight\n",
      "Loaded model.layers.17.self_attn.qkv_proj.weight\n",
      "Loading model.layers.17.self_attn.v_proj.weight\n",
      "Loaded model.layers.17.self_attn.qkv_proj.weight\n",
      "Loading model.layers.18.input_layernorm.weight\n",
      "Loaded model.layers.18.input_layernorm.weight\n",
      "Loading model.layers.18.mlp.down_proj.weight\n",
      "Loaded model.layers.18.mlp.down_proj.weight\n",
      "Loading model.layers.18.mlp.gate_proj.weight\n",
      "Loaded model.layers.18.mlp.gate_up_proj.weight\n",
      "Loading model.layers.18.mlp.up_proj.weight\n",
      "Loaded model.layers.18.mlp.gate_up_proj.weight\n",
      "Loading model.layers.18.post_attention_layernorm.weight\n",
      "Loaded model.layers.18.post_attention_layernorm.weight\n",
      "Loading model.layers.18.self_attn.k_proj.weight\n",
      "Loaded model.layers.18.self_attn.qkv_proj.weight\n",
      "Loading model.layers.18.self_attn.o_proj.weight\n",
      "Loaded model.layers.18.self_attn.o_proj.weight\n",
      "Loading model.layers.18.self_attn.q_proj.weight\n",
      "Loaded model.layers.18.self_attn.qkv_proj.weight\n",
      "Loading model.layers.18.self_attn.v_proj.weight\n",
      "Loaded model.layers.18.self_attn.qkv_proj.weight\n",
      "Loading model.layers.19.input_layernorm.weight\n",
      "Loaded model.layers.19.input_layernorm.weight\n",
      "Loading model.layers.19.mlp.down_proj.weight\n",
      "Loaded model.layers.19.mlp.down_proj.weight\n",
      "Loading model.layers.19.mlp.gate_proj.weight\n",
      "Loaded model.layers.19.mlp.gate_up_proj.weight\n",
      "Loading model.layers.19.mlp.up_proj.weight\n",
      "Loaded model.layers.19.mlp.gate_up_proj.weight\n",
      "Loading model.layers.19.post_attention_layernorm.weight\n",
      "Loaded model.layers.19.post_attention_layernorm.weight\n",
      "Loading model.layers.19.self_attn.k_proj.weight\n",
      "Loaded model.layers.19.self_attn.qkv_proj.weight\n",
      "Loading model.layers.19.self_attn.o_proj.weight\n",
      "Loaded model.layers.19.self_attn.o_proj.weight\n",
      "Loading model.layers.19.self_attn.q_proj.weight\n",
      "Loaded model.layers.19.self_attn.qkv_proj.weight\n",
      "Loading model.layers.19.self_attn.v_proj.weight\n",
      "Loaded model.layers.19.self_attn.qkv_proj.weight\n",
      "Loading model.layers.20.mlp.gate_proj.weight\n",
      "Loaded model.layers.20.mlp.gate_up_proj.weight\n",
      "Loading model.layers.20.self_attn.k_proj.weight\n",
      "Loaded model.layers.20.self_attn.qkv_proj.weight\n",
      "Loading model.layers.20.self_attn.o_proj.weight\n",
      "Loaded model.layers.20.self_attn.o_proj.weight\n",
      "Loading model.layers.20.self_attn.q_proj.weight\n",
      "Loaded model.layers.20.self_attn.qkv_proj.weight\n",
      "Loading model.layers.20.self_attn.v_proj.weight\n",
      "Loaded model.layers.20.self_attn.qkv_proj.weight\n",
      "Loading model.layers.9.input_layernorm.weight\n",
      "Loaded model.layers.9.input_layernorm.weight\n",
      "Loading model.layers.9.mlp.down_proj.weight\n",
      "Loaded model.layers.9.mlp.down_proj.weight\n",
      "Loading model.layers.9.mlp.gate_proj.weight\n",
      "Loaded model.layers.9.mlp.gate_up_proj.weight\n",
      "Loading model.layers.9.mlp.up_proj.weight\n",
      "Loaded model.layers.9.mlp.gate_up_proj.weight\n",
      "Loading model.layers.9.post_attention_layernorm.weight\n",
      "Loaded model.layers.9.post_attention_layernorm.weight\n",
      "Loading model.layers.9.self_attn.k_proj.weight\n",
      "Loaded model.layers.9.self_attn.qkv_proj.weight\n",
      "Loading model.layers.9.self_attn.o_proj.weight\n",
      "Loaded model.layers.9.self_attn.o_proj.weight\n",
      "Loading model.layers.9.self_attn.q_proj.weight\n",
      "Loaded model.layers.9.self_attn.qkv_proj.weight\n",
      "Loading model.layers.9.self_attn.v_proj.weight\n",
      "Loaded model.layers.9.self_attn.qkv_proj.weight\n",
      "Loading model.layers.20.input_layernorm.weight\n",
      "Loaded model.layers.20.input_layernorm.weight\n",
      "Loading model.layers.20.mlp.down_proj.weight\n",
      "Loaded model.layers.20.mlp.down_proj.weight\n",
      "Loading model.layers.20.mlp.up_proj.weight\n",
      "Loaded model.layers.20.mlp.gate_up_proj.weight\n",
      "Loading model.layers.20.post_attention_layernorm.weight\n",
      "Loaded model.layers.20.post_attention_layernorm.weight\n",
      "Loading model.layers.21.input_layernorm.weight\n",
      "Loaded model.layers.21.input_layernorm.weight\n",
      "Loading model.layers.21.mlp.down_proj.weight\n",
      "Loaded model.layers.21.mlp.down_proj.weight\n",
      "Loading model.layers.21.mlp.gate_proj.weight\n",
      "Loaded model.layers.21.mlp.gate_up_proj.weight\n",
      "Loading model.layers.21.mlp.up_proj.weight\n",
      "Loaded model.layers.21.mlp.gate_up_proj.weight\n",
      "Loading model.layers.21.post_attention_layernorm.weight\n",
      "Loaded model.layers.21.post_attention_layernorm.weight\n",
      "Loading model.layers.21.self_attn.k_proj.weight\n",
      "Loaded model.layers.21.self_attn.qkv_proj.weight\n",
      "Loading model.layers.21.self_attn.o_proj.weight\n",
      "Loaded model.layers.21.self_attn.o_proj.weight\n",
      "Loading model.layers.21.self_attn.q_proj.weight\n",
      "Loaded model.layers.21.self_attn.qkv_proj.weight\n",
      "Loading model.layers.21.self_attn.v_proj.weight\n",
      "Loaded model.layers.21.self_attn.qkv_proj.weight\n",
      "Loading model.layers.22.input_layernorm.weight\n",
      "Loaded model.layers.22.input_layernorm.weight\n",
      "Loading model.layers.22.mlp.down_proj.weight\n",
      "Loaded model.layers.22.mlp.down_proj.weight\n",
      "Loading model.layers.22.mlp.gate_proj.weight\n",
      "Loaded model.layers.22.mlp.gate_up_proj.weight\n",
      "Loading model.layers.22.mlp.up_proj.weight\n",
      "Loaded model.layers.22.mlp.gate_up_proj.weight\n",
      "Loading model.layers.22.post_attention_layernorm.weight\n",
      "Loaded model.layers.22.post_attention_layernorm.weight\n",
      "Loading model.layers.22.self_attn.k_proj.weight\n",
      "Loaded model.layers.22.self_attn.qkv_proj.weight\n",
      "Loading model.layers.22.self_attn.o_proj.weight\n",
      "Loaded model.layers.22.self_attn.o_proj.weight\n",
      "Loading model.layers.22.self_attn.q_proj.weight\n",
      "Loaded model.layers.22.self_attn.qkv_proj.weight\n",
      "Loading model.layers.22.self_attn.v_proj.weight\n",
      "Loaded model.layers.22.self_attn.qkv_proj.weight\n",
      "Loading model.layers.23.input_layernorm.weight\n",
      "Loaded model.layers.23.input_layernorm.weight\n",
      "Loading model.layers.23.mlp.down_proj.weight\n",
      "Loaded model.layers.23.mlp.down_proj.weight\n",
      "Loading model.layers.23.mlp.gate_proj.weight\n",
      "Loaded model.layers.23.mlp.gate_up_proj.weight\n",
      "Loading model.layers.23.mlp.up_proj.weight\n",
      "Loaded model.layers.23.mlp.gate_up_proj.weight\n",
      "Loading model.layers.23.post_attention_layernorm.weight\n",
      "Loaded model.layers.23.post_attention_layernorm.weight\n",
      "Loading model.layers.23.self_attn.k_proj.weight\n",
      "Loaded model.layers.23.self_attn.qkv_proj.weight\n",
      "Loading model.layers.23.self_attn.o_proj.weight\n",
      "Loaded model.layers.23.self_attn.o_proj.weight\n",
      "Loading model.layers.23.self_attn.q_proj.weight\n",
      "Loaded model.layers.23.self_attn.qkv_proj.weight\n",
      "Loading model.layers.23.self_attn.v_proj.weight\n",
      "Loaded model.layers.23.self_attn.qkv_proj.weight\n",
      "Loading model.layers.24.input_layernorm.weight\n",
      "Loaded model.layers.24.input_layernorm.weight\n",
      "Loading model.layers.24.mlp.down_proj.weight\n",
      "Loaded model.layers.24.mlp.down_proj.weight\n",
      "Loading model.layers.24.mlp.gate_proj.weight\n",
      "Loaded model.layers.24.mlp.gate_up_proj.weight\n",
      "Loading model.layers.24.mlp.up_proj.weight\n",
      "Loaded model.layers.24.mlp.gate_up_proj.weight\n",
      "Loading model.layers.24.post_attention_layernorm.weight\n",
      "Loaded model.layers.24.post_attention_layernorm.weight\n",
      "Loading model.layers.24.self_attn.k_proj.weight\n",
      "Loaded model.layers.24.self_attn.qkv_proj.weight\n",
      "Loading model.layers.24.self_attn.o_proj.weight\n",
      "Loaded model.layers.24.self_attn.o_proj.weight\n",
      "Loading model.layers.24.self_attn.q_proj.weight\n",
      "Loaded model.layers.24.self_attn.qkv_proj.weight\n",
      "Loading model.layers.24.self_attn.v_proj.weight\n",
      "Loaded model.layers.24.self_attn.qkv_proj.weight\n",
      "Loading model.layers.25.input_layernorm.weight\n",
      "Loaded model.layers.25.input_layernorm.weight\n",
      "Loading model.layers.25.mlp.down_proj.weight\n",
      "Loaded model.layers.25.mlp.down_proj.weight\n",
      "Loading model.layers.25.mlp.gate_proj.weight\n",
      "Loaded model.layers.25.mlp.gate_up_proj.weight\n",
      "Loading model.layers.25.mlp.up_proj.weight\n",
      "Loaded model.layers.25.mlp.gate_up_proj.weight\n",
      "Loading model.layers.25.post_attention_layernorm.weight\n",
      "Loaded model.layers.25.post_attention_layernorm.weight\n",
      "Loading model.layers.25.self_attn.k_proj.weight\n",
      "Loaded model.layers.25.self_attn.qkv_proj.weight\n",
      "Loading model.layers.25.self_attn.o_proj.weight\n",
      "Loaded model.layers.25.self_attn.o_proj.weight\n",
      "Loading model.layers.25.self_attn.q_proj.weight\n",
      "Loaded model.layers.25.self_attn.qkv_proj.weight\n",
      "Loading model.layers.25.self_attn.v_proj.weight\n",
      "Loaded model.layers.25.self_attn.qkv_proj.weight\n",
      "Loading model.layers.26.input_layernorm.weight\n",
      "Loaded model.layers.26.input_layernorm.weight\n",
      "Loading model.layers.26.mlp.down_proj.weight\n",
      "Loaded model.layers.26.mlp.down_proj.weight\n",
      "Loading model.layers.26.mlp.gate_proj.weight\n",
      "Loaded model.layers.26.mlp.gate_up_proj.weight\n",
      "Loading model.layers.26.mlp.up_proj.weight\n",
      "Loaded model.layers.26.mlp.gate_up_proj.weight\n",
      "Loading model.layers.26.post_attention_layernorm.weight\n",
      "Loaded model.layers.26.post_attention_layernorm.weight\n",
      "Loading model.layers.26.self_attn.k_proj.weight\n",
      "Loaded model.layers.26.self_attn.qkv_proj.weight\n",
      "Loading model.layers.26.self_attn.o_proj.weight\n",
      "Loaded model.layers.26.self_attn.o_proj.weight\n",
      "Loading model.layers.26.self_attn.q_proj.weight\n",
      "Loaded model.layers.26.self_attn.qkv_proj.weight\n",
      "Loading model.layers.26.self_attn.v_proj.weight\n",
      "Loaded model.layers.26.self_attn.qkv_proj.weight\n",
      "Loading model.layers.27.input_layernorm.weight\n",
      "Loaded model.layers.27.input_layernorm.weight\n",
      "Loading model.layers.27.mlp.down_proj.weight\n",
      "Loaded model.layers.27.mlp.down_proj.weight\n",
      "Loading model.layers.27.mlp.gate_proj.weight\n",
      "Loaded model.layers.27.mlp.gate_up_proj.weight\n",
      "Loading model.layers.27.mlp.up_proj.weight\n",
      "Loaded model.layers.27.mlp.gate_up_proj.weight\n",
      "Loading model.layers.27.post_attention_layernorm.weight\n",
      "Loaded model.layers.27.post_attention_layernorm.weight\n",
      "Loading model.layers.27.self_attn.k_proj.weight\n",
      "Loaded model.layers.27.self_attn.qkv_proj.weight\n",
      "Loading model.layers.27.self_attn.o_proj.weight\n",
      "Loaded model.layers.27.self_attn.o_proj.weight\n",
      "Loading model.layers.27.self_attn.q_proj.weight\n",
      "Loaded model.layers.27.self_attn.qkv_proj.weight\n",
      "Loading model.layers.27.self_attn.v_proj.weight\n",
      "Loaded model.layers.27.self_attn.qkv_proj.weight\n",
      "Loading model.layers.28.input_layernorm.weight\n",
      "Loaded model.layers.28.input_layernorm.weight\n",
      "Loading model.layers.28.mlp.down_proj.weight\n",
      "Loaded model.layers.28.mlp.down_proj.weight\n",
      "Loading model.layers.28.mlp.gate_proj.weight\n",
      "Loaded model.layers.28.mlp.gate_up_proj.weight\n",
      "Loading model.layers.28.mlp.up_proj.weight\n",
      "Loaded model.layers.28.mlp.gate_up_proj.weight\n",
      "Loading model.layers.28.post_attention_layernorm.weight\n",
      "Loaded model.layers.28.post_attention_layernorm.weight\n",
      "Loading model.layers.28.self_attn.k_proj.weight\n",
      "Loaded model.layers.28.self_attn.qkv_proj.weight\n",
      "Loading model.layers.28.self_attn.o_proj.weight\n",
      "Loaded model.layers.28.self_attn.o_proj.weight\n",
      "Loading model.layers.28.self_attn.q_proj.weight\n",
      "Loaded model.layers.28.self_attn.qkv_proj.weight\n",
      "Loading model.layers.28.self_attn.v_proj.weight\n",
      "Loaded model.layers.28.self_attn.qkv_proj.weight\n",
      "Loading model.layers.29.input_layernorm.weight\n",
      "Loaded model.layers.29.input_layernorm.weight\n",
      "Loading model.layers.29.mlp.down_proj.weight\n",
      "Loaded model.layers.29.mlp.down_proj.weight\n",
      "Loading model.layers.29.mlp.gate_proj.weight\n",
      "Loaded model.layers.29.mlp.gate_up_proj.weight\n",
      "Loading model.layers.29.mlp.up_proj.weight\n",
      "Loaded model.layers.29.mlp.gate_up_proj.weight\n",
      "Loading model.layers.29.post_attention_layernorm.weight\n",
      "Loaded model.layers.29.post_attention_layernorm.weight\n",
      "Loading model.layers.29.self_attn.k_proj.weight\n",
      "Loaded model.layers.29.self_attn.qkv_proj.weight\n",
      "Loading model.layers.29.self_attn.o_proj.weight\n",
      "Loaded model.layers.29.self_attn.o_proj.weight\n",
      "Loading model.layers.29.self_attn.q_proj.weight\n",
      "Loaded model.layers.29.self_attn.qkv_proj.weight\n",
      "Loading model.layers.29.self_attn.v_proj.weight\n",
      "Loaded model.layers.29.self_attn.qkv_proj.weight\n",
      "Loading model.layers.30.input_layernorm.weight\n",
      "Loaded model.layers.30.input_layernorm.weight\n",
      "Loading model.layers.30.mlp.down_proj.weight\n",
      "Loaded model.layers.30.mlp.down_proj.weight\n",
      "Loading model.layers.30.mlp.gate_proj.weight\n",
      "Loaded model.layers.30.mlp.gate_up_proj.weight\n",
      "Loading model.layers.30.mlp.up_proj.weight\n",
      "Loaded model.layers.30.mlp.gate_up_proj.weight\n",
      "Loading model.layers.30.post_attention_layernorm.weight\n",
      "Loaded model.layers.30.post_attention_layernorm.weight\n",
      "Loading model.layers.30.self_attn.k_proj.weight\n",
      "Loaded model.layers.30.self_attn.qkv_proj.weight\n",
      "Loading model.layers.30.self_attn.o_proj.weight\n",
      "Loaded model.layers.30.self_attn.o_proj.weight\n",
      "Loading model.layers.30.self_attn.q_proj.weight\n",
      "Loaded model.layers.30.self_attn.qkv_proj.weight\n",
      "Loading model.layers.30.self_attn.v_proj.weight\n",
      "Loaded model.layers.30.self_attn.qkv_proj.weight\n",
      "Loading model.layers.31.mlp.gate_proj.weight\n",
      "Loaded model.layers.31.mlp.gate_up_proj.weight\n",
      "Loading model.layers.31.mlp.up_proj.weight\n",
      "Loaded model.layers.31.mlp.gate_up_proj.weight\n",
      "Loading model.layers.31.self_attn.k_proj.weight\n",
      "Loaded model.layers.31.self_attn.qkv_proj.weight\n",
      "Loading model.layers.31.self_attn.o_proj.weight\n",
      "Loaded model.layers.31.self_attn.o_proj.weight\n",
      "Loading model.layers.31.self_attn.q_proj.weight\n",
      "Loaded model.layers.31.self_attn.qkv_proj.weight\n",
      "Loading model.layers.31.self_attn.v_proj.weight\n",
      "Loaded model.layers.31.self_attn.qkv_proj.weight\n",
      "Loading lm_head.weight\n",
      "Loaded lm_head.weight\n",
      "Loading model.layers.31.input_layernorm.weight\n",
      "Loaded model.layers.31.input_layernorm.weight\n",
      "Loading model.layers.31.mlp.down_proj.weight\n",
      "Loaded model.layers.31.mlp.down_proj.weight\n",
      "Loading model.layers.31.post_attention_layernorm.weight\n",
      "Loaded model.layers.31.post_attention_layernorm.weight\n",
      "Loading model.norm.weight\n",
      "Loaded model.norm.weight\n",
      "INFO 08-30 15:02:18 model_runner.py:732] Loading model weights took 14.9888 GB\n",
      "INFO 08-30 15:02:19 gpu_executor.py:102] # GPU blocks: 23895, # CPU blocks: 2048\n",
      "INFO 08-30 15:02:22 model_runner.py:1019] Capturing the model for CUDA graphs. This may lead to unexpected consequences if the model is not static. To run the model in eager mode, set 'enforce_eager=True' or use '--enforce-eager' in the CLI.\n",
      "INFO 08-30 15:02:22 model_runner.py:1023] CUDA graphs can take additional 1~3 GiB memory per GPU. If you are running out of memory, consider decreasing `gpu_memory_utilization` or enforcing eager mode. You can also reduce the `max_num_seqs` as needed to decrease memory usage.\n",
      "INFO 08-30 15:02:33 model_runner.py:1220] Graph capturing finished in 11 secs.\n"
     ]
    }
   ],
   "source": [
    "llm = LLM(\n",
    "    \t  model=MODEL_NAME, \n",
    "          tokenizer=TOKENIZER, \n",
    "          tensor_parallel_size=NUM_GPUS, \n",
    "          max_model_len=8192,\n",
    "        #   quantization=\"bitblas\",\n",
    "        #   dtype=\"float16\",\n",
    "          dtype=\"bfloat16\",\n",
    "\t\t  gpu_memory_utilization=0.8,\n",
    "    \t#   enforce_eager=True,\n",
    "          )"
   ]
  },
  {
   "cell_type": "code",
   "execution_count": 22,
   "id": "ed93c58d-a5e5-4b4b-9f29-8c50276bdfcc",
   "metadata": {},
   "outputs": [],
   "source": [
    "# base model\n",
    "# outputs = llm.generate(inputs, SamplingParams(temperature=0.0, max_tokens=1024))"
   ]
  },
  {
   "cell_type": "code",
   "execution_count": 35,
   "id": "90462dd1-aa47-4e26-b402-e75580c0f397",
   "metadata": {},
   "outputs": [
    {
     "name": "stderr",
     "output_type": "stream",
     "text": [
      "Processed prompts:   0%|          | 0/128 [00:00<?, ?it/s, est. speed input: 0.00 toks/s, output: 0.00 toks/s]"
     ]
    },
    {
     "name": "stderr",
     "output_type": "stream",
     "text": [
      "Processed prompts: 100%|██████████| 128/128 [00:19<00:00,  6.43it/s, est. speed input: 695.78 toks/s, output: 1655.81 toks/s] \n"
     ]
    },
    {
     "data": {
      "text/plain": [
       "0.5859375"
      ]
     },
     "execution_count": 35,
     "metadata": {},
     "output_type": "execute_result"
    }
   ],
   "source": [
    "# chat model\n",
    "outputs = llm.generate(chat_inputs[:128], SamplingParams(temperature=0.0, max_tokens=1024, stop=[\"<|eot_id|>\"]))\n",
    "short_answers_pred = [extract_last_number_or_ratio(o.outputs[0].text) for o in outputs]\n",
    "exact_match_score(short_answers_pred, labels)"
   ]
  },
  {
   "cell_type": "code",
   "execution_count": 36,
   "id": "3a5f9649",
   "metadata": {},
   "outputs": [],
   "source": [
    "output_texts = [(o.outputs[0].text) for o in outputs]"
   ]
  },
  {
   "cell_type": "code",
   "execution_count": 46,
   "id": "daa0fd23",
   "metadata": {},
   "outputs": [
    {
     "name": "stdout",
     "output_type": "stream",
     "text": [
      "Let's break down the problem step by step:\n",
      "\n",
      "1. Jake initially has 120 bitcoins.\n",
      "2. He invests 40 bitcoins into a venture that doubles his investment. So, he now has 120 + 40 = 160 bitcoins.\n",
      "3. He donates 25 bitcoins to charity. So, he now has 160 - 25 = 135 bitcoins.\n",
      "4. He gives half of all the bitcoins in his possession to his brother. So, he gives 135 / 2 = 67.5 bitcoins to his brother. Since we can't have half a bitcoin, we'll round down to 67 bitcoins. So, he now has 135 - 67 = 68 bitcoins.\n",
      "5. He takes back 5 bitcoins from his brother as payment for an outstanding debt. So, he now has 68 + 5 = 73 bitcoins.\n",
      "6. He quadruples the number of bitcoins he has. So, he now has 73 * 4 = 292 bitcoins.\n",
      "7. He donates another 15 bitcoins to a different charity. So, he now has 292 - 15 = 277 bitcoins.\n",
      "\n",
      "Jake now has 277 bitcoins.\n"
     ]
    }
   ],
   "source": [
    "print(output_texts[10])"
   ]
  },
  {
   "cell_type": "code",
   "execution_count": 30,
   "id": "28092e7f",
   "metadata": {},
   "outputs": [
    {
     "name": "stderr",
     "output_type": "stream",
     "text": [
      "Processed prompts: 100%|██████████| 1/1 [00:03<00:00,  3.94s/it, est. speed input: 20.57 toks/s, output: 77.46 toks/s]"
     ]
    },
    {
     "name": "stdout",
     "output_type": "stream",
     "text": [
      "Fastai is a Python library that provides a high-level interface for deep learning and computer vision tasks. It is built on top of popular deep learning frameworks such as PyTorch and TensorFlow, and provides a simple and intuitive API for training and deploying models. Fastai is particularly useful for image classification tasks, as it provides a range of pre-built models and pre-processing techniques that can be used to train models on large datasets.\n",
      "\n",
      "Here is an example of how to use fastai to perform image classification inference on a pre-trained model:\n",
      "```python\n",
      "from fastai.vision.all import *\n",
      "# Load the pre-trained model\n",
      "model = load_model('path/to/model.h5')\n",
      "# Load the input image\n",
      "image = load_image('path/to/image.jpg')\n",
      "# Make predictions on the image\n",
      "predictions = predict(model, image)\n",
      "# Print the predictions\n",
      "print(predictions)\n",
      "```\n",
      "In this example, we first load the pre-trained model using the `load_model` function. We then load the input image using the `load_image` function. We then make predictions on the image using the `predict` function, which takes the model and the image as arguments. Finally, we print the predictions using the `print` function.\n",
      "\n",
      "Note that the `load_model` and `load_image` functions are used to load the pre-trained model and the input image, respectively. The `predict` function is used to make predictions on the image using the pre-trained model. The `print` function is used to print the predictions.\n"
     ]
    },
    {
     "name": "stderr",
     "output_type": "stream",
     "text": [
      "\n"
     ]
    }
   ],
   "source": [
    "chat_input = [convert_to_chat_input(\"Write python code for image classification inference using fastai library and give a brief intro about the library. Use import `from fastai.vision.all import *`\")]\n",
    "outputs = llm.generate(chat_input, SamplingParams(temperature=0.0, max_tokens=1024, stop=[\"<|eot_id|>\"],\n",
    "                                                  frequency_penalty=0., presence_penalty=0.0))\n",
    "print(outputs[0].outputs[0].text)"
   ]
  },
  {
   "cell_type": "code",
   "execution_count": 32,
   "id": "e735fdfd",
   "metadata": {},
   "outputs": [
    {
     "name": "stderr",
     "output_type": "stream",
     "text": [
      "Processed prompts: 100%|██████████| 1/1 [00:01<00:00,  1.57s/it, est. speed input: 52.96 toks/s, output: 77.84 toks/s]"
     ]
    },
    {
     "name": "stdout",
     "output_type": "stream",
     "text": [
      "1. Leonardo da Vinci (1452-1516)\n",
      "2. Galileo Galilei (1561-1632)\n",
      "3. Johannes Kepler (1572-1630)\n",
      "4. Isaac Newton (1642-1727)\n",
      "5. Antoni van Leeuwenhoek (1632-1700)\n",
      "6. Robert Boyle (1645-1661)\n",
      "7. William Shakespeare (1564-1616)\n",
      "8. William Harvey (1572-1657)\n",
      "9. William Cullen (1770-1800)\n",
      "10. Joseph Black (1723-1793)\n"
     ]
    },
    {
     "name": "stderr",
     "output_type": "stream",
     "text": [
      "\n"
     ]
    }
   ],
   "source": [
    "chat_input = [convert_to_chat_input(\"List top 10 scientists from the 15th (1400-1500) century as numbered list with their dob and death. Inclde da vinci.\")]\n",
    "outputs = llm.generate(chat_input, SamplingParams(temperature=0.0, max_tokens=256, stop=[\"<|eot_id|>\"],\n",
    "                                                  frequency_penalty=0.0, presence_penalty=0.0))\n",
    "print(outputs[0].outputs[0].text)"
   ]
  },
  {
   "cell_type": "markdown",
   "id": "3c113080-4f09-49ca-b787-2c592cf4da1c",
   "metadata": {},
   "source": [
    "#### N-SHOT"
   ]
  },
  {
   "cell_type": "code",
   "execution_count": null,
   "id": "8f774674-116d-4f6e-b36e-06d47add2ad7",
   "metadata": {
    "scrolled": true
   },
   "outputs": [],
   "source": [
    "MODEL_NAME = \"meta-llama/Meta-Llama-3-8B-Instruct\"\n",
    "llm = LLM(model=MODEL_NAME, tensor_parallel_size=NUM_GPUS, dtype=\"bfloat16\")"
   ]
  },
  {
   "cell_type": "code",
   "execution_count": 17,
   "id": "fe71037b-5068-4437-af5d-65be722780c9",
   "metadata": {},
   "outputs": [
    {
     "name": "stderr",
     "output_type": "stream",
     "text": [
      "Processed prompts: 100%|██████████| 500/500 [01:20<00:00,  6.18it/s]\n"
     ]
    },
    {
     "data": {
      "text/plain": [
       "0.228"
      ]
     },
     "execution_count": 17,
     "metadata": {},
     "output_type": "execute_result"
    }
   ],
   "source": [
    "# zero-shot\n",
    "inputs = [f\"###Question:\\n{question}\\n###Answer:\\n\" for question in valid_dataset['question']]\n",
    "outputs = llm.generate(inputs, SamplingParams(temperature=0.0, max_tokens=1024))\n",
    "short_answers_pred = [extract_last_number_or_ratio(o.outputs[0].text) for o in outputs]\n",
    "exact_match_score(short_answers_pred, labels)"
   ]
  },
  {
   "cell_type": "code",
   "execution_count": 17,
   "id": "18685b24-2927-4a71-9cfb-832b1a644caa",
   "metadata": {},
   "outputs": [
    {
     "name": "stderr",
     "output_type": "stream",
     "text": [
      "Processed prompts: 100%|██████████| 500/500 [01:07<00:00,  7.41it/s]\n"
     ]
    },
    {
     "data": {
      "text/plain": [
       "0.454"
      ]
     },
     "execution_count": 17,
     "metadata": {},
     "output_type": "execute_result"
    }
   ],
   "source": [
    "# zero-shot (instruct)\n",
    "outputs = llm.generate(chat_inputs, SamplingParams(temperature=0.0, max_tokens=1024))\n",
    "short_answers_pred = [extract_last_number_or_ratio(o.outputs[0].text) for o in outputs]\n",
    "exact_match_score(short_answers_pred, labels)"
   ]
  },
  {
   "cell_type": "code",
   "execution_count": null,
   "id": "8ac82c9c-7663-4e22-b483-6b75964b18a3",
   "metadata": {},
   "outputs": [
    {
     "name": "stderr",
     "output_type": "stream",
     "text": [
      "Processed prompts:   9%|▉         | 47/500 [01:06<02:45,  2.73it/s] "
     ]
    }
   ],
   "source": [
    "# 5-shot\n",
    "few_shot_examples = [f\"###Question:\\n{ex['question']}\\n###Answer:\\n{ex['answer']}<stop>\" for ex in \n",
    "                     dataset.select(range(len(dataset)-5,len(dataset)))]\n",
    "few_shot_prompt = \"\\n\\n\".join(few_shot_examples)\n",
    "inputs = [few_shot_prompt + \"\\n\\n\" + f\"###Question:\\n{question}\\n###Answer:\\n\" for question in valid_dataset['question']]\n",
    "outputs = llm.generate(inputs, SamplingParams(temperature=0.0, \n",
    "                                              stop_token_ids=[tokenizer.eos_token_id], \n",
    "                                              stop=[\"<stop>\"], \n",
    "                                              max_tokens=1024))\n",
    "short_answers_pred = [extract_last_number_or_ratio(o.outputs[0].text) for o in outputs]\n",
    "exact_match_score(short_answers_pred, labels)"
   ]
  },
  {
   "cell_type": "code",
   "execution_count": 30,
   "id": "58216665-dfdb-4780-9fae-0f181e7be1b4",
   "metadata": {},
   "outputs": [],
   "source": [
    "few_shot_examples = [f\"###Question:\\n{ex['question']}\\n###Answer:\\n{ex['answer']}<stop>\" for ex in \n",
    "                     dataset.select(range(len(dataset)-5,len(dataset)))]"
   ]
  },
  {
   "cell_type": "code",
   "execution_count": 32,
   "id": "1272bc05-5f41-4ef1-a365-b5ddea678884",
   "metadata": {
    "scrolled": true
   },
   "outputs": [],
   "source": [
    "few_shot_prompt = \"\\n\\n\".join(few_shot_examples)"
   ]
  },
  {
   "cell_type": "code",
   "execution_count": 37,
   "id": "94ddfc91-ba02-4372-a766-c9cf2f7bde06",
   "metadata": {},
   "outputs": [],
   "source": [
    "def fewshot_chat_input(question, answer=None):\n",
    "    messages = [\n",
    "        {\"role\": \"system\", \"content\": f\"You are an AI assistant that excels in solving math problems. Here are few examples of math problems:\\n\\n{few_shot_prompt}\"},\n",
    "        {\"role\": \"user\", \"content\": question},\n",
    "    ]\n",
    "    return tokenizer.apply_chat_template(messages, tokenize=False, add_generation_prompt=True)"
   ]
  },
  {
   "cell_type": "code",
   "execution_count": 38,
   "id": "cc117e15-125f-4aac-ab2e-19890a41615d",
   "metadata": {},
   "outputs": [],
   "source": [
    "fewshot_chat_inputs = [fewshot_chat_input(question)  for question in valid_dataset['question']]"
   ]
  },
  {
   "cell_type": "code",
   "execution_count": 40,
   "id": "c6c9be61-f512-4963-95b0-8a23a40b39ea",
   "metadata": {},
   "outputs": [
    {
     "name": "stderr",
     "output_type": "stream",
     "text": [
      "Processed prompts: 100%|██████████| 500/500 [02:32<00:00,  3.27it/s]\n"
     ]
    },
    {
     "data": {
      "text/plain": [
       "0.452"
      ]
     },
     "execution_count": 40,
     "metadata": {},
     "output_type": "execute_result"
    }
   ],
   "source": [
    "outputs = llm.generate(fewshot_chat_inputs, SamplingParams(temperature=0.0, \n",
    "                                              stop_token_ids=[tokenizer.eos_token_id], \n",
    "                                              stop=[\"<|eot_id|>\"],\n",
    "                                              max_tokens=1024))\n",
    "short_answers_pred = [extract_last_number_or_ratio(o.outputs[0].text) for o in outputs]\n",
    "exact_match_score(short_answers_pred, labels)"
   ]
  },
  {
   "cell_type": "markdown",
   "id": "c9b936f5-8a6e-4ebc-ac1a-989ff41f128e",
   "metadata": {},
   "source": [
    "### LMSYS Generation Outputs"
   ]
  },
  {
   "cell_type": "code",
   "execution_count": 41,
   "id": "62c41a22",
   "metadata": {},
   "outputs": [],
   "source": [
    "generations_path = Path(\"/workspace/git/kerem_research/evaluation_benchmarking/results/lmsys_hard_generations\")"
   ]
  },
  {
   "cell_type": "code",
   "execution_count": 42,
   "id": "84951251",
   "metadata": {},
   "outputs": [],
   "source": [
    "questions = [json.loads(l) for l in open(\"/workspace/git/kerem_research/evaluation_benchmarking/misc/lmsys_arena_hard_question.jsonl\").readlines()]"
   ]
  },
  {
   "cell_type": "code",
   "execution_count": 43,
   "id": "8c1979a2-ad54-4f46-9247-28a9d0de18bc",
   "metadata": {},
   "outputs": [],
   "source": [
    "gens_dict = json.load(open(generations_path/\"llama_3_1_8b_instruct.json\"))\n",
    "gens_dict1 = json.load(open(generations_path/\"llama_3_1_8b_instruct_4_2_gs32_lora_rank64_bi20pct_step_125.json\"))\n",
    "gens_dict2 = json.load(open(generations_path/\"llama_3_1_8b_instruct_4_2_gs32_lora_rank64_bi20pct_step_625.json\"))\n",
    "gens_dict3 = json.load(open(generations_path/\"llama_3_1_8b_instruct_4_2_gs32_lora_rank64_bi20pct_step_750.json\"))\n",
    "gens_dict4 = json.load(open(generations_path/\"llama_3_1_8b_instruct_4_2_gs32_lora_rank64_bi20pct_step_875.json\"))\n",
    "gens_dict5 = json.load(open(generations_path/\"llama_3_1_8b_instruct_4_2_gs32_lora_rank64_bi20pct_step_1000.json\"))"
   ]
  },
  {
   "cell_type": "code",
   "execution_count": 44,
   "id": "f8d4742e",
   "metadata": {},
   "outputs": [
    {
     "name": "stdout",
     "output_type": "stream",
     "text": [
      "Use ABC notation to write a melody in the style of a folk tune.\n"
     ]
    }
   ],
   "source": [
    "idx = 0\n",
    "print(questions[idx]['turns'][0]['content'])"
   ]
  },
  {
   "cell_type": "code",
   "execution_count": 45,
   "id": "4049e40f",
   "metadata": {},
   "outputs": [
    {
     "name": "stdout",
     "output_type": "stream",
     "text": [
      "Here's a simple folk-style melody in ABC notation:\n",
      "\n",
      "X:1\n",
      "T:Simple Folk Tune\n",
      "M:4/4\n",
      "L:1/4\n",
      "K:C\n",
      "\n",
      "C4 E4 G4 C4 | E4 G4 A4 G4 | F4 E4 D4 C4 | E4 G4 A4 G4 |\n",
      "C4 E4 G4 C4 | E4 G4 A4 G4 | F4 E4 D4 C4 | E4 G4 A4 G4 |\n",
      "\n",
      "In this notation:\n",
      "\n",
      "- X:1 indicates the first line of the tune.\n",
      "- T:Simple Folk Tune is the title of the tune.\n",
      "- M:4/4 indicates the time signature (4/4 means four beats per measure).\n",
      "- L:1/4 indicates the note length (in this case, a quarter note).\n",
      "- K:C indicates the key (C major).\n",
      "- The lines after the key indicate the melody, with each note separated by a space.\n",
      "\n",
      "This melody is a simple folk-style tune with a repeating pattern. You can play it on a instrument or sing it to get a feel for the melody.\n"
     ]
    }
   ],
   "source": [
    "# bf16 model\n",
    "print(gens_dict[idx]['response'])"
   ]
  },
  {
   "cell_type": "code",
   "execution_count": 36,
   "id": "63b467a1-9f3a-4d09-b0f9-2de46c979762",
   "metadata": {},
   "outputs": [
    {
     "name": "stdout",
     "output_type": "stream",
     "text": [
      "Here's a C++ solution to the problem:\n",
      "\n",
      "```cpp\n",
      "#include <iostream>\n",
      "#include <string>\n",
      "using namespace std;\n",
      "\n",
      "int main() {\n",
      "    int t;\n",
      "    cin >> t;\n",
      "    for (int i = 0; i < t; i++) {\n",
      "        string s;\n",
      "        cin >> s;\n",
      "        string ans = \"NO\";\n",
      "        for (int j = 0; j < 3; j++) {\n",
      "            if (s[j] == 'a') {\n",
      "                ans = \"YES\";\n",
      "                break;\n",
      "            }\n",
      "            else if (s[j] == 'b') {\n",
      "                ans = \"YES\";\n",
      "                break;\n",
      "            }\n",
      "            else if (s[j] == 'c') {\n",
      "                ans = \"YES\";\n",
      "                break;\n",
      "            }\n",
      "        }\n",
      "        cout << ans << endl;\n",
      "    }\n",
      "    return 0;\n",
      "}\n",
      "```\n",
      "\n",
      "The code uses the `cin` statement to read the input string `s` from the user. It then checks if the character at the current index `j` is equal to 'a', 'b', or 'c'. If it is, it sets the `ans` variable to \"YES\" and breaks out of the loop. If none of the conditions are met, it sets `ans` to \"NO\". Finally, it outputs the value of `ans` to the console.\n"
     ]
    }
   ],
   "source": [
    "# 4/2 bit step 125\n",
    "print(gens_dict1[idx]['response'])"
   ]
  },
  {
   "cell_type": "code",
   "execution_count": 37,
   "id": "a0b02810-3d5d-4d8a-8ca7-e43d59722311",
   "metadata": {},
   "outputs": [
    {
     "name": "stdout",
     "output_type": "stream",
     "text": [
      "#include <iostream>\n",
      "#include <string>\n",
      "#include <algorithm>\n",
      "\n",
      "using namespace std;\n",
      "\n",
      "int main() {\n",
      "    int t;\n",
      "    cin >> t;\n",
      "    for (int i = 0; i < t; i++) {\n",
      "        string s;\n",
      "        cin >> s;\n",
      "        if (s == \"abc\") {\n",
      "            cout << \"YES\" << endl;\n",
      "        } else {\n",
      "            int a = 0, b = 0, c = 0;\n",
      "            for (int j = 0; j < 3; j++) {\n",
      "                char ch = s[j];\n",
      "                if (ch == 'a') {\n",
      "                    a++;\n",
      "                } else if (ch == 'b') {\n",
      "                    b++;\n",
      "                } else if (ch == 'c') {\n",
      "                    c++;\n",
      "                }\n",
      "            }\n",
      "            if (a == 1 && b == 1 && c == 1) {\n",
      "                cout << \"YES\" << endl;\n",
      "            } else {\n",
      "                cout << \"NO\" << endl;\n",
      "            }\n",
      "        }\n",
      "    }\n",
      "    return 0;\n",
      "}\n"
     ]
    }
   ],
   "source": [
    "# 4/2 bit step 625\n",
    "print(gens_dict2[idx]['response'])"
   ]
  },
  {
   "cell_type": "code",
   "execution_count": 38,
   "id": "35997a0e",
   "metadata": {},
   "outputs": [
    {
     "name": "stdout",
     "output_type": "stream",
     "text": [
      "#include <iostream>\n",
      "#include <string>\n",
      "#include <algorithm>\n",
      "\n",
      "using namespace std;\n",
      "\n",
      "int main() {\n",
      "    int t;\n",
      "    cin >> t;\n",
      "\n",
      "    for (int i = 0; i < t; i++) {\n",
      "        string s;\n",
      "        cin >> s;\n",
      "\n",
      "        if (s == \"abc\") {\n",
      "            cout << \"YES\\n\";\n",
      "        } else {\n",
      "            if (s == \"acb\") {\n",
      "                cout << \"YES\\n\";\n",
      "            } else if (s == \"bac\") {\n",
      "                cout << \"YES\\n\";\n",
      "            } else if (s == \"bca\") {\n",
      "                cout << \"YES\\n\";\n",
      "            } else if (s == \"cab\") {\n",
      "                cout << \"YES\\n\";\n",
      "            } else if (s == \"cba\") {\n",
      "                cout << \"YES\\n\";\n",
      "            } else {\n",
      "                cout << \"NO\\n\";\n",
      "            }\n",
      "        }\n",
      "    }\n",
      "\n",
      "    return 0;\n",
      "}\n"
     ]
    }
   ],
   "source": [
    "# 4/2 bit step 750\n",
    "print(gens_dict3[idx]['response'])"
   ]
  },
  {
   "cell_type": "code",
   "execution_count": 39,
   "id": "48b2e007",
   "metadata": {},
   "outputs": [
    {
     "name": "stdout",
     "output_type": "stream",
     "text": [
      "#include <iostream>\n",
      "#include <string>\n",
      "using namespace std;\n",
      "\n",
      "int main() {\n",
      "    int t;\n",
      "    cin >> t;\n",
      "    for (int i = 0; i < t; i++) {\n",
      "        string s;\n",
      "        cin >> s;\n",
      "        if (s == \"abc\") {\n",
      "            cout << \"YES\" << endl;\n",
      "        } else if (s == \"acb\") {\n",
      "            cout << \"YES\" << endl;\n",
      "        } else if (s == \"bac\") {\n",
      "            cout << \"YES\" << endl;\n",
      "        } else if (s == \"bca\") {\n",
      "            cout << \"YES\" << endl;\n",
      "        } else if (s == \"cab\") {\n",
      "            cout << \"YES\" << endl;\n",
      "        } else if (s == \"cba\") {\n",
      "            cout << \"YES\" << endl;\n",
      "        } else {\n",
      "            cout << \"NO\" << endl;\n",
      "        }\n",
      "    }\n",
      "    return 0;\n",
      "}\n"
     ]
    }
   ],
   "source": [
    "# 4/2 bit step 875\n",
    "print(gens_dict4[idx]['response'])"
   ]
  },
  {
   "cell_type": "code",
   "execution_count": 40,
   "id": "4648153a",
   "metadata": {},
   "outputs": [
    {
     "name": "stdout",
     "output_type": "stream",
     "text": [
      "#include <iostream>\n",
      "#include <string>\n",
      "#include <algorithm>\n",
      "\n",
      "using namespace std;\n",
      "\n",
      "int main() {\n",
      "    int t;\n",
      "    cin >> t;\n",
      "    for (int i = 0; i < t; i++) {\n",
      "        string s;\n",
      "        cin >> s;\n",
      "        if (s == \"abc\") {\n",
      "            cout << \"YES\" << endl;\n",
      "        } else if (s == \"acb\") {\n",
      "            cout << \"YES\" << endl;\n",
      "        } else if (s == \"bac\") {\n",
      "            cout << \"YES\" << endl;\n",
      "        } else if (s == \"bca\") {\n",
      "            cout << \"NO\" << endl;\n",
      "        } else if (s == \"cab\") {\n",
      "            cout << \"YES\" << endl;\n",
      "        } else if (s == \"cba\") {\n",
      "            cout << \"YES\" << endl;\n",
      "        } else {\n",
      "            cout << \"NO\" << endl;\n",
      "        }\n",
      "    }\n",
      "    return 0;\n",
      "}\n"
     ]
    }
   ],
   "source": [
    "# 4/2 bit step 1000\n",
    "print(gens_dict5[idx]['response'])"
   ]
  },
  {
   "cell_type": "markdown",
   "id": "671b6b65",
   "metadata": {},
   "source": [
    "### Per Token Accuracy"
   ]
  },
  {
   "cell_type": "code",
   "execution_count": 1,
   "id": "be2d1433",
   "metadata": {},
   "outputs": [],
   "source": [
    "import torch\n",
    "import safetensors\n",
    "import shutil\n",
    "from tqdm import tqdm\n",
    "from torch.nn.utils.rnn import pad_sequence\n",
    "from transformers import AutoTokenizer, AutoModelForCausalLM\n",
    "from datasets import load_dataset, load_from_disk\n",
    "import numpy as np\n",
    "from fastcore.all import *\n",
    "import warnings\n",
    "warnings.simplefilter(action='ignore', category=FutureWarning)\n",
    "warnings.simplefilter(action='ignore', category=UserWarning)\n",
    "\n",
    "\n",
    "@patch\n",
    "def ls_names(self:Path): return L([o.name for o in self.ls()])\n",
    "@patch\n",
    "def glob_names(self:Path, pattern:str): return L([o.name for o in self.glob(pattern)])"
   ]
  },
  {
   "cell_type": "code",
   "execution_count": 2,
   "id": "2e9aaf63",
   "metadata": {},
   "outputs": [],
   "source": [
    "models_dir = Path(\"/workspace/models\")\n",
    "model_prefix = models_dir/\"llama-3-1-8b-instruct-dora-4-2bit-gs-32-lora_rank-64-base_lr-5e-5-lr_div_factor-10-train_layernorms-true-block-influence-no-adj-20pct\""
   ]
  },
  {
   "cell_type": "code",
   "execution_count": 3,
   "id": "86b90b1d",
   "metadata": {},
   "outputs": [
    {
     "data": {
      "text/plain": [
       "(#8) ['step_125','step_250','step_375','step_500','step_625','step_750','step_875','step_1000']"
      ]
     },
     "execution_count": 3,
     "metadata": {},
     "output_type": "execute_result"
    }
   ],
   "source": [
    "model_prefix.ls_names()"
   ]
  },
  {
   "cell_type": "code",
   "execution_count": 4,
   "id": "89034c4d",
   "metadata": {},
   "outputs": [],
   "source": [
    "original_model_name = \"meta-llama/Meta-Llama-3.1-8B-Instruct\""
   ]
  },
  {
   "cell_type": "code",
   "execution_count": 5,
   "id": "d691884e",
   "metadata": {},
   "outputs": [
    {
     "data": {
      "text/plain": [
       "(#6) ['model.safetensors.index.json','config.json','tokenizer_config.json','tokenizer.json','special_tokens_map.json','generation_config.json']"
      ]
     },
     "execution_count": 5,
     "metadata": {},
     "output_type": "execute_result"
    }
   ],
   "source": [
    "original_model_dir = Path(f\"/workspace/.cache/huggingface/hub/models--{original_model_name.replace('/', '--')}/snapshots\").ls()[0]\n",
    "# list json files in original model directory.\n",
    "original_model_dir.glob_names(\"*.json\")"
   ]
  },
  {
   "cell_type": "code",
   "execution_count": 6,
   "id": "c9c27f7d",
   "metadata": {},
   "outputs": [],
   "source": [
    "# Load the tokenizer\n",
    "tokenizer = AutoTokenizer.from_pretrained(original_model_name)"
   ]
  },
  {
   "cell_type": "code",
   "execution_count": 9,
   "id": "98a96585",
   "metadata": {},
   "outputs": [
    {
     "name": "stdout",
     "output_type": "stream",
     "text": [
      "Found 4 weight files.\n",
      "Done.\n"
     ]
    }
   ],
   "source": [
    "# Copied from original model directory.\n",
    "json_files_source_dir = original_model_dir\n",
    "\n",
    "# Make compatible with `AutoModelForCausalLM.from_pretrained`\n",
    "STEPS = [125]\n",
    "for step in STEPS:\n",
    "\tmodel_path = Path(model_prefix/f\"step_{step}/merged_hqq_only\")\n",
    "\tweight_files = list(Path(model_path).glob(\"*.safetensors\"))\n",
    "\tprint(f\"Found {len(weight_files)} weight files.\")\n",
    "\tfor fn in weight_files:\n",
    "\t\tweights = safetensors.torch.load_file(fn)\n",
    "\t\tsafetensors.torch.save_file(weights, model_path/fn.name, metadata={'format': 'pt'})\n",
    "\t# Copy all JSON files from source to destination\n",
    "\tfor json_file in json_files_source_dir.glob(\"*.json\"):\n",
    "\t\tshutil.copy(json_file, model_path)\n",
    "\tprint(\"Done.\")"
   ]
  },
  {
   "cell_type": "code",
   "execution_count": 13,
   "metadata": {},
   "outputs": [
    {
     "data": {
      "application/vnd.jupyter.widget-view+json": {
       "model_id": "cc15bf059be244cd8ab84ba7b8a52ace",
       "version_major": 2,
       "version_minor": 0
      },
      "text/plain": [
       "Loading checkpoint shards:   0%|          | 0/4 [00:00<?, ?it/s]"
      ]
     },
     "metadata": {},
     "output_type": "display_data"
    }
   ],
   "source": [
    "step = 125\n",
    "model = AutoModelForCausalLM.from_pretrained(model_prefix/f\"step_{step}/merged_hqq_only\", torch_dtype=\"bfloat16\").cuda()\n",
    "# model = AutoModelForCausalLM.from_pretrained(model_prefix/f\"step_{step}/merged\", torch_dtype=\"bfloat16\").cuda()"
   ]
  },
  {
   "cell_type": "code",
   "execution_count": 11,
   "id": "273ac567",
   "metadata": {},
   "outputs": [],
   "source": [
    "# original_model = AutoModelForCausalLM.from_pretrained(original_model_name, torch_dtype=\"bfloat16\").cuda()"
   ]
  },
  {
   "cell_type": "code",
   "execution_count": 50,
   "id": "cd1c1049",
   "metadata": {},
   "outputs": [
    {
     "name": "stderr",
     "output_type": "stream",
     "text": [
      "The attention mask and the pad token id were not set. As a consequence, you may observe unexpected behavior. Please pass your input's `attention_mask` to obtain reliable results.\n",
      "Setting `pad_token_id` to `eos_token_id`:128001 for open-end generation.\n"
     ]
    },
    {
     "name": "stdout",
     "output_type": "stream",
     "text": [
      "<|begin_of_text|><|start_header_id|>system<|end_header_id|>\n",
      "\n",
      "Cutting Knowledge Date: December 2023\n",
      "Today Date: 26 Jul 2024\n",
      "\n",
      "You are useful AI assistant.<|eot_id|><|start_header_id|>user<|end_header_id|>\n",
      "\n",
      "Write python code for image classification inference using fastai library and give a brief intro about the library. Use import `from fastai.vision.all import *`<|eot_id|><|start_header_id|>assistant<|end_header_id|>\n",
      "\n",
      "```python 1.8 * 1.9 = 1.9 * 1.8; 1.9 = 1.8 * 1.9; 1.9 = 1.8 * 1.9; 1.9 = 1.8 * 1.9; 1.9 = 1.8 * 1.9; 1.9 = 1.8 * 1.9; 1.9 = 1.8 * 1.9; 1.9 = 1.8 * 1.9; 1.9 = 1.8 * 1.9; 1.9 = 1.8 * 1.9; 1.9 = 1.8 * 1.9; 1.9 = 1.8 * 1.9; 1.9 = 1.8 * 1.9; 1.9 = 1.8 * 1.9; 1.9 = 1.8 * 1.9; 1.9 = 1.8 * 1.9; 1.9 = 1.8 * 1.9; 1.9 = 1.8 * 1.9; 1.9 = 1.8 * 1.9; 1.9 = 1.8 * 1.9; 1.9 = 1.8 * 1.9; 1.9 = 1.8 * 1.9; 1.9 = 1.8 * 1.9; 1.9 = 1.8 * 1.9; 1.9 = 1.8 * 1.9; 1.9 = 1.8 * 1.9; 1.9 = 1.8 * 1.9; 1.9 = 1.8 * 1.9; 1.9 = 1.8 * 1\n"
     ]
    }
   ],
   "source": [
    "# input_text = \"Use ABC notation to write a melody in the style of a folk tune.\"\n",
    "# input_text = \"Use ABC notation to write a melody in the style of a folk tune. Don't be repetitive.\"\n",
    "# input_text = \"Use ABC notation to write a melody in the style of a folk tune. Don't be repetitive. You can do it in 128 characters.\"  # Replace with your actual prompt\n",
    "# input_text = \"Write python code for image classification inference using fastai library and give a brief intro about the library. Use import `from fastai.vision.all import *`\"\n",
    "input_text = \"Write python code for image classification inference using fastai library and give a brief intro about the library. Use import `from fastai.vision.all import *`\"\n",
    "system_prompt = \"You are useful AI assistant.\"\n",
    "assistant_prefill = \"```python\\n\"\n",
    "# Apply chat template to the input\n",
    "messages = [{\"role\":\"user\", \"content\":input_text}]\n",
    "if system_prompt is not None: messages = [{\"role\":\"system\", \"content\":system_prompt}] + messages\n",
    "if assistant_prefill is not None: messages += [{\"role\":\"assistant\", \"content\":assistant_prefill}]\n",
    "inputs = tokenizer.apply_chat_template(messages, add_generation_prompt=assistant_prefill is None, return_tensors=\"pt\", tokenize=True)\n",
    "if assistant_prefill is not None: inputs = inputs[0][:-1].unsqueeze(0) # exclude eos token.\n",
    "inputs = inputs.to(model.device)\n",
    "\n",
    "output_sequences = model.generate(inputs, max_length=512, do_sample=False, temperature=None, top_p=None, top_k=None)  # top_k=0, top_p=0.95, temperature=0.8\n",
    "generated_text = tokenizer.decode(output_sequences[0], skip_special_tokens=False)\n",
    "print(generated_text)"
   ]
  },
  {
   "cell_type": "code",
   "execution_count": 45,
   "id": "c733c9bc",
   "metadata": {},
   "outputs": [],
   "source": [
    "def prepare_batch(eval_ds, bidx, batch_size):\n",
    "\tinput_ids = []\n",
    "\tanswer_lengths = []\n",
    "\ttoken_lengths = []\n",
    "\tfor i in range(batch_size):\n",
    "\t\t# chat templated input and answer.\n",
    "\t\tuser_prompt, answer = eval_ds[bidx+i]['input_text'], eval_ds[bidx+i]['output_text']\n",
    "\t\tprompt_tokens = tokenizer.encode(user_prompt, add_special_tokens=False)\n",
    "\t\tanswer_tokens = tokenizer.encode(answer, add_special_tokens=False) + [tokenizer.eos_token_id]\n",
    "\t\ttokens = torch.tensor(prompt_tokens + answer_tokens)\n",
    "\t\tinput_ids.append(tokens)\n",
    "\t\ttoken_lengths.append(len(tokens))\t\t\n",
    "\t\tanswer_lengths.append(len(answer_tokens))\n",
    "\tinput_ids = pad_sequence(input_ids, batch_first=True, padding_value=tokenizer.eos_token_id)\n",
    "\treturn input_ids, answer_lengths, token_lengths"
   ]
  },
  {
   "cell_type": "code",
   "execution_count": 46,
   "id": "a504266f",
   "metadata": {},
   "outputs": [],
   "source": [
    "#| test\n",
    "mock_eval_ds = [\n",
    "\t{'input_text': '<|begin_of_text|><|start_header_id|>system<|end_header_id|>\\n\\nCutting Knowledge Date: December 2023\\nToday Date: 26 Jul 2024\\n\\nYou are a helpful AI assistant.<|eot_id|><|start_header_id|>user<|end_header_id|>\\n\\nWhat is AI?<|eot_id|><|start_header_id|>assistant<|end_header_id|>\\n\\n',\n",
    "  \t 'output_text': 'AI stands for Artificial Intelligence.'},\n",
    "\t{'input_text': '<|begin_of_text|><|start_header_id|>system<|end_header_id|>\\n\\nCutting Knowledge Date: December 2023\\nToday Date: 26 Jul 2024\\n\\nYou are a helpful AI assistant.<|eot_id|><|start_header_id|>user<|end_header_id|>\\n\\nDefine machine learning.<|eot_id|><|start_header_id|>assistant<|end_header_id|>\\n\\n',\n",
    "  \t 'output_text': 'Machine learning is a subset of AI.'},\n",
    "\t{'input_text': '<|begin_of_text|><|start_header_id|>system<|end_header_id|>\\n\\nCutting Knowledge Date: December 2023\\nToday Date: 26 Jul 2024\\n\\nYou are a helpful AI assistant.<|eot_id|><|start_header_id|>user<|end_header_id|>\\n\\nExplain deep learning.<|eot_id|><|start_header_id|>assistant<|end_header_id|>\\n\\n',\n",
    "  \t 'output_text': 'Deep learning is a type of machine learning.'}]\n",
    "\n",
    "input_ids, answer_lengths, token_lengths = prepare_batch(mock_eval_ds, 0, 3)\n",
    "gt_answer_lengths = [len(tokenizer.encode(ex['output_text'], add_special_tokens=False)) + 1 for ex in mock_eval_ds]\n",
    "assert answer_lengths == gt_answer_lengths\n",
    "gt_token_lengths = [len(tokenizer.encode(ex['input_text']+ex['output_text'], add_special_tokens=False)) + 1 for ex in mock_eval_ds]\n",
    "assert token_lengths == gt_token_lengths\n",
    "assert input_ids.shape[1] == max(token_lengths)\n",
    "for idx, ex in enumerate(mock_eval_ds):\n",
    "\tlabel_ids = input_ids[idx][:token_lengths[idx]][-answer_lengths[idx]:]\n",
    "\tdecoded_answer = tokenizer.decode(label_ids)\n",
    "\tassert (ex['output_text'] + tokenizer.eos_token) == decoded_answer"
   ]
  },
  {
   "cell_type": "code",
   "execution_count": 47,
   "id": "53b271fe",
   "metadata": {},
   "outputs": [],
   "source": [
    "import torch\n",
    "import torch.nn.functional as F\n",
    "\n",
    "def eval_model(model, eval_ds, batch_size=16):\n",
    "    # make num samples divisible by batch size\n",
    "    num_samples = (len(eval_ds) // batch_size) * batch_size\n",
    "    model.eval()\n",
    "    accuracies = []\n",
    "    perplexities = []\n",
    "    for bidx in tqdm(range(0, num_samples, batch_size)):\n",
    "        input_ids, answer_lengths, token_lengths = prepare_batch(eval_ds, bidx, batch_size)\n",
    "        with torch.no_grad():\n",
    "            outputs = model(input_ids.cuda(), labels=None, attention_mask=None, past_key_values=None).logits.to(\"cpu\")\n",
    "            log_probs = F.log_softmax(outputs, dim=-1)\n",
    "            preds = outputs.argmax(dim=-1)\n",
    "        \n",
    "        for input_id, answer_len, token_len, pred, log_prob in zip(input_ids, answer_lengths, token_lengths, preds, log_probs):\n",
    "            label = input_id[:token_len][-answer_len:]        \n",
    "            pred = pred[:(token_len-1)][-answer_len:]\n",
    "            log_prob = log_prob[:(token_len-1)][-answer_len:]\n",
    "            \n",
    "            # Compute per token accuracy.\n",
    "            acc = (pred == label).float().mean()\n",
    "            accuracies.append(acc.item())\n",
    "            \n",
    "            # Compute perplexity.\n",
    "            token_log_probs = log_prob[torch.arange(len(label)), label]\n",
    "            avg_neg_log_prob = -token_log_probs.mean()\n",
    "            perplexity = torch.exp(avg_neg_log_prob)\n",
    "            perplexities.append(perplexity.item())\n",
    "    \n",
    "    return accuracies, perplexities"
   ]
  },
  {
   "cell_type": "code",
   "execution_count": 48,
   "id": "4ee2fc6d",
   "metadata": {},
   "outputs": [
    {
     "data": {
      "text/plain": [
       "736"
      ]
     },
     "execution_count": 48,
     "metadata": {},
     "output_type": "execute_result"
    }
   ],
   "source": [
    "eval_ds = load_from_disk(\"/workspace/data/llama_large_mix_dataset_v0_dedup_eval\"); len(eval_ds)"
   ]
  },
  {
   "cell_type": "code",
   "execution_count": 49,
   "id": "b6deeb42",
   "metadata": {},
   "outputs": [
    {
     "name": "stderr",
     "output_type": "stream",
     "text": [
      "  0%|          | 0/46 [00:00<?, ?it/s]We detected that you are passing `past_key_values` as a tuple and this is deprecated and will be removed in v4.43. Please use an appropriate `Cache` class (https://huggingface.co/docs/transformers/v4.41.3/en/internal/generation_utils#transformers.Cache)\n",
      "100%|██████████| 46/46 [02:23<00:00,  3.12s/it]\n"
     ]
    },
    {
     "data": {
      "text/plain": [
       "(0.6123960490702934, 48.19222815091843)"
      ]
     },
     "execution_count": 49,
     "metadata": {},
     "output_type": "execute_result"
    }
   ],
   "source": [
    "accuracies, perplexity = eval_model(model, eval_ds)\n",
    "np.mean(accuracies), np.mean(perplexity)"
   ]
  },
  {
   "cell_type": "code",
   "execution_count": null,
   "id": "b511e375",
   "metadata": {},
   "outputs": [],
   "source": []
  },
  {
   "cell_type": "code",
   "execution_count": null,
   "id": "21636179",
   "metadata": {},
   "outputs": [],
   "source": []
  },
  {
   "cell_type": "code",
   "execution_count": null,
   "id": "f0acaa25",
   "metadata": {},
   "outputs": [],
   "source": []
  },
  {
   "cell_type": "code",
   "execution_count": null,
   "id": "dee62238",
   "metadata": {},
   "outputs": [],
   "source": []
  },
  {
   "cell_type": "code",
   "execution_count": null,
   "id": "8366f89b",
   "metadata": {},
   "outputs": [],
   "source": []
  },
  {
   "cell_type": "code",
   "execution_count": null,
   "id": "21e077a2",
   "metadata": {},
   "outputs": [],
   "source": []
  }
 ],
 "metadata": {
  "kernelspec": {
   "display_name": "Python 3 (ipykernel)",
   "language": "python",
   "name": "python3"
  },
  "language_info": {
   "codemirror_mode": {
    "name": "ipython",
    "version": 3
   },
   "file_extension": ".py",
   "mimetype": "text/x-python",
   "name": "python",
   "nbconvert_exporter": "python",
   "pygments_lexer": "ipython3",
   "version": "3.10.12"
  }
 },
 "nbformat": 4,
 "nbformat_minor": 5
}
