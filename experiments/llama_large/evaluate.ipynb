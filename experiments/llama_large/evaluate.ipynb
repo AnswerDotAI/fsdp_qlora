{
 "cells": [
  {
   "cell_type": "markdown",
   "id": "a3299605-c781-4901-bf93-eedaa75e2634",
   "metadata": {},
   "source": [
    "Evaluations with zero-shot, 5-shot, full fine-tune, merged LoRA, merged DoRA."
   ]
  },
  {
   "cell_type": "code",
   "execution_count": 1,
   "id": "b79535af-bfff-48d6-a79d-3ae911876451",
   "metadata": {
    "scrolled": true
   },
   "outputs": [],
   "source": [
    "import torch\n",
    "from pathlib import Path\n",
    "import os, json\n",
    "from safetensors.torch import save_file\n",
    "import copy\n",
    "from tqdm import tqdm\n",
    "import safetensors\n",
    "import safetensors.torch\n",
    "from glob import glob\n",
    "from transformers import AutoConfig, AutoTokenizer, AutoModelForCausalLM\n",
    "from transformers.utils import hub, SAFE_WEIGHTS_NAME, SAFE_WEIGHTS_INDEX_NAME\n",
    "from hqq.core.quantize import HQQLinear, HQQBackend, BaseQuantizeConfig, Quantizer\n",
    "\n",
    "from hqq.core.quantize import HQQLinear, BaseQuantizeConfig, Quantizer\n",
    "from hqq.backends.torchao import patch_hqq_to_aoint4\n",
    "from fastcore.script import *\n",
    "\n",
    "from accelerate import init_empty_weights"
   ]
  },
  {
   "cell_type": "markdown",
   "id": "d13a61d0",
   "metadata": {},
   "source": [
    "### Compression Rates"
   ]
  },
  {
   "cell_type": "code",
   "execution_count": 35,
   "id": "b505092d",
   "metadata": {},
   "outputs": [],
   "source": [
    "model_name = \"meta-llama/Meta-Llama-3.1-405B-Instruct\"\n",
    "cfg = AutoConfig.from_pretrained(model_name)\n",
    "with init_empty_weights():\n",
    "\tmodel = AutoModelForCausalLM.from_config(cfg)"
   ]
  },
  {
   "cell_type": "code",
   "execution_count": 36,
   "id": "5a022e09",
   "metadata": {},
   "outputs": [],
   "source": [
    "def compute_quantized_layer_params(lora_rank=256, groupsize_4bit=128, groupsize_2bit=32, with_dora=True, mlp_in_4bit=False, dora_2bit=False):\n",
    "\t\"\"\"\n",
    "\tTotal param counts for a quantized decoder layer.\n",
    "\t\"\"\"\n",
    "\t\n",
    "\t# Compression rates compared to bf16\n",
    "\tCOMPRESSION_RATE_4BIT = 4\n",
    "\tCOMPRESSION_RATE_2BIT = 8\n",
    "\n",
    "\ttotal_params = 0\n",
    "\tfor n,p in model.model.layers[0].named_parameters():\n",
    "\t\tif \"self_attn\" in n:\n",
    "\t\t\tnum_params = p.numel() / COMPRESSION_RATE_4BIT \n",
    "\t\t\tnum_params += 2 * (p.numel() / groupsize_4bit) # qweight + zeros + scales\n",
    "\t\t\tif with_dora: \n",
    "\t\t\t\tnum_params += p.size(0) * lora_rank + p.size(1) * (lora_rank + 1) # dora (lora + magnitude)\n",
    "\t\telif \"mlp\" in n:\n",
    "\t\t\tif mlp_in_4bit:\n",
    "\t\t\t\tnum_params = p.numel() / COMPRESSION_RATE_4BIT  # qweight\n",
    "\t\t\t\tnum_params += 2 * (p.numel() / groupsize_4bit) # zeros + scales\n",
    "\t\t\telse:\n",
    "\t\t\t\tnum_params = p.numel() / COMPRESSION_RATE_2BIT # qweight\n",
    "\t\t\t\tnum_params += 2 * (p.numel() / groupsize_2bit) # zeros + scales\n",
    "\t\t\tif with_dora or dora_2bit: \n",
    "\t\t\t\tnum_params += p.size(0) * lora_rank + p.size(1) * (lora_rank + 1) # dora (lora + magnitude)\n",
    "\t\telse:\n",
    "\t\t\tnum_params = p.numel()\n",
    "\t\ttotal_params += num_params\n",
    "\treturn total_params"
   ]
  },
  {
   "cell_type": "code",
   "execution_count": 37,
   "id": "6339d6eb",
   "metadata": {},
   "outputs": [],
   "source": [
    "def compute_compression_ratio(block_influence_ratio = 1.0, **kwargs):\n",
    "\tlayer_params_count_4_2bit = compute_quantized_layer_params(**kwargs) # mixed bit param counts\n",
    "\tlayer_params_count_4bit   = compute_quantized_layer_params(mlp_in_4bit=True, **kwargs) # 4bit param counts\n",
    "\tnum_decoder_layers = len(model.model.layers)\n",
    "\tnum_block_influence = int(num_decoder_layers*block_influence_ratio)\n",
    "\tquantized_total_params = ((num_decoder_layers-num_block_influence) * layer_params_count_4_2bit + num_block_influence * layer_params_count_4bit)\n",
    "\torig_total_params = sum(p.numel() for n,p in model.model.layers.named_parameters())\n",
    "\treturn quantized_total_params / orig_total_params"
   ]
  },
  {
   "cell_type": "code",
   "execution_count": 38,
   "id": "643d5408",
   "metadata": {},
   "outputs": [
    {
     "data": {
      "text/plain": [
       "0.2656325490075143"
      ]
     },
     "execution_count": 38,
     "metadata": {},
     "output_type": "execute_result"
    }
   ],
   "source": [
    "# 4bit (128) HQQ (without DoRA) -> %0.27\n",
    "compute_compression_ratio(1.0, with_dora=False)"
   ]
  },
  {
   "cell_type": "code",
   "execution_count": 39,
   "id": "f110c70c",
   "metadata": {},
   "outputs": [
    {
     "data": {
      "text/plain": [
       "(0.23909828474311776, 0.2905153627121432)"
      ]
     },
     "execution_count": 39,
     "metadata": {},
     "output_type": "execute_result"
    }
   ],
   "source": [
    "# 4bit (128) / 2bit (32), lora rank=256, block influence ratio=0.2 -> compression % 0.26\n",
    "# 4bit (128), lora rank=256 -> compression % 0.31\n",
    "\n",
    "compute_compression_ratio(0.2),compute_compression_ratio(1.0)"
   ]
  },
  {
   "cell_type": "code",
   "execution_count": 40,
   "id": "8ea5747d",
   "metadata": {},
   "outputs": [
    {
     "data": {
      "text/plain": [
       "(0.22668064923361436, 0.27809772720263976)"
      ]
     },
     "execution_count": 40,
     "metadata": {},
     "output_type": "execute_result"
    }
   ],
   "source": [
    "# 4bit (128) / 2bit (32), lora rank=128, block influence ratio=0.2 -> compression % 0.24\n",
    "# 4bit (128), lora rank=128 -> compression % 0.29\n",
    "\n",
    "compute_compression_ratio(0.2, lora_rank=128),compute_compression_ratio(1.0, lora_rank=128)"
   ]
  },
  {
   "cell_type": "code",
   "execution_count": 41,
   "metadata": {},
   "outputs": [
    {
     "data": {
      "text/plain": [
       "(0.22047183147886265, 0.27188890944788807)"
      ]
     },
     "execution_count": 41,
     "metadata": {},
     "output_type": "execute_result"
    }
   ],
   "source": [
    "# 4bit (128) / 2bit (32), lora rank=64, block influence ratio=0.2 -> compression % 0.23\n",
    "# 4bit (128), lora rank=64 -> compression % 0.28\n",
    "\n",
    "compute_compression_ratio(0.2, lora_rank=64),compute_compression_ratio(1.0, lora_rank=64)"
   ]
  },
  {
   "cell_type": "code",
   "execution_count": 42,
   "id": "90a6d06c",
   "metadata": {},
   "outputs": [
    {
     "data": {
      "text/plain": [
       "0.1999050002912525"
      ]
     },
     "execution_count": 42,
     "metadata": {},
     "output_type": "execute_result"
    }
   ],
   "source": [
    "# 4bit (128), 2bit (64), lora rank=64, block influence ratio=0.2 -> compression % 0.21\n",
    "compute_compression_ratio(0.2, lora_rank=64, groupsize_2bit=64)"
   ]
  },
  {
   "cell_type": "code",
   "execution_count": 90,
   "id": "e8a90c6e",
   "metadata": {},
   "outputs": [],
   "source": [
    "# llama-3.1-8b\n",
    "# 4bit (128) HQQ (without DoRA) -> %0.27\n",
    "\n",
    "# 4bit (128), lora rank=256 -> compression % 0.36\n",
    "# 4bit (128) / 2bit (32), lora rank=256, block influence ratio=0.2 -> compression % 0.31\n",
    "\n",
    "# 4bit (128), lora rank=128 -> compression % 0.31\n",
    "# 4bit (128) / 2bit (32), lora rank=128, block influence ratio=0.2 -> compression % 0.26\n",
    "\n",
    "# 4bit (128), lora rank=64 -> compression % 0.29\n",
    "# 4bit (128) / 2bit (32), lora rank=64, block influence ratio=0.2 -> compression % 0.24\n",
    "\n",
    "# 4bit (128), 2bit (64), lora rank=64, block influence ratio=0.2 -> compression % 0.22\n",
    "\n",
    "\n",
    "# llama-3.1-70b\n",
    "# 4bit (128) HQQ (without DoRA) -> %0.27\n",
    "# 4bit (128), lora rank=256 -> compression % 0.31\n",
    "# 4bit (128) / 2bit (32), lora rank=256, block influence ratio=0.2 -> compression % 0.26\n",
    "# 4bit (128), lora rank=128 -> compression % 0.29\n",
    "# 4bit (128) / 2bit (32), lora rank=128, block influence ratio=0.2 -> compression % 0.24\n",
    "# 4bit (128), lora rank=64 -> compression % 0.28\n",
    "# 4bit (128) / 2bit (32), lora rank=64, block influence ratio=0.2 -> compression % 0.23\n",
    "# 4bit (128), 2bit (64), lora rank=64, block influence ratio=0.2 -> compression % 0.21\n",
    "\n",
    "\n",
    "# Another idea: Only apply lora to 2 bit quantized layers and freeze the 4bit layers.\n",
    "\n",
    "\n"
   ]
  },
  {
   "cell_type": "code",
   "execution_count": 91,
   "id": "ff02386c",
   "metadata": {},
   "outputs": [],
   "source": [
    "MODELS_DIR = Path(\"/workspace/models\")"
   ]
  },
  {
   "cell_type": "code",
   "execution_count": 92,
   "id": "6f58ed00",
   "metadata": {},
   "outputs": [],
   "source": [
    "PATH = \"llama-3-1-8b-instruct-dora-4-2bit-lora_rank-256-base_lr-5e-5-lr_div_factor-10-train_layernorms-true-block-influence-adj-20pct/step_125/vllm_bitblas\""
   ]
  },
  {
   "cell_type": "code",
   "execution_count": 93,
   "id": "e5f0ffcd",
   "metadata": {},
   "outputs": [],
   "source": [
    "weights = safetensors.torch.load_file(MODELS_DIR / PATH / \"model-00001-of-00004.safetensors\")"
   ]
  },
  {
   "cell_type": "code",
   "execution_count": 94,
   "id": "07b4b7fd",
   "metadata": {},
   "outputs": [
    {
     "name": "stdout",
     "output_type": "stream",
     "text": [
      "model.layers.0.input_layernorm.weight torch.Size([4096])\n",
      "model.layers.0.mlp.down_proj.lora_A torch.Size([256, 14336])\n",
      "model.layers.0.mlp.down_proj.lora_B torch.Size([4096, 256])\n",
      "model.layers.0.mlp.down_proj.qweight torch.Size([4096, 7168])\n",
      "model.layers.0.mlp.down_proj.rescale torch.Size([4096])\n",
      "model.layers.0.mlp.down_proj.scales torch.Size([4096, 112])\n",
      "model.layers.0.mlp.down_proj.zeros torch.Size([4096, 112])\n",
      "model.layers.0.mlp.gate_proj.lora_A torch.Size([256, 4096])\n",
      "model.layers.0.mlp.gate_proj.lora_B torch.Size([14336, 256])\n",
      "model.layers.0.mlp.gate_proj.qweight torch.Size([14336, 2048])\n",
      "model.layers.0.mlp.gate_proj.rescale torch.Size([14336])\n",
      "model.layers.0.mlp.gate_proj.scales torch.Size([14336, 32])\n",
      "model.layers.0.mlp.gate_proj.zeros torch.Size([14336, 32])\n",
      "model.layers.0.mlp.up_proj.lora_A torch.Size([256, 4096])\n",
      "model.layers.0.mlp.up_proj.lora_B torch.Size([14336, 256])\n",
      "model.layers.0.mlp.up_proj.qweight torch.Size([14336, 2048])\n",
      "model.layers.0.mlp.up_proj.rescale torch.Size([14336])\n",
      "model.layers.0.mlp.up_proj.scales torch.Size([14336, 32])\n",
      "model.layers.0.mlp.up_proj.zeros torch.Size([14336, 32])\n",
      "model.layers.0.post_attention_layernorm.weight torch.Size([4096])\n",
      "model.layers.0.self_attn.k_proj.lora_A torch.Size([256, 4096])\n",
      "model.layers.0.self_attn.k_proj.lora_B torch.Size([1024, 256])\n",
      "model.layers.0.self_attn.k_proj.qweight torch.Size([1024, 2048])\n",
      "model.layers.0.self_attn.k_proj.rescale torch.Size([1024])\n",
      "model.layers.0.self_attn.k_proj.scales torch.Size([1024, 32])\n",
      "model.layers.0.self_attn.k_proj.zeros torch.Size([1024, 32])\n",
      "model.layers.0.self_attn.o_proj.lora_A torch.Size([256, 4096])\n",
      "model.layers.0.self_attn.o_proj.lora_B torch.Size([4096, 256])\n",
      "model.layers.0.self_attn.o_proj.qweight torch.Size([4096, 2048])\n",
      "model.layers.0.self_attn.o_proj.rescale torch.Size([4096])\n",
      "model.layers.0.self_attn.o_proj.scales torch.Size([4096, 32])\n",
      "model.layers.0.self_attn.o_proj.zeros torch.Size([4096, 32])\n",
      "model.layers.0.self_attn.q_proj.lora_A torch.Size([256, 4096])\n",
      "model.layers.0.self_attn.q_proj.lora_B torch.Size([4096, 256])\n",
      "model.layers.0.self_attn.q_proj.qweight torch.Size([4096, 2048])\n",
      "model.layers.0.self_attn.q_proj.rescale torch.Size([4096])\n",
      "model.layers.0.self_attn.q_proj.scales torch.Size([4096, 32])\n",
      "model.layers.0.self_attn.q_proj.zeros torch.Size([4096, 32])\n",
      "model.layers.0.self_attn.v_proj.lora_A torch.Size([256, 4096])\n",
      "model.layers.0.self_attn.v_proj.lora_B torch.Size([1024, 256])\n",
      "model.layers.0.self_attn.v_proj.qweight torch.Size([1024, 2048])\n",
      "model.layers.0.self_attn.v_proj.rescale torch.Size([1024])\n",
      "model.layers.0.self_attn.v_proj.scales torch.Size([1024, 32])\n",
      "model.layers.0.self_attn.v_proj.zeros torch.Size([1024, 32])\n",
      "model.layers.3.input_layernorm.weight torch.Size([4096])\n",
      "model.layers.3.mlp.down_proj.lora_A torch.Size([256, 14336])\n",
      "model.layers.3.mlp.down_proj.lora_B torch.Size([4096, 256])\n",
      "model.layers.3.mlp.down_proj.qweight torch.Size([4096, 3584])\n",
      "model.layers.3.mlp.down_proj.rescale torch.Size([4096])\n",
      "model.layers.3.mlp.down_proj.scales torch.Size([4096, 448])\n",
      "model.layers.3.mlp.down_proj.zeros torch.Size([4096, 448])\n",
      "model.layers.3.mlp.gate_proj.lora_A torch.Size([256, 4096])\n",
      "model.layers.3.mlp.gate_proj.lora_B torch.Size([14336, 256])\n",
      "model.layers.3.mlp.gate_proj.qweight torch.Size([14336, 1024])\n",
      "model.layers.3.mlp.gate_proj.rescale torch.Size([14336])\n",
      "model.layers.3.mlp.gate_proj.scales torch.Size([14336, 128])\n",
      "model.layers.3.mlp.gate_proj.zeros torch.Size([14336, 128])\n",
      "model.layers.3.mlp.up_proj.lora_A torch.Size([256, 4096])\n",
      "model.layers.3.mlp.up_proj.lora_B torch.Size([14336, 256])\n",
      "model.layers.3.mlp.up_proj.qweight torch.Size([14336, 1024])\n",
      "model.layers.3.mlp.up_proj.rescale torch.Size([14336])\n",
      "model.layers.3.mlp.up_proj.scales torch.Size([14336, 128])\n",
      "model.layers.3.mlp.up_proj.zeros torch.Size([14336, 128])\n",
      "model.layers.3.post_attention_layernorm.weight torch.Size([4096])\n",
      "model.layers.3.self_attn.k_proj.lora_A torch.Size([256, 4096])\n",
      "model.layers.3.self_attn.k_proj.lora_B torch.Size([1024, 256])\n",
      "model.layers.3.self_attn.k_proj.qweight torch.Size([1024, 2048])\n",
      "model.layers.3.self_attn.k_proj.rescale torch.Size([1024])\n",
      "model.layers.3.self_attn.k_proj.scales torch.Size([1024, 32])\n",
      "model.layers.3.self_attn.k_proj.zeros torch.Size([1024, 32])\n",
      "model.layers.3.self_attn.o_proj.lora_A torch.Size([256, 4096])\n",
      "model.layers.3.self_attn.o_proj.lora_B torch.Size([4096, 256])\n",
      "model.layers.3.self_attn.o_proj.qweight torch.Size([4096, 2048])\n",
      "model.layers.3.self_attn.o_proj.rescale torch.Size([4096])\n",
      "model.layers.3.self_attn.o_proj.scales torch.Size([4096, 32])\n",
      "model.layers.3.self_attn.o_proj.zeros torch.Size([4096, 32])\n",
      "model.layers.3.self_attn.q_proj.lora_A torch.Size([256, 4096])\n",
      "model.layers.3.self_attn.q_proj.lora_B torch.Size([4096, 256])\n",
      "model.layers.3.self_attn.q_proj.qweight torch.Size([4096, 2048])\n",
      "model.layers.3.self_attn.q_proj.rescale torch.Size([4096])\n",
      "model.layers.3.self_attn.q_proj.scales torch.Size([4096, 32])\n",
      "model.layers.3.self_attn.q_proj.zeros torch.Size([4096, 32])\n",
      "model.layers.3.self_attn.v_proj.lora_A torch.Size([256, 4096])\n",
      "model.layers.3.self_attn.v_proj.lora_B torch.Size([1024, 256])\n",
      "model.layers.3.self_attn.v_proj.qweight torch.Size([1024, 2048])\n",
      "model.layers.3.self_attn.v_proj.rescale torch.Size([1024])\n",
      "model.layers.3.self_attn.v_proj.scales torch.Size([1024, 32])\n",
      "model.layers.3.self_attn.v_proj.zeros torch.Size([1024, 32])\n"
     ]
    }
   ],
   "source": [
    "for k,p in weights.items():\n",
    "\tif (\"layers.0.\" in k) or (\"layers.3.\" in k):\n",
    " \t\tprint(k, p.shape)"
   ]
  },
  {
   "cell_type": "code",
   "execution_count": 95,
   "id": "af368654",
   "metadata": {},
   "outputs": [],
   "source": [
    "config = json.load(open(MODELS_DIR / PATH / \"config.json\"))"
   ]
  },
  {
   "cell_type": "code",
   "execution_count": 97,
   "id": "cf2b4a57",
   "metadata": {},
   "outputs": [],
   "source": [
    "# optim_states = torch.load(MODELS_DIR / PATH / \"optimizer.bin\")"
   ]
  },
  {
   "cell_type": "code",
   "execution_count": 98,
   "id": "8f58c560",
   "metadata": {},
   "outputs": [],
   "source": [
    "# len(optim_states['param_groups'])"
   ]
  },
  {
   "cell_type": "code",
   "execution_count": 99,
   "id": "b0db4ff4",
   "metadata": {},
   "outputs": [],
   "source": [
    "# for k,v in optim_states['state'].items():\n",
    "#     if \"layers.0\" in k:\n",
    "# \t    print(k, optim_states['state'][k]['exp_avg'].shape, optim_states['state'][k]['exp_avg_sq'].shape)"
   ]
  },
  {
   "cell_type": "code",
   "execution_count": 100,
   "id": "f9b77172",
   "metadata": {},
   "outputs": [],
   "source": [
    "# k, optim_states['state'][k].keys(), optim_states['state'][k]['exp_avg'].shape"
   ]
  },
  {
   "cell_type": "code",
   "execution_count": 101,
   "id": "3e740dcb",
   "metadata": {},
   "outputs": [],
   "source": [
    "# with init_empty_weights():\n",
    "# \tmodel = AutoModelForCausalLM.from_pretrained(\"meta-llama/Meta-Llama-3.1-8B-Instruct\")"
   ]
  },
  {
   "cell_type": "code",
   "execution_count": 102,
   "id": "de07d761",
   "metadata": {},
   "outputs": [],
   "source": [
    "# def print_modules(model, prefix=\"model\"):\n",
    "#     for name, module in model.named_children():\n",
    "#         if len(list(module.children())) > 0:\n",
    "#             print_modules(module, prefix + \".\" + name)\n",
    "#         print(prefix + \".\" + name)"
   ]
  },
  {
   "cell_type": "code",
   "execution_count": 103,
   "id": "9f2f4a18",
   "metadata": {},
   "outputs": [],
   "source": [
    "# \"18,19,20,26,27,28\".split(\",\")"
   ]
  },
  {
   "cell_type": "code",
   "execution_count": 104,
   "id": "6cfc1132",
   "metadata": {},
   "outputs": [],
   "source": [
    "# print_modules(model)"
   ]
  },
  {
   "cell_type": "markdown",
   "id": "9a9ee869-34b9-4240-866f-fccdc15e1bb5",
   "metadata": {},
   "source": [
    "### Evaluate"
   ]
  },
  {
   "cell_type": "code",
   "execution_count": 2,
   "id": "ef736afa-7e62-46ac-8e92-3e854b2810fc",
   "metadata": {},
   "outputs": [],
   "source": [
    "import re\n",
    "from datasets import load_dataset\n",
    "from fastcore.parallel import parallel\n",
    "from vllm import LLM, SamplingParams"
   ]
  },
  {
   "cell_type": "code",
   "execution_count": 3,
   "id": "36eecac2-2842-4b94-b40a-622ca9c1b56f",
   "metadata": {},
   "outputs": [],
   "source": [
    "def extract_last_number_or_ratio(s):\n",
    "    # Find all sequences of digits, possibly with leading currency symbols, decimal points, and ratios\n",
    "    patterns = re.findall(r'[\\$€£]?\\d+(?:\\.\\d+)?(?:\\:\\d+(?:\\.\\d+)?)?', s)\n",
    "    \n",
    "    # Return the last pattern found, or None if there are no matches\n",
    "    if patterns:\n",
    "        return patterns[-1]\n",
    "    else:\n",
    "        return None"
   ]
  },
  {
   "cell_type": "code",
   "execution_count": 4,
   "id": "69bb6844-0eb0-46e5-979a-098a8622c6d7",
   "metadata": {},
   "outputs": [],
   "source": [
    "def exact_match_score(preds, labels):\n",
    "    return sum(p==g for p,g in zip(preds, labels))/len(preds)"
   ]
  },
  {
   "cell_type": "code",
   "execution_count": 5,
   "id": "437681e0-1da3-427a-998c-a204728b6b38",
   "metadata": {},
   "outputs": [],
   "source": [
    "dataset = load_dataset(\"microsoft/orca-math-word-problems-200k\")['train'].shuffle(seed=42)\n",
    "dataset = dataset.select(range(len(dataset)-5000,len(dataset)))\n",
    "short_answers_gt = parallel(extract_last_number_or_ratio, dataset['answer'], progress=True)"
   ]
  },
  {
   "cell_type": "code",
   "execution_count": 6,
   "id": "921271da-4b66-429c-9e7a-5616a791aacf",
   "metadata": {},
   "outputs": [],
   "source": [
    "valid_dataset = dataset.select(range(500))"
   ]
  },
  {
   "cell_type": "code",
   "execution_count": 7,
   "id": "4eeb9fc8-715b-4929-bb59-7c1d21a25476",
   "metadata": {},
   "outputs": [],
   "source": [
    "inputs = [f\"###Question:\\n{question}\\n###Answer:\\n\" for question in valid_dataset['question']]"
   ]
  },
  {
   "cell_type": "code",
   "execution_count": 8,
   "id": "2df75559-19fb-4255-af25-27720773d5c7",
   "metadata": {},
   "outputs": [],
   "source": [
    "labels = short_answers_gt[:500]"
   ]
  },
  {
   "cell_type": "code",
   "execution_count": 9,
   "id": "ccd93133-3d75-47de-bbf5-4e15c6eb604a",
   "metadata": {},
   "outputs": [
    {
     "data": {
      "text/plain": [
       "(500, 500)"
      ]
     },
     "execution_count": 9,
     "metadata": {},
     "output_type": "execute_result"
    }
   ],
   "source": [
    "len(inputs), len(labels)"
   ]
  },
  {
   "cell_type": "code",
   "execution_count": 10,
   "id": "3ce90fce-28d4-4037-967e-539c5db97ed6",
   "metadata": {},
   "outputs": [
    {
     "data": {
      "text/plain": [
       "1"
      ]
     },
     "execution_count": 10,
     "metadata": {},
     "output_type": "execute_result"
    }
   ],
   "source": [
    "NUM_GPUS = torch.cuda.device_count(); NUM_GPUS"
   ]
  },
  {
   "cell_type": "code",
   "execution_count": 11,
   "id": "c7f5540f-731f-4b3c-817a-8c49d36f67fa",
   "metadata": {},
   "outputs": [],
   "source": [
    "TOKENIZER = \"meta-llama/Meta-Llama-3.1-8B-Instruct\""
   ]
  },
  {
   "cell_type": "code",
   "execution_count": 12,
   "id": "1f3a0eaf-684c-4732-8884-466d5ba9422a",
   "metadata": {},
   "outputs": [],
   "source": [
    "tokenizer = AutoTokenizer.from_pretrained(TOKENIZER)"
   ]
  },
  {
   "cell_type": "code",
   "execution_count": 13,
   "id": "a14a685c-d47d-47a1-a62f-fe00202c545d",
   "metadata": {},
   "outputs": [],
   "source": [
    "def convert_to_chat_input(question):\n",
    "    messages = [\n",
    "        {\"role\": \"system\", \"content\": \"You are an AI assistant that excels in solving math problems.\"},\n",
    "        {\"role\": \"user\", \"content\": question},\n",
    "    ]\n",
    "    return tokenizer.apply_chat_template(messages, tokenize=False, add_generation_prompt=True)"
   ]
  },
  {
   "cell_type": "code",
   "execution_count": 14,
   "id": "b84c6bb7-0fa7-45ff-b589-06d45fb7ad17",
   "metadata": {},
   "outputs": [],
   "source": [
    "chat_inputs = [convert_to_chat_input(question) for question in valid_dataset['question']]"
   ]
  },
  {
   "cell_type": "code",
   "execution_count": 15,
   "id": "ca6a781c-9ed9-4a2b-bc2c-1a753954d547",
   "metadata": {},
   "outputs": [
    {
     "data": {
      "text/plain": [
       "500"
      ]
     },
     "execution_count": 15,
     "metadata": {},
     "output_type": "execute_result"
    }
   ],
   "source": [
    "len(chat_inputs)"
   ]
  },
  {
   "cell_type": "markdown",
   "id": "0db22768-f3a4-41c3-9db4-efa7bf4a5045",
   "metadata": {},
   "source": [
    "#### FINETUNED "
   ]
  },
  {
   "cell_type": "code",
   "execution_count": 16,
   "id": "30396b6b-c97b-41ca-98b8-4a8404fabdd9",
   "metadata": {},
   "outputs": [],
   "source": [
    "model_dir = \"/workspace/models/\""
   ]
  },
  {
   "cell_type": "code",
   "execution_count": 17,
   "id": "488ea606",
   "metadata": {},
   "outputs": [],
   "source": [
    "# TODO: Don't cast to float16 for bitblas"
   ]
  },
  {
   "cell_type": "code",
   "execution_count": 18,
   "id": "d52df5f9-1026-4591-a935-c5ec502e551f",
   "metadata": {},
   "outputs": [],
   "source": [
    "# NOTE: 4/2 bit models become very repetitive\n",
    "\n",
    "\n",
    "# bf16 model # 0.60\n",
    "\n",
    "# 4bit HQQ (skip_dora_all)\n",
    "# MODEL_NAME = \"llama-3-1-8b-instruct-hqq-dora-4bit/step_250/vllm_tinygemm\" # 0.578\n",
    "\n",
    "# 4bit HQQ+DORA\n",
    "# MODEL_NAME = \"llama-3-1-8b-instruct-hqq-dora-4bit/step_250/vllm_tinygemm\" # 0.593\n",
    "# MODEL_NAME = \"llama-3-1-8b-instruct-hqq-dora-4bit/step_1000/vllm_tinygemm\" # 0.610\n",
    "\n",
    "# 4/2bit HQQ+DORA\n",
    "# MODEL_NAME = \"llama-3-1-8b-instruct-hqq-dora-4-2bit/step_250/vllm_bitblas\" # 0.290\n",
    "# MODEL_NAME = \"llama-3-1-8b-instruct-hqq-dora-4-2bit/step_1000/vllm_bitblas\" # 0.380\n",
    "\n",
    "# 4/2bit HQQ+DORA (merged)\n",
    "# MODEL_NAME = \"llama-3-1-8b-instruct-hqq-dora-4-2bit/step_250/merged\" # 0.242\n",
    "# MODEL_NAME = \"llama-3-1-8b-instruct-hqq-dora-4-2bit/step_1000/merged\" # 0.350\n",
    "\n",
    "# 4bit HQQ+DORA+LN\n",
    "# MODEL_NAME = \"llama-3-1-8b-instruct-hqq-dora-4bit-ln/step_250/vllm_tinygemm\" # 0.562\n",
    "# MODEL_NAME = \"llama-3-1-8b-instruct-hqq-dora-4bit-ln/step_1000/vllm_tinygemm\" # 0.585\n",
    "\n",
    "# 4bit HQQ+LN\n",
    "# MODEL_NAME = \"llama-3-1-8b-instruct-hqq-4bit-ln/step_250/vllm_tinygemm\" # 0.605\n",
    "# MODEL_NAME = \"llama-3-1-8b-instruct-hqq-4bit-ln/step_1000/vllm_tinygemm\" # 0.55\n",
    "\n",
    "# 4/2bit HQQ+DORA+LN\n",
    "# MODEL_NAME = \"llama-3-1-8b-instruct-hqq-dora-4-2bit-ln/step_250/vllm_bitblas\" # 0.270\n",
    "# MODEL_NAME = \"llama-3-1-8b-instruct-hqq-dora-4-2bit-ln/step_1000/vllm_bitblas\" # 0.42\n",
    "\n",
    "# 4/2bit HQQ+DORA+LN (merged)\n",
    "# MODEL_NAME = \"llama-3-1-8b-instruct-hqq-dora-4-2bit-ln/step_250/merged\" # 0.270\n",
    "# MODEL_NAME = \"llama-3-1-8b-instruct-hqq-dora-4-2bit-ln/step_1000/merged\" # 0.343\n",
    "\n",
    "# 4(HQQ)bit 2(HQQ+DORA)bit\n",
    "# MODEL_NAME = \"llama-3-1-8b-instruct-hqq-4-dora-2bit/step_250/vllm_bitblas\" # 0.257\n",
    "# MODEL_NAME = \"llama-3-1-8b-instruct-hqq-4-dora-2bit/step_1000/vllm_bitblas\" # 0.330\n",
    "\n",
    "# 4(HQQ)bit 2(HQQ+DORA)bit+LN\n",
    "# MODEL_NAME = \"llama-3-1-8b-instruct-hqq-4-dora-2bit-ln/step_250/vllm_bitblas\" # 0.265\n",
    "# MODEL_NAME = \"llama-3-1-8b-instruct-hqq-4-dora-2bit-ln/step_1000/vllm_bitblas\" # 0.375\n",
    "\n",
    "# 4(HQQ)bit 2(HQQ)bit+LN\n",
    "# MODEL_NAME = \"llama-3-1-8b-instruct-hqq-4-hqq-2bit-ln/step_250/vllm_bitblas\" # 0.02\n",
    "# MODEL_NAME = \"llama-3-1-8b-instruct-hqq-4-hqq-2bit-ln/step_1000/vllm_bitblas\" # 0.03\n",
    "\n",
    "\n",
    "# Model generations become more repetitive with more training steps at temp=0.0.\n",
    "# Frequency penalty helps with this, but needs more investigation.\n",
    "\n",
    "# MODEL_NAME = \"llama-3-1-8b-instruct-dora-4-2bit-lora_rank-64-base_lr-1e-4-lr_div_factor-10-train_layernorms-true/step_125/vllm_bitblas\" # 0.22\n",
    "# MODEL_NAME = \"llama-3-1-8b-instruct-dora-4-2bit-lora_rank-64-base_lr-1e-4-lr_div_factor-10-train_layernorms-true/step_250/vllm_bitblas\" # 0.26\n",
    "\n",
    "# MODEL_NAME = \"llama-3-1-8b-instruct-dora-4-2bit-lora_rank-64-base_lr-1e-4-lr_div_factor-3-train_layernorms-true/step_125/vllm_bitblas\" # 0.24\n",
    "# MODEL_NAME = \"llama-3-1-8b-instruct-dora-4-2bit-lora_rank-64-base_lr-1e-4-lr_div_factor-3-train_layernorms-true/step_250/vllm_bitblas\" # 0.31\n",
    "\n",
    "# MODEL_NAME = \"llama-3-1-8b-instruct-dora-4-2bit-lora_rank-64-base_lr-1e-4-lr_div_factor-1-train_layernorms-true/step_125/vllm_bitblas\" # 0.22\n",
    "# MODEL_NAME = \"llama-3-1-8b-instruct-dora-4-2bit-lora_rank-64-base_lr-1e-4-lr_div_factor-1-train_layernorms-true/step_250/vllm_bitblas\" # 0.29\n",
    "\n",
    "# MODEL_NAME = \"llama-3-1-8b-instruct-dora-4-2bit-lora_rank-64-base_lr-5e-5-lr_div_factor-10-train_layernorms-true/step_125/vllm_bitblas\" # 0.30\n",
    "# MODEL_NAME = \"llama-3-1-8b-instruct-dora-4-2bit-lora_rank-64-base_lr-5e-5-lr_div_factor-10-train_layernorms-true/step_250/vllm_bitblas\" # 0.35\n",
    "\n",
    "# MODEL_NAME = \"llama-3-1-8b-instruct-dora-4-2bit-lora_rank-64-base_lr-5e-5-lr_div_factor-3-train_layernorms-true/step_125/vllm_bitblas\" # 0.26\n",
    "# MODEL_NAME = \"llama-3-1-8b-instruct-dora-4-2bit-lora_rank-64-base_lr-5e-5-lr_div_factor-3-train_layernorms-true/step_250/vllm_bitblas\" # 0.35\n",
    "\n",
    "# MODEL_NAME = \"llama-3-1-8b-instruct-dora-4-2bit-lora_rank-64-base_lr-5e-5-lr_div_factor-1-train_layernorms-true/step_125/vllm_bitblas\" # 0.27\n",
    "# MODEL_NAME = \"llama-3-1-8b-instruct-dora-4-2bit-lora_rank-64-base_lr-5e-5-lr_div_factor-1-train_layernorms-true/step_250/vllm_bitblas\" # 0.36\n",
    "\n",
    "# MODEL_NAME = \"llama-3-1-8b-instruct-dora-4-2bit-lora_rank-64-base_lr-2e-5-lr_div_factor-10-train_layernorms-true/step_125/vllm_bitblas\" # 0.20\n",
    "# MODEL_NAME = \"llama-3-1-8b-instruct-dora-4-2bit-lora_rank-64-base_lr-2e-5-lr_div_factor-10-train_layernorms-true/step_250/vllm_bitblas\" # 0.32\n",
    "\n",
    "# MODEL_NAME = \"llama-3-1-8b-instruct-dora-4-2bit-lora_rank-64-base_lr-2e-5-lr_div_factor-3-train_layernorms-true/step_125/vllm_bitblas\" # 0.27\n",
    "# MODEL_NAME = \"llama-3-1-8b-instruct-dora-4-2bit-lora_rank-64-base_lr-2e-5-lr_div_factor-3-train_layernorms-true/step_250/vllm_bitblas\" # 0.30\n",
    "\n",
    "# MODEL_NAME = \"llama-3-1-8b-instruct-dora-4-2bit-lora_rank-64-base_lr-2e-5-lr_div_factor-1-train_layernorms-true/step_125/vllm_bitblas\" # 0.23\n",
    "# MODEL_NAME = \"llama-3-1-8b-instruct-dora-4-2bit-lora_rank-64-base_lr-2e-5-lr_div_factor-1-train_layernorms-true/step_250/vllm_bitblas\" # 0.34\n",
    "\n",
    "\n",
    "\n",
    "# MODEL_NAME = \"llama-3-1-8b-instruct-dora-4-2bit-lora_rank-256-base_lr-1e-4-lr_div_factor-10-train_layernorms-true/step_125/vllm_bitblas\" # 0.25\n",
    "# MODEL_NAME = \"llama-3-1-8b-instruct-dora-4-2bit-lora_rank-256-base_lr-1e-4-lr_div_factor-10-train_layernorms-true/step_250/vllm_bitblas\" # 0.29\n",
    "\n",
    "# MODEL_NAME = \"llama-3-1-8b-instruct-dora-4-2bit-lora_rank-256-base_lr-1e-4-lr_div_factor-3-train_layernorms-true/step_125/vllm_bitblas\" # -\n",
    "# MODEL_NAME = \"llama-3-1-8b-instruct-dora-4-2bit-lora_rank-256-base_lr-1e-4-lr_div_factor-3-train_layernorms-true/step_250/vllm_bitblas\" # 0.27\n",
    "\n",
    "# MODEL_NAME = \"llama-3-1-8b-instruct-dora-4-2bit-lora_rank-256-base_lr-1e-4-lr_div_factor-1-train_layernorms-true/step_125/vllm_bitblas\" # 0.0\n",
    "# MODEL_NAME = \"llama-3-1-8b-instruct-dora-4-2bit-lora_rank-256-base_lr-1e-4-lr_div_factor-1-train_layernorms-true/step_250/vllm_bitblas\" # 0.0\n",
    "\n",
    "# MODEL_NAME = \"llama-3-1-8b-instruct-dora-4-2bit-lora_rank-256-base_lr-5e-5-lr_div_factor-10-train_layernorms-true/step_125/vllm_bitblas\" # 0.29\n",
    "# MODEL_NAME = \"llama-3-1-8b-instruct-dora-4-2bit-lora_rank-256-base_lr-5e-5-lr_div_factor-10-train_layernorms-true/step_250/vllm_bitblas\" # 0.45\n",
    "\n",
    "# MODEL_NAME = \"llama-3-1-8b-instruct-dora-4-2bit-lora_rank-256-base_lr-5e-5-lr_div_factor-3-train_layernorms-true/step_125/vllm_bitblas\" # 0.27\n",
    "# MODEL_NAME = \"llama-3-1-8b-instruct-dora-4-2bit-lora_rank-256-base_lr-5e-5-lr_div_factor-3-train_layernorms-true/step_250/vllm_bitblas\" # 0.37\n",
    "\n",
    "# MODEL_NAME = \"llama-3-1-8b-instruct-dora-4-2bit-lora_rank-256-base_lr-5e-5-lr_div_factor-1-train_layernorms-true/step_125/vllm_bitblas\" # 0.26\n",
    "# MODEL_NAME = \"llama-3-1-8b-instruct-dora-4-2bit-lora_rank-256-base_lr-5e-5-lr_div_factor-1-train_layernorms-true/step_250/vllm_bitblas\" # 0.27\n",
    "\n",
    "# MODEL_NAME = \"llama-3-1-8b-instruct-dora-4-2bit-lora_rank-256-base_lr-2e-5-lr_div_factor-10-train_layernorms-true/step_125/vllm_bitblas\" # 0.28\n",
    "# MODEL_NAME = \"llama-3-1-8b-instruct-dora-4-2bit-lora_rank-64-base_lr-2e-5-lr_div_factor-10-train_layernorms-true/step_250/vllm_bitblas\" # 0.32\n",
    "\n",
    "# MODEL_NAME = \"llama-3-1-8b-instruct-dora-4-2bit-lora_rank-256-base_lr-2e-5-lr_div_factor-3-train_layernorms-true/step_125/vllm_bitblas\" # 0.27\n",
    "# MODEL_NAME = \"llama-3-1-8b-instruct-dora-4-2bit-lora_rank-64-base_lr-2e-5-lr_div_factor-3-train_layernorms-true/step_250/vllm_bitblas\" # 0.30\n",
    "\n",
    "# MODEL_NAME = \"llama-3-1-8b-instruct-dora-4-2bit-lora_rank-256-base_lr-2e-5-lr_div_factor-1-train_layernorms-true/step_125/vllm_bitblas\" # 0.25\n",
    "# MODEL_NAME = \"llama-3-1-8b-instruct-dora-4-2bit-lora_rank-256-base_lr-2e-5-lr_div_factor-1-train_layernorms-true/step_250/vllm_bitblas\" # 0.30\n",
    "\n",
    "\n",
    "\n",
    "# MODEL_NAME = \"llama-3-1-8b-instruct-dora-4-2bit-lora_rank-512-base_lr-1e-4-lr_div_factor-10-train_layernorms-true/step_125/vllm_bitblas\" # 0.22\n",
    "# MODEL_NAME = \"llama-3-1-8b-instruct-dora-4-2bit-lora_rank-512-base_lr-1e-4-lr_div_factor-10-train_layernorms-true/step_250/vllm_bitblas\" # 0.26\n",
    "\n",
    "# MODEL_NAME = \"llama-3-1-8b-instruct-dora-4-2bit-lora_rank-512-base_lr-1e-4-lr_div_factor-3-train_layernorms-true/step_125/vllm_bitblas\" # 0.19\n",
    "# MODEL_NAME = \"llama-3-1-8b-instruct-dora-4-2bit-lora_rank-512-base_lr-1e-4-lr_div_factor-3-train_layernorms-true/step_250/vllm_bitblas\" # 0.07\n",
    "\n",
    "# MODEL_NAME = \"llama-3-1-8b-instruct-dora-4-2bit-lora_rank-512-base_lr-1e-4-lr_div_factor-1-train_layernorms-true/step_125/vllm_bitblas\" # 0.02\n",
    "# MODEL_NAME = \"llama-3-1-8b-instruct-dora-4-2bit-lora_rank-512-base_lr-1e-4-lr_div_factor-1-train_layernorms-true/step_250/vllm_bitblas\" # 0.07\n",
    "\n",
    "# MODEL_NAME = \"llama-3-1-8b-instruct-dora-4-2bit-lora_rank-512-base_lr-5e-5-lr_div_factor-10-train_layernorms-true/step_125/vllm_bitblas\" # 0.28\n",
    "# MODEL_NAME = \"llama-3-1-8b-instruct-dora-4-2bit-lora_rank-512-base_lr-5e-5-lr_div_factor-10-train_layernorms-true/step_250/vllm_bitblas\" # 0.32\n",
    "\n",
    "# MODEL_NAME = \"llama-3-1-8b-instruct-dora-4-2bit-lora_rank-512-base_lr-5e-5-lr_div_factor-3-train_layernorms-true/step_125/vllm_bitblas\" # 0.25\n",
    "# MODEL_NAME = \"llama-3-1-8b-instruct-dora-4-2bit-lora_rank-512-base_lr-5e-5-lr_div_factor-3-train_layernorms-true/step_250/vllm_bitblas\" # 0.41\n",
    "\n",
    "# MODEL_NAME = \"llama-3-1-8b-instruct-dora-4-2bit-lora_rank-512-base_lr-5e-5-lr_div_factor-1-train_layernorms-true/step_125/vllm_bitblas\" # 0.21\n",
    "# MODEL_NAME = \"llama-3-1-8b-instruct-dora-4-2bit-lora_rank-512-base_lr-5e-5-lr_div_factor-1-train_layernorms-true/step_250/vllm_bitblas\" # 0.20\n",
    "\n",
    "# MODEL_NAME = \"llama-3-1-8b-instruct-dora-4-2bit-lora_rank-512-base_lr-2e-5-lr_div_factor-10-train_layernorms-true/step_125/vllm_bitblas\" # 0.25\n",
    "# MODEL_NAME = \"llama-3-1-8b-instruct-dora-4-2bit-lora_rank-512-base_lr-2e-5-lr_div_factor-10-train_layernorms-true/step_250/vllm_bitblas\" # 0.31\n",
    "\n",
    "# MODEL_NAME = \"llama-3-1-8b-instruct-dora-4-2bit-lora_rank-512-base_lr-2e-5-lr_div_factor-3-train_layernorms-true/step_125/vllm_bitblas\" # 0.23\n",
    "# MODEL_NAME = \"llama-3-1-8b-instruct-dora-4-2bit-lora_rank-512-base_lr-2e-5-lr_div_factor-3-train_layernorms-true/step_250/vllm_bitblas\" # 0.36\n",
    "\n",
    "# MODEL_NAME = \"llama-3-1-8b-instruct-dora-4-2bit-lora_rank-512-base_lr-2e-5-lr_div_factor-1-train_layernorms-true/step_125/vllm_bitblas\" # 0.26\n",
    "# MODEL_NAME = \"llama-3-1-8b-instruct-dora-4-2bit-lora_rank-512-base_lr-2e-5-lr_div_factor-1-train_layernorms-true/step_250/vllm_bitblas\" # 0.31\n",
    "\n",
    "\n",
    "\n",
    "# MODEL_NAME = \"llama-3-1-8b-instruct-dora-4-2bit-lora_rank-256-base_lr-5e-5-lr_div_factor-10-train_layernorms-true-block-influence/step_125/vllm_bitblas\" # 0.41\n",
    "# MODEL_NAME = \"llama-3-1-8b-instruct-dora-4-2bit-lora_rank-256-base_lr-5e-5-lr_div_factor-10-train_layernorms-true-block-influence/step_250/vllm_bitblas\" # 0.43\n",
    "# MODEL_NAME = \"llama-3-1-8b-instruct-dora-4-2bit-lora_rank-256-base_lr-5e-5-lr_div_factor-10-train_layernorms-true-block-influence/step_375/vllm_bitblas\" # 0.38\n",
    "# MODEL_NAME = \"llama-3-1-8b-instruct-dora-4-2bit-lora_rank-256-base_lr-5e-5-lr_div_factor-10-train_layernorms-true-block-influence/step_500/vllm_bitblas\" # 0.46\n",
    "\n",
    "\n",
    "# MODEL_NAME = \"llama-3-1-8b-instruct-dora-4-2bit-lora_rank-256-base_lr-5e-5-lr_div_factor-10-train_layernorms-true-loftq/step_125/vllm_bitblas\" # 0.22\n",
    "# MODEL_NAME = \"llama-3-1-8b-instruct-dora-4-2bit-lora_rank-256-base_lr-5e-5-lr_div_factor-10-train_layernorms-true-loftq/step_250/vllm_bitblas\" # 0.32\n",
    "# MODEL_NAME = \"llama-3-1-8b-instruct-dora-4-2bit-lora_rank-256-base_lr-5e-5-lr_div_factor-10-train_layernorms-true-loftq/step_375/vllm_bitblas\" # 0.32\n",
    "# MODEL_NAME = \"llama-3-1-8b-instruct-dora-4-2bit-lora_rank-256-base_lr-5e-5-lr_div_factor-10-train_layernorms-true-loftq/step_500/vllm_bitblas\" # 0.33\n",
    "\n",
    "\n",
    "# MODEL_NAME = \"llama-3-1-8b-instruct-dora-4-2bit-lora_rank-256-base_lr-5e-5-lr_div_factor-10-train_layernorms-true-loftq-block-influence/step_125/vllm_bitblas\" # 0.28\n",
    "# MODEL_NAME = \"llama-3-1-8b-instruct-dora-4-2bit-lora_rank-256-base_lr-5e-5-lr_div_factor-10-train_layernorms-true-loftq-block-influence/step_250/vllm_bitblas\" # 0.39\n",
    "# MODEL_NAME = \"llama-3-1-8b-instruct-dora-4-2bit-lora_rank-256-base_lr-5e-5-lr_div_factor-10-train_layernorms-true-loftq-block-influence/step_375/vllm_bitblas\" # 0.41\n",
    "# MODEL_NAME = \"llama-3-1-8b-instruct-dora-4-2bit-lora_rank-256-base_lr-5e-5-lr_div_factor-10-train_layernorms-true-loftq-block-influence/step_500/vllm_bitblas\" # 0.414\n",
    "\n",
    "\n",
    "# 4 (128) bit 2 (32) bit not adj 20%\n",
    "# MODEL_NAME = \"llama-3-1-8b-instruct-dora-4-2bit-lora_rank-256-base_lr-5e-5-lr_div_factor-10-train_layernorms-true-block-influence-no-adj-20pct/step_125/vllm_bitblas\" # 0.\n",
    "# MODEL_NAME = \"llama-3-1-8b-instruct-dora-4-2bit-lora_rank-256-base_lr-5e-5-lr_div_factor-10-train_layernorms-true-block-influence-no-adj-20pct/step_125/merged\" # 0.39\n",
    "# MODEL_NAME = \"llama-3-1-8b-instruct-dora-4-2bit-lora_rank-256-base_lr-5e-5-lr_div_factor-10-train_layernorms-true-block-influence-no-adj-20pct/step_250/vllm_bitblas\" # 0.\n",
    "# MODEL_NAME = \"llama-3-1-8b-instruct-dora-4-2bit-lora_rank-256-base_lr-5e-5-lr_div_factor-10-train_layernorms-true-block-influence-no-adj-20pct/step_250/merged\" # 0.45\n",
    "# MODEL_NAME = \"llama-3-1-8b-instruct-dora-4-2bit-lora_rank-256-base_lr-5e-5-lr_div_factor-10-train_layernorms-true-block-influence-no-adj-20pct/step_375/vllm_bitblas\" # 0.\n",
    "# MODEL_NAME = \"llama-3-1-8b-instruct-dora-4-2bit-lora_rank-256-base_lr-5e-5-lr_div_factor-10-train_layernorms-true-block-influence-no-adj-20pct/step_375/merged\" # 0.41\n",
    "# MODEL_NAME = \"llama-3-1-8b-instruct-dora-4-2bit-lora_rank-256-base_lr-5e-5-lr_div_factor-10-train_layernorms-true-block-influence-no-adj-20pct/step_500/vllm_bitblas\" # 0.\n",
    "# MODEL_NAME = \"llama-3-1-8b-instruct-dora-4-2bit-lora_rank-256-base_lr-5e-5-lr_div_factor-10-train_layernorms-true-block-influence-no-adj-20pct/step_500/merged\" # 0.51\n",
    "# MODEL_NAME = \"llama-3-1-8b-instruct-dora-4-2bit-lora_rank-256-base_lr-5e-5-lr_div_factor-10-train_layernorms-true-block-influence-no-adj-20pct/step_625/vllm_bitblas\" # 0.\n",
    "# MODEL_NAME = \"llama-3-1-8b-instruct-dora-4-2bit-lora_rank-256-base_lr-5e-5-lr_div_factor-10-train_layernorms-true-block-influence-no-adj-20pct/step_625/merged\" # 0.49\n",
    "# MODEL_NAME = \"llama-3-1-8b-instruct-dora-4-2bit-lora_rank-256-base_lr-5e-5-lr_div_factor-10-train_layernorms-true-block-influence-no-adj-20pct/step_750/vllm_bitblas\" # 0.\n",
    "# MODEL_NAME = \"llama-3-1-8b-instruct-dora-4-2bit-lora_rank-256-base_lr-5e-5-lr_div_factor-10-train_layernorms-true-block-influence-no-adj-20pct/step_750/merged\" # 0.57\n",
    "\n",
    "# # 4 (128) bit 2 (32) bit adj 20%\n",
    "# MODEL_NAME = \"llama-3-1-8b-instruct-dora-4-2bit-lora_rank-256-base_lr-5e-5-lr_div_factor-10-train_layernorms-true-block-influence-adj-20pct/step_125/vllm_bitblas\" # 0.\n",
    "# MODEL_NAME = \"llama-3-1-8b-instruct-dora-4-2bit-lora_rank-256-base_lr-5e-5-lr_div_factor-10-train_layernorms-true-block-influence-adj-20pct/step_125/merged\" # 0.44\n",
    "# MODEL_NAME = \"llama-3-1-8b-instruct-dora-4-2bit-lora_rank-256-base_lr-5e-5-lr_div_factor-10-train_layernorms-true-block-influence-adj-20pct/step_250/vllm_bitblas\" # 0.\n",
    "# MODEL_NAME = \"llama-3-1-8b-instruct-dora-4-2bit-lora_rank-256-base_lr-5e-5-lr_div_factor-10-train_layernorms-true-block-influence-adj-20pct/step_250/merged\" # 0.36\n",
    "# MODEL_NAME = \"llama-3-1-8b-instruct-dora-4-2bit-lora_rank-256-base_lr-5e-5-lr_div_factor-10-train_layernorms-true-block-influence-adj-20pct/step_375/vllm_bitblas\" # 0.\n",
    "# MODEL_NAME = \"llama-3-1-8b-instruct-dora-4-2bit-lora_rank-256-base_lr-5e-5-lr_div_factor-10-train_layernorms-true-block-influence-adj-20pct/step_375/merged\" # 0.43\n",
    "# MODEL_NAME = \"llama-3-1-8b-instruct-dora-4-2bit-lora_rank-256-base_lr-5e-5-lr_div_factor-10-train_layernorms-true-block-influence-adj-20pct/step_500/vllm_bitblas\" # 0.\n",
    "# MODEL_NAME = \"llama-3-1-8b-instruct-dora-4-2bit-lora_rank-256-base_lr-5e-5-lr_div_factor-10-train_layernorms-true-block-influence-adj-20pct/step_500/merged\" # 0.45\n",
    "\n",
    "# # 4 (128) bit 2 (32) bit not adj 30%\n",
    "# MODEL_NAME = \"llama-3-1-8b-instruct-dora-4-2bit-lora_rank-256-base_lr-5e-5-lr_div_factor-10-train_layernorms-true-block-influence-no-adj-30pct/step_125/vllm_bitblas\" # 0.\n",
    "# MODEL_NAME = \"llama-3-1-8b-instruct-dora-4-2bit-lora_rank-256-base_lr-5e-5-lr_div_factor-10-train_layernorms-true-block-influence-no-adj-30pct/step_125/merged\" # 0.41\n",
    "# MODEL_NAME = \"llama-3-1-8b-instruct-dora-4-2bit-lora_rank-256-base_lr-5e-5-lr_div_factor-10-train_layernorms-true-block-influence-no-adj-30pct/step_250/vllm_bitblas\" # 0.\n",
    "# MODEL_NAME = \"llama-3-1-8b-instruct-dora-4-2bit-lora_rank-256-base_lr-5e-5-lr_div_factor-10-train_layernorms-true-block-influence-no-adj-30pct/step_250/merged\" # 0.48\n",
    "\n",
    "# # 4 (128) bit 2 (32) bit adj 30%\n",
    "# MODEL_NAME = \"llama-3-1-8b-instruct-dora-4-2bit-lora_rank-256-base_lr-5e-5-lr_div_factor-10-train_layernorms-true-block-influence-adj-30pct/step_125/vllm_bitblas\" # 0.\n",
    "MODEL_NAME = \"llama-3-1-8b-instruct-dora-4-2bit-lora_rank-256-base_lr-5e-5-lr_div_factor-10-train_layernorms-true-block-influence-adj-30pct/step_125/merged\" # 0.\n"
   ]
  },
  {
   "cell_type": "code",
   "execution_count": 19,
   "id": "987b5708-0704-4b2a-b81b-725abcc7df1a",
   "metadata": {
    "scrolled": true
   },
   "outputs": [
    {
     "name": "stdout",
     "output_type": "stream",
     "text": [
      "INFO 08-28 15:19:10 llm_engine.py:176] Initializing an LLM engine (v0.5.3.post1) with config: model='/workspace/models/llama-3-1-8b-instruct-dora-4-2bit-lora_rank-256-base_lr-5e-5-lr_div_factor-10-train_layernorms-true-block-influence-adj-30pct/step_125/merged', speculative_config=None, tokenizer='meta-llama/Meta-Llama-3.1-8B-Instruct', skip_tokenizer_init=False, tokenizer_mode=auto, revision=None, rope_scaling=None, rope_theta=None, tokenizer_revision=None, trust_remote_code=False, dtype=torch.bfloat16, max_seq_len=8192, download_dir=None, load_format=LoadFormat.AUTO, tensor_parallel_size=1, pipeline_parallel_size=1, disable_custom_all_reduce=False, quantization=None, enforce_eager=False, kv_cache_dtype=auto, quantization_param_path=None, device_config=cuda, decoding_config=DecodingConfig(guided_decoding_backend='outlines'), observability_config=ObservabilityConfig(otlp_traces_endpoint=None), seed=0, served_model_name=/workspace/models/llama-3-1-8b-instruct-dora-4-2bit-lora_rank-256-base_lr-5e-5-lr_div_factor-10-train_layernorms-true-block-influence-adj-30pct/step_125/merged, use_v2_block_manager=False, enable_prefix_caching=False)\n",
      "INFO 08-28 15:19:10 model_runner.py:720] Starting to load model /workspace/models/llama-3-1-8b-instruct-dora-4-2bit-lora_rank-256-base_lr-5e-5-lr_div_factor-10-train_layernorms-true-block-influence-adj-30pct/step_125/merged...\n"
     ]
    },
    {
     "data": {
      "application/vnd.jupyter.widget-view+json": {
       "model_id": "b7af8edd8111468485a4bb903b52cddf",
       "version_major": 2,
       "version_minor": 0
      },
      "text/plain": [
       "Loading safetensors checkpoint shards:   0% Completed | 0/4 [00:00<?, ?it/s]\n"
      ]
     },
     "metadata": {},
     "output_type": "display_data"
    },
    {
     "name": "stdout",
     "output_type": "stream",
     "text": [
      "Loading model.embed_tokens.weight\n",
      "Loaded model.embed_tokens.weight\n",
      "Loading model.layers.0.input_layernorm.weight\n",
      "Loaded model.layers.0.input_layernorm.weight\n",
      "Loading model.layers.0.mlp.down_proj.weight\n",
      "Loaded model.layers.0.mlp.down_proj.weight\n",
      "Loading model.layers.0.mlp.gate_proj.weight\n",
      "Loaded model.layers.0.mlp.gate_up_proj.weight\n",
      "Loading model.layers.0.mlp.up_proj.weight\n",
      "Loaded model.layers.0.mlp.gate_up_proj.weight\n",
      "Loading model.layers.0.post_attention_layernorm.weight\n",
      "Loaded model.layers.0.post_attention_layernorm.weight\n",
      "Loading model.layers.0.self_attn.k_proj.weight\n",
      "Loaded model.layers.0.self_attn.qkv_proj.weight\n",
      "Loading model.layers.0.self_attn.o_proj.weight\n",
      "Loaded model.layers.0.self_attn.o_proj.weight\n",
      "Loading model.layers.0.self_attn.q_proj.weight\n",
      "Loaded model.layers.0.self_attn.qkv_proj.weight\n",
      "Loading model.layers.0.self_attn.v_proj.weight\n",
      "Loaded model.layers.0.self_attn.qkv_proj.weight\n",
      "Loading model.layers.1.input_layernorm.weight\n",
      "Loaded model.layers.1.input_layernorm.weight\n",
      "Loading model.layers.1.mlp.down_proj.weight\n",
      "Loaded model.layers.1.mlp.down_proj.weight\n",
      "Loading model.layers.1.mlp.gate_proj.weight\n",
      "Loaded model.layers.1.mlp.gate_up_proj.weight\n",
      "Loading model.layers.1.mlp.up_proj.weight\n",
      "Loaded model.layers.1.mlp.gate_up_proj.weight\n",
      "Loading model.layers.1.post_attention_layernorm.weight\n",
      "Loaded model.layers.1.post_attention_layernorm.weight\n",
      "Loading model.layers.1.self_attn.k_proj.weight\n",
      "Loaded model.layers.1.self_attn.qkv_proj.weight\n",
      "Loading model.layers.1.self_attn.o_proj.weight\n",
      "Loaded model.layers.1.self_attn.o_proj.weight\n",
      "Loading model.layers.1.self_attn.q_proj.weight\n",
      "Loaded model.layers.1.self_attn.qkv_proj.weight\n",
      "Loading model.layers.1.self_attn.v_proj.weight\n",
      "Loaded model.layers.1.self_attn.qkv_proj.weight\n",
      "Loading model.layers.2.input_layernorm.weight\n",
      "Loaded model.layers.2.input_layernorm.weight\n",
      "Loading model.layers.2.mlp.down_proj.weight\n",
      "Loaded model.layers.2.mlp.down_proj.weight\n",
      "Loading model.layers.2.mlp.gate_proj.weight\n",
      "Loaded model.layers.2.mlp.gate_up_proj.weight\n",
      "Loading model.layers.2.mlp.up_proj.weight\n",
      "Loaded model.layers.2.mlp.gate_up_proj.weight\n",
      "Loading model.layers.2.post_attention_layernorm.weight\n",
      "Loaded model.layers.2.post_attention_layernorm.weight\n",
      "Loading model.layers.2.self_attn.k_proj.weight\n",
      "Loaded model.layers.2.self_attn.qkv_proj.weight\n",
      "Loading model.layers.2.self_attn.o_proj.weight\n",
      "Loaded model.layers.2.self_attn.o_proj.weight\n",
      "Loading model.layers.2.self_attn.q_proj.weight\n",
      "Loaded model.layers.2.self_attn.qkv_proj.weight\n",
      "Loading model.layers.2.self_attn.v_proj.weight\n",
      "Loaded model.layers.2.self_attn.qkv_proj.weight\n",
      "Loading model.layers.3.input_layernorm.weight\n",
      "Loaded model.layers.3.input_layernorm.weight\n",
      "Loading model.layers.3.mlp.down_proj.weight\n",
      "Loaded model.layers.3.mlp.down_proj.weight\n",
      "Loading model.layers.3.mlp.gate_proj.weight\n",
      "Loaded model.layers.3.mlp.gate_up_proj.weight\n",
      "Loading model.layers.3.mlp.up_proj.weight\n",
      "Loaded model.layers.3.mlp.gate_up_proj.weight\n",
      "Loading model.layers.3.post_attention_layernorm.weight\n",
      "Loaded model.layers.3.post_attention_layernorm.weight\n",
      "Loading model.layers.3.self_attn.k_proj.weight\n",
      "Loaded model.layers.3.self_attn.qkv_proj.weight\n",
      "Loading model.layers.3.self_attn.o_proj.weight\n",
      "Loaded model.layers.3.self_attn.o_proj.weight\n",
      "Loading model.layers.3.self_attn.q_proj.weight\n",
      "Loaded model.layers.3.self_attn.qkv_proj.weight\n",
      "Loading model.layers.3.self_attn.v_proj.weight\n",
      "Loaded model.layers.3.self_attn.qkv_proj.weight\n",
      "Loading model.layers.4.input_layernorm.weight\n",
      "Loaded model.layers.4.input_layernorm.weight\n",
      "Loading model.layers.4.mlp.down_proj.weight\n",
      "Loaded model.layers.4.mlp.down_proj.weight\n",
      "Loading model.layers.4.mlp.gate_proj.weight\n",
      "Loaded model.layers.4.mlp.gate_up_proj.weight\n",
      "Loading model.layers.4.mlp.up_proj.weight\n",
      "Loaded model.layers.4.mlp.gate_up_proj.weight\n",
      "Loading model.layers.4.post_attention_layernorm.weight\n",
      "Loaded model.layers.4.post_attention_layernorm.weight\n",
      "Loading model.layers.4.self_attn.k_proj.weight\n",
      "Loaded model.layers.4.self_attn.qkv_proj.weight\n",
      "Loading model.layers.4.self_attn.o_proj.weight\n",
      "Loaded model.layers.4.self_attn.o_proj.weight\n",
      "Loading model.layers.4.self_attn.q_proj.weight\n",
      "Loaded model.layers.4.self_attn.qkv_proj.weight\n",
      "Loading model.layers.4.self_attn.v_proj.weight\n",
      "Loaded model.layers.4.self_attn.qkv_proj.weight\n",
      "Loading model.layers.5.input_layernorm.weight\n",
      "Loaded model.layers.5.input_layernorm.weight\n",
      "Loading model.layers.5.mlp.down_proj.weight\n",
      "Loaded model.layers.5.mlp.down_proj.weight\n",
      "Loading model.layers.5.mlp.gate_proj.weight\n",
      "Loaded model.layers.5.mlp.gate_up_proj.weight\n",
      "Loading model.layers.5.mlp.up_proj.weight\n",
      "Loaded model.layers.5.mlp.gate_up_proj.weight\n",
      "Loading model.layers.5.post_attention_layernorm.weight\n",
      "Loaded model.layers.5.post_attention_layernorm.weight\n",
      "Loading model.layers.5.self_attn.k_proj.weight\n",
      "Loaded model.layers.5.self_attn.qkv_proj.weight\n",
      "Loading model.layers.5.self_attn.o_proj.weight\n",
      "Loaded model.layers.5.self_attn.o_proj.weight\n",
      "Loading model.layers.5.self_attn.q_proj.weight\n",
      "Loaded model.layers.5.self_attn.qkv_proj.weight\n",
      "Loading model.layers.5.self_attn.v_proj.weight\n",
      "Loaded model.layers.5.self_attn.qkv_proj.weight\n",
      "Loading model.layers.6.input_layernorm.weight\n",
      "Loaded model.layers.6.input_layernorm.weight\n",
      "Loading model.layers.6.mlp.down_proj.weight\n",
      "Loaded model.layers.6.mlp.down_proj.weight\n",
      "Loading model.layers.6.mlp.gate_proj.weight\n",
      "Loaded model.layers.6.mlp.gate_up_proj.weight\n",
      "Loading model.layers.6.mlp.up_proj.weight\n",
      "Loaded model.layers.6.mlp.gate_up_proj.weight\n",
      "Loading model.layers.6.post_attention_layernorm.weight\n",
      "Loaded model.layers.6.post_attention_layernorm.weight\n",
      "Loading model.layers.6.self_attn.k_proj.weight\n",
      "Loaded model.layers.6.self_attn.qkv_proj.weight\n",
      "Loading model.layers.6.self_attn.o_proj.weight\n",
      "Loaded model.layers.6.self_attn.o_proj.weight\n",
      "Loading model.layers.6.self_attn.q_proj.weight\n",
      "Loaded model.layers.6.self_attn.qkv_proj.weight\n",
      "Loading model.layers.6.self_attn.v_proj.weight\n",
      "Loaded model.layers.6.self_attn.qkv_proj.weight\n",
      "Loading model.layers.7.input_layernorm.weight\n",
      "Loaded model.layers.7.input_layernorm.weight\n",
      "Loading model.layers.7.mlp.down_proj.weight\n",
      "Loaded model.layers.7.mlp.down_proj.weight\n",
      "Loading model.layers.7.mlp.gate_proj.weight\n",
      "Loaded model.layers.7.mlp.gate_up_proj.weight\n",
      "Loading model.layers.7.mlp.up_proj.weight\n",
      "Loaded model.layers.7.mlp.gate_up_proj.weight\n",
      "Loading model.layers.7.post_attention_layernorm.weight\n",
      "Loaded model.layers.7.post_attention_layernorm.weight\n",
      "Loading model.layers.7.self_attn.k_proj.weight\n",
      "Loaded model.layers.7.self_attn.qkv_proj.weight\n",
      "Loading model.layers.7.self_attn.o_proj.weight\n",
      "Loaded model.layers.7.self_attn.o_proj.weight\n",
      "Loading model.layers.7.self_attn.q_proj.weight\n",
      "Loaded model.layers.7.self_attn.qkv_proj.weight\n",
      "Loading model.layers.7.self_attn.v_proj.weight\n",
      "Loaded model.layers.7.self_attn.qkv_proj.weight\n",
      "Loading model.layers.8.input_layernorm.weight\n",
      "Loaded model.layers.8.input_layernorm.weight\n",
      "Loading model.layers.8.mlp.down_proj.weight\n",
      "Loaded model.layers.8.mlp.down_proj.weight\n",
      "Loading model.layers.8.mlp.gate_proj.weight\n",
      "Loaded model.layers.8.mlp.gate_up_proj.weight\n",
      "Loading model.layers.8.mlp.up_proj.weight\n",
      "Loaded model.layers.8.mlp.gate_up_proj.weight\n",
      "Loading model.layers.8.post_attention_layernorm.weight\n",
      "Loaded model.layers.8.post_attention_layernorm.weight\n",
      "Loading model.layers.8.self_attn.k_proj.weight\n",
      "Loaded model.layers.8.self_attn.qkv_proj.weight\n",
      "Loading model.layers.8.self_attn.o_proj.weight\n",
      "Loaded model.layers.8.self_attn.o_proj.weight\n",
      "Loading model.layers.8.self_attn.q_proj.weight\n",
      "Loaded model.layers.8.self_attn.qkv_proj.weight\n",
      "Loading model.layers.8.self_attn.v_proj.weight\n",
      "Loaded model.layers.8.self_attn.qkv_proj.weight\n",
      "Loading model.layers.10.input_layernorm.weight\n",
      "Loaded model.layers.10.input_layernorm.weight\n",
      "Loading model.layers.10.mlp.down_proj.weight\n",
      "Loaded model.layers.10.mlp.down_proj.weight\n",
      "Loading model.layers.10.mlp.gate_proj.weight\n",
      "Loaded model.layers.10.mlp.gate_up_proj.weight\n",
      "Loading model.layers.10.mlp.up_proj.weight\n",
      "Loaded model.layers.10.mlp.gate_up_proj.weight\n",
      "Loading model.layers.10.post_attention_layernorm.weight\n",
      "Loaded model.layers.10.post_attention_layernorm.weight\n",
      "Loading model.layers.10.self_attn.k_proj.weight\n",
      "Loaded model.layers.10.self_attn.qkv_proj.weight\n",
      "Loading model.layers.10.self_attn.o_proj.weight\n",
      "Loaded model.layers.10.self_attn.o_proj.weight\n",
      "Loading model.layers.10.self_attn.q_proj.weight\n",
      "Loaded model.layers.10.self_attn.qkv_proj.weight\n",
      "Loading model.layers.10.self_attn.v_proj.weight\n",
      "Loaded model.layers.10.self_attn.qkv_proj.weight\n",
      "Loading model.layers.11.input_layernorm.weight\n",
      "Loaded model.layers.11.input_layernorm.weight\n",
      "Loading model.layers.11.mlp.down_proj.weight\n",
      "Loaded model.layers.11.mlp.down_proj.weight\n",
      "Loading model.layers.11.mlp.gate_proj.weight\n",
      "Loaded model.layers.11.mlp.gate_up_proj.weight\n",
      "Loading model.layers.11.mlp.up_proj.weight\n",
      "Loaded model.layers.11.mlp.gate_up_proj.weight\n",
      "Loading model.layers.11.post_attention_layernorm.weight\n",
      "Loaded model.layers.11.post_attention_layernorm.weight\n",
      "Loading model.layers.11.self_attn.k_proj.weight\n",
      "Loaded model.layers.11.self_attn.qkv_proj.weight\n",
      "Loading model.layers.11.self_attn.o_proj.weight\n",
      "Loaded model.layers.11.self_attn.o_proj.weight\n",
      "Loading model.layers.11.self_attn.q_proj.weight\n",
      "Loaded model.layers.11.self_attn.qkv_proj.weight\n",
      "Loading model.layers.11.self_attn.v_proj.weight\n",
      "Loaded model.layers.11.self_attn.qkv_proj.weight\n",
      "Loading model.layers.12.input_layernorm.weight\n",
      "Loaded model.layers.12.input_layernorm.weight\n",
      "Loading model.layers.12.mlp.down_proj.weight\n",
      "Loaded model.layers.12.mlp.down_proj.weight\n",
      "Loading model.layers.12.mlp.gate_proj.weight\n",
      "Loaded model.layers.12.mlp.gate_up_proj.weight\n",
      "Loading model.layers.12.mlp.up_proj.weight\n",
      "Loaded model.layers.12.mlp.gate_up_proj.weight\n",
      "Loading model.layers.12.post_attention_layernorm.weight\n",
      "Loaded model.layers.12.post_attention_layernorm.weight\n",
      "Loading model.layers.12.self_attn.k_proj.weight\n",
      "Loaded model.layers.12.self_attn.qkv_proj.weight\n",
      "Loading model.layers.12.self_attn.o_proj.weight\n",
      "Loaded model.layers.12.self_attn.o_proj.weight\n",
      "Loading model.layers.12.self_attn.q_proj.weight\n",
      "Loaded model.layers.12.self_attn.qkv_proj.weight\n",
      "Loading model.layers.12.self_attn.v_proj.weight\n",
      "Loaded model.layers.12.self_attn.qkv_proj.weight\n",
      "Loading model.layers.13.input_layernorm.weight\n",
      "Loaded model.layers.13.input_layernorm.weight\n",
      "Loading model.layers.13.mlp.down_proj.weight\n",
      "Loaded model.layers.13.mlp.down_proj.weight\n",
      "Loading model.layers.13.mlp.gate_proj.weight\n",
      "Loaded model.layers.13.mlp.gate_up_proj.weight\n",
      "Loading model.layers.13.mlp.up_proj.weight\n",
      "Loaded model.layers.13.mlp.gate_up_proj.weight\n",
      "Loading model.layers.13.post_attention_layernorm.weight\n",
      "Loaded model.layers.13.post_attention_layernorm.weight\n",
      "Loading model.layers.13.self_attn.k_proj.weight\n",
      "Loaded model.layers.13.self_attn.qkv_proj.weight\n",
      "Loading model.layers.13.self_attn.o_proj.weight\n",
      "Loaded model.layers.13.self_attn.o_proj.weight\n",
      "Loading model.layers.13.self_attn.q_proj.weight\n",
      "Loaded model.layers.13.self_attn.qkv_proj.weight\n",
      "Loading model.layers.13.self_attn.v_proj.weight\n",
      "Loaded model.layers.13.self_attn.qkv_proj.weight\n",
      "Loading model.layers.14.input_layernorm.weight\n",
      "Loaded model.layers.14.input_layernorm.weight\n",
      "Loading model.layers.14.mlp.down_proj.weight\n",
      "Loaded model.layers.14.mlp.down_proj.weight\n",
      "Loading model.layers.14.mlp.gate_proj.weight\n",
      "Loaded model.layers.14.mlp.gate_up_proj.weight\n",
      "Loading model.layers.14.mlp.up_proj.weight\n",
      "Loaded model.layers.14.mlp.gate_up_proj.weight\n",
      "Loading model.layers.14.post_attention_layernorm.weight\n",
      "Loaded model.layers.14.post_attention_layernorm.weight\n",
      "Loading model.layers.14.self_attn.k_proj.weight\n",
      "Loaded model.layers.14.self_attn.qkv_proj.weight\n",
      "Loading model.layers.14.self_attn.o_proj.weight\n",
      "Loaded model.layers.14.self_attn.o_proj.weight\n",
      "Loading model.layers.14.self_attn.q_proj.weight\n",
      "Loaded model.layers.14.self_attn.qkv_proj.weight\n",
      "Loading model.layers.14.self_attn.v_proj.weight\n",
      "Loaded model.layers.14.self_attn.qkv_proj.weight\n",
      "Loading model.layers.15.input_layernorm.weight\n",
      "Loaded model.layers.15.input_layernorm.weight\n",
      "Loading model.layers.15.mlp.down_proj.weight\n",
      "Loaded model.layers.15.mlp.down_proj.weight\n",
      "Loading model.layers.15.mlp.gate_proj.weight\n",
      "Loaded model.layers.15.mlp.gate_up_proj.weight\n",
      "Loading model.layers.15.mlp.up_proj.weight\n",
      "Loaded model.layers.15.mlp.gate_up_proj.weight\n",
      "Loading model.layers.15.post_attention_layernorm.weight\n",
      "Loaded model.layers.15.post_attention_layernorm.weight\n",
      "Loading model.layers.15.self_attn.k_proj.weight\n",
      "Loaded model.layers.15.self_attn.qkv_proj.weight\n",
      "Loading model.layers.15.self_attn.o_proj.weight\n",
      "Loaded model.layers.15.self_attn.o_proj.weight\n",
      "Loading model.layers.15.self_attn.q_proj.weight\n",
      "Loaded model.layers.15.self_attn.qkv_proj.weight\n",
      "Loading model.layers.15.self_attn.v_proj.weight\n",
      "Loaded model.layers.15.self_attn.qkv_proj.weight\n",
      "Loading model.layers.16.input_layernorm.weight\n",
      "Loaded model.layers.16.input_layernorm.weight\n",
      "Loading model.layers.16.mlp.down_proj.weight\n",
      "Loaded model.layers.16.mlp.down_proj.weight\n",
      "Loading model.layers.16.mlp.gate_proj.weight\n",
      "Loaded model.layers.16.mlp.gate_up_proj.weight\n",
      "Loading model.layers.16.mlp.up_proj.weight\n",
      "Loaded model.layers.16.mlp.gate_up_proj.weight\n",
      "Loading model.layers.16.post_attention_layernorm.weight\n",
      "Loaded model.layers.16.post_attention_layernorm.weight\n",
      "Loading model.layers.16.self_attn.k_proj.weight\n",
      "Loaded model.layers.16.self_attn.qkv_proj.weight\n",
      "Loading model.layers.16.self_attn.o_proj.weight\n",
      "Loaded model.layers.16.self_attn.o_proj.weight\n",
      "Loading model.layers.16.self_attn.q_proj.weight\n",
      "Loaded model.layers.16.self_attn.qkv_proj.weight\n",
      "Loading model.layers.16.self_attn.v_proj.weight\n",
      "Loaded model.layers.16.self_attn.qkv_proj.weight\n",
      "Loading model.layers.17.input_layernorm.weight\n",
      "Loaded model.layers.17.input_layernorm.weight\n",
      "Loading model.layers.17.mlp.down_proj.weight\n",
      "Loaded model.layers.17.mlp.down_proj.weight\n",
      "Loading model.layers.17.mlp.gate_proj.weight\n",
      "Loaded model.layers.17.mlp.gate_up_proj.weight\n",
      "Loading model.layers.17.mlp.up_proj.weight\n",
      "Loaded model.layers.17.mlp.gate_up_proj.weight\n",
      "Loading model.layers.17.post_attention_layernorm.weight\n",
      "Loaded model.layers.17.post_attention_layernorm.weight\n",
      "Loading model.layers.17.self_attn.k_proj.weight\n",
      "Loaded model.layers.17.self_attn.qkv_proj.weight\n",
      "Loading model.layers.17.self_attn.o_proj.weight\n",
      "Loaded model.layers.17.self_attn.o_proj.weight\n",
      "Loading model.layers.17.self_attn.q_proj.weight\n",
      "Loaded model.layers.17.self_attn.qkv_proj.weight\n",
      "Loading model.layers.17.self_attn.v_proj.weight\n",
      "Loaded model.layers.17.self_attn.qkv_proj.weight\n",
      "Loading model.layers.18.input_layernorm.weight\n",
      "Loaded model.layers.18.input_layernorm.weight\n",
      "Loading model.layers.18.mlp.down_proj.weight\n",
      "Loaded model.layers.18.mlp.down_proj.weight\n",
      "Loading model.layers.18.mlp.gate_proj.weight\n",
      "Loaded model.layers.18.mlp.gate_up_proj.weight\n",
      "Loading model.layers.18.mlp.up_proj.weight\n",
      "Loaded model.layers.18.mlp.gate_up_proj.weight\n",
      "Loading model.layers.18.post_attention_layernorm.weight\n",
      "Loaded model.layers.18.post_attention_layernorm.weight\n",
      "Loading model.layers.18.self_attn.k_proj.weight\n",
      "Loaded model.layers.18.self_attn.qkv_proj.weight\n",
      "Loading model.layers.18.self_attn.o_proj.weight\n",
      "Loaded model.layers.18.self_attn.o_proj.weight\n",
      "Loading model.layers.18.self_attn.q_proj.weight\n",
      "Loaded model.layers.18.self_attn.qkv_proj.weight\n",
      "Loading model.layers.18.self_attn.v_proj.weight\n",
      "Loaded model.layers.18.self_attn.qkv_proj.weight\n",
      "Loading model.layers.19.input_layernorm.weight\n",
      "Loaded model.layers.19.input_layernorm.weight\n",
      "Loading model.layers.19.mlp.down_proj.weight\n",
      "Loaded model.layers.19.mlp.down_proj.weight\n",
      "Loading model.layers.19.mlp.gate_proj.weight\n",
      "Loaded model.layers.19.mlp.gate_up_proj.weight\n",
      "Loading model.layers.19.mlp.up_proj.weight\n",
      "Loaded model.layers.19.mlp.gate_up_proj.weight\n",
      "Loading model.layers.19.post_attention_layernorm.weight\n",
      "Loaded model.layers.19.post_attention_layernorm.weight\n",
      "Loading model.layers.19.self_attn.k_proj.weight\n",
      "Loaded model.layers.19.self_attn.qkv_proj.weight\n",
      "Loading model.layers.19.self_attn.o_proj.weight\n",
      "Loaded model.layers.19.self_attn.o_proj.weight\n",
      "Loading model.layers.19.self_attn.q_proj.weight\n",
      "Loaded model.layers.19.self_attn.qkv_proj.weight\n",
      "Loading model.layers.19.self_attn.v_proj.weight\n",
      "Loaded model.layers.19.self_attn.qkv_proj.weight\n",
      "Loading model.layers.20.mlp.gate_proj.weight\n",
      "Loaded model.layers.20.mlp.gate_up_proj.weight\n",
      "Loading model.layers.20.self_attn.k_proj.weight\n",
      "Loaded model.layers.20.self_attn.qkv_proj.weight\n",
      "Loading model.layers.20.self_attn.o_proj.weight\n",
      "Loaded model.layers.20.self_attn.o_proj.weight\n",
      "Loading model.layers.20.self_attn.q_proj.weight\n",
      "Loaded model.layers.20.self_attn.qkv_proj.weight\n",
      "Loading model.layers.20.self_attn.v_proj.weight\n",
      "Loaded model.layers.20.self_attn.qkv_proj.weight\n",
      "Loading model.layers.9.input_layernorm.weight\n",
      "Loaded model.layers.9.input_layernorm.weight\n",
      "Loading model.layers.9.mlp.down_proj.weight\n",
      "Loaded model.layers.9.mlp.down_proj.weight\n",
      "Loading model.layers.9.mlp.gate_proj.weight\n",
      "Loaded model.layers.9.mlp.gate_up_proj.weight\n",
      "Loading model.layers.9.mlp.up_proj.weight\n",
      "Loaded model.layers.9.mlp.gate_up_proj.weight\n",
      "Loading model.layers.9.post_attention_layernorm.weight\n",
      "Loaded model.layers.9.post_attention_layernorm.weight\n",
      "Loading model.layers.9.self_attn.k_proj.weight\n",
      "Loaded model.layers.9.self_attn.qkv_proj.weight\n",
      "Loading model.layers.9.self_attn.o_proj.weight\n",
      "Loaded model.layers.9.self_attn.o_proj.weight\n",
      "Loading model.layers.9.self_attn.q_proj.weight\n",
      "Loaded model.layers.9.self_attn.qkv_proj.weight\n",
      "Loading model.layers.9.self_attn.v_proj.weight\n",
      "Loaded model.layers.9.self_attn.qkv_proj.weight\n",
      "Loading model.layers.20.input_layernorm.weight\n",
      "Loaded model.layers.20.input_layernorm.weight\n",
      "Loading model.layers.20.mlp.down_proj.weight\n",
      "Loaded model.layers.20.mlp.down_proj.weight\n",
      "Loading model.layers.20.mlp.up_proj.weight\n",
      "Loaded model.layers.20.mlp.gate_up_proj.weight\n",
      "Loading model.layers.20.post_attention_layernorm.weight\n",
      "Loaded model.layers.20.post_attention_layernorm.weight\n",
      "Loading model.layers.21.input_layernorm.weight\n",
      "Loaded model.layers.21.input_layernorm.weight\n",
      "Loading model.layers.21.mlp.down_proj.weight\n",
      "Loaded model.layers.21.mlp.down_proj.weight\n",
      "Loading model.layers.21.mlp.gate_proj.weight\n",
      "Loaded model.layers.21.mlp.gate_up_proj.weight\n",
      "Loading model.layers.21.mlp.up_proj.weight\n",
      "Loaded model.layers.21.mlp.gate_up_proj.weight\n",
      "Loading model.layers.21.post_attention_layernorm.weight\n",
      "Loaded model.layers.21.post_attention_layernorm.weight\n",
      "Loading model.layers.21.self_attn.k_proj.weight\n",
      "Loaded model.layers.21.self_attn.qkv_proj.weight\n",
      "Loading model.layers.21.self_attn.o_proj.weight\n",
      "Loaded model.layers.21.self_attn.o_proj.weight\n",
      "Loading model.layers.21.self_attn.q_proj.weight\n",
      "Loaded model.layers.21.self_attn.qkv_proj.weight\n",
      "Loading model.layers.21.self_attn.v_proj.weight\n",
      "Loaded model.layers.21.self_attn.qkv_proj.weight\n",
      "Loading model.layers.22.input_layernorm.weight\n",
      "Loaded model.layers.22.input_layernorm.weight\n",
      "Loading model.layers.22.mlp.down_proj.weight\n",
      "Loaded model.layers.22.mlp.down_proj.weight\n",
      "Loading model.layers.22.mlp.gate_proj.weight\n",
      "Loaded model.layers.22.mlp.gate_up_proj.weight\n",
      "Loading model.layers.22.mlp.up_proj.weight\n",
      "Loaded model.layers.22.mlp.gate_up_proj.weight\n",
      "Loading model.layers.22.post_attention_layernorm.weight\n",
      "Loaded model.layers.22.post_attention_layernorm.weight\n",
      "Loading model.layers.22.self_attn.k_proj.weight\n",
      "Loaded model.layers.22.self_attn.qkv_proj.weight\n",
      "Loading model.layers.22.self_attn.o_proj.weight\n",
      "Loaded model.layers.22.self_attn.o_proj.weight\n",
      "Loading model.layers.22.self_attn.q_proj.weight\n",
      "Loaded model.layers.22.self_attn.qkv_proj.weight\n",
      "Loading model.layers.22.self_attn.v_proj.weight\n",
      "Loaded model.layers.22.self_attn.qkv_proj.weight\n",
      "Loading model.layers.23.input_layernorm.weight\n",
      "Loaded model.layers.23.input_layernorm.weight\n",
      "Loading model.layers.23.mlp.down_proj.weight\n",
      "Loaded model.layers.23.mlp.down_proj.weight\n",
      "Loading model.layers.23.mlp.gate_proj.weight\n",
      "Loaded model.layers.23.mlp.gate_up_proj.weight\n",
      "Loading model.layers.23.mlp.up_proj.weight\n",
      "Loaded model.layers.23.mlp.gate_up_proj.weight\n",
      "Loading model.layers.23.post_attention_layernorm.weight\n",
      "Loaded model.layers.23.post_attention_layernorm.weight\n",
      "Loading model.layers.23.self_attn.k_proj.weight\n",
      "Loaded model.layers.23.self_attn.qkv_proj.weight\n",
      "Loading model.layers.23.self_attn.o_proj.weight\n",
      "Loaded model.layers.23.self_attn.o_proj.weight\n",
      "Loading model.layers.23.self_attn.q_proj.weight\n",
      "Loaded model.layers.23.self_attn.qkv_proj.weight\n",
      "Loading model.layers.23.self_attn.v_proj.weight\n",
      "Loaded model.layers.23.self_attn.qkv_proj.weight\n",
      "Loading model.layers.24.input_layernorm.weight\n",
      "Loaded model.layers.24.input_layernorm.weight\n",
      "Loading model.layers.24.mlp.down_proj.weight\n",
      "Loaded model.layers.24.mlp.down_proj.weight\n",
      "Loading model.layers.24.mlp.gate_proj.weight\n",
      "Loaded model.layers.24.mlp.gate_up_proj.weight\n",
      "Loading model.layers.24.mlp.up_proj.weight\n",
      "Loaded model.layers.24.mlp.gate_up_proj.weight\n",
      "Loading model.layers.24.post_attention_layernorm.weight\n",
      "Loaded model.layers.24.post_attention_layernorm.weight\n",
      "Loading model.layers.24.self_attn.k_proj.weight\n",
      "Loaded model.layers.24.self_attn.qkv_proj.weight\n",
      "Loading model.layers.24.self_attn.o_proj.weight\n",
      "Loaded model.layers.24.self_attn.o_proj.weight\n",
      "Loading model.layers.24.self_attn.q_proj.weight\n",
      "Loaded model.layers.24.self_attn.qkv_proj.weight\n",
      "Loading model.layers.24.self_attn.v_proj.weight\n",
      "Loaded model.layers.24.self_attn.qkv_proj.weight\n",
      "Loading model.layers.25.input_layernorm.weight\n",
      "Loaded model.layers.25.input_layernorm.weight\n",
      "Loading model.layers.25.mlp.down_proj.weight\n",
      "Loaded model.layers.25.mlp.down_proj.weight\n",
      "Loading model.layers.25.mlp.gate_proj.weight\n",
      "Loaded model.layers.25.mlp.gate_up_proj.weight\n",
      "Loading model.layers.25.mlp.up_proj.weight\n",
      "Loaded model.layers.25.mlp.gate_up_proj.weight\n",
      "Loading model.layers.25.post_attention_layernorm.weight\n",
      "Loaded model.layers.25.post_attention_layernorm.weight\n",
      "Loading model.layers.25.self_attn.k_proj.weight\n",
      "Loaded model.layers.25.self_attn.qkv_proj.weight\n",
      "Loading model.layers.25.self_attn.o_proj.weight\n",
      "Loaded model.layers.25.self_attn.o_proj.weight\n",
      "Loading model.layers.25.self_attn.q_proj.weight\n",
      "Loaded model.layers.25.self_attn.qkv_proj.weight\n",
      "Loading model.layers.25.self_attn.v_proj.weight\n",
      "Loaded model.layers.25.self_attn.qkv_proj.weight\n",
      "Loading model.layers.26.input_layernorm.weight\n",
      "Loaded model.layers.26.input_layernorm.weight\n",
      "Loading model.layers.26.mlp.down_proj.weight\n",
      "Loaded model.layers.26.mlp.down_proj.weight\n",
      "Loading model.layers.26.mlp.gate_proj.weight\n",
      "Loaded model.layers.26.mlp.gate_up_proj.weight\n",
      "Loading model.layers.26.mlp.up_proj.weight\n",
      "Loaded model.layers.26.mlp.gate_up_proj.weight\n",
      "Loading model.layers.26.post_attention_layernorm.weight\n",
      "Loaded model.layers.26.post_attention_layernorm.weight\n",
      "Loading model.layers.26.self_attn.k_proj.weight\n",
      "Loaded model.layers.26.self_attn.qkv_proj.weight\n",
      "Loading model.layers.26.self_attn.o_proj.weight\n",
      "Loaded model.layers.26.self_attn.o_proj.weight\n",
      "Loading model.layers.26.self_attn.q_proj.weight\n",
      "Loaded model.layers.26.self_attn.qkv_proj.weight\n",
      "Loading model.layers.26.self_attn.v_proj.weight\n",
      "Loaded model.layers.26.self_attn.qkv_proj.weight\n",
      "Loading model.layers.27.input_layernorm.weight\n",
      "Loaded model.layers.27.input_layernorm.weight\n",
      "Loading model.layers.27.mlp.down_proj.weight\n",
      "Loaded model.layers.27.mlp.down_proj.weight\n",
      "Loading model.layers.27.mlp.gate_proj.weight\n",
      "Loaded model.layers.27.mlp.gate_up_proj.weight\n",
      "Loading model.layers.27.mlp.up_proj.weight\n",
      "Loaded model.layers.27.mlp.gate_up_proj.weight\n",
      "Loading model.layers.27.post_attention_layernorm.weight\n",
      "Loaded model.layers.27.post_attention_layernorm.weight\n",
      "Loading model.layers.27.self_attn.k_proj.weight\n",
      "Loaded model.layers.27.self_attn.qkv_proj.weight\n",
      "Loading model.layers.27.self_attn.o_proj.weight\n",
      "Loaded model.layers.27.self_attn.o_proj.weight\n",
      "Loading model.layers.27.self_attn.q_proj.weight\n",
      "Loaded model.layers.27.self_attn.qkv_proj.weight\n",
      "Loading model.layers.27.self_attn.v_proj.weight\n",
      "Loaded model.layers.27.self_attn.qkv_proj.weight\n",
      "Loading model.layers.28.input_layernorm.weight\n",
      "Loaded model.layers.28.input_layernorm.weight\n",
      "Loading model.layers.28.mlp.down_proj.weight\n",
      "Loaded model.layers.28.mlp.down_proj.weight\n",
      "Loading model.layers.28.mlp.gate_proj.weight\n",
      "Loaded model.layers.28.mlp.gate_up_proj.weight\n",
      "Loading model.layers.28.mlp.up_proj.weight\n",
      "Loaded model.layers.28.mlp.gate_up_proj.weight\n",
      "Loading model.layers.28.post_attention_layernorm.weight\n",
      "Loaded model.layers.28.post_attention_layernorm.weight\n",
      "Loading model.layers.28.self_attn.k_proj.weight\n",
      "Loaded model.layers.28.self_attn.qkv_proj.weight\n",
      "Loading model.layers.28.self_attn.o_proj.weight\n",
      "Loaded model.layers.28.self_attn.o_proj.weight\n",
      "Loading model.layers.28.self_attn.q_proj.weight\n",
      "Loaded model.layers.28.self_attn.qkv_proj.weight\n",
      "Loading model.layers.28.self_attn.v_proj.weight\n",
      "Loaded model.layers.28.self_attn.qkv_proj.weight\n",
      "Loading model.layers.29.input_layernorm.weight\n",
      "Loaded model.layers.29.input_layernorm.weight\n",
      "Loading model.layers.29.mlp.down_proj.weight\n",
      "Loaded model.layers.29.mlp.down_proj.weight\n",
      "Loading model.layers.29.mlp.gate_proj.weight\n",
      "Loaded model.layers.29.mlp.gate_up_proj.weight\n",
      "Loading model.layers.29.mlp.up_proj.weight\n",
      "Loaded model.layers.29.mlp.gate_up_proj.weight\n",
      "Loading model.layers.29.post_attention_layernorm.weight\n",
      "Loaded model.layers.29.post_attention_layernorm.weight\n",
      "Loading model.layers.29.self_attn.k_proj.weight\n",
      "Loaded model.layers.29.self_attn.qkv_proj.weight\n",
      "Loading model.layers.29.self_attn.o_proj.weight\n",
      "Loaded model.layers.29.self_attn.o_proj.weight\n",
      "Loading model.layers.29.self_attn.q_proj.weight\n",
      "Loaded model.layers.29.self_attn.qkv_proj.weight\n",
      "Loading model.layers.29.self_attn.v_proj.weight\n",
      "Loaded model.layers.29.self_attn.qkv_proj.weight\n",
      "Loading model.layers.30.input_layernorm.weight\n",
      "Loaded model.layers.30.input_layernorm.weight\n",
      "Loading model.layers.30.mlp.down_proj.weight\n",
      "Loaded model.layers.30.mlp.down_proj.weight\n",
      "Loading model.layers.30.mlp.gate_proj.weight\n",
      "Loaded model.layers.30.mlp.gate_up_proj.weight\n",
      "Loading model.layers.30.mlp.up_proj.weight\n",
      "Loaded model.layers.30.mlp.gate_up_proj.weight\n",
      "Loading model.layers.30.post_attention_layernorm.weight\n",
      "Loaded model.layers.30.post_attention_layernorm.weight\n",
      "Loading model.layers.30.self_attn.k_proj.weight\n",
      "Loaded model.layers.30.self_attn.qkv_proj.weight\n",
      "Loading model.layers.30.self_attn.o_proj.weight\n",
      "Loaded model.layers.30.self_attn.o_proj.weight\n",
      "Loading model.layers.30.self_attn.q_proj.weight\n",
      "Loaded model.layers.30.self_attn.qkv_proj.weight\n",
      "Loading model.layers.30.self_attn.v_proj.weight\n",
      "Loaded model.layers.30.self_attn.qkv_proj.weight\n",
      "Loading model.layers.31.mlp.gate_proj.weight\n",
      "Loaded model.layers.31.mlp.gate_up_proj.weight\n",
      "Loading model.layers.31.mlp.up_proj.weight\n",
      "Loaded model.layers.31.mlp.gate_up_proj.weight\n",
      "Loading model.layers.31.self_attn.k_proj.weight\n",
      "Loaded model.layers.31.self_attn.qkv_proj.weight\n",
      "Loading model.layers.31.self_attn.o_proj.weight\n",
      "Loaded model.layers.31.self_attn.o_proj.weight\n",
      "Loading model.layers.31.self_attn.q_proj.weight\n",
      "Loaded model.layers.31.self_attn.qkv_proj.weight\n",
      "Loading model.layers.31.self_attn.v_proj.weight\n",
      "Loaded model.layers.31.self_attn.qkv_proj.weight\n",
      "Loading lm_head.weight\n",
      "Loaded lm_head.weight\n",
      "Loading model.layers.31.input_layernorm.weight\n",
      "Loaded model.layers.31.input_layernorm.weight\n",
      "Loading model.layers.31.mlp.down_proj.weight\n",
      "Loaded model.layers.31.mlp.down_proj.weight\n",
      "Loading model.layers.31.post_attention_layernorm.weight\n",
      "Loaded model.layers.31.post_attention_layernorm.weight\n",
      "Loading model.norm.weight\n",
      "Loaded model.norm.weight\n",
      "INFO 08-28 15:21:16 model_runner.py:732] Loading model weights took 14.9888 GB\n",
      "INFO 08-28 15:21:18 gpu_executor.py:102] # GPU blocks: 23895, # CPU blocks: 2048\n",
      "INFO 08-28 15:21:20 model_runner.py:1019] Capturing the model for CUDA graphs. This may lead to unexpected consequences if the model is not static. To run the model in eager mode, set 'enforce_eager=True' or use '--enforce-eager' in the CLI.\n",
      "INFO 08-28 15:21:20 model_runner.py:1023] CUDA graphs can take additional 1~3 GiB memory per GPU. If you are running out of memory, consider decreasing `gpu_memory_utilization` or enforcing eager mode. You can also reduce the `max_num_seqs` as needed to decrease memory usage.\n",
      "INFO 08-28 15:21:31 model_runner.py:1220] Graph capturing finished in 11 secs.\n"
     ]
    }
   ],
   "source": [
    "llm = LLM(\n",
    "    \t  model=os.path.join(model_dir,MODEL_NAME), \n",
    "          tokenizer=TOKENIZER, \n",
    "          tensor_parallel_size=NUM_GPUS, \n",
    "          max_model_len=8192,\n",
    "        #   quantization=\"bitblas\",\n",
    "          dtype=\"bfloat16\",\n",
    "\t\t  gpu_memory_utilization=0.8,\n",
    "    \t#   enforce_eager=True,\n",
    "          )"
   ]
  },
  {
   "cell_type": "code",
   "execution_count": 20,
   "id": "ed93c58d-a5e5-4b4b-9f29-8c50276bdfcc",
   "metadata": {},
   "outputs": [],
   "source": [
    "# base model\n",
    "# outputs = llm.generate(inputs, SamplingParams(temperature=0.0, max_tokens=1024))"
   ]
  },
  {
   "cell_type": "code",
   "execution_count": 21,
   "id": "90462dd1-aa47-4e26-b402-e75580c0f397",
   "metadata": {},
   "outputs": [
    {
     "name": "stderr",
     "output_type": "stream",
     "text": [
      "Processed prompts:   0%|          | 0/128 [00:00<?, ?it/s, est. speed input: 0.00 toks/s, output: 0.00 toks/s]"
     ]
    },
    {
     "name": "stderr",
     "output_type": "stream",
     "text": [
      "Processed prompts: 100%|██████████| 128/128 [00:19<00:00,  6.53it/s, est. speed input: 706.05 toks/s, output: 1617.90 toks/s] \n"
     ]
    }
   ],
   "source": [
    "# chat model\n",
    "outputs = llm.generate(chat_inputs[:128], SamplingParams(temperature=0.0, max_tokens=1024, stop=[\"<|eot_id|>\"]))"
   ]
  },
  {
   "cell_type": "code",
   "execution_count": 22,
   "id": "704e3218-7a1f-449c-a5f0-cc235c1543bd",
   "metadata": {},
   "outputs": [],
   "source": [
    "short_answers_pred = [extract_last_number_or_ratio(o.outputs[0].text) for o in outputs]"
   ]
  },
  {
   "cell_type": "code",
   "execution_count": 23,
   "id": "62d14af3-9dce-4f85-b49d-862f60ea860b",
   "metadata": {},
   "outputs": [
    {
     "data": {
      "text/plain": [
       "0.421875"
      ]
     },
     "execution_count": 23,
     "metadata": {},
     "output_type": "execute_result"
    }
   ],
   "source": [
    "exact_match_score(short_answers_pred, labels)"
   ]
  },
  {
   "cell_type": "code",
   "execution_count": null,
   "id": "28092e7f",
   "metadata": {},
   "outputs": [],
   "source": [
    "chat_input = [convert_to_chat_input(\"Write python code for image classification using HF transformers library. Start with `from transformers import ...`\")]\n",
    "outputs = llm.generate(chat_input, SamplingParams(temperature=0.0, max_tokens=1024, stop=[\"<|eot_id|>\"],\n",
    "                                                  frequency_penalty=0.3, presence_penalty=0.5))\n",
    "print(outputs[0].outputs[0].text)"
   ]
  },
  {
   "cell_type": "code",
   "execution_count": 39,
   "id": "e735fdfd",
   "metadata": {},
   "outputs": [
    {
     "name": "stderr",
     "output_type": "stream",
     "text": [
      "Processed prompts: 100%|██████████| 1/1 [00:01<00:00,  1.82s/it, est. speed input: 41.34 toks/s, output: 77.16 toks/s]"
     ]
    },
    {
     "name": "stdout",
     "output_type": "stream",
     "text": [
      "1. Leonardo da Vinci (1452-1516)\n",
      "2. Alhunghar Nasimi (1450-1515)\n",
      "3. Giovanni Battista Belli (1474-1516)\n",
      "4. Giovanni Battista Cusano (1450-1508)\n",
      "5. Pietro da Cortona (1596-1635)\n",
      "6. Michelangelo Buonarroti (1478-1564)\n",
      "7. Raphael Sanzio (1503-1522)\n",
      "8. Andrea del Verrocchio (1470-1487)\n",
      "9. Sandi Baccalini (1460s - 1480s) \n",
      "10. Leonardo of Fiesole\n"
     ]
    },
    {
     "name": "stderr",
     "output_type": "stream",
     "text": [
      "\n"
     ]
    }
   ],
   "source": [
    "chat_input = [convert_to_chat_input(\"List top 10 scientist from 15th century as numbered list with their dob and death. Inclde da vinci.\")]\n",
    "outputs = llm.generate(chat_input, SamplingParams(temperature=0.0, max_tokens=256, stop=[\"<|eot_id|>\"],\n",
    "                                                  frequency_penalty=0.5, presence_penalty=0.))\n",
    "print(outputs[0].outputs[0].text)"
   ]
  },
  {
   "cell_type": "markdown",
   "id": "3c113080-4f09-49ca-b787-2c592cf4da1c",
   "metadata": {},
   "source": [
    "#### N-SHOT"
   ]
  },
  {
   "cell_type": "code",
   "execution_count": null,
   "id": "8f774674-116d-4f6e-b36e-06d47add2ad7",
   "metadata": {
    "scrolled": true
   },
   "outputs": [],
   "source": [
    "MODEL_NAME = \"meta-llama/Meta-Llama-3-8B-Instruct\"\n",
    "llm = LLM(model=MODEL_NAME, tensor_parallel_size=NUM_GPUS, dtype=\"bfloat16\")"
   ]
  },
  {
   "cell_type": "code",
   "execution_count": 17,
   "id": "fe71037b-5068-4437-af5d-65be722780c9",
   "metadata": {},
   "outputs": [
    {
     "name": "stderr",
     "output_type": "stream",
     "text": [
      "Processed prompts: 100%|██████████| 500/500 [01:20<00:00,  6.18it/s]\n"
     ]
    },
    {
     "data": {
      "text/plain": [
       "0.228"
      ]
     },
     "execution_count": 17,
     "metadata": {},
     "output_type": "execute_result"
    }
   ],
   "source": [
    "# zero-shot\n",
    "inputs = [f\"###Question:\\n{question}\\n###Answer:\\n\" for question in valid_dataset['question']]\n",
    "outputs = llm.generate(inputs, SamplingParams(temperature=0.0, max_tokens=1024))\n",
    "short_answers_pred = [extract_last_number_or_ratio(o.outputs[0].text) for o in outputs]\n",
    "exact_match_score(short_answers_pred, labels)"
   ]
  },
  {
   "cell_type": "code",
   "execution_count": 17,
   "id": "18685b24-2927-4a71-9cfb-832b1a644caa",
   "metadata": {},
   "outputs": [
    {
     "name": "stderr",
     "output_type": "stream",
     "text": [
      "Processed prompts: 100%|██████████| 500/500 [01:07<00:00,  7.41it/s]\n"
     ]
    },
    {
     "data": {
      "text/plain": [
       "0.454"
      ]
     },
     "execution_count": 17,
     "metadata": {},
     "output_type": "execute_result"
    }
   ],
   "source": [
    "# zero-shot (instruct)\n",
    "outputs = llm.generate(chat_inputs, SamplingParams(temperature=0.0, max_tokens=1024))\n",
    "short_answers_pred = [extract_last_number_or_ratio(o.outputs[0].text) for o in outputs]\n",
    "exact_match_score(short_answers_pred, labels)"
   ]
  },
  {
   "cell_type": "code",
   "execution_count": null,
   "id": "8ac82c9c-7663-4e22-b483-6b75964b18a3",
   "metadata": {},
   "outputs": [
    {
     "name": "stderr",
     "output_type": "stream",
     "text": [
      "Processed prompts:   9%|▉         | 47/500 [01:06<02:45,  2.73it/s] "
     ]
    }
   ],
   "source": [
    "# 5-shot\n",
    "few_shot_examples = [f\"###Question:\\n{ex['question']}\\n###Answer:\\n{ex['answer']}<stop>\" for ex in \n",
    "                     dataset.select(range(len(dataset)-5,len(dataset)))]\n",
    "few_shot_prompt = \"\\n\\n\".join(few_shot_examples)\n",
    "inputs = [few_shot_prompt + \"\\n\\n\" + f\"###Question:\\n{question}\\n###Answer:\\n\" for question in valid_dataset['question']]\n",
    "outputs = llm.generate(inputs, SamplingParams(temperature=0.0, \n",
    "                                              stop_token_ids=[tokenizer.eos_token_id], \n",
    "                                              stop=[\"<stop>\"], \n",
    "                                              max_tokens=1024))\n",
    "short_answers_pred = [extract_last_number_or_ratio(o.outputs[0].text) for o in outputs]\n",
    "exact_match_score(short_answers_pred, labels)"
   ]
  },
  {
   "cell_type": "code",
   "execution_count": 30,
   "id": "58216665-dfdb-4780-9fae-0f181e7be1b4",
   "metadata": {},
   "outputs": [],
   "source": [
    "few_shot_examples = [f\"###Question:\\n{ex['question']}\\n###Answer:\\n{ex['answer']}<stop>\" for ex in \n",
    "                     dataset.select(range(len(dataset)-5,len(dataset)))]"
   ]
  },
  {
   "cell_type": "code",
   "execution_count": 32,
   "id": "1272bc05-5f41-4ef1-a365-b5ddea678884",
   "metadata": {
    "scrolled": true
   },
   "outputs": [],
   "source": [
    "few_shot_prompt = \"\\n\\n\".join(few_shot_examples)"
   ]
  },
  {
   "cell_type": "code",
   "execution_count": 37,
   "id": "94ddfc91-ba02-4372-a766-c9cf2f7bde06",
   "metadata": {},
   "outputs": [],
   "source": [
    "def fewshot_chat_input(question, answer=None):\n",
    "    messages = [\n",
    "        {\"role\": \"system\", \"content\": f\"You are an AI assistant that excels in solving math problems. Here are few examples of math problems:\\n\\n{few_shot_prompt}\"},\n",
    "        {\"role\": \"user\", \"content\": question},\n",
    "    ]\n",
    "    return tokenizer.apply_chat_template(messages, tokenize=False, add_generation_prompt=True)"
   ]
  },
  {
   "cell_type": "code",
   "execution_count": 38,
   "id": "cc117e15-125f-4aac-ab2e-19890a41615d",
   "metadata": {},
   "outputs": [],
   "source": [
    "fewshot_chat_inputs = [fewshot_chat_input(question)  for question in valid_dataset['question']]"
   ]
  },
  {
   "cell_type": "code",
   "execution_count": 40,
   "id": "c6c9be61-f512-4963-95b0-8a23a40b39ea",
   "metadata": {},
   "outputs": [
    {
     "name": "stderr",
     "output_type": "stream",
     "text": [
      "Processed prompts: 100%|██████████| 500/500 [02:32<00:00,  3.27it/s]\n"
     ]
    },
    {
     "data": {
      "text/plain": [
       "0.452"
      ]
     },
     "execution_count": 40,
     "metadata": {},
     "output_type": "execute_result"
    }
   ],
   "source": [
    "outputs = llm.generate(fewshot_chat_inputs, SamplingParams(temperature=0.0, \n",
    "                                              stop_token_ids=[tokenizer.eos_token_id], \n",
    "                                              stop=[\"<|eot_id|>\"],\n",
    "                                              max_tokens=1024))\n",
    "short_answers_pred = [extract_last_number_or_ratio(o.outputs[0].text) for o in outputs]\n",
    "exact_match_score(short_answers_pred, labels)"
   ]
  },
  {
   "cell_type": "code",
   "execution_count": null,
   "id": "c9b936f5-8a6e-4ebc-ac1a-989ff41f128e",
   "metadata": {},
   "outputs": [],
   "source": []
  },
  {
   "cell_type": "code",
   "execution_count": null,
   "id": "8c1979a2-ad54-4f46-9247-28a9d0de18bc",
   "metadata": {},
   "outputs": [],
   "source": []
  },
  {
   "cell_type": "code",
   "execution_count": null,
   "id": "63b467a1-9f3a-4d09-b0f9-2de46c979762",
   "metadata": {},
   "outputs": [],
   "source": []
  },
  {
   "cell_type": "code",
   "execution_count": null,
   "id": "a0b02810-3d5d-4d8a-8ca7-e43d59722311",
   "metadata": {},
   "outputs": [],
   "source": []
  }
 ],
 "metadata": {
  "kernelspec": {
   "display_name": "Python 3 (ipykernel)",
   "language": "python",
   "name": "python3"
  },
  "language_info": {
   "codemirror_mode": {
    "name": "ipython",
    "version": 3
   },
   "file_extension": ".py",
   "mimetype": "text/x-python",
   "name": "python",
   "nbconvert_exporter": "python",
   "pygments_lexer": "ipython3",
   "version": "3.10.12"
  }
 },
 "nbformat": 4,
 "nbformat_minor": 5
}
