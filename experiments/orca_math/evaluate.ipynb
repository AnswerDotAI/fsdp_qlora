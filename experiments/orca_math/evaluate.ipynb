{
 "cells": [
  {
   "cell_type": "markdown",
   "id": "a3299605-c781-4901-bf93-eedaa75e2634",
   "metadata": {},
   "source": [
    "Evaluations with zero-shot, 5-shot, full fine-tune, merged LoRA, merged DoRA."
   ]
  },
  {
   "cell_type": "code",
   "execution_count": 30,
   "id": "b79535af-bfff-48d6-a79d-3ae911876451",
   "metadata": {
    "scrolled": true
   },
   "outputs": [],
   "source": [
    "import torch\n",
    "from pathlib import Path\n",
    "import os, json\n",
    "from safetensors.torch import save_file\n",
    "import copy\n",
    "from tqdm import tqdm\n",
    "import safetensors\n",
    "import safetensors.torch\n",
    "from glob import glob\n",
    "from transformers import AutoConfig, AutoTokenizer\n",
    "from transformers.utils import hub, SAFE_WEIGHTS_NAME, SAFE_WEIGHTS_INDEX_NAME\n",
    "from hqq.core.quantize import HQQLinear, HQQBackend, BaseQuantizeConfig, Quantizer\n",
    "\n",
    "from hqq.core.quantize import HQQLinear, BaseQuantizeConfig, Quantizer\n",
    "from hqq.backends.torchao import patch_hqq_to_aoint4\n",
    "from fastcore.script import *\n",
    "\n",
    "# import bitsandbytes as bnb\n",
    "# from bitsandbytes.nn.modules import Params4bit\n",
    "# import torch"
   ]
  },
  {
   "cell_type": "code",
   "execution_count": 4,
   "id": "b636b2ae",
   "metadata": {},
   "outputs": [],
   "source": [
    "weights = safetensors.torch.load_file(\"/workspace/models/llama-3-8b-instruct-orca-math-10k-hqq-lora-ln/model_state_dict.safetensors\")"
   ]
  },
  {
   "cell_type": "code",
   "execution_count": 15,
   "id": "b788da8f",
   "metadata": {},
   "outputs": [
    {
     "name": "stdout",
     "output_type": "stream",
     "text": [
      "model.layers.0.input_layernorm.weight torch.Size([4096])\n",
      "model.layers.0.mlp.down_proj.lora_A.weight torch.Size([64, 14336])\n",
      "model.layers.0.mlp.down_proj.lora_B.weight torch.Size([4096, 64])\n",
      "model.layers.0.mlp.gate_proj.lora_A.weight torch.Size([64, 4096])\n",
      "model.layers.0.mlp.gate_proj.lora_B.weight torch.Size([14336, 64])\n",
      "model.layers.0.mlp.up_proj.lora_A.weight torch.Size([64, 4096])\n",
      "model.layers.0.mlp.up_proj.lora_B.weight torch.Size([14336, 64])\n",
      "model.layers.0.post_attention_layernorm.weight torch.Size([4096])\n",
      "model.layers.0.self_attn.k_proj.lora_A.weight torch.Size([64, 4096])\n",
      "model.layers.0.self_attn.k_proj.lora_B.weight torch.Size([1024, 64])\n",
      "model.layers.0.self_attn.o_proj.lora_A.weight torch.Size([64, 4096])\n",
      "model.layers.0.self_attn.o_proj.lora_B.weight torch.Size([4096, 64])\n",
      "model.layers.0.self_attn.q_proj.lora_A.weight torch.Size([64, 4096])\n",
      "model.layers.0.self_attn.q_proj.lora_B.weight torch.Size([4096, 64])\n",
      "model.layers.0.self_attn.v_proj.lora_A.weight torch.Size([64, 4096])\n",
      "model.layers.0.self_attn.v_proj.lora_B.weight torch.Size([1024, 64])\n"
     ]
    }
   ],
   "source": [
    "for k,v in weights.items():\n",
    "\tif \"layers.0\" in k: print(k, v.shape)"
   ]
  },
  {
   "cell_type": "markdown",
   "id": "eca24e15",
   "metadata": {},
   "source": [
    "### Prepare Merged Weights"
   ]
  },
  {
   "cell_type": "code",
   "execution_count": 8,
   "id": "d328089c",
   "metadata": {},
   "outputs": [],
   "source": [
    "model_dir = Path(\"/workspace/models/llama-3-8b-instruct-orca-math-10k-hqq-lora-ln\")\n",
    "config_dict = json.load(open(model_dir/\"config.json\"))[\"qlora_config\"]"
   ]
  },
  {
   "cell_type": "code",
   "execution_count": 9,
   "id": "f14a9b57",
   "metadata": {},
   "outputs": [
    {
     "data": {
      "text/plain": [
       "{'lora_target_modules': ['q_proj',\n",
       "  'k_proj',\n",
       "  'v_proj',\n",
       "  'o_proj',\n",
       "  'gate_proj',\n",
       "  'up_proj',\n",
       "  'down_proj'],\n",
       " 'compute_dtype': 'bfloat16',\n",
       " 'lora_rank': 64,\n",
       " 'lora_alpha': 16,\n",
       " 'lora_dropout': 0.1,\n",
       " 'layer_nbits': {'q_proj': 4,\n",
       "  'k_proj': 4,\n",
       "  'v_proj': 4,\n",
       "  'o_proj': 4,\n",
       "  'gate_proj': 4,\n",
       "  'up_proj': 4,\n",
       "  'down_proj': 4},\n",
       " 'layer_groupsizes': {'q_proj': 64,\n",
       "  'k_proj': 64,\n",
       "  'v_proj': 64,\n",
       "  'o_proj': 64,\n",
       "  'gate_proj': 64,\n",
       "  'up_proj': 64,\n",
       "  'down_proj': 64},\n",
       " 'skip_dora_all': False,\n",
       " 'skip_dora_4bit': False,\n",
       " 'train_layernorms': 1}"
      ]
     },
     "execution_count": 9,
     "metadata": {},
     "output_type": "execute_result"
    }
   ],
   "source": [
    "config_dict"
   ]
  },
  {
   "cell_type": "code",
   "execution_count": 11,
   "id": "7400ad34",
   "metadata": {},
   "outputs": [],
   "source": [
    "lora_layers = config_dict.get(\"lora_target_modules\", [])\n",
    "layer_nbits = config_dict.get(\"layer_nbits\", {})\n",
    "layer_groupsizes = config_dict.get(\"layer_groupsizes\", {})\n",
    "dtype = getattr(torch, config_dict.get(\"compute_dtype\", \"bfloat16\"))\n",
    "lora_rank = config_dict.get(\"lora_rank\", 64)\n",
    "lora_alpha = config_dict.get(\"lora_alpha\", 16)"
   ]
  },
  {
   "cell_type": "code",
   "execution_count": 13,
   "metadata": {},
   "outputs": [],
   "source": [
    "MODEL_NAME = \"meta-llama/Meta-Llama-3-8B-Instruct\"\n",
    "idx = hub.cached_file(MODEL_NAME, SAFE_WEIGHTS_INDEX_NAME)\n",
    "pretrained_files, _ = hub.get_checkpoint_shard_files(MODEL_NAME, idx)"
   ]
  },
  {
   "cell_type": "code",
   "execution_count": 14,
   "id": "f32e8e09",
   "metadata": {},
   "outputs": [],
   "source": [
    "dora_weights = safetensors.torch.load_file(model_dir/\"model_state_dict.safetensors\")"
   ]
  },
  {
   "cell_type": "code",
   "execution_count": 16,
   "id": "374b0541",
   "metadata": {},
   "outputs": [
    {
     "data": {
      "text/plain": [
       "['q_proj', 'k_proj', 'v_proj', 'o_proj', 'gate_proj', 'up_proj', 'down_proj']"
      ]
     },
     "execution_count": 16,
     "metadata": {},
     "output_type": "execute_result"
    }
   ],
   "source": [
    "lora_layers"
   ]
  },
  {
   "cell_type": "code",
   "execution_count": 36,
   "metadata": {},
   "outputs": [],
   "source": [
    "# Here assume quantized layers are same as lora layers.\n",
    "quantized_layers = lora_layers"
   ]
  },
  {
   "cell_type": "code",
   "execution_count": 37,
   "id": "3bd327f1",
   "metadata": {},
   "outputs": [],
   "source": [
    "if config_dict['train_layernorms']:\n",
    "\tlayernorm_layers = set([k for k in dora_weights.keys() if \"layernorm\" in k])\n",
    "else:\n",
    "\tlayernorm_layers = set([])"
   ]
  },
  {
   "cell_type": "code",
   "execution_count": 47,
   "id": "32eab7f9",
   "metadata": {},
   "outputs": [],
   "source": [
    "existing_quantized_dir = None\n",
    "bitblas_dtype = torch.half\n",
    "args = {}\n",
    "args[\"infer_type\"] = \"merged_hqq_lora\""
   ]
  },
  {
   "cell_type": "code",
   "execution_count": 48,
   "id": "612bdcb5",
   "metadata": {},
   "outputs": [
    {
     "data": {
      "text/plain": [
       "(64, 16)"
      ]
     },
     "execution_count": 48,
     "metadata": {},
     "output_type": "execute_result"
    }
   ],
   "source": [
    "lora_rank, lora_alpha"
   ]
  },
  {
   "cell_type": "code",
   "execution_count": 57,
   "id": "8617e072",
   "metadata": {},
   "outputs": [],
   "source": [
    "save_dir = Path(\"/workspace/models/llama-3-8b-instruct-orca-math-10k-hqq-lora-ln-merged-vllm\")\n",
    "os.makedirs(save_dir, exist_ok=True)"
   ]
  },
  {
   "cell_type": "code",
   "execution_count": 58,
   "id": "b87cf4e9",
   "metadata": {},
   "outputs": [
    {
     "name": "stderr",
     "output_type": "stream",
     "text": [
      "1it [00:00,  7.73it/s]"
     ]
    },
    {
     "name": "stdout",
     "output_type": "stream",
     "text": [
      "Copying model.embed_tokens.weight.\n",
      "Replacing model.layers.0.input_layernorm.weight.\n"
     ]
    },
    {
     "name": "stderr",
     "output_type": "stream",
     "text": [
      "3it [00:00,  5.52it/s]"
     ]
    },
    {
     "name": "stdout",
     "output_type": "stream",
     "text": [
      "Merging layer model.layers.0.mlp.down_proj.weight with LORA\n"
     ]
    },
    {
     "name": "stderr",
     "output_type": "stream",
     "text": [
      "4it [00:00,  3.69it/s]"
     ]
    },
    {
     "name": "stdout",
     "output_type": "stream",
     "text": [
      "Merging layer model.layers.0.mlp.gate_proj.weight with LORA\n"
     ]
    },
    {
     "name": "stderr",
     "output_type": "stream",
     "text": [
      "8it [00:01,  5.82it/s]"
     ]
    },
    {
     "name": "stdout",
     "output_type": "stream",
     "text": [
      "Merging layer model.layers.0.mlp.up_proj.weight with LORA\n",
      "Replacing model.layers.0.post_attention_layernorm.weight.\n",
      "Merging layer model.layers.0.self_attn.k_proj.weight with LORA\n",
      "Merging layer model.layers.0.self_attn.o_proj.weight with LORA\n"
     ]
    },
    {
     "name": "stderr",
     "output_type": "stream",
     "text": [
      "9it [00:01,  5.09it/s]"
     ]
    },
    {
     "name": "stdout",
     "output_type": "stream",
     "text": [
      "Merging layer model.layers.0.self_attn.q_proj.weight with LORA\n",
      "Merging layer model.layers.0.self_attn.v_proj.weight with LORA\n",
      "Replacing model.layers.1.input_layernorm.weight.\n"
     ]
    },
    {
     "name": "stderr",
     "output_type": "stream",
     "text": [
      "12it [00:02,  5.54it/s]"
     ]
    },
    {
     "name": "stdout",
     "output_type": "stream",
     "text": [
      "Merging layer model.layers.1.mlp.down_proj.weight with LORA\n"
     ]
    },
    {
     "name": "stderr",
     "output_type": "stream",
     "text": [
      "13it [00:02,  4.33it/s]"
     ]
    },
    {
     "name": "stdout",
     "output_type": "stream",
     "text": [
      "Merging layer model.layers.1.mlp.gate_proj.weight with LORA\n"
     ]
    },
    {
     "name": "stderr",
     "output_type": "stream",
     "text": [
      "17it [00:03,  5.79it/s]"
     ]
    },
    {
     "name": "stdout",
     "output_type": "stream",
     "text": [
      "Merging layer model.layers.1.mlp.up_proj.weight with LORA\n",
      "Replacing model.layers.1.post_attention_layernorm.weight.\n",
      "Merging layer model.layers.1.self_attn.k_proj.weight with LORA\n",
      "Merging layer model.layers.1.self_attn.o_proj.weight with LORA\n"
     ]
    },
    {
     "name": "stderr",
     "output_type": "stream",
     "text": [
      "18it [00:03,  6.01it/s]"
     ]
    },
    {
     "name": "stdout",
     "output_type": "stream",
     "text": [
      "Merging layer model.layers.1.self_attn.q_proj.weight with LORA\n",
      "Merging layer model.layers.1.self_attn.v_proj.weight with LORA\n",
      "Replacing model.layers.2.input_layernorm.weight.\n"
     ]
    },
    {
     "name": "stderr",
     "output_type": "stream",
     "text": [
      "21it [00:04,  5.09it/s]"
     ]
    },
    {
     "name": "stdout",
     "output_type": "stream",
     "text": [
      "Merging layer model.layers.2.mlp.down_proj.weight with LORA\n"
     ]
    },
    {
     "name": "stderr",
     "output_type": "stream",
     "text": [
      "22it [00:04,  4.12it/s]"
     ]
    },
    {
     "name": "stdout",
     "output_type": "stream",
     "text": [
      "Merging layer model.layers.2.mlp.gate_proj.weight with LORA\n"
     ]
    },
    {
     "name": "stderr",
     "output_type": "stream",
     "text": [
      "23it [00:05,  3.51it/s]"
     ]
    },
    {
     "name": "stdout",
     "output_type": "stream",
     "text": [
      "Merging layer model.layers.2.mlp.up_proj.weight with LORA\n",
      "Replacing model.layers.2.post_attention_layernorm.weight.\n",
      "Merging layer model.layers.2.self_attn.k_proj.weight with LORA\n"
     ]
    },
    {
     "name": "stderr",
     "output_type": "stream",
     "text": [
      "27it [00:05,  5.63it/s]"
     ]
    },
    {
     "name": "stdout",
     "output_type": "stream",
     "text": [
      "Merging layer model.layers.2.self_attn.o_proj.weight with LORA\n",
      "Merging layer model.layers.2.self_attn.q_proj.weight with LORA\n",
      "Merging layer model.layers.2.self_attn.v_proj.weight with LORA\n",
      "Replacing model.layers.3.input_layernorm.weight.\n"
     ]
    },
    {
     "name": "stderr",
     "output_type": "stream",
     "text": [
      "30it [00:06,  5.80it/s]"
     ]
    },
    {
     "name": "stdout",
     "output_type": "stream",
     "text": [
      "Merging layer model.layers.3.mlp.down_proj.weight with LORA\n"
     ]
    },
    {
     "name": "stderr",
     "output_type": "stream",
     "text": [
      "31it [00:06,  4.49it/s]"
     ]
    },
    {
     "name": "stdout",
     "output_type": "stream",
     "text": [
      "Merging layer model.layers.3.mlp.gate_proj.weight with LORA\n"
     ]
    },
    {
     "name": "stderr",
     "output_type": "stream",
     "text": [
      "35it [00:07,  5.17it/s]"
     ]
    },
    {
     "name": "stdout",
     "output_type": "stream",
     "text": [
      "Merging layer model.layers.3.mlp.up_proj.weight with LORA\n",
      "Replacing model.layers.3.post_attention_layernorm.weight.\n",
      "Merging layer model.layers.3.self_attn.k_proj.weight with LORA\n",
      "Merging layer model.layers.3.self_attn.o_proj.weight with LORA\n"
     ]
    },
    {
     "name": "stderr",
     "output_type": "stream",
     "text": [
      "36it [00:07,  5.44it/s]"
     ]
    },
    {
     "name": "stdout",
     "output_type": "stream",
     "text": [
      "Merging layer model.layers.3.self_attn.q_proj.weight with LORA\n",
      "Merging layer model.layers.3.self_attn.v_proj.weight with LORA\n",
      "Replacing model.layers.4.input_layernorm.weight.\n"
     ]
    },
    {
     "name": "stderr",
     "output_type": "stream",
     "text": [
      "39it [00:07,  5.76it/s]"
     ]
    },
    {
     "name": "stdout",
     "output_type": "stream",
     "text": [
      "Merging layer model.layers.4.mlp.down_proj.weight with LORA\n"
     ]
    },
    {
     "name": "stderr",
     "output_type": "stream",
     "text": [
      "40it [00:08,  4.52it/s]"
     ]
    },
    {
     "name": "stdout",
     "output_type": "stream",
     "text": [
      "Merging layer model.layers.4.mlp.gate_proj.weight with LORA\n"
     ]
    },
    {
     "name": "stderr",
     "output_type": "stream",
     "text": [
      "44it [00:09,  5.82it/s]"
     ]
    },
    {
     "name": "stdout",
     "output_type": "stream",
     "text": [
      "Merging layer model.layers.4.mlp.up_proj.weight with LORA\n",
      "Replacing model.layers.4.post_attention_layernorm.weight.\n",
      "Merging layer model.layers.4.self_attn.k_proj.weight with LORA\n",
      "Merging layer model.layers.4.self_attn.o_proj.weight with LORA\n"
     ]
    },
    {
     "name": "stderr",
     "output_type": "stream",
     "text": [
      "45it [00:09,  5.98it/s]"
     ]
    },
    {
     "name": "stdout",
     "output_type": "stream",
     "text": [
      "Merging layer model.layers.4.self_attn.q_proj.weight with LORA\n",
      "Merging layer model.layers.4.self_attn.v_proj.weight with LORA\n",
      "Replacing model.layers.5.input_layernorm.weight.\n"
     ]
    },
    {
     "name": "stderr",
     "output_type": "stream",
     "text": [
      "48it [00:09,  6.05it/s]"
     ]
    },
    {
     "name": "stdout",
     "output_type": "stream",
     "text": [
      "Merging layer model.layers.5.mlp.down_proj.weight with LORA\n"
     ]
    },
    {
     "name": "stderr",
     "output_type": "stream",
     "text": [
      "49it [00:10,  4.63it/s]"
     ]
    },
    {
     "name": "stdout",
     "output_type": "stream",
     "text": [
      "Merging layer model.layers.5.mlp.gate_proj.weight with LORA\n"
     ]
    },
    {
     "name": "stderr",
     "output_type": "stream",
     "text": [
      "53it [00:10,  5.93it/s]"
     ]
    },
    {
     "name": "stdout",
     "output_type": "stream",
     "text": [
      "Merging layer model.layers.5.mlp.up_proj.weight with LORA\n",
      "Replacing model.layers.5.post_attention_layernorm.weight.\n",
      "Merging layer model.layers.5.self_attn.k_proj.weight with LORA\n",
      "Merging layer model.layers.5.self_attn.o_proj.weight with LORA\n"
     ]
    },
    {
     "name": "stderr",
     "output_type": "stream",
     "text": [
      "54it [00:10,  6.11it/s]"
     ]
    },
    {
     "name": "stdout",
     "output_type": "stream",
     "text": [
      "Merging layer model.layers.5.self_attn.q_proj.weight with LORA\n",
      "Merging layer model.layers.5.self_attn.v_proj.weight with LORA\n",
      "Replacing model.layers.6.input_layernorm.weight.\n"
     ]
    },
    {
     "name": "stderr",
     "output_type": "stream",
     "text": [
      "57it [00:11,  6.13it/s]"
     ]
    },
    {
     "name": "stdout",
     "output_type": "stream",
     "text": [
      "Merging layer model.layers.6.mlp.down_proj.weight with LORA\n"
     ]
    },
    {
     "name": "stderr",
     "output_type": "stream",
     "text": [
      "58it [00:11,  4.66it/s]"
     ]
    },
    {
     "name": "stdout",
     "output_type": "stream",
     "text": [
      "Merging layer model.layers.6.mlp.gate_proj.weight with LORA\n"
     ]
    },
    {
     "name": "stderr",
     "output_type": "stream",
     "text": [
      "62it [00:12,  5.43it/s]"
     ]
    },
    {
     "name": "stdout",
     "output_type": "stream",
     "text": [
      "Merging layer model.layers.6.mlp.up_proj.weight with LORA\n",
      "Replacing model.layers.6.post_attention_layernorm.weight.\n",
      "Merging layer model.layers.6.self_attn.k_proj.weight with LORA\n",
      "Merging layer model.layers.6.self_attn.o_proj.weight with LORA\n"
     ]
    },
    {
     "name": "stderr",
     "output_type": "stream",
     "text": [
      "63it [00:12,  5.67it/s]"
     ]
    },
    {
     "name": "stdout",
     "output_type": "stream",
     "text": [
      "Merging layer model.layers.6.self_attn.q_proj.weight with LORA\n",
      "Merging layer model.layers.6.self_attn.v_proj.weight with LORA\n",
      "Replacing model.layers.7.input_layernorm.weight.\n"
     ]
    },
    {
     "name": "stderr",
     "output_type": "stream",
     "text": [
      "66it [00:13,  5.89it/s]"
     ]
    },
    {
     "name": "stdout",
     "output_type": "stream",
     "text": [
      "Merging layer model.layers.7.mlp.down_proj.weight with LORA\n"
     ]
    },
    {
     "name": "stderr",
     "output_type": "stream",
     "text": [
      "67it [00:13,  4.58it/s]"
     ]
    },
    {
     "name": "stdout",
     "output_type": "stream",
     "text": [
      "Merging layer model.layers.7.mlp.gate_proj.weight with LORA\n"
     ]
    },
    {
     "name": "stderr",
     "output_type": "stream",
     "text": [
      "71it [00:14,  5.89it/s]"
     ]
    },
    {
     "name": "stdout",
     "output_type": "stream",
     "text": [
      "Merging layer model.layers.7.mlp.up_proj.weight with LORA\n",
      "Replacing model.layers.7.post_attention_layernorm.weight.\n",
      "Merging layer model.layers.7.self_attn.k_proj.weight with LORA\n",
      "Merging layer model.layers.7.self_attn.o_proj.weight with LORA\n"
     ]
    },
    {
     "name": "stderr",
     "output_type": "stream",
     "text": [
      "72it [00:14,  6.13it/s]"
     ]
    },
    {
     "name": "stdout",
     "output_type": "stream",
     "text": [
      "Merging layer model.layers.7.self_attn.q_proj.weight with LORA\n",
      "Merging layer model.layers.7.self_attn.v_proj.weight with LORA\n",
      "Replacing model.layers.8.input_layernorm.weight.\n"
     ]
    },
    {
     "name": "stderr",
     "output_type": "stream",
     "text": [
      "75it [00:14,  6.17it/s]"
     ]
    },
    {
     "name": "stdout",
     "output_type": "stream",
     "text": [
      "Merging layer model.layers.8.mlp.down_proj.weight with LORA\n"
     ]
    },
    {
     "name": "stderr",
     "output_type": "stream",
     "text": [
      "76it [00:15,  4.70it/s]"
     ]
    },
    {
     "name": "stdout",
     "output_type": "stream",
     "text": [
      "Merging layer model.layers.8.mlp.gate_proj.weight with LORA\n"
     ]
    },
    {
     "name": "stderr",
     "output_type": "stream",
     "text": [
      "80it [00:16,  5.99it/s]"
     ]
    },
    {
     "name": "stdout",
     "output_type": "stream",
     "text": [
      "Merging layer model.layers.8.mlp.up_proj.weight with LORA\n",
      "Replacing model.layers.8.post_attention_layernorm.weight.\n",
      "Merging layer model.layers.8.self_attn.k_proj.weight with LORA\n",
      "Merging layer model.layers.8.self_attn.o_proj.weight with LORA\n"
     ]
    },
    {
     "name": "stderr",
     "output_type": "stream",
     "text": [
      "82it [00:16,  5.06it/s]\n"
     ]
    },
    {
     "name": "stdout",
     "output_type": "stream",
     "text": [
      "Merging layer model.layers.8.self_attn.q_proj.weight with LORA\n",
      "Merging layer model.layers.8.self_attn.v_proj.weight with LORA\n"
     ]
    },
    {
     "name": "stderr",
     "output_type": "stream",
     "text": [
      "1it [00:00,  6.05it/s]"
     ]
    },
    {
     "name": "stdout",
     "output_type": "stream",
     "text": [
      "Replacing model.layers.10.input_layernorm.weight.\n"
     ]
    },
    {
     "name": "stderr",
     "output_type": "stream",
     "text": [
      "2it [00:00,  3.23it/s]"
     ]
    },
    {
     "name": "stdout",
     "output_type": "stream",
     "text": [
      "Merging layer model.layers.10.mlp.down_proj.weight with LORA\n"
     ]
    },
    {
     "name": "stderr",
     "output_type": "stream",
     "text": [
      "3it [00:01,  2.46it/s]"
     ]
    },
    {
     "name": "stdout",
     "output_type": "stream",
     "text": [
      "Merging layer model.layers.10.mlp.gate_proj.weight with LORA\n"
     ]
    },
    {
     "name": "stderr",
     "output_type": "stream",
     "text": [
      "4it [00:01,  2.37it/s]"
     ]
    },
    {
     "name": "stdout",
     "output_type": "stream",
     "text": [
      "Merging layer model.layers.10.mlp.up_proj.weight with LORA\n",
      "Replacing model.layers.10.post_attention_layernorm.weight.\n",
      "Merging layer model.layers.10.self_attn.k_proj.weight with LORA\n"
     ]
    },
    {
     "name": "stderr",
     "output_type": "stream",
     "text": [
      "8it [00:01,  5.39it/s]"
     ]
    },
    {
     "name": "stdout",
     "output_type": "stream",
     "text": [
      "Merging layer model.layers.10.self_attn.o_proj.weight with LORA\n",
      "Merging layer model.layers.10.self_attn.q_proj.weight with LORA\n",
      "Merging layer model.layers.10.self_attn.v_proj.weight with LORA\n",
      "Replacing model.layers.11.input_layernorm.weight.\n"
     ]
    },
    {
     "name": "stderr",
     "output_type": "stream",
     "text": [
      "11it [00:02,  5.78it/s]"
     ]
    },
    {
     "name": "stdout",
     "output_type": "stream",
     "text": [
      "Merging layer model.layers.11.mlp.down_proj.weight with LORA\n"
     ]
    },
    {
     "name": "stderr",
     "output_type": "stream",
     "text": [
      "12it [00:02,  4.42it/s]"
     ]
    },
    {
     "name": "stdout",
     "output_type": "stream",
     "text": [
      "Merging layer model.layers.11.mlp.gate_proj.weight with LORA\n"
     ]
    },
    {
     "name": "stderr",
     "output_type": "stream",
     "text": [
      "16it [00:03,  5.92it/s]"
     ]
    },
    {
     "name": "stdout",
     "output_type": "stream",
     "text": [
      "Merging layer model.layers.11.mlp.up_proj.weight with LORA\n",
      "Replacing model.layers.11.post_attention_layernorm.weight.\n",
      "Merging layer model.layers.11.self_attn.k_proj.weight with LORA\n",
      "Merging layer model.layers.11.self_attn.o_proj.weight with LORA\n"
     ]
    },
    {
     "name": "stderr",
     "output_type": "stream",
     "text": [
      "17it [00:03,  6.12it/s]"
     ]
    },
    {
     "name": "stdout",
     "output_type": "stream",
     "text": [
      "Merging layer model.layers.11.self_attn.q_proj.weight with LORA\n",
      "Merging layer model.layers.11.self_attn.v_proj.weight with LORA\n",
      "Replacing model.layers.12.input_layernorm.weight.\n"
     ]
    },
    {
     "name": "stderr",
     "output_type": "stream",
     "text": [
      "20it [00:04,  6.11it/s]"
     ]
    },
    {
     "name": "stdout",
     "output_type": "stream",
     "text": [
      "Merging layer model.layers.12.mlp.down_proj.weight with LORA\n"
     ]
    },
    {
     "name": "stderr",
     "output_type": "stream",
     "text": [
      "21it [00:04,  4.62it/s]"
     ]
    },
    {
     "name": "stdout",
     "output_type": "stream",
     "text": [
      "Merging layer model.layers.12.mlp.gate_proj.weight with LORA\n"
     ]
    },
    {
     "name": "stderr",
     "output_type": "stream",
     "text": [
      "25it [00:05,  5.94it/s]"
     ]
    },
    {
     "name": "stdout",
     "output_type": "stream",
     "text": [
      "Merging layer model.layers.12.mlp.up_proj.weight with LORA\n",
      "Replacing model.layers.12.post_attention_layernorm.weight.\n",
      "Merging layer model.layers.12.self_attn.k_proj.weight with LORA\n",
      "Merging layer model.layers.12.self_attn.o_proj.weight with LORA\n"
     ]
    },
    {
     "name": "stderr",
     "output_type": "stream",
     "text": [
      "26it [00:05,  6.11it/s]"
     ]
    },
    {
     "name": "stdout",
     "output_type": "stream",
     "text": [
      "Merging layer model.layers.12.self_attn.q_proj.weight with LORA\n",
      "Merging layer model.layers.12.self_attn.v_proj.weight with LORA\n",
      "Replacing model.layers.13.input_layernorm.weight.\n"
     ]
    },
    {
     "name": "stderr",
     "output_type": "stream",
     "text": [
      "29it [00:05,  5.89it/s]"
     ]
    },
    {
     "name": "stdout",
     "output_type": "stream",
     "text": [
      "Merging layer model.layers.13.mlp.down_proj.weight with LORA\n"
     ]
    },
    {
     "name": "stderr",
     "output_type": "stream",
     "text": [
      "30it [00:06,  4.35it/s]"
     ]
    },
    {
     "name": "stdout",
     "output_type": "stream",
     "text": [
      "Merging layer model.layers.13.mlp.gate_proj.weight with LORA\n"
     ]
    },
    {
     "name": "stderr",
     "output_type": "stream",
     "text": [
      "34it [00:06,  5.68it/s]"
     ]
    },
    {
     "name": "stdout",
     "output_type": "stream",
     "text": [
      "Merging layer model.layers.13.mlp.up_proj.weight with LORA\n",
      "Replacing model.layers.13.post_attention_layernorm.weight.\n",
      "Merging layer model.layers.13.self_attn.k_proj.weight with LORA\n",
      "Merging layer model.layers.13.self_attn.o_proj.weight with LORA\n"
     ]
    },
    {
     "name": "stderr",
     "output_type": "stream",
     "text": [
      "35it [00:07,  5.90it/s]"
     ]
    },
    {
     "name": "stdout",
     "output_type": "stream",
     "text": [
      "Merging layer model.layers.13.self_attn.q_proj.weight with LORA\n",
      "Merging layer model.layers.13.self_attn.v_proj.weight with LORA\n",
      "Replacing model.layers.14.input_layernorm.weight.\n"
     ]
    },
    {
     "name": "stderr",
     "output_type": "stream",
     "text": [
      "38it [00:07,  5.99it/s]"
     ]
    },
    {
     "name": "stdout",
     "output_type": "stream",
     "text": [
      "Merging layer model.layers.14.mlp.down_proj.weight with LORA\n"
     ]
    },
    {
     "name": "stderr",
     "output_type": "stream",
     "text": [
      "39it [00:08,  4.60it/s]"
     ]
    },
    {
     "name": "stdout",
     "output_type": "stream",
     "text": [
      "Merging layer model.layers.14.mlp.gate_proj.weight with LORA\n"
     ]
    },
    {
     "name": "stderr",
     "output_type": "stream",
     "text": [
      "43it [00:08,  5.86it/s]"
     ]
    },
    {
     "name": "stdout",
     "output_type": "stream",
     "text": [
      "Merging layer model.layers.14.mlp.up_proj.weight with LORA\n",
      "Replacing model.layers.14.post_attention_layernorm.weight.\n",
      "Merging layer model.layers.14.self_attn.k_proj.weight with LORA\n",
      "Merging layer model.layers.14.self_attn.o_proj.weight with LORA\n"
     ]
    },
    {
     "name": "stderr",
     "output_type": "stream",
     "text": [
      "44it [00:08,  6.09it/s]"
     ]
    },
    {
     "name": "stdout",
     "output_type": "stream",
     "text": [
      "Merging layer model.layers.14.self_attn.q_proj.weight with LORA\n",
      "Merging layer model.layers.14.self_attn.v_proj.weight with LORA\n",
      "Replacing model.layers.15.input_layernorm.weight.\n"
     ]
    },
    {
     "name": "stderr",
     "output_type": "stream",
     "text": [
      "47it [00:09,  6.08it/s]"
     ]
    },
    {
     "name": "stdout",
     "output_type": "stream",
     "text": [
      "Merging layer model.layers.15.mlp.down_proj.weight with LORA\n"
     ]
    },
    {
     "name": "stderr",
     "output_type": "stream",
     "text": [
      "48it [00:09,  4.63it/s]"
     ]
    },
    {
     "name": "stdout",
     "output_type": "stream",
     "text": [
      "Merging layer model.layers.15.mlp.gate_proj.weight with LORA\n"
     ]
    },
    {
     "name": "stderr",
     "output_type": "stream",
     "text": [
      "52it [00:10,  5.90it/s]"
     ]
    },
    {
     "name": "stdout",
     "output_type": "stream",
     "text": [
      "Merging layer model.layers.15.mlp.up_proj.weight with LORA\n",
      "Replacing model.layers.15.post_attention_layernorm.weight.\n",
      "Merging layer model.layers.15.self_attn.k_proj.weight with LORA\n",
      "Merging layer model.layers.15.self_attn.o_proj.weight with LORA\n"
     ]
    },
    {
     "name": "stderr",
     "output_type": "stream",
     "text": [
      "53it [00:10,  6.09it/s]"
     ]
    },
    {
     "name": "stdout",
     "output_type": "stream",
     "text": [
      "Merging layer model.layers.15.self_attn.q_proj.weight with LORA\n",
      "Merging layer model.layers.15.self_attn.v_proj.weight with LORA\n",
      "Replacing model.layers.16.input_layernorm.weight.\n"
     ]
    },
    {
     "name": "stderr",
     "output_type": "stream",
     "text": [
      "56it [00:11,  6.03it/s]"
     ]
    },
    {
     "name": "stdout",
     "output_type": "stream",
     "text": [
      "Merging layer model.layers.16.mlp.down_proj.weight with LORA\n"
     ]
    },
    {
     "name": "stderr",
     "output_type": "stream",
     "text": [
      "57it [00:11,  4.48it/s]"
     ]
    },
    {
     "name": "stdout",
     "output_type": "stream",
     "text": [
      "Merging layer model.layers.16.mlp.gate_proj.weight with LORA\n"
     ]
    },
    {
     "name": "stderr",
     "output_type": "stream",
     "text": [
      "58it [00:12,  3.69it/s]"
     ]
    },
    {
     "name": "stdout",
     "output_type": "stream",
     "text": [
      "Merging layer model.layers.16.mlp.up_proj.weight with LORA\n",
      "Replacing model.layers.16.post_attention_layernorm.weight.\n",
      "Merging layer model.layers.16.self_attn.k_proj.weight with LORA\n"
     ]
    },
    {
     "name": "stderr",
     "output_type": "stream",
     "text": [
      "62it [00:12,  5.84it/s]"
     ]
    },
    {
     "name": "stdout",
     "output_type": "stream",
     "text": [
      "Merging layer model.layers.16.self_attn.o_proj.weight with LORA\n",
      "Merging layer model.layers.16.self_attn.q_proj.weight with LORA\n",
      "Merging layer model.layers.16.self_attn.v_proj.weight with LORA\n",
      "Replacing model.layers.17.input_layernorm.weight.\n"
     ]
    },
    {
     "name": "stderr",
     "output_type": "stream",
     "text": [
      "65it [00:12,  5.94it/s]"
     ]
    },
    {
     "name": "stdout",
     "output_type": "stream",
     "text": [
      "Merging layer model.layers.17.mlp.down_proj.weight with LORA\n"
     ]
    },
    {
     "name": "stderr",
     "output_type": "stream",
     "text": [
      "66it [00:13,  4.57it/s]"
     ]
    },
    {
     "name": "stdout",
     "output_type": "stream",
     "text": [
      "Merging layer model.layers.17.mlp.gate_proj.weight with LORA\n"
     ]
    },
    {
     "name": "stderr",
     "output_type": "stream",
     "text": [
      "70it [00:13,  5.83it/s]"
     ]
    },
    {
     "name": "stdout",
     "output_type": "stream",
     "text": [
      "Merging layer model.layers.17.mlp.up_proj.weight with LORA\n",
      "Replacing model.layers.17.post_attention_layernorm.weight.\n",
      "Merging layer model.layers.17.self_attn.k_proj.weight with LORA\n",
      "Merging layer model.layers.17.self_attn.o_proj.weight with LORA\n"
     ]
    },
    {
     "name": "stderr",
     "output_type": "stream",
     "text": [
      "71it [00:14,  6.03it/s]"
     ]
    },
    {
     "name": "stdout",
     "output_type": "stream",
     "text": [
      "Merging layer model.layers.17.self_attn.q_proj.weight with LORA\n",
      "Merging layer model.layers.17.self_attn.v_proj.weight with LORA\n",
      "Replacing model.layers.18.input_layernorm.weight.\n"
     ]
    },
    {
     "name": "stderr",
     "output_type": "stream",
     "text": [
      "74it [00:14,  6.06it/s]"
     ]
    },
    {
     "name": "stdout",
     "output_type": "stream",
     "text": [
      "Merging layer model.layers.18.mlp.down_proj.weight with LORA\n"
     ]
    },
    {
     "name": "stderr",
     "output_type": "stream",
     "text": [
      "75it [00:15,  4.61it/s]"
     ]
    },
    {
     "name": "stdout",
     "output_type": "stream",
     "text": [
      "Merging layer model.layers.18.mlp.gate_proj.weight with LORA\n"
     ]
    },
    {
     "name": "stderr",
     "output_type": "stream",
     "text": [
      "79it [00:15,  5.85it/s]"
     ]
    },
    {
     "name": "stdout",
     "output_type": "stream",
     "text": [
      "Merging layer model.layers.18.mlp.up_proj.weight with LORA\n",
      "Replacing model.layers.18.post_attention_layernorm.weight.\n",
      "Merging layer model.layers.18.self_attn.k_proj.weight with LORA\n",
      "Merging layer model.layers.18.self_attn.o_proj.weight with LORA\n"
     ]
    },
    {
     "name": "stderr",
     "output_type": "stream",
     "text": [
      "80it [00:15,  6.05it/s]"
     ]
    },
    {
     "name": "stdout",
     "output_type": "stream",
     "text": [
      "Merging layer model.layers.18.self_attn.q_proj.weight with LORA\n",
      "Merging layer model.layers.18.self_attn.v_proj.weight with LORA\n",
      "Replacing model.layers.19.input_layernorm.weight.\n"
     ]
    },
    {
     "name": "stderr",
     "output_type": "stream",
     "text": [
      "83it [00:16,  6.05it/s]"
     ]
    },
    {
     "name": "stdout",
     "output_type": "stream",
     "text": [
      "Merging layer model.layers.19.mlp.down_proj.weight with LORA\n"
     ]
    },
    {
     "name": "stderr",
     "output_type": "stream",
     "text": [
      "84it [00:16,  4.61it/s]"
     ]
    },
    {
     "name": "stdout",
     "output_type": "stream",
     "text": [
      "Merging layer model.layers.19.mlp.gate_proj.weight with LORA\n"
     ]
    },
    {
     "name": "stderr",
     "output_type": "stream",
     "text": [
      "88it [00:17,  5.84it/s]"
     ]
    },
    {
     "name": "stdout",
     "output_type": "stream",
     "text": [
      "Merging layer model.layers.19.mlp.up_proj.weight with LORA\n",
      "Replacing model.layers.19.post_attention_layernorm.weight.\n",
      "Merging layer model.layers.19.self_attn.k_proj.weight with LORA\n",
      "Merging layer model.layers.19.self_attn.o_proj.weight with LORA\n"
     ]
    },
    {
     "name": "stderr",
     "output_type": "stream",
     "text": [
      "89it [00:17,  6.03it/s]"
     ]
    },
    {
     "name": "stdout",
     "output_type": "stream",
     "text": [
      "Merging layer model.layers.19.self_attn.q_proj.weight with LORA\n",
      "Merging layer model.layers.19.self_attn.v_proj.weight with LORA\n"
     ]
    },
    {
     "name": "stderr",
     "output_type": "stream",
     "text": [
      "93it [00:18,  6.23it/s]"
     ]
    },
    {
     "name": "stdout",
     "output_type": "stream",
     "text": [
      "Merging layer model.layers.20.mlp.gate_proj.weight with LORA\n",
      "Merging layer model.layers.20.self_attn.k_proj.weight with LORA\n",
      "Merging layer model.layers.20.self_attn.o_proj.weight with LORA\n"
     ]
    },
    {
     "name": "stderr",
     "output_type": "stream",
     "text": [
      "94it [00:18,  6.20it/s]"
     ]
    },
    {
     "name": "stdout",
     "output_type": "stream",
     "text": [
      "Merging layer model.layers.20.self_attn.q_proj.weight with LORA\n",
      "Merging layer model.layers.20.self_attn.v_proj.weight with LORA\n",
      "Replacing model.layers.9.input_layernorm.weight.\n"
     ]
    },
    {
     "name": "stderr",
     "output_type": "stream",
     "text": [
      "97it [00:18,  6.14it/s]"
     ]
    },
    {
     "name": "stdout",
     "output_type": "stream",
     "text": [
      "Merging layer model.layers.9.mlp.down_proj.weight with LORA\n"
     ]
    },
    {
     "name": "stderr",
     "output_type": "stream",
     "text": [
      "98it [00:19,  4.63it/s]"
     ]
    },
    {
     "name": "stdout",
     "output_type": "stream",
     "text": [
      "Merging layer model.layers.9.mlp.gate_proj.weight with LORA\n"
     ]
    },
    {
     "name": "stderr",
     "output_type": "stream",
     "text": [
      "99it [00:19,  3.75it/s]"
     ]
    },
    {
     "name": "stdout",
     "output_type": "stream",
     "text": [
      "Merging layer model.layers.9.mlp.up_proj.weight with LORA\n",
      "Replacing model.layers.9.post_attention_layernorm.weight.\n",
      "Merging layer model.layers.9.self_attn.k_proj.weight with LORA\n",
      "Merging layer model.layers.9.self_attn.o_proj.weight with LORA\n"
     ]
    },
    {
     "name": "stderr",
     "output_type": "stream",
     "text": [
      "104it [00:20,  5.13it/s]\n"
     ]
    },
    {
     "name": "stdout",
     "output_type": "stream",
     "text": [
      "Merging layer model.layers.9.self_attn.q_proj.weight with LORA\n",
      "Merging layer model.layers.9.self_attn.v_proj.weight with LORA\n"
     ]
    },
    {
     "name": "stderr",
     "output_type": "stream",
     "text": [
      "1it [00:00,  5.62it/s]"
     ]
    },
    {
     "name": "stdout",
     "output_type": "stream",
     "text": [
      "Replacing model.layers.20.input_layernorm.weight.\n"
     ]
    },
    {
     "name": "stderr",
     "output_type": "stream",
     "text": [
      "2it [00:00,  3.10it/s]"
     ]
    },
    {
     "name": "stdout",
     "output_type": "stream",
     "text": [
      "Merging layer model.layers.20.mlp.down_proj.weight with LORA\n"
     ]
    },
    {
     "name": "stderr",
     "output_type": "stream",
     "text": [
      "3it [00:01,  2.67it/s]"
     ]
    },
    {
     "name": "stdout",
     "output_type": "stream",
     "text": [
      "Merging layer model.layers.20.mlp.up_proj.weight with LORA\n",
      "Replacing model.layers.20.post_attention_layernorm.weight.\n",
      "Replacing model.layers.21.input_layernorm.weight.\n"
     ]
    },
    {
     "name": "stderr",
     "output_type": "stream",
     "text": [
      "6it [00:01,  4.48it/s]"
     ]
    },
    {
     "name": "stdout",
     "output_type": "stream",
     "text": [
      "Merging layer model.layers.21.mlp.down_proj.weight with LORA\n"
     ]
    },
    {
     "name": "stderr",
     "output_type": "stream",
     "text": [
      "7it [00:01,  3.70it/s]"
     ]
    },
    {
     "name": "stdout",
     "output_type": "stream",
     "text": [
      "Merging layer model.layers.21.mlp.gate_proj.weight with LORA\n"
     ]
    },
    {
     "name": "stderr",
     "output_type": "stream",
     "text": [
      "11it [00:02,  5.65it/s]"
     ]
    },
    {
     "name": "stdout",
     "output_type": "stream",
     "text": [
      "Merging layer model.layers.21.mlp.up_proj.weight with LORA\n",
      "Replacing model.layers.21.post_attention_layernorm.weight.\n",
      "Merging layer model.layers.21.self_attn.k_proj.weight with LORA\n",
      "Merging layer model.layers.21.self_attn.o_proj.weight with LORA\n"
     ]
    },
    {
     "name": "stderr",
     "output_type": "stream",
     "text": [
      "12it [00:02,  5.95it/s]"
     ]
    },
    {
     "name": "stdout",
     "output_type": "stream",
     "text": [
      "Merging layer model.layers.21.self_attn.q_proj.weight with LORA\n",
      "Merging layer model.layers.21.self_attn.v_proj.weight with LORA\n",
      "Replacing model.layers.22.input_layernorm.weight.\n"
     ]
    },
    {
     "name": "stderr",
     "output_type": "stream",
     "text": [
      "15it [00:03,  6.04it/s]"
     ]
    },
    {
     "name": "stdout",
     "output_type": "stream",
     "text": [
      "Merging layer model.layers.22.mlp.down_proj.weight with LORA\n"
     ]
    },
    {
     "name": "stderr",
     "output_type": "stream",
     "text": [
      "16it [00:03,  4.58it/s]"
     ]
    },
    {
     "name": "stdout",
     "output_type": "stream",
     "text": [
      "Merging layer model.layers.22.mlp.gate_proj.weight with LORA\n"
     ]
    },
    {
     "name": "stderr",
     "output_type": "stream",
     "text": [
      "20it [00:04,  5.92it/s]"
     ]
    },
    {
     "name": "stdout",
     "output_type": "stream",
     "text": [
      "Merging layer model.layers.22.mlp.up_proj.weight with LORA\n",
      "Replacing model.layers.22.post_attention_layernorm.weight.\n",
      "Merging layer model.layers.22.self_attn.k_proj.weight with LORA\n",
      "Merging layer model.layers.22.self_attn.o_proj.weight with LORA\n"
     ]
    },
    {
     "name": "stderr",
     "output_type": "stream",
     "text": [
      "21it [00:04,  6.14it/s]"
     ]
    },
    {
     "name": "stdout",
     "output_type": "stream",
     "text": [
      "Merging layer model.layers.22.self_attn.q_proj.weight with LORA\n",
      "Merging layer model.layers.22.self_attn.v_proj.weight with LORA\n",
      "Replacing model.layers.23.input_layernorm.weight.\n"
     ]
    },
    {
     "name": "stderr",
     "output_type": "stream",
     "text": [
      "24it [00:04,  6.13it/s]"
     ]
    },
    {
     "name": "stdout",
     "output_type": "stream",
     "text": [
      "Merging layer model.layers.23.mlp.down_proj.weight with LORA\n"
     ]
    },
    {
     "name": "stderr",
     "output_type": "stream",
     "text": [
      "25it [00:05,  4.68it/s]"
     ]
    },
    {
     "name": "stdout",
     "output_type": "stream",
     "text": [
      "Merging layer model.layers.23.mlp.gate_proj.weight with LORA\n"
     ]
    },
    {
     "name": "stderr",
     "output_type": "stream",
     "text": [
      "29it [00:05,  5.97it/s]"
     ]
    },
    {
     "name": "stdout",
     "output_type": "stream",
     "text": [
      "Merging layer model.layers.23.mlp.up_proj.weight with LORA\n",
      "Replacing model.layers.23.post_attention_layernorm.weight.\n",
      "Merging layer model.layers.23.self_attn.k_proj.weight with LORA\n",
      "Merging layer model.layers.23.self_attn.o_proj.weight with LORA\n"
     ]
    },
    {
     "name": "stderr",
     "output_type": "stream",
     "text": [
      "30it [00:06,  6.16it/s]"
     ]
    },
    {
     "name": "stdout",
     "output_type": "stream",
     "text": [
      "Merging layer model.layers.23.self_attn.q_proj.weight with LORA\n",
      "Merging layer model.layers.23.self_attn.v_proj.weight with LORA\n",
      "Replacing model.layers.24.input_layernorm.weight.\n"
     ]
    },
    {
     "name": "stderr",
     "output_type": "stream",
     "text": [
      "33it [00:06,  6.17it/s]"
     ]
    },
    {
     "name": "stdout",
     "output_type": "stream",
     "text": [
      "Merging layer model.layers.24.mlp.down_proj.weight with LORA\n"
     ]
    },
    {
     "name": "stderr",
     "output_type": "stream",
     "text": [
      "34it [00:06,  4.75it/s]"
     ]
    },
    {
     "name": "stdout",
     "output_type": "stream",
     "text": [
      "Merging layer model.layers.24.mlp.gate_proj.weight with LORA\n"
     ]
    },
    {
     "name": "stderr",
     "output_type": "stream",
     "text": [
      "35it [00:07,  3.86it/s]"
     ]
    },
    {
     "name": "stdout",
     "output_type": "stream",
     "text": [
      "Merging layer model.layers.24.mlp.up_proj.weight with LORA\n",
      "Replacing model.layers.24.post_attention_layernorm.weight.\n",
      "Merging layer model.layers.24.self_attn.k_proj.weight with LORA\n",
      "Merging layer model.layers.24.self_attn.o_proj.weight with LORA\n"
     ]
    },
    {
     "name": "stderr",
     "output_type": "stream",
     "text": [
      "39it [00:07,  6.11it/s]"
     ]
    },
    {
     "name": "stdout",
     "output_type": "stream",
     "text": [
      "Merging layer model.layers.24.self_attn.q_proj.weight with LORA\n",
      "Merging layer model.layers.24.self_attn.v_proj.weight with LORA\n",
      "Replacing model.layers.25.input_layernorm.weight.\n"
     ]
    },
    {
     "name": "stderr",
     "output_type": "stream",
     "text": [
      "42it [00:08,  6.20it/s]"
     ]
    },
    {
     "name": "stdout",
     "output_type": "stream",
     "text": [
      "Merging layer model.layers.25.mlp.down_proj.weight with LORA\n"
     ]
    },
    {
     "name": "stderr",
     "output_type": "stream",
     "text": [
      "43it [00:08,  4.73it/s]"
     ]
    },
    {
     "name": "stdout",
     "output_type": "stream",
     "text": [
      "Merging layer model.layers.25.mlp.gate_proj.weight with LORA\n"
     ]
    },
    {
     "name": "stderr",
     "output_type": "stream",
     "text": [
      "47it [00:09,  5.74it/s]"
     ]
    },
    {
     "name": "stdout",
     "output_type": "stream",
     "text": [
      "Merging layer model.layers.25.mlp.up_proj.weight with LORA\n",
      "Replacing model.layers.25.post_attention_layernorm.weight.\n",
      "Merging layer model.layers.25.self_attn.k_proj.weight with LORA\n",
      "Merging layer model.layers.25.self_attn.o_proj.weight with LORA\n"
     ]
    },
    {
     "name": "stderr",
     "output_type": "stream",
     "text": [
      "48it [00:09,  5.95it/s]"
     ]
    },
    {
     "name": "stdout",
     "output_type": "stream",
     "text": [
      "Merging layer model.layers.25.self_attn.q_proj.weight with LORA\n",
      "Merging layer model.layers.25.self_attn.v_proj.weight with LORA\n",
      "Replacing model.layers.26.input_layernorm.weight.\n"
     ]
    },
    {
     "name": "stderr",
     "output_type": "stream",
     "text": [
      "51it [00:10,  5.98it/s]"
     ]
    },
    {
     "name": "stdout",
     "output_type": "stream",
     "text": [
      "Merging layer model.layers.26.mlp.down_proj.weight with LORA\n"
     ]
    },
    {
     "name": "stderr",
     "output_type": "stream",
     "text": [
      "52it [00:10,  4.64it/s]"
     ]
    },
    {
     "name": "stdout",
     "output_type": "stream",
     "text": [
      "Merging layer model.layers.26.mlp.gate_proj.weight with LORA\n"
     ]
    },
    {
     "name": "stderr",
     "output_type": "stream",
     "text": [
      "56it [00:11,  5.95it/s]"
     ]
    },
    {
     "name": "stdout",
     "output_type": "stream",
     "text": [
      "Merging layer model.layers.26.mlp.up_proj.weight with LORA\n",
      "Replacing model.layers.26.post_attention_layernorm.weight.\n",
      "Merging layer model.layers.26.self_attn.k_proj.weight with LORA\n",
      "Merging layer model.layers.26.self_attn.o_proj.weight with LORA\n"
     ]
    },
    {
     "name": "stderr",
     "output_type": "stream",
     "text": [
      "57it [00:11,  6.12it/s]"
     ]
    },
    {
     "name": "stdout",
     "output_type": "stream",
     "text": [
      "Merging layer model.layers.26.self_attn.q_proj.weight with LORA\n",
      "Merging layer model.layers.26.self_attn.v_proj.weight with LORA\n",
      "Replacing model.layers.27.input_layernorm.weight.\n"
     ]
    },
    {
     "name": "stderr",
     "output_type": "stream",
     "text": [
      "60it [00:11,  6.13it/s]"
     ]
    },
    {
     "name": "stdout",
     "output_type": "stream",
     "text": [
      "Merging layer model.layers.27.mlp.down_proj.weight with LORA\n"
     ]
    },
    {
     "name": "stderr",
     "output_type": "stream",
     "text": [
      "61it [00:12,  4.68it/s]"
     ]
    },
    {
     "name": "stdout",
     "output_type": "stream",
     "text": [
      "Merging layer model.layers.27.mlp.gate_proj.weight with LORA\n"
     ]
    },
    {
     "name": "stderr",
     "output_type": "stream",
     "text": [
      "65it [00:12,  5.92it/s]"
     ]
    },
    {
     "name": "stdout",
     "output_type": "stream",
     "text": [
      "Merging layer model.layers.27.mlp.up_proj.weight with LORA\n",
      "Replacing model.layers.27.post_attention_layernorm.weight.\n",
      "Merging layer model.layers.27.self_attn.k_proj.weight with LORA\n",
      "Merging layer model.layers.27.self_attn.o_proj.weight with LORA\n"
     ]
    },
    {
     "name": "stderr",
     "output_type": "stream",
     "text": [
      "66it [00:12,  6.11it/s]"
     ]
    },
    {
     "name": "stdout",
     "output_type": "stream",
     "text": [
      "Merging layer model.layers.27.self_attn.q_proj.weight with LORA\n",
      "Merging layer model.layers.27.self_attn.v_proj.weight with LORA\n",
      "Replacing model.layers.28.input_layernorm.weight.\n"
     ]
    },
    {
     "name": "stderr",
     "output_type": "stream",
     "text": [
      "69it [00:13,  6.09it/s]"
     ]
    },
    {
     "name": "stdout",
     "output_type": "stream",
     "text": [
      "Merging layer model.layers.28.mlp.down_proj.weight with LORA\n"
     ]
    },
    {
     "name": "stderr",
     "output_type": "stream",
     "text": [
      "70it [00:13,  4.66it/s]"
     ]
    },
    {
     "name": "stdout",
     "output_type": "stream",
     "text": [
      "Merging layer model.layers.28.mlp.gate_proj.weight with LORA\n"
     ]
    },
    {
     "name": "stderr",
     "output_type": "stream",
     "text": [
      "74it [00:14,  5.73it/s]"
     ]
    },
    {
     "name": "stdout",
     "output_type": "stream",
     "text": [
      "Merging layer model.layers.28.mlp.up_proj.weight with LORA\n",
      "Replacing model.layers.28.post_attention_layernorm.weight.\n",
      "Merging layer model.layers.28.self_attn.k_proj.weight with LORA\n",
      "Merging layer model.layers.28.self_attn.o_proj.weight with LORA\n"
     ]
    },
    {
     "name": "stderr",
     "output_type": "stream",
     "text": [
      "75it [00:14,  5.96it/s]"
     ]
    },
    {
     "name": "stdout",
     "output_type": "stream",
     "text": [
      "Merging layer model.layers.28.self_attn.q_proj.weight with LORA\n",
      "Merging layer model.layers.28.self_attn.v_proj.weight with LORA\n",
      "Replacing model.layers.29.input_layernorm.weight.\n"
     ]
    },
    {
     "name": "stderr",
     "output_type": "stream",
     "text": [
      "78it [00:15,  5.94it/s]"
     ]
    },
    {
     "name": "stdout",
     "output_type": "stream",
     "text": [
      "Merging layer model.layers.29.mlp.down_proj.weight with LORA\n"
     ]
    },
    {
     "name": "stderr",
     "output_type": "stream",
     "text": [
      "79it [00:15,  4.59it/s]"
     ]
    },
    {
     "name": "stdout",
     "output_type": "stream",
     "text": [
      "Merging layer model.layers.29.mlp.gate_proj.weight with LORA\n"
     ]
    },
    {
     "name": "stderr",
     "output_type": "stream",
     "text": [
      "83it [00:16,  5.87it/s]"
     ]
    },
    {
     "name": "stdout",
     "output_type": "stream",
     "text": [
      "Merging layer model.layers.29.mlp.up_proj.weight with LORA\n",
      "Replacing model.layers.29.post_attention_layernorm.weight.\n",
      "Merging layer model.layers.29.self_attn.k_proj.weight with LORA\n",
      "Merging layer model.layers.29.self_attn.o_proj.weight with LORA\n"
     ]
    },
    {
     "name": "stderr",
     "output_type": "stream",
     "text": [
      "84it [00:16,  6.07it/s]"
     ]
    },
    {
     "name": "stdout",
     "output_type": "stream",
     "text": [
      "Merging layer model.layers.29.self_attn.q_proj.weight with LORA\n",
      "Merging layer model.layers.29.self_attn.v_proj.weight with LORA\n",
      "Replacing model.layers.30.input_layernorm.weight.\n"
     ]
    },
    {
     "name": "stderr",
     "output_type": "stream",
     "text": [
      "87it [00:16,  6.05it/s]"
     ]
    },
    {
     "name": "stdout",
     "output_type": "stream",
     "text": [
      "Merging layer model.layers.30.mlp.down_proj.weight with LORA\n"
     ]
    },
    {
     "name": "stderr",
     "output_type": "stream",
     "text": [
      "88it [00:17,  4.65it/s]"
     ]
    },
    {
     "name": "stdout",
     "output_type": "stream",
     "text": [
      "Merging layer model.layers.30.mlp.gate_proj.weight with LORA\n"
     ]
    },
    {
     "name": "stderr",
     "output_type": "stream",
     "text": [
      "92it [00:18,  5.89it/s]"
     ]
    },
    {
     "name": "stdout",
     "output_type": "stream",
     "text": [
      "Merging layer model.layers.30.mlp.up_proj.weight with LORA\n",
      "Replacing model.layers.30.post_attention_layernorm.weight.\n",
      "Merging layer model.layers.30.self_attn.k_proj.weight with LORA\n",
      "Merging layer model.layers.30.self_attn.o_proj.weight with LORA\n"
     ]
    },
    {
     "name": "stderr",
     "output_type": "stream",
     "text": [
      "93it [00:18,  6.08it/s]"
     ]
    },
    {
     "name": "stdout",
     "output_type": "stream",
     "text": [
      "Merging layer model.layers.30.self_attn.q_proj.weight with LORA\n",
      "Merging layer model.layers.30.self_attn.v_proj.weight with LORA\n"
     ]
    },
    {
     "name": "stderr",
     "output_type": "stream",
     "text": [
      "95it [00:18,  5.21it/s]"
     ]
    },
    {
     "name": "stdout",
     "output_type": "stream",
     "text": [
      "Merging layer model.layers.31.mlp.gate_proj.weight with LORA\n"
     ]
    },
    {
     "name": "stderr",
     "output_type": "stream",
     "text": [
      "96it [00:19,  4.13it/s]"
     ]
    },
    {
     "name": "stdout",
     "output_type": "stream",
     "text": [
      "Merging layer model.layers.31.mlp.up_proj.weight with LORA\n",
      "Merging layer model.layers.31.self_attn.k_proj.weight with LORA\n"
     ]
    },
    {
     "name": "stderr",
     "output_type": "stream",
     "text": [
      "100it [00:19,  5.06it/s]"
     ]
    },
    {
     "name": "stdout",
     "output_type": "stream",
     "text": [
      "Merging layer model.layers.31.self_attn.o_proj.weight with LORA\n",
      "Merging layer model.layers.31.self_attn.q_proj.weight with LORA\n",
      "Merging layer model.layers.31.self_attn.v_proj.weight with LORA\n"
     ]
    },
    {
     "name": "stderr",
     "output_type": "stream",
     "text": [
      "\n",
      "1it [00:00,  5.88it/s]"
     ]
    },
    {
     "name": "stdout",
     "output_type": "stream",
     "text": [
      "Copying lm_head.weight.\n",
      "Replacing model.layers.31.input_layernorm.weight.\n"
     ]
    },
    {
     "name": "stderr",
     "output_type": "stream",
     "text": [
      "5it [00:00,  8.77it/s]"
     ]
    },
    {
     "name": "stdout",
     "output_type": "stream",
     "text": [
      "Merging layer model.layers.31.mlp.down_proj.weight with LORA\n",
      "Replacing model.layers.31.post_attention_layernorm.weight.\n",
      "Copying model.norm.weight.\n"
     ]
    },
    {
     "name": "stderr",
     "output_type": "stream",
     "text": [
      "\n"
     ]
    }
   ],
   "source": [
    "for filename in pretrained_files:\n",
    "\t\n",
    "\tquantized_state_dict = {}\n",
    "\tfile_shard_name = Path(filename).name\n",
    "\tpretrained_weights = safetensors.torch.load_file(filename)\n",
    "\n",
    "\tfor n,p in tqdm(iter(pretrained_weights.items())):\n",
    "\t\tif \"inv_freq\" in n: continue\n",
    "\t\tp = p.to(dtype)\n",
    "\t\tif any(l in n for l in quantized_layers) and \"weight\" in n:\n",
    "\t\t\tif existing_quantized_dir is None:\n",
    "\t\t\t\tNBITS = layer_nbits[n.split(\".\")[-2]]\n",
    "\t\t\t\tGROUPSIZE = layer_groupsizes[n.split(\".\")[-2]]\n",
    "\t\t\t\t\n",
    "\t\t\t\t# Get layer-wise quant config.\n",
    "\t\t\t\tquant_config = BaseQuantizeConfig(nbits=NBITS,\n",
    "\t\t\t\t\t\t\t\t\t\t\t\t\tgroup_size=GROUPSIZE, \n",
    "\t\t\t\t\t\t\t\t\t\t\t\t\tquant_zero=False,\n",
    "\t\t\t\t\t\t\t\t\t\t\t\t\tquant_scale=False,\n",
    "\t\t\t\t\t\t\t\t\t\t\t\t\toffload_meta=False,\n",
    "\t\t\t\t\t\t\t\t\t\t\t\t\tview_as_float=False, \n",
    "\t\t\t\t\t\t\t\t\t\t\t\t\taxis=1)\n",
    "\t\t\n",
    "\t\t\t\t# Prepare HQQ weights and quantize.\n",
    "\t\t\t\tm = torch.nn.Linear(*p.T.shape, bias=False)\n",
    "\t\t\t\tm.weight.data.copy_(p)\n",
    "\t\t\t\thqq_linear = HQQLinear(m, quant_config, compute_dtype=dtype)\n",
    "\t\t\t\tW_est = hqq_linear.dequantize()\n",
    "\n",
    "\t\t\t\t# Tinygemm weights.\n",
    "\t\t\t\tif args[\"infer_type\"] == \"tinygemm\":\n",
    "\t\t\t\t\tpatched_hqq_linear = patch_hqq_to_aoint4(hqq_linear, None) # patching deletes `hqq_linear.W_q`.\n",
    "\t\t\t\t\tquantized_state_dict[n.replace(\".weight\", \".qweight\")] = patched_hqq_linear.weight_int4pack\n",
    "\t\t\t\t\tquantized_state_dict[n.replace(\".weight\", \".scales_and_zeros\")] = patched_hqq_linear.scales_and_zeros         \n",
    "\t\t\t\telif args[\"infer_type\"] == \"merged_hqq_lora\":\t\n",
    "\t\t\t\t\t# Prepare LORA weights.\n",
    "\t\t\t\t\tpass\n",
    "\t\t\t\t# Bitblas weights.\n",
    "\t\t\t\telif args[\"infer_type\"] == \"bitblas\":\n",
    "\t\t\t\t\tW_q_unpacked = Quantizer.unpack[hqq_linear.meta['packing']](hqq_linear.W_q)\n",
    "\t\t\t\t\tscale, zero, shape = hqq_linear.meta['scale'], hqq_linear.meta['zero'], hqq_linear.meta['shape']\n",
    "\t\t\t\t\tscale = scale.to(bitblas_dtype)\n",
    "\t\t\t\t\tzero = zero.to(bitblas_dtype)\n",
    "\t\t\n",
    "\t\t\t\t\t# BitBLAS engine.\n",
    "\t\t\t\t\tprint(f\"Tuning BitBLAS for {hqq_linear.in_features}x{hqq_linear.out_features}\")\n",
    "\t\t\t\t\tmatmul_config = bitblas.MatmulConfig(M=BITBLAS_OPT_M,\n",
    "\t\t\t\t\t\t\t\t\t\t\t\t\t\t\tN=hqq_linear.out_features,\n",
    "\t\t\t\t\t\t\t\t\t\t\t\t\t\t\tK=hqq_linear.in_features,\n",
    "\t\t\t\t\t\t\t\t\t\t\t\t\t\t\tA_dtype=\"float16\",  \n",
    "\t\t\t\t\t\t\t\t\t\t\t\t\t\t\tW_dtype={4:\"uint4\",2:\"uint2\"}[NBITS],\n",
    "\t\t\t\t\t\t\t\t\t\t\t\t\t\t\taccum_dtype=\"float16\",  \n",
    "\t\t\t\t\t\t\t\t\t\t\t\t\t\t\tout_dtype=\"float16\",  \n",
    "\t\t\t\t\t\t\t\t\t\t\t\t\t\t\tlayout=\"nt\",  \n",
    "\t\t\t\t\t\t\t\t\t\t\t\t\t\t\twith_bias=False, \n",
    "\t\t\t\t\t\t\t\t\t\t\t\t\t\t\tgroup_size=GROUPSIZE,\n",
    "\t\t\t\t\t\t\t\t\t\t\t\t\t\t\twith_scaling=True,  \n",
    "\t\t\t\t\t\t\t\t\t\t\t\t\t\t\twith_zeros=True,  \n",
    "\t\t\t\t\t\t\t\t\t\t\t\t\t\t\tzeros_mode=\"original\",  \n",
    "\t\t\t\t\t\t\t\t\t\t\t\t\t\t\t#fast_decoding=True,\n",
    "\t\t\t\t\t\t\t\t\t\t\t\t\t\t)\n",
    "\t\t\t\t\tmatmul_eng_4bit = _get_or_create_bitblas_operator(matmul_config)\t\t\n",
    "\t\t\n",
    "\t\t\t\t\tWq_bitblas_4bit = matmul_eng_4bit.transform_weight(W_q_unpacked.reshape(shape))\n",
    "\t\t\t\t\tmeta_shape_bitblas = (hqq_linear.out_features, hqq_linear.in_features // GROUPSIZE)\n",
    "\t\t\t\t\tscales_bitblas_4bit = scale.view(meta_shape_bitblas)\n",
    "\t\t\t\t\tzeros_bitblas_4bit = zero.view(meta_shape_bitblas)\n",
    "\n",
    "\t\t\t\t\tquantized_state_dict[n.replace(\".weight\", \".qweight\")] = Wq_bitblas_4bit\n",
    "\t\t\t\t\tquantized_state_dict[n.replace(\".weight\", \".scales\")]  = scales_bitblas_4bit\n",
    "\t\t\t\t\tquantized_state_dict[n.replace(\".weight\", \".zeros\")]   = zeros_bitblas_4bit\n",
    "\t\t\t\telse:\n",
    "\t\t\t\t\traise ValueError(\"Invalid inference type.\")\n",
    "\t\t\telse:\n",
    "\t\t\t\tassert \"qweight\" in quantized_state_dict\n",
    "\t\t\t\tif args[\"infer_type\"] == \"tinygemm\":\n",
    "\t\t\t\t\tassert \"scales_and_zeros\" in quantized_state_dict\n",
    "\t\t\t\telif args[\"infer_type\"] == \"bitblas\":\n",
    "\t\t\t\t\tassert \"scales\" in quantized_state_dict and \"zeros\" in quantized_state_dict\n",
    "\t\t\t\telse:\n",
    "\t\t\t\t\traise ValueError(\"Invalid inference type.\")\n",
    "\n",
    "\t\t\t# DoRA weights.\n",
    "\t\t\t# import pdb; pdb.set_trace()\n",
    "\t\t\tif args[\"infer_type\"] == \"merged_hqq_lora\":\n",
    "\t\t\t\tprint(f\"Merging layer {n} with LORA\")\n",
    "\t\t\t\tlora_a = dora_weights[n.replace(\".weight\",\".lora_A.weight\")].cuda()\n",
    "\t\t\t\tlora_b = dora_weights[n.replace(\".weight\",\".lora_B.weight\")].cuda()\n",
    "\t\t\t\tscaling = lora_alpha / lora_rank\n",
    "\t\t\t\tquantized_state_dict[n] = (W_est + (lora_b @ lora_a * scaling)).cpu()\n",
    "\t\t\t\tdel W_est; torch.cuda.empty_cache()\n",
    "\t\t\telse:\n",
    "\t\t\t\tlora_a = dora_weights[n.replace(\".weight\",\".dora_layer.lora_A.weight\")].cuda()\n",
    "\t\t\t\tlora_b = dora_weights[n.replace(\".weight\",\".dora_layer.lora_B.weight\")].cuda()\n",
    "\t\t\t\tm = dora_weights[n.replace(\".weight\",\".magnitude_layer.magnitude\")]\n",
    "\t\t\t\trescale = m / (W_est + lora_b @ lora_a).norm(p=2, dim=1).detach().cpu()\n",
    "\t\t\t\tlora_a, lora_b = lora_a.cpu(), lora_b.cpu()\n",
    "\t\t\t\tdel W_est; torch.cuda.empty_cache()\n",
    "\t\t\t\tif args[\"infer_type\"] == \"bitblas\":\n",
    "\t\t\t\t\tlora_a = lora_a.to(bitblas_dtype)\n",
    "\t\t\t\t\tlora_b = lora_b.to(bitblas_dtype)\n",
    "\t\t\t\t\trescale = rescale.to(bitblas_dtype)\n",
    "\t\t\t\tquantized_state_dict[n.replace(\".weight\", \".lora_A\")] = lora_a\n",
    "\t\t\t\tquantized_state_dict[n.replace(\".weight\", \".lora_B\")] = lora_b\n",
    "\t\t\t\tquantized_state_dict[n.replace(\".weight\", \".rescale\")] = rescale\n",
    "\t\n",
    "\t\telif n in layernorm_layers:\n",
    "\t\t\tquantized_state_dict[n] = dora_weights[n]\n",
    "\t\t\tprint(f\"Replacing {n}.\")\n",
    "\t\t\t\n",
    "\t\telse:\n",
    "\t\t\tquantized_state_dict[n] = p\n",
    "\t\t\tprint(f\"Copying {n}.\")\n",
    "\t\n",
    "\t# Save quantized state_dict.\n",
    "\tquantized_state_dict = {k:v.contiguous() for k,v in quantized_state_dict.items()}\n",
    "\tsafetensors.torch.save_file(quantized_state_dict, save_dir/f\"{file_shard_name}\")"
   ]
  },
  {
   "cell_type": "code",
   "execution_count": 60,
   "id": "3a4a4878",
   "metadata": {},
   "outputs": [],
   "source": [
    "# save model config.\n",
    "model_config = AutoConfig.from_pretrained(MODEL_NAME).to_dict()\n",
    "# save model config\n",
    "# model_config['rope_scaling'] = {\"type\" :\"dynamic\", \"factor\": 2.0}\n",
    "model_config_filename = save_dir/\"config.json\"\n",
    "with open(model_config_filename, \"w+\") as f: json.dump(model_config, f)"
   ]
  },
  {
   "cell_type": "markdown",
   "id": "9a9ee869-34b9-4240-866f-fccdc15e1bb5",
   "metadata": {},
   "source": [
    "### Evaluate"
   ]
  },
  {
   "cell_type": "code",
   "execution_count": 61,
   "id": "ef736afa-7e62-46ac-8e92-3e854b2810fc",
   "metadata": {},
   "outputs": [
    {
     "name": "stderr",
     "output_type": "stream",
     "text": [
      "2024-08-20 11:42:22,139\tINFO util.py:154 -- Missing packages: ['ipywidgets']. Run `pip install -U ipywidgets`, then restart the notebook server for rich notebook output.\n"
     ]
    }
   ],
   "source": [
    "import re\n",
    "from datasets import load_dataset\n",
    "from fastcore.parallel import parallel\n",
    "from vllm import LLM, SamplingParams"
   ]
  },
  {
   "cell_type": "code",
   "execution_count": 62,
   "id": "36eecac2-2842-4b94-b40a-622ca9c1b56f",
   "metadata": {},
   "outputs": [],
   "source": [
    "def extract_last_number_or_ratio(s):\n",
    "    # Find all sequences of digits, possibly with leading currency symbols, decimal points, and ratios\n",
    "    patterns = re.findall(r'[\\$€£]?\\d+(?:\\.\\d+)?(?:\\:\\d+(?:\\.\\d+)?)?', s)\n",
    "    \n",
    "    # Return the last pattern found, or None if there are no matches\n",
    "    if patterns:\n",
    "        return patterns[-1]\n",
    "    else:\n",
    "        return None"
   ]
  },
  {
   "cell_type": "code",
   "execution_count": 63,
   "id": "69bb6844-0eb0-46e5-979a-098a8622c6d7",
   "metadata": {},
   "outputs": [],
   "source": [
    "def exact_match_score(preds, labels):\n",
    "    return sum(p==g for p,g in zip(preds, labels))/len(preds)"
   ]
  },
  {
   "cell_type": "code",
   "execution_count": 64,
   "id": "437681e0-1da3-427a-998c-a204728b6b38",
   "metadata": {},
   "outputs": [],
   "source": [
    "dataset = load_dataset(\"microsoft/orca-math-word-problems-200k\")['train'].shuffle(seed=42)\n",
    "dataset = dataset.select(range(len(dataset)-5000,len(dataset)))\n",
    "short_answers_gt = parallel(extract_last_number_or_ratio, dataset['answer'], progress=True)"
   ]
  },
  {
   "cell_type": "code",
   "execution_count": 65,
   "id": "921271da-4b66-429c-9e7a-5616a791aacf",
   "metadata": {},
   "outputs": [],
   "source": [
    "valid_dataset = dataset.select(range(500))"
   ]
  },
  {
   "cell_type": "code",
   "execution_count": 66,
   "id": "4eeb9fc8-715b-4929-bb59-7c1d21a25476",
   "metadata": {},
   "outputs": [],
   "source": [
    "inputs = [f\"###Question:\\n{question}\\n###Answer:\\n\" for question in valid_dataset['question']]"
   ]
  },
  {
   "cell_type": "code",
   "execution_count": 67,
   "id": "2df75559-19fb-4255-af25-27720773d5c7",
   "metadata": {},
   "outputs": [],
   "source": [
    "labels = short_answers_gt[:500]"
   ]
  },
  {
   "cell_type": "code",
   "execution_count": 68,
   "id": "ccd93133-3d75-47de-bbf5-4e15c6eb604a",
   "metadata": {},
   "outputs": [
    {
     "data": {
      "text/plain": [
       "(500, 500)"
      ]
     },
     "execution_count": 68,
     "metadata": {},
     "output_type": "execute_result"
    }
   ],
   "source": [
    "len(inputs), len(labels)"
   ]
  },
  {
   "cell_type": "code",
   "execution_count": 69,
   "id": "3ce90fce-28d4-4037-967e-539c5db97ed6",
   "metadata": {},
   "outputs": [
    {
     "data": {
      "text/plain": [
       "1"
      ]
     },
     "execution_count": 69,
     "metadata": {},
     "output_type": "execute_result"
    }
   ],
   "source": [
    "NUM_GPUS = torch.cuda.device_count(); NUM_GPUS"
   ]
  },
  {
   "cell_type": "code",
   "execution_count": 70,
   "id": "c7f5540f-731f-4b3c-817a-8c49d36f67fa",
   "metadata": {},
   "outputs": [],
   "source": [
    "TOKENIZER = \"meta-llama/Meta-Llama-3-8B\"\n",
    "TOKENIZER = \"meta-llama/Meta-Llama-3-8B-Instruct\""
   ]
  },
  {
   "cell_type": "code",
   "execution_count": 71,
   "id": "1f3a0eaf-684c-4732-8884-466d5ba9422a",
   "metadata": {},
   "outputs": [],
   "source": [
    "tokenizer = AutoTokenizer.from_pretrained(TOKENIZER)"
   ]
  },
  {
   "cell_type": "code",
   "execution_count": 72,
   "id": "a14a685c-d47d-47a1-a62f-fe00202c545d",
   "metadata": {},
   "outputs": [],
   "source": [
    "def convert_to_chat_input(question):\n",
    "    messages = [\n",
    "        {\"role\": \"system\", \"content\": \"You are an AI assistant that excels in solving math problems.\"},\n",
    "        {\"role\": \"user\", \"content\": question},\n",
    "    ]\n",
    "    return tokenizer.apply_chat_template(messages, tokenize=False, add_generation_prompt=True)"
   ]
  },
  {
   "cell_type": "code",
   "execution_count": 73,
   "id": "b84c6bb7-0fa7-45ff-b589-06d45fb7ad17",
   "metadata": {},
   "outputs": [],
   "source": [
    "chat_inputs = [convert_to_chat_input(question) for question in valid_dataset['question']]"
   ]
  },
  {
   "cell_type": "code",
   "execution_count": 74,
   "id": "ca6a781c-9ed9-4a2b-bc2c-1a753954d547",
   "metadata": {},
   "outputs": [
    {
     "data": {
      "text/plain": [
       "500"
      ]
     },
     "execution_count": 74,
     "metadata": {},
     "output_type": "execute_result"
    }
   ],
   "source": [
    "len(chat_inputs)"
   ]
  },
  {
   "cell_type": "markdown",
   "id": "0db22768-f3a4-41c3-9db4-efa7bf4a5045",
   "metadata": {},
   "source": [
    "#### FINETUNED "
   ]
  },
  {
   "cell_type": "code",
   "execution_count": 18,
   "id": "30396b6b-c97b-41ca-98b8-4a8404fabdd9",
   "metadata": {},
   "outputs": [],
   "source": [
    "model_dir = \"/workspace/models/\""
   ]
  },
  {
   "cell_type": "code",
   "execution_count": 75,
   "id": "d52df5f9-1026-4591-a935-c5ec502e551f",
   "metadata": {},
   "outputs": [],
   "source": [
    "# MODEL_NAME = \"llama-3-8b-orca-math-10k-full\" # 0.4\n",
    "# MODEL_NAME = \"llama-3-8b-orca-math-10k-bnb-qlora-merged\" # 0.276\n",
    "# MODEL_NAME = \"llama-3-8b-orca-math-10k-bnb-qdora-merged\" # 0.458\n",
    "\n",
    "# MODEL_NAME = \"llama-3-8b-orca-math-100k-bnb-qlora-merged\"\n",
    "# MODEL_NAME = \"llama-3-8b-orca-math-100k-bnb-qdora-merged\" # 0.558\n",
    "\n",
    "# MODEL_NAME = \"llama-3-8b-instruct-orca-math-10k-bnb-qlora-merged\"\n",
    "# MODEL_NAME = \"llama-3-8b-instruct-orca-math-10k-bnb-qdora-merged\"\n",
    "\n",
    "# MODEL_NAME = \"llama-3-8b-instruct-orca-math-10k-hqq-qdora-plus-merged\"\n",
    "# MODEL_NAME = \"llama-3-8b-instruct-orca-math-10k-hqq-qdora-loftq-init-merged\"\n",
    "# MODEL_NAME = \"llama-3-8b-instruct-orca-math-10k-hqq-qdora-plus-loftq-init-merged\"\n",
    "\n",
    "# MODEL_NAME = \"/workspace/models/llama-3-8b-instruct-orca-math-10k-hqq-qlora-plus-merged\"\n",
    "# MODEL_NAME = \"/workspace/models/llama-3-8b-instruct-orca-math-10k-hqq-qlora-loftq-init-merged\"\n",
    "# MODEL_NAME = \"/workspace/models/llama-3-8b-instruct-orca-math-10k-hqq-qlora-plus-loftq-init-merged\"\n",
    "\n",
    "# MODEL_NAME = \"/workspace/models/llama-3-8b-instruct-orca-math-10k-hqq-qdora-axis-1-merged\"\n",
    "# MODEL_NAME = \"/workspace/models/llama-3-8b-instruct-orca-math-10k-full\"\n",
    "MODEL_NAME = \"llama-3-8b-instruct-orca-math-10k-hqq-lora-ln-merged-vllm\""
   ]
  },
  {
   "cell_type": "code",
   "execution_count": 76,
   "id": "987b5708-0704-4b2a-b81b-725abcc7df1a",
   "metadata": {
    "scrolled": true
   },
   "outputs": [
    {
     "name": "stdout",
     "output_type": "stream",
     "text": [
      "INFO 08-20 11:43:05 llm_engine.py:176] Initializing an LLM engine (v0.5.3.post1) with config: model='/workspace/models/llama-3-8b-instruct-orca-math-10k-hqq-lora-ln-merged-vllm', speculative_config=None, tokenizer='meta-llama/Meta-Llama-3-8B-Instruct', skip_tokenizer_init=False, tokenizer_mode=auto, revision=None, rope_scaling=None, rope_theta=None, tokenizer_revision=None, trust_remote_code=False, dtype=torch.bfloat16, max_seq_len=8192, download_dir=None, load_format=LoadFormat.AUTO, tensor_parallel_size=1, pipeline_parallel_size=1, disable_custom_all_reduce=False, quantization=None, enforce_eager=False, kv_cache_dtype=auto, quantization_param_path=None, device_config=cuda, decoding_config=DecodingConfig(guided_decoding_backend='outlines'), observability_config=ObservabilityConfig(otlp_traces_endpoint=None), seed=0, served_model_name=/workspace/models/llama-3-8b-instruct-orca-math-10k-hqq-lora-ln-merged-vllm, use_v2_block_manager=False, enable_prefix_caching=False)\n",
      "INFO 08-20 11:43:06 model_runner.py:720] Starting to load model /workspace/models/llama-3-8b-instruct-orca-math-10k-hqq-lora-ln-merged-vllm...\n"
     ]
    },
    {
     "name": "stderr",
     "output_type": "stream",
     "text": [
      "Loading safetensors checkpoint shards:   0% Completed | 0/4 [00:00<?, ?it/s]\n",
      "Loading safetensors checkpoint shards:  25% Completed | 1/4 [00:00<00:01,  2.03it/s]\n",
      "Loading safetensors checkpoint shards:  50% Completed | 2/4 [00:01<00:01,  1.71it/s]\n",
      "Loading safetensors checkpoint shards:  75% Completed | 3/4 [00:01<00:00,  1.64it/s]\n",
      "Loading safetensors checkpoint shards: 100% Completed | 4/4 [00:02<00:00,  2.12it/s]\n",
      "Loading safetensors checkpoint shards: 100% Completed | 4/4 [00:02<00:00,  1.96it/s]\n"
     ]
    },
    {
     "name": "stdout",
     "output_type": "stream",
     "text": [
      "INFO 08-20 11:43:08 model_runner.py:732] Loading model weights took 14.9595 GB\n"
     ]
    },
    {
     "name": "stderr",
     "output_type": "stream",
     "text": [
      "\n"
     ]
    },
    {
     "name": "stdout",
     "output_type": "stream",
     "text": [
      "INFO 08-20 11:43:10 gpu_executor.py:102] # GPU blocks: 28017, # CPU blocks: 2048\n",
      "INFO 08-20 11:43:13 model_runner.py:1019] Capturing the model for CUDA graphs. This may lead to unexpected consequences if the model is not static. To run the model in eager mode, set 'enforce_eager=True' or use '--enforce-eager' in the CLI.\n",
      "INFO 08-20 11:43:13 model_runner.py:1023] CUDA graphs can take additional 1~3 GiB memory per GPU. If you are running out of memory, consider decreasing `gpu_memory_utilization` or enforcing eager mode. You can also reduce the `max_num_seqs` as needed to decrease memory usage.\n",
      "INFO 08-20 11:43:25 model_runner.py:1220] Graph capturing finished in 13 secs.\n"
     ]
    }
   ],
   "source": [
    "llm = LLM(model=os.path.join(model_dir,MODEL_NAME), tokenizer=TOKENIZER, \n",
    "          tensor_parallel_size=NUM_GPUS, dtype=\"bfloat16\")"
   ]
  },
  {
   "cell_type": "code",
   "execution_count": 22,
   "id": "ed93c58d-a5e5-4b4b-9f29-8c50276bdfcc",
   "metadata": {},
   "outputs": [],
   "source": [
    "# base model\n",
    "# outputs = llm.generate(inputs, SamplingParams(temperature=0.0, max_tokens=1024))"
   ]
  },
  {
   "cell_type": "code",
   "execution_count": 23,
   "id": "90462dd1-aa47-4e26-b402-e75580c0f397",
   "metadata": {},
   "outputs": [
    {
     "name": "stderr",
     "output_type": "stream",
     "text": [
      "Processed prompts: 100%|██████████| 500/500 [01:26<00:00,  5.78it/s]\n"
     ]
    }
   ],
   "source": [
    "# chat model\n",
    "outputs = llm.generate(chat_inputs, SamplingParams(temperature=0.0, max_tokens=1024, stop=[\"<|eot_id|>\"]))"
   ]
  },
  {
   "cell_type": "code",
   "execution_count": 24,
   "id": "704e3218-7a1f-449c-a5f0-cc235c1543bd",
   "metadata": {},
   "outputs": [],
   "source": [
    "short_answers_pred = [extract_last_number_or_ratio(o.outputs[0].text) for o in outputs]"
   ]
  },
  {
   "cell_type": "code",
   "execution_count": 25,
   "id": "62d14af3-9dce-4f85-b49d-862f60ea860b",
   "metadata": {},
   "outputs": [
    {
     "data": {
      "text/plain": [
       "0.528"
      ]
     },
     "execution_count": 25,
     "metadata": {},
     "output_type": "execute_result"
    }
   ],
   "source": [
    "exact_match_score(short_answers_pred, labels)"
   ]
  },
  {
   "cell_type": "markdown",
   "id": "3c113080-4f09-49ca-b787-2c592cf4da1c",
   "metadata": {},
   "source": [
    "#### N-SHOT"
   ]
  },
  {
   "cell_type": "code",
   "execution_count": null,
   "id": "8f774674-116d-4f6e-b36e-06d47add2ad7",
   "metadata": {
    "scrolled": true
   },
   "outputs": [],
   "source": [
    "MODEL_NAME = \"meta-llama/Meta-Llama-3-8B-Instruct\"\n",
    "llm = LLM(model=MODEL_NAME, tensor_parallel_size=NUM_GPUS, dtype=\"bfloat16\")"
   ]
  },
  {
   "cell_type": "code",
   "execution_count": 17,
   "id": "fe71037b-5068-4437-af5d-65be722780c9",
   "metadata": {},
   "outputs": [
    {
     "name": "stderr",
     "output_type": "stream",
     "text": [
      "Processed prompts: 100%|██████████| 500/500 [01:20<00:00,  6.18it/s]\n"
     ]
    },
    {
     "data": {
      "text/plain": [
       "0.228"
      ]
     },
     "execution_count": 17,
     "metadata": {},
     "output_type": "execute_result"
    }
   ],
   "source": [
    "# zero-shot\n",
    "inputs = [f\"###Question:\\n{question}\\n###Answer:\\n\" for question in valid_dataset['question']]\n",
    "outputs = llm.generate(inputs, SamplingParams(temperature=0.0, max_tokens=1024))\n",
    "short_answers_pred = [extract_last_number_or_ratio(o.outputs[0].text) for o in outputs]\n",
    "exact_match_score(short_answers_pred, labels)"
   ]
  },
  {
   "cell_type": "code",
   "execution_count": 17,
   "id": "18685b24-2927-4a71-9cfb-832b1a644caa",
   "metadata": {},
   "outputs": [
    {
     "name": "stderr",
     "output_type": "stream",
     "text": [
      "Processed prompts: 100%|██████████| 500/500 [01:07<00:00,  7.41it/s]\n"
     ]
    },
    {
     "data": {
      "text/plain": [
       "0.454"
      ]
     },
     "execution_count": 17,
     "metadata": {},
     "output_type": "execute_result"
    }
   ],
   "source": [
    "# zero-shot (instruct)\n",
    "outputs = llm.generate(chat_inputs, SamplingParams(temperature=0.0, max_tokens=1024))\n",
    "short_answers_pred = [extract_last_number_or_ratio(o.outputs[0].text) for o in outputs]\n",
    "exact_match_score(short_answers_pred, labels)"
   ]
  },
  {
   "cell_type": "code",
   "execution_count": null,
   "id": "8ac82c9c-7663-4e22-b483-6b75964b18a3",
   "metadata": {},
   "outputs": [
    {
     "name": "stderr",
     "output_type": "stream",
     "text": [
      "Processed prompts:   9%|▉         | 47/500 [01:06<02:45,  2.73it/s] "
     ]
    }
   ],
   "source": [
    "# 5-shot\n",
    "few_shot_examples = [f\"###Question:\\n{ex['question']}\\n###Answer:\\n{ex['answer']}<stop>\" for ex in \n",
    "                     dataset.select(range(len(dataset)-5,len(dataset)))]\n",
    "few_shot_prompt = \"\\n\\n\".join(few_shot_examples)\n",
    "inputs = [few_shot_prompt + \"\\n\\n\" + f\"###Question:\\n{question}\\n###Answer:\\n\" for question in valid_dataset['question']]\n",
    "outputs = llm.generate(inputs, SamplingParams(temperature=0.0, \n",
    "                                              stop_token_ids=[tokenizer.eos_token_id], \n",
    "                                              stop=[\"<stop>\"], \n",
    "                                              max_tokens=1024))\n",
    "short_answers_pred = [extract_last_number_or_ratio(o.outputs[0].text) for o in outputs]\n",
    "exact_match_score(short_answers_pred, labels)"
   ]
  },
  {
   "cell_type": "code",
   "execution_count": 30,
   "id": "58216665-dfdb-4780-9fae-0f181e7be1b4",
   "metadata": {},
   "outputs": [],
   "source": [
    "few_shot_examples = [f\"###Question:\\n{ex['question']}\\n###Answer:\\n{ex['answer']}<stop>\" for ex in \n",
    "                     dataset.select(range(len(dataset)-5,len(dataset)))]"
   ]
  },
  {
   "cell_type": "code",
   "execution_count": 32,
   "id": "1272bc05-5f41-4ef1-a365-b5ddea678884",
   "metadata": {
    "scrolled": true
   },
   "outputs": [],
   "source": [
    "few_shot_prompt = \"\\n\\n\".join(few_shot_examples)"
   ]
  },
  {
   "cell_type": "code",
   "execution_count": 37,
   "id": "94ddfc91-ba02-4372-a766-c9cf2f7bde06",
   "metadata": {},
   "outputs": [],
   "source": [
    "def fewshot_chat_input(question, answer=None):\n",
    "    messages = [\n",
    "        {\"role\": \"system\", \"content\": f\"You are an AI assistant that excels in solving math problems. Here are few examples of math problems:\\n\\n{few_shot_prompt}\"},\n",
    "        {\"role\": \"user\", \"content\": question},\n",
    "    ]\n",
    "    return tokenizer.apply_chat_template(messages, tokenize=False, add_generation_prompt=True)"
   ]
  },
  {
   "cell_type": "code",
   "execution_count": 38,
   "id": "cc117e15-125f-4aac-ab2e-19890a41615d",
   "metadata": {},
   "outputs": [],
   "source": [
    "fewshot_chat_inputs = [fewshot_chat_input(question)  for question in valid_dataset['question']]"
   ]
  },
  {
   "cell_type": "code",
   "execution_count": 40,
   "id": "c6c9be61-f512-4963-95b0-8a23a40b39ea",
   "metadata": {},
   "outputs": [
    {
     "name": "stderr",
     "output_type": "stream",
     "text": [
      "Processed prompts: 100%|██████████| 500/500 [02:32<00:00,  3.27it/s]\n"
     ]
    },
    {
     "data": {
      "text/plain": [
       "0.452"
      ]
     },
     "execution_count": 40,
     "metadata": {},
     "output_type": "execute_result"
    }
   ],
   "source": [
    "outputs = llm.generate(fewshot_chat_inputs, SamplingParams(temperature=0.0, \n",
    "                                              stop_token_ids=[tokenizer.eos_token_id], \n",
    "                                              stop=[\"<|eot_id|>\"],\n",
    "                                              max_tokens=1024))\n",
    "short_answers_pred = [extract_last_number_or_ratio(o.outputs[0].text) for o in outputs]\n",
    "exact_match_score(short_answers_pred, labels)"
   ]
  },
  {
   "cell_type": "code",
   "execution_count": null,
   "id": "c9b936f5-8a6e-4ebc-ac1a-989ff41f128e",
   "metadata": {},
   "outputs": [],
   "source": []
  },
  {
   "cell_type": "code",
   "execution_count": null,
   "id": "8c1979a2-ad54-4f46-9247-28a9d0de18bc",
   "metadata": {},
   "outputs": [],
   "source": []
  },
  {
   "cell_type": "code",
   "execution_count": null,
   "id": "63b467a1-9f3a-4d09-b0f9-2de46c979762",
   "metadata": {},
   "outputs": [],
   "source": []
  },
  {
   "cell_type": "code",
   "execution_count": null,
   "id": "a0b02810-3d5d-4d8a-8ca7-e43d59722311",
   "metadata": {},
   "outputs": [],
   "source": []
  }
 ],
 "metadata": {
  "kernelspec": {
   "display_name": "Python 3 (ipykernel)",
   "language": "python",
   "name": "python3"
  },
  "language_info": {
   "codemirror_mode": {
    "name": "ipython",
    "version": 3
   },
   "file_extension": ".py",
   "mimetype": "text/x-python",
   "name": "python",
   "nbconvert_exporter": "python",
   "pygments_lexer": "ipython3",
   "version": "3.10.12"
  }
 },
 "nbformat": 4,
 "nbformat_minor": 5
}
